{
 "cells": [
  {
   "cell_type": "code",
   "execution_count": 13,
   "metadata": {},
   "outputs": [],
   "source": [
    "from openai import OpenAI"
   ]
  },
  {
   "cell_type": "code",
   "execution_count": 14,
   "metadata": {},
   "outputs": [],
   "source": [
    "from google import genai"
   ]
  },
  {
   "cell_type": "code",
   "execution_count": 15,
   "metadata": {},
   "outputs": [],
   "source": [
    "from dotenv import load_dotenv"
   ]
  },
  {
   "cell_type": "code",
   "execution_count": 16,
   "metadata": {},
   "outputs": [],
   "source": [
    "import pandas as pd"
   ]
  },
  {
   "cell_type": "code",
   "execution_count": 17,
   "metadata": {},
   "outputs": [],
   "source": [
    "import toml"
   ]
  },
  {
   "cell_type": "code",
   "execution_count": 18,
   "metadata": {},
   "outputs": [],
   "source": [
    "from rich.console import Console\n",
    "from rich.markdown import Markdown"
   ]
  },
  {
   "cell_type": "code",
   "execution_count": 19,
   "metadata": {},
   "outputs": [],
   "source": [
    "from pydantic import BaseModel"
   ]
  },
  {
   "cell_type": "code",
   "execution_count": 20,
   "metadata": {},
   "outputs": [],
   "source": [
    "CONSOLE = Console()"
   ]
  },
  {
   "cell_type": "code",
   "execution_count": 21,
   "metadata": {},
   "outputs": [],
   "source": [
    "def print(text):\n",
    "    \"\"\"text: str\"\"\"\n",
    "    CONSOLE.print(Markdown(text))"
   ]
  },
  {
   "cell_type": "code",
   "execution_count": 41,
   "metadata": {},
   "outputs": [],
   "source": [
    "def print_questions(user_qs):\n",
    "    \"\"\"user_qs: UserQueries\"\"\"\n",
    "    for qs in user_qs.queries:\n",
    "        print(qs)"
   ]
  },
  {
   "cell_type": "code",
   "execution_count": 22,
   "metadata": {},
   "outputs": [],
   "source": [
    "parsed_toml = toml.load('../.streamlit/secrets.toml')"
   ]
  },
  {
   "cell_type": "code",
   "execution_count": 23,
   "metadata": {},
   "outputs": [],
   "source": [
    "openai_key = parsed_toml['OPENAI_API_KEY']"
   ]
  },
  {
   "cell_type": "code",
   "execution_count": 24,
   "metadata": {},
   "outputs": [],
   "source": [
    "gclient = genai.Client(api_key=parsed_toml['GEMINI_API_KEY'])"
   ]
  },
  {
   "cell_type": "code",
   "execution_count": 25,
   "metadata": {},
   "outputs": [],
   "source": [
    "resposne = gclient.models.generate_content(\n",
    "    model=\"gemini-2.5-flash\",\n",
    "    contents=\"Give me a list of user personas who would be using Fiddler for AI/ML Monitoring and observability\"\n",
    ")"
   ]
  },
  {
   "cell_type": "code",
   "execution_count": 26,
   "metadata": {},
   "outputs": [
    {
     "data": {
      "text/html": [
       "<pre style=\"white-space:pre;overflow-x:auto;line-height:normal;font-family:Menlo,'DejaVu Sans Mono',consolas,'Courier New',monospace\">Fiddler is a powerful AI/ML Model Monitoring and Observability platform. Its users span various roles within an    \n",
       "organization, each with unique needs and perspectives on model performance, fairness, and compliance.              \n",
       "\n",
       "Here's a list of user personas who would be using Fiddler for AI/ML monitoring and observability:                  \n",
       "\n",
       "<span style=\"color: #808000; text-decoration-color: #808000\">───────────────────────────────────────────────────────────────────────────────────────────────────────────────────</span>\n",
       "                                       <span style=\"font-weight: bold\">1. The ML Engineer / MLOps Specialist</span>                                       \n",
       "\n",
       "<span style=\"color: #808000; text-decoration-color: #808000; font-weight: bold\"> • </span><span style=\"font-weight: bold\">Role/Background:</span> Responsible for deploying, maintaining, and scaling machine learning models in production.     \n",
       "<span style=\"color: #808000; text-decoration-color: #808000; font-weight: bold\">   </span>Bridges the gap between data science and operations.                                                            \n",
       "<span style=\"color: #808000; text-decoration-color: #808000; font-weight: bold\"> • </span><span style=\"font-weight: bold\">Primary Goals:</span>                                                                                                  \n",
       "<span style=\"color: #808000; text-decoration-color: #808000; font-weight: bold\">    • </span>Ensure models are performing reliably in production.                                                         \n",
       "<span style=\"color: #808000; text-decoration-color: #808000; font-weight: bold\">    • </span>Receive timely alerts for performance degradation, drift, or errors.                                         \n",
       "<span style=\"color: #808000; text-decoration-color: #808000; font-weight: bold\">    • </span>Automate model retraining or redeployment when necessary.                                                    \n",
       "<span style=\"color: #808000; text-decoration-color: #808000; font-weight: bold\">    • </span>Debug and troubleshoot production model issues quickly.                                                      \n",
       "<span style=\"color: #808000; text-decoration-color: #808000; font-weight: bold\"> • </span><span style=\"font-weight: bold\">Key Pain Points:</span>                                                                                                \n",
       "<span style=\"color: #808000; text-decoration-color: #808000; font-weight: bold\">    • </span>Blind spots once a model is deployed.                                                                        \n",
       "<span style=\"color: #808000; text-decoration-color: #808000; font-weight: bold\">    • </span>Difficulty identifying the root cause of production issues (e.g., data quality, model drift, data pipeline   \n",
       "<span style=\"color: #808000; text-decoration-color: #808000; font-weight: bold\">      </span>issues).                                                                                                     \n",
       "<span style=\"color: #808000; text-decoration-color: #808000; font-weight: bold\">    • </span>Manual and time-consuming monitoring setup.                                                                  \n",
       "<span style=\"color: #808000; text-decoration-color: #808000; font-weight: bold\">    • </span>Reactive troubleshooting instead of proactive problem-solving.                                               \n",
       "<span style=\"color: #808000; text-decoration-color: #808000; font-weight: bold\"> • </span><span style=\"font-weight: bold\">How Fiddler Helps:</span>                                                                                              \n",
       "<span style=\"color: #808000; text-decoration-color: #808000; font-weight: bold\">    • </span>Provides real-time dashboards and alerts for model health, performance, and data integrity.                  \n",
       "<span style=\"color: #808000; text-decoration-color: #808000; font-weight: bold\">    • </span>Facilitates root cause analysis by showing data drift, feature importance, and individual prediction         \n",
       "<span style=\"color: #808000; text-decoration-color: #808000; font-weight: bold\">      </span>explanations.                                                                                                \n",
       "<span style=\"color: #808000; text-decoration-color: #808000; font-weight: bold\">    • </span>Integrates with existing MLOps pipelines for automated actions based on monitoring insights.                 \n",
       "<span style=\"color: #808000; text-decoration-color: #808000; font-weight: bold\"> • </span><span style=\"font-weight: bold\">Fiddler Features Used:</span> Performance monitoring, data drift detection, anomaly detection, alerts &amp; notifications, \n",
       "<span style=\"color: #808000; text-decoration-color: #808000; font-weight: bold\">   </span>model debugger, API integrations.                                                                               \n",
       "\n",
       "<span style=\"color: #808000; text-decoration-color: #808000\">───────────────────────────────────────────────────────────────────────────────────────────────────────────────────</span>\n",
       "                                       <span style=\"font-weight: bold\">2. The Data Scientist / ML Researcher</span>                                       \n",
       "\n",
       "<span style=\"color: #808000; text-decoration-color: #808000; font-weight: bold\"> • </span><span style=\"font-weight: bold\">Role/Background:</span> Builds, trains, and evaluates machine learning models. Often hands over models to ML Engineers \n",
       "<span style=\"color: #808000; text-decoration-color: #808000; font-weight: bold\">   </span>for deployment but maintains a vested interest in their production performance.                                 \n",
       "<span style=\"color: #808000; text-decoration-color: #808000; font-weight: bold\"> • </span><span style=\"font-weight: bold\">Primary Goals:</span>                                                                                                  \n",
       "<span style=\"color: #808000; text-decoration-color: #808000; font-weight: bold\">    • </span>Validate that their model's performance in production matches their expectations from development.           \n",
       "<span style=\"color: #808000; text-decoration-color: #808000; font-weight: bold\">    • </span>Understand how real-world data impacts model behavior.                                                       \n",
       "<span style=\"color: #808000; text-decoration-color: #808000; font-weight: bold\">    • </span>Identify when models need retraining or refinement due to concept drift or data shifts.                      \n",
       "<span style=\"color: #808000; text-decoration-color: #808000; font-weight: bold\">    • </span>Gain insights into model behavior on specific, problematic predictions.                                      \n",
       "<span style=\"color: #808000; text-decoration-color: #808000; font-weight: bold\"> • </span><span style=\"font-weight: bold\">Key Pain Points:</span>                                                                                                \n",
       "<span style=\"color: #808000; text-decoration-color: #808000; font-weight: bold\">    • </span>Loss of visibility once a model is in production.                                                            \n",
       "<span style=\"color: #808000; text-decoration-color: #808000; font-weight: bold\">    • </span>Difficulty reconciling development performance with production reality.                                      \n",
       "<span style=\"color: #808000; text-decoration-color: #808000; font-weight: bold\">    • </span>Lack of tools to quickly identify when and why models start to decay.                                        \n",
       "<span style=\"color: #808000; text-decoration-color: #808000; font-weight: bold\">    • </span>Explaining model decisions to stakeholders or for debugging.                                                 \n",
       "<span style=\"color: #808000; text-decoration-color: #808000; font-weight: bold\"> • </span><span style=\"font-weight: bold\">How Fiddler Helps:</span>                                                                                              \n",
       "<span style=\"color: #808000; text-decoration-color: #808000; font-weight: bold\">    • </span>Compares training data distributions with production data.                                                   \n",
       "<span style=\"color: #808000; text-decoration-color: #808000; font-weight: bold\">    • </span>Tracks model performance metrics (accuracy, precision, recall, etc.) over time.                              \n",
       "<span style=\"color: #808000; text-decoration-color: #808000; font-weight: bold\">    • </span>Provides explainability tools (SHAP, LIME) to understand individual predictions and overall model behavior in\n",
       "<span style=\"color: #808000; text-decoration-color: #808000; font-weight: bold\">      </span>production.                                                                                                  \n",
       "<span style=\"color: #808000; text-decoration-color: #808000; font-weight: bold\">    • </span>Highlights data segments where performance is declining.                                                     \n",
       "<span style=\"color: #808000; text-decoration-color: #808000; font-weight: bold\"> • </span><span style=\"font-weight: bold\">Fiddler Features Used:</span> Model performance metrics, data drift analysis, concept drift detection, explainability  \n",
       "<span style=\"color: #808000; text-decoration-color: #808000; font-weight: bold\">   </span>(XAI), slice &amp; dice analysis, what-if scenarios.                                                                \n",
       "\n",
       "<span style=\"color: #808000; text-decoration-color: #808000\">───────────────────────────────────────────────────────────────────────────────────────────────────────────────────</span>\n",
       "                                    <span style=\"font-weight: bold\">3. The AI Product Manager / Business Owner</span>                                     \n",
       "\n",
       "<span style=\"color: #808000; text-decoration-color: #808000; font-weight: bold\"> • </span><span style=\"font-weight: bold\">Role/Background:</span> Responsible for the success of AI-powered products or features. Focuses on business value, user\n",
       "<span style=\"color: #808000; text-decoration-color: #808000; font-weight: bold\">   </span>experience, and strategic alignment.                                                                            \n",
       "<span style=\"color: #808000; text-decoration-color: #808000; font-weight: bold\"> • </span><span style=\"font-weight: bold\">Primary Goals:</span>                                                                                                  \n",
       "<span style=\"color: #808000; text-decoration-color: #808000; font-weight: bold\">    • </span>Ensure AI models are delivering the intended business value and KPIs.                                        \n",
       "<span style=\"color: #808000; text-decoration-color: #808000; font-weight: bold\">    • </span>Identify and mitigate risks associated with model bias or fairness issues.                                   \n",
       "<span style=\"color: #808000; text-decoration-color: #808000; font-weight: bold\">    • </span>Understand the impact of model changes on user experience and business outcomes.                             \n",
       "<span style=\"color: #808000; text-decoration-color: #808000; font-weight: bold\">    • </span>Communicate model performance and impact to non-technical stakeholders.                                      \n",
       "<span style=\"color: #808000; text-decoration-color: #808000; font-weight: bold\"> • </span><span style=\"font-weight: bold\">Key Pain Points:</span>                                                                                                \n",
       "<span style=\"color: #808000; text-decoration-color: #808000; font-weight: bold\">    • </span>Difficulty translating technical model performance into business impact.                                     \n",
       "<span style=\"color: #808000; text-decoration-color: #808000; font-weight: bold\">    • </span>Concerns about ethical AI, fairness, and potential reputational risks.                                       \n",
       "<span style=\"color: #808000; text-decoration-color: #808000; font-weight: bold\">    • </span>Lack of visibility into how models are truly performing for end-users.                                       \n",
       "<span style=\"color: #808000; text-decoration-color: #808000; font-weight: bold\">    • </span>No clear way to tie model behavior to business metrics.                                                      \n",
       "<span style=\"color: #808000; text-decoration-color: #808000; font-weight: bold\"> • </span><span style=\"font-weight: bold\">How Fiddler Helps:</span>                                                                                              \n",
       "<span style=\"color: #808000; text-decoration-color: #808000; font-weight: bold\">    • </span>Provides business-aligned dashboards for model impact (e.g., fraud reduction, conversion rates, customer     \n",
       "<span style=\"color: #808000; text-decoration-color: #808000; font-weight: bold\">      </span>churn).                                                                                                      \n",
       "<span style=\"color: #808000; text-decoration-color: #808000; font-weight: bold\">    • </span>Detects and quantifies bias across sensitive attributes.                                                     \n",
       "<span style=\"color: #808000; text-decoration-color: #808000; font-weight: bold\">    • </span>Offers explainability to justify model decisions to internal/external parties.                               \n",
       "<span style=\"color: #808000; text-decoration-color: #808000; font-weight: bold\">    • </span>Allows linking model performance to key business KPIs.                                                       \n",
       "<span style=\"color: #808000; text-decoration-color: #808000; font-weight: bold\"> • </span><span style=\"font-weight: bold\">Fiddler Features Used:</span> Business KPIs integration, fairness monitoring, explainability (XAI), custom dashboards, \n",
       "<span style=\"color: #808000; text-decoration-color: #808000; font-weight: bold\">   </span>aggregate reports.                                                                                              \n",
       "\n",
       "<span style=\"color: #808000; text-decoration-color: #808000\">───────────────────────────────────────────────────────────────────────────────────────────────────────────────────</span>\n",
       "                               <span style=\"font-weight: bold\">4. The Risk &amp; Compliance Officer / AI Governance Lead</span>                               \n",
       "\n",
       "<span style=\"color: #808000; text-decoration-color: #808000; font-weight: bold\"> • </span><span style=\"font-weight: bold\">Role/Background:</span> Ensures that AI systems comply with internal policies, industry regulations (e.g., GDPR, CCPA, \n",
       "<span style=\"color: #808000; text-decoration-color: #808000; font-weight: bold\">   </span>ethical AI guidelines), and audit requirements.                                                                 \n",
       "<span style=\"color: #808000; text-decoration-color: #808000; font-weight: bold\"> • </span><span style=\"font-weight: bold\">Primary Goals:</span>                                                                                                  \n",
       "<span style=\"color: #808000; text-decoration-color: #808000; font-weight: bold\">    • </span>Demonstrate auditability and explainability of AI models.                                                    \n",
       "<span style=\"color: #808000; text-decoration-color: #808000; font-weight: bold\">    • </span>Ensure models are fair and non-discriminatory.                                                               \n",
       "<span style=\"color: #808000; text-decoration-color: #808000; font-weight: bold\">    • </span>Mitigate legal, ethical, and reputational risks associated with AI.                                          \n",
       "<span style=\"color: #808000; text-decoration-color: #808000; font-weight: bold\">    • </span>Maintain a clear audit trail of model changes and performance.                                               \n",
       "<span style=\"color: #808000; text-decoration-color: #808000; font-weight: bold\"> • </span><span style=\"font-weight: bold\">Key Pain Points:</span>                                                                                                \n",
       "<span style=\"color: #808000; text-decoration-color: #808000; font-weight: bold\">    • </span>Lack of transparency into \"black-box\" AI models.                                                             \n",
       "<span style=\"color: #808000; text-decoration-color: #808000; font-weight: bold\">    • </span>Difficulty proving fairness or explainability to regulators or auditors.                                     \n",
       "<span style=\"color: #808000; text-decoration-color: #808000; font-weight: bold\">    • </span>Managing the evolving landscape of AI regulations.                                                           \n",
       "<span style=\"color: #808000; text-decoration-color: #808000; font-weight: bold\">    • </span>No centralized system for AI governance.                                                                     \n",
       "<span style=\"color: #808000; text-decoration-color: #808000; font-weight: bold\"> • </span><span style=\"font-weight: bold\">How Fiddler Helps:</span>                                                                                              \n",
       "<span style=\"color: #808000; text-decoration-color: #808000; font-weight: bold\">    • </span>Provides a centralized record of model performance, drift, and bias over time.                               \n",
       "<span style=\"color: #808000; text-decoration-color: #808000; font-weight: bold\">    • </span>Offers robust fairness and bias detection capabilities.                                                      \n",
       "<span style=\"color: #808000; text-decoration-color: #808000; font-weight: bold\">    • </span>Generates comprehensive explainability reports for individual predictions and model behavior.                \n",
       "<span style=\"color: #808000; text-decoration-color: #808000; font-weight: bold\">    • </span>Supports audit trails for model changes and monitoring activities.                                           \n",
       "<span style=\"color: #808000; text-decoration-color: #808000; font-weight: bold\"> • </span><span style=\"font-weight: bold\">Fiddler Features Used:</span> Fairness monitoring, explainability (XAI), audit trails, model versioning, regulatory    \n",
       "<span style=\"color: #808000; text-decoration-color: #808000; font-weight: bold\">   </span>compliance reports.                                                                                             \n",
       "\n",
       "<span style=\"color: #808000; text-decoration-color: #808000\">───────────────────────────────────────────────────────────────────────────────────────────────────────────────────</span>\n",
       "                                    <span style=\"font-weight: bold\">5. The Data Quality Analyst / Data Steward</span>                                     \n",
       "\n",
       "<span style=\"color: #808000; text-decoration-color: #808000; font-weight: bold\"> • </span><span style=\"font-weight: bold\">Role/Background:</span> Focuses on the quality, integrity, and consistency of data throughout its lifecycle, including \n",
       "<span style=\"color: #808000; text-decoration-color: #808000; font-weight: bold\">   </span>data used by ML models.                                                                                         \n",
       "<span style=\"color: #808000; text-decoration-color: #808000; font-weight: bold\"> • </span><span style=\"font-weight: bold\">Primary Goals:</span>                                                                                                  \n",
       "<span style=\"color: #808000; text-decoration-color: #808000; font-weight: bold\">    • </span>Ensure the data fed into production models is of high quality.                                               \n",
       "<span style=\"color: #808000; text-decoration-color: #808000; font-weight: bold\">    • </span>Identify data integrity issues or schema changes that could impact models.                                   \n",
       "<span style=\"color: #808000; text-decoration-color: #808000; font-weight: bold\">    • </span>Monitor for shifts or anomalies in input data distributions.                                                 \n",
       "<span style=\"color: #808000; text-decoration-color: #808000; font-weight: bold\">    • </span>Collaborate with data engineers and ML engineers to resolve data quality problems.                           \n",
       "<span style=\"color: #808000; text-decoration-color: #808000; font-weight: bold\"> • </span><span style=\"font-weight: bold\">Key Pain Points:</span>                                                                                                \n",
       "<span style=\"color: #808000; text-decoration-color: #808000; font-weight: bold\">    • </span>Silent failures or degradation due to subtle data changes.                                                   \n",
       "<span style=\"color: #808000; text-decoration-color: #808000; font-weight: bold\">    • </span>Difficulty tracking data lineage and transformations impacting model inputs.                                 \n",
       "<span style=\"color: #808000; text-decoration-color: #808000; font-weight: bold\">    • </span>No proactive alerting for data quality issues that affect model performance.                                 \n",
       "<span style=\"color: #808000; text-decoration-color: #808000; font-weight: bold\">    • </span>Troubleshooting data issues that are only discovered when model performance drops.                           \n",
       "<span style=\"color: #808000; text-decoration-color: #808000; font-weight: bold\"> • </span><span style=\"font-weight: bold\">How Fiddler Helps:</span>                                                                                              \n",
       "<span style=\"color: #808000; text-decoration-color: #808000; font-weight: bold\">    • </span>Monitors data distributions and detects data drift (feature drift, concept drift).                           \n",
       "<span style=\"color: #808000; text-decoration-color: #808000; font-weight: bold\">    • </span>Identifies data integrity issues like missing values, out-of-range values, or unexpected data types.         \n",
       "<span style=\"color: #808000; text-decoration-color: #808000; font-weight: bold\">    • </span>Provides insights into which specific features are changing and impacting model performance.                 \n",
       "<span style=\"color: #808000; text-decoration-color: #808000; font-weight: bold\"> • </span><span style=\"font-weight: bold\">Fiddler Features Used:</span> Data drift detection, data integrity checks, feature distribution analysis, anomaly      \n",
       "<span style=\"color: #808000; text-decoration-color: #808000; font-weight: bold\">   </span>detection, data quality alerts.                                                                                 \n",
       "\n",
       "<span style=\"color: #808000; text-decoration-color: #808000\">───────────────────────────────────────────────────────────────────────────────────────────────────────────────────</span>\n",
       "These personas highlight how Fiddler serves a diverse range of stakeholders, each leveraging the platform's        \n",
       "capabilities to ensure the reliability, fairness, and business value of their AI systems.                          \n",
       "</pre>\n"
      ],
      "text/plain": [
       "Fiddler is a powerful AI/ML Model Monitoring and Observability platform. Its users span various roles within an    \n",
       "organization, each with unique needs and perspectives on model performance, fairness, and compliance.              \n",
       "\n",
       "Here's a list of user personas who would be using Fiddler for AI/ML monitoring and observability:                  \n",
       "\n",
       "\u001b[33m───────────────────────────────────────────────────────────────────────────────────────────────────────────────────\u001b[0m\n",
       "                                       \u001b[1m1. The ML Engineer / MLOps Specialist\u001b[0m                                       \n",
       "\n",
       "\u001b[1;33m • \u001b[0m\u001b[1mRole/Background:\u001b[0m Responsible for deploying, maintaining, and scaling machine learning models in production.     \n",
       "\u001b[1;33m   \u001b[0mBridges the gap between data science and operations.                                                            \n",
       "\u001b[1;33m • \u001b[0m\u001b[1mPrimary Goals:\u001b[0m                                                                                                  \n",
       "\u001b[1;33m   \u001b[0m\u001b[1;33m • \u001b[0mEnsure models are performing reliably in production.                                                         \n",
       "\u001b[1;33m   \u001b[0m\u001b[1;33m • \u001b[0mReceive timely alerts for performance degradation, drift, or errors.                                         \n",
       "\u001b[1;33m   \u001b[0m\u001b[1;33m • \u001b[0mAutomate model retraining or redeployment when necessary.                                                    \n",
       "\u001b[1;33m   \u001b[0m\u001b[1;33m • \u001b[0mDebug and troubleshoot production model issues quickly.                                                      \n",
       "\u001b[1;33m • \u001b[0m\u001b[1mKey Pain Points:\u001b[0m                                                                                                \n",
       "\u001b[1;33m   \u001b[0m\u001b[1;33m • \u001b[0mBlind spots once a model is deployed.                                                                        \n",
       "\u001b[1;33m   \u001b[0m\u001b[1;33m • \u001b[0mDifficulty identifying the root cause of production issues (e.g., data quality, model drift, data pipeline   \n",
       "\u001b[1;33m   \u001b[0m\u001b[1;33m   \u001b[0missues).                                                                                                     \n",
       "\u001b[1;33m   \u001b[0m\u001b[1;33m • \u001b[0mManual and time-consuming monitoring setup.                                                                  \n",
       "\u001b[1;33m   \u001b[0m\u001b[1;33m • \u001b[0mReactive troubleshooting instead of proactive problem-solving.                                               \n",
       "\u001b[1;33m • \u001b[0m\u001b[1mHow Fiddler Helps:\u001b[0m                                                                                              \n",
       "\u001b[1;33m   \u001b[0m\u001b[1;33m • \u001b[0mProvides real-time dashboards and alerts for model health, performance, and data integrity.                  \n",
       "\u001b[1;33m   \u001b[0m\u001b[1;33m • \u001b[0mFacilitates root cause analysis by showing data drift, feature importance, and individual prediction         \n",
       "\u001b[1;33m   \u001b[0m\u001b[1;33m   \u001b[0mexplanations.                                                                                                \n",
       "\u001b[1;33m   \u001b[0m\u001b[1;33m • \u001b[0mIntegrates with existing MLOps pipelines for automated actions based on monitoring insights.                 \n",
       "\u001b[1;33m • \u001b[0m\u001b[1mFiddler Features Used:\u001b[0m Performance monitoring, data drift detection, anomaly detection, alerts & notifications, \n",
       "\u001b[1;33m   \u001b[0mmodel debugger, API integrations.                                                                               \n",
       "\n",
       "\u001b[33m───────────────────────────────────────────────────────────────────────────────────────────────────────────────────\u001b[0m\n",
       "                                       \u001b[1m2. The Data Scientist / ML Researcher\u001b[0m                                       \n",
       "\n",
       "\u001b[1;33m • \u001b[0m\u001b[1mRole/Background:\u001b[0m Builds, trains, and evaluates machine learning models. Often hands over models to ML Engineers \n",
       "\u001b[1;33m   \u001b[0mfor deployment but maintains a vested interest in their production performance.                                 \n",
       "\u001b[1;33m • \u001b[0m\u001b[1mPrimary Goals:\u001b[0m                                                                                                  \n",
       "\u001b[1;33m   \u001b[0m\u001b[1;33m • \u001b[0mValidate that their model's performance in production matches their expectations from development.           \n",
       "\u001b[1;33m   \u001b[0m\u001b[1;33m • \u001b[0mUnderstand how real-world data impacts model behavior.                                                       \n",
       "\u001b[1;33m   \u001b[0m\u001b[1;33m • \u001b[0mIdentify when models need retraining or refinement due to concept drift or data shifts.                      \n",
       "\u001b[1;33m   \u001b[0m\u001b[1;33m • \u001b[0mGain insights into model behavior on specific, problematic predictions.                                      \n",
       "\u001b[1;33m • \u001b[0m\u001b[1mKey Pain Points:\u001b[0m                                                                                                \n",
       "\u001b[1;33m   \u001b[0m\u001b[1;33m • \u001b[0mLoss of visibility once a model is in production.                                                            \n",
       "\u001b[1;33m   \u001b[0m\u001b[1;33m • \u001b[0mDifficulty reconciling development performance with production reality.                                      \n",
       "\u001b[1;33m   \u001b[0m\u001b[1;33m • \u001b[0mLack of tools to quickly identify when and why models start to decay.                                        \n",
       "\u001b[1;33m   \u001b[0m\u001b[1;33m • \u001b[0mExplaining model decisions to stakeholders or for debugging.                                                 \n",
       "\u001b[1;33m • \u001b[0m\u001b[1mHow Fiddler Helps:\u001b[0m                                                                                              \n",
       "\u001b[1;33m   \u001b[0m\u001b[1;33m • \u001b[0mCompares training data distributions with production data.                                                   \n",
       "\u001b[1;33m   \u001b[0m\u001b[1;33m • \u001b[0mTracks model performance metrics (accuracy, precision, recall, etc.) over time.                              \n",
       "\u001b[1;33m   \u001b[0m\u001b[1;33m • \u001b[0mProvides explainability tools (SHAP, LIME) to understand individual predictions and overall model behavior in\n",
       "\u001b[1;33m   \u001b[0m\u001b[1;33m   \u001b[0mproduction.                                                                                                  \n",
       "\u001b[1;33m   \u001b[0m\u001b[1;33m • \u001b[0mHighlights data segments where performance is declining.                                                     \n",
       "\u001b[1;33m • \u001b[0m\u001b[1mFiddler Features Used:\u001b[0m Model performance metrics, data drift analysis, concept drift detection, explainability  \n",
       "\u001b[1;33m   \u001b[0m(XAI), slice & dice analysis, what-if scenarios.                                                                \n",
       "\n",
       "\u001b[33m───────────────────────────────────────────────────────────────────────────────────────────────────────────────────\u001b[0m\n",
       "                                    \u001b[1m3. The AI Product Manager / Business Owner\u001b[0m                                     \n",
       "\n",
       "\u001b[1;33m • \u001b[0m\u001b[1mRole/Background:\u001b[0m Responsible for the success of AI-powered products or features. Focuses on business value, user\n",
       "\u001b[1;33m   \u001b[0mexperience, and strategic alignment.                                                                            \n",
       "\u001b[1;33m • \u001b[0m\u001b[1mPrimary Goals:\u001b[0m                                                                                                  \n",
       "\u001b[1;33m   \u001b[0m\u001b[1;33m • \u001b[0mEnsure AI models are delivering the intended business value and KPIs.                                        \n",
       "\u001b[1;33m   \u001b[0m\u001b[1;33m • \u001b[0mIdentify and mitigate risks associated with model bias or fairness issues.                                   \n",
       "\u001b[1;33m   \u001b[0m\u001b[1;33m • \u001b[0mUnderstand the impact of model changes on user experience and business outcomes.                             \n",
       "\u001b[1;33m   \u001b[0m\u001b[1;33m • \u001b[0mCommunicate model performance and impact to non-technical stakeholders.                                      \n",
       "\u001b[1;33m • \u001b[0m\u001b[1mKey Pain Points:\u001b[0m                                                                                                \n",
       "\u001b[1;33m   \u001b[0m\u001b[1;33m • \u001b[0mDifficulty translating technical model performance into business impact.                                     \n",
       "\u001b[1;33m   \u001b[0m\u001b[1;33m • \u001b[0mConcerns about ethical AI, fairness, and potential reputational risks.                                       \n",
       "\u001b[1;33m   \u001b[0m\u001b[1;33m • \u001b[0mLack of visibility into how models are truly performing for end-users.                                       \n",
       "\u001b[1;33m   \u001b[0m\u001b[1;33m • \u001b[0mNo clear way to tie model behavior to business metrics.                                                      \n",
       "\u001b[1;33m • \u001b[0m\u001b[1mHow Fiddler Helps:\u001b[0m                                                                                              \n",
       "\u001b[1;33m   \u001b[0m\u001b[1;33m • \u001b[0mProvides business-aligned dashboards for model impact (e.g., fraud reduction, conversion rates, customer     \n",
       "\u001b[1;33m   \u001b[0m\u001b[1;33m   \u001b[0mchurn).                                                                                                      \n",
       "\u001b[1;33m   \u001b[0m\u001b[1;33m • \u001b[0mDetects and quantifies bias across sensitive attributes.                                                     \n",
       "\u001b[1;33m   \u001b[0m\u001b[1;33m • \u001b[0mOffers explainability to justify model decisions to internal/external parties.                               \n",
       "\u001b[1;33m   \u001b[0m\u001b[1;33m • \u001b[0mAllows linking model performance to key business KPIs.                                                       \n",
       "\u001b[1;33m • \u001b[0m\u001b[1mFiddler Features Used:\u001b[0m Business KPIs integration, fairness monitoring, explainability (XAI), custom dashboards, \n",
       "\u001b[1;33m   \u001b[0maggregate reports.                                                                                              \n",
       "\n",
       "\u001b[33m───────────────────────────────────────────────────────────────────────────────────────────────────────────────────\u001b[0m\n",
       "                               \u001b[1m4. The Risk & Compliance Officer / AI Governance Lead\u001b[0m                               \n",
       "\n",
       "\u001b[1;33m • \u001b[0m\u001b[1mRole/Background:\u001b[0m Ensures that AI systems comply with internal policies, industry regulations (e.g., GDPR, CCPA, \n",
       "\u001b[1;33m   \u001b[0methical AI guidelines), and audit requirements.                                                                 \n",
       "\u001b[1;33m • \u001b[0m\u001b[1mPrimary Goals:\u001b[0m                                                                                                  \n",
       "\u001b[1;33m   \u001b[0m\u001b[1;33m • \u001b[0mDemonstrate auditability and explainability of AI models.                                                    \n",
       "\u001b[1;33m   \u001b[0m\u001b[1;33m • \u001b[0mEnsure models are fair and non-discriminatory.                                                               \n",
       "\u001b[1;33m   \u001b[0m\u001b[1;33m • \u001b[0mMitigate legal, ethical, and reputational risks associated with AI.                                          \n",
       "\u001b[1;33m   \u001b[0m\u001b[1;33m • \u001b[0mMaintain a clear audit trail of model changes and performance.                                               \n",
       "\u001b[1;33m • \u001b[0m\u001b[1mKey Pain Points:\u001b[0m                                                                                                \n",
       "\u001b[1;33m   \u001b[0m\u001b[1;33m • \u001b[0mLack of transparency into \"black-box\" AI models.                                                             \n",
       "\u001b[1;33m   \u001b[0m\u001b[1;33m • \u001b[0mDifficulty proving fairness or explainability to regulators or auditors.                                     \n",
       "\u001b[1;33m   \u001b[0m\u001b[1;33m • \u001b[0mManaging the evolving landscape of AI regulations.                                                           \n",
       "\u001b[1;33m   \u001b[0m\u001b[1;33m • \u001b[0mNo centralized system for AI governance.                                                                     \n",
       "\u001b[1;33m • \u001b[0m\u001b[1mHow Fiddler Helps:\u001b[0m                                                                                              \n",
       "\u001b[1;33m   \u001b[0m\u001b[1;33m • \u001b[0mProvides a centralized record of model performance, drift, and bias over time.                               \n",
       "\u001b[1;33m   \u001b[0m\u001b[1;33m • \u001b[0mOffers robust fairness and bias detection capabilities.                                                      \n",
       "\u001b[1;33m   \u001b[0m\u001b[1;33m • \u001b[0mGenerates comprehensive explainability reports for individual predictions and model behavior.                \n",
       "\u001b[1;33m   \u001b[0m\u001b[1;33m • \u001b[0mSupports audit trails for model changes and monitoring activities.                                           \n",
       "\u001b[1;33m • \u001b[0m\u001b[1mFiddler Features Used:\u001b[0m Fairness monitoring, explainability (XAI), audit trails, model versioning, regulatory    \n",
       "\u001b[1;33m   \u001b[0mcompliance reports.                                                                                             \n",
       "\n",
       "\u001b[33m───────────────────────────────────────────────────────────────────────────────────────────────────────────────────\u001b[0m\n",
       "                                    \u001b[1m5. The Data Quality Analyst / Data Steward\u001b[0m                                     \n",
       "\n",
       "\u001b[1;33m • \u001b[0m\u001b[1mRole/Background:\u001b[0m Focuses on the quality, integrity, and consistency of data throughout its lifecycle, including \n",
       "\u001b[1;33m   \u001b[0mdata used by ML models.                                                                                         \n",
       "\u001b[1;33m • \u001b[0m\u001b[1mPrimary Goals:\u001b[0m                                                                                                  \n",
       "\u001b[1;33m   \u001b[0m\u001b[1;33m • \u001b[0mEnsure the data fed into production models is of high quality.                                               \n",
       "\u001b[1;33m   \u001b[0m\u001b[1;33m • \u001b[0mIdentify data integrity issues or schema changes that could impact models.                                   \n",
       "\u001b[1;33m   \u001b[0m\u001b[1;33m • \u001b[0mMonitor for shifts or anomalies in input data distributions.                                                 \n",
       "\u001b[1;33m   \u001b[0m\u001b[1;33m • \u001b[0mCollaborate with data engineers and ML engineers to resolve data quality problems.                           \n",
       "\u001b[1;33m • \u001b[0m\u001b[1mKey Pain Points:\u001b[0m                                                                                                \n",
       "\u001b[1;33m   \u001b[0m\u001b[1;33m • \u001b[0mSilent failures or degradation due to subtle data changes.                                                   \n",
       "\u001b[1;33m   \u001b[0m\u001b[1;33m • \u001b[0mDifficulty tracking data lineage and transformations impacting model inputs.                                 \n",
       "\u001b[1;33m   \u001b[0m\u001b[1;33m • \u001b[0mNo proactive alerting for data quality issues that affect model performance.                                 \n",
       "\u001b[1;33m   \u001b[0m\u001b[1;33m • \u001b[0mTroubleshooting data issues that are only discovered when model performance drops.                           \n",
       "\u001b[1;33m • \u001b[0m\u001b[1mHow Fiddler Helps:\u001b[0m                                                                                              \n",
       "\u001b[1;33m   \u001b[0m\u001b[1;33m • \u001b[0mMonitors data distributions and detects data drift (feature drift, concept drift).                           \n",
       "\u001b[1;33m   \u001b[0m\u001b[1;33m • \u001b[0mIdentifies data integrity issues like missing values, out-of-range values, or unexpected data types.         \n",
       "\u001b[1;33m   \u001b[0m\u001b[1;33m • \u001b[0mProvides insights into which specific features are changing and impacting model performance.                 \n",
       "\u001b[1;33m • \u001b[0m\u001b[1mFiddler Features Used:\u001b[0m Data drift detection, data integrity checks, feature distribution analysis, anomaly      \n",
       "\u001b[1;33m   \u001b[0mdetection, data quality alerts.                                                                                 \n",
       "\n",
       "\u001b[33m───────────────────────────────────────────────────────────────────────────────────────────────────────────────────\u001b[0m\n",
       "These personas highlight how Fiddler serves a diverse range of stakeholders, each leveraging the platform's        \n",
       "capabilities to ensure the reliability, fairness, and business value of their AI systems.                          \n"
      ]
     },
     "metadata": {},
     "output_type": "display_data"
    }
   ],
   "source": [
    "print(resposne.text)"
   ]
  },
  {
   "cell_type": "code",
   "execution_count": 27,
   "metadata": {},
   "outputs": [],
   "source": [
    "class UserQueries(BaseModel):\n",
    "    queries: list[str]"
   ]
  },
  {
   "cell_type": "code",
   "execution_count": 49,
   "metadata": {},
   "outputs": [],
   "source": [
    "QS_TEMPLATE = \"\"\"Give me a list of {num_questions} queries that a user would want to ask FiddleBot about their models and projects in Fiddler.\n",
    "\n",
    "Fiddler has the following capabilities:\n",
    "- Monitor performance of ML models and generative AI applications\n",
    "- Protect your LLM and GenAI applications with Guardrails\n",
    "- Analyze model behavior to identify issues and opportunities\n",
    "- Improve AI systems through actionable insights\n",
    "\n",
    "Implementing Fiddler ML/LLM monitoring requires just three steps:\n",
    "1. Onboard your ML/LLM application to Fiddler by defining its inputs, outputs, and related metadata\n",
    "2. Publish your application data to Fiddler, typically the \"digital exhaust\" from your model serving platform\n",
    "3. Monitor performance through dashboards and alerts that track the metrics most important to your use case\n",
    "\n",
    "Fiddler automatically handles the complex work of generating metrics, detecting anomalies, and providing the visualizations you need to maintain high-quality ML applications.\n",
    "\n",
    "Fiddlebot aims to be a chat based UI to the Fiddler platform, where users can ask the bot to fetch information for them. It is limited to the preprod environment on Fiddler, so please keep that in mind.\n",
    "This is also an unoptimized version and the aim of having this internal dry-run is to ascertain where and how the agent is failing, along with usage patterns. This will better inform us when it comes to optimizing performance.\n",
    "There are 3 major components working under the hood.\n",
    "- Chatbot : Chat UI\n",
    "- Plan n Solve : Certain queries require multiple steps to be resolved. The PnS module aims to first generate a plan and solve each step.\n",
    "- MCP Server : Model Context Protocol Server. A set of tools that the agent can utilise in solving for the query. Runs the Fiddler python client under the hood.\n",
    "\n",
    "Please keep in mind that the bot is still a work in progress and failure is expected. The aim of this exercise is to catch how the agent fails when it is faced with ambiguous queries, queries with incomplete parameters (ex asking for model schema without providing project) and queries which are beyond the scope of the agent.\n",
    "\n",
    "FiddleBot has access the following capabilities via tools:\n",
    "- list all projects in fiddler\n",
    "- list all models in a project\n",
    "- get model schema\n",
    "- get model specs\n",
    "- list alert rules for a model\n",
    "- list triggered alerts for a rule\n",
    "- list all custom metrics for a model\n",
    "\n",
    "{condition}\n",
    "\"\"\""
   ]
  },
  {
   "cell_type": "code",
   "execution_count": 50,
   "metadata": {},
   "outputs": [],
   "source": [
    "AMBIGUOUS_CONDITION = \"\"\"The user is new to Fiddler and is not aware of its capabilities and what to ask for.\n",
    "Their questions are not specific and ambiguous and incomplete.\n",
    "\"\"\""
   ]
  },
  {
   "cell_type": "code",
   "execution_count": 51,
   "metadata": {},
   "outputs": [],
   "source": [
    "CONFLICTING_CONDITION = \"\"\"The user wants to test the Fiddler expert and asks questions with conflicting information and requirements\"\"\""
   ]
  },
  {
   "cell_type": "code",
   "execution_count": 52,
   "metadata": {},
   "outputs": [],
   "source": [
    "GOOD_CONDITION = \"\"\"The user is familiar with Fiddler and is aware of its capabilities and what to ask for.\n",
    "The questions that the user asks are specific and clear. There is no ambiguity in the questions.\n",
    "\"\"\""
   ]
  },
  {
   "cell_type": "code",
   "execution_count": 56,
   "metadata": {},
   "outputs": [],
   "source": [
    "response = gclient.models.generate_content(\n",
    "    model=\"gemini-2.5-flash\",\n",
    "    contents=QS_TEMPLATE.format(num_questions=40, condition=AMBIGUOUS_CONDITION),\n",
    "    config={\n",
    "        \"response_mime_type\": \"application/json\",\n",
    "        \"response_schema\": UserQueries\n",
    "    }\n",
    ")"
   ]
  },
  {
   "cell_type": "code",
   "execution_count": 57,
   "metadata": {},
   "outputs": [],
   "source": [
    "queries = response.parsed"
   ]
  },
  {
   "cell_type": "code",
   "execution_count": 58,
   "metadata": {},
   "outputs": [
    {
     "data": {
      "text/html": [
       "<pre style=\"white-space:pre;overflow-x:auto;line-height:normal;font-family:Menlo,'DejaVu Sans Mono',consolas,'Courier New',monospace\">What can Fiddler do?                                                                                               \n",
       "</pre>\n"
      ],
      "text/plain": [
       "What can Fiddler do?                                                                                               \n"
      ]
     },
     "metadata": {},
     "output_type": "display_data"
    },
    {
     "data": {
      "text/html": [
       "<pre style=\"white-space:pre;overflow-x:auto;line-height:normal;font-family:Menlo,'DejaVu Sans Mono',consolas,'Courier New',monospace\">How do I start using Fiddler?                                                                                      \n",
       "</pre>\n"
      ],
      "text/plain": [
       "How do I start using Fiddler?                                                                                      \n"
      ]
     },
     "metadata": {},
     "output_type": "display_data"
    },
    {
     "data": {
      "text/html": [
       "<pre style=\"white-space:pre;overflow-x:auto;line-height:normal;font-family:Menlo,'DejaVu Sans Mono',consolas,'Courier New',monospace\">Show me my projects.                                                                                               \n",
       "</pre>\n"
      ],
      "text/plain": [
       "Show me my projects.                                                                                               \n"
      ]
     },
     "metadata": {},
     "output_type": "display_data"
    },
    {
     "data": {
      "text/html": [
       "<pre style=\"white-space:pre;overflow-x:auto;line-height:normal;font-family:Menlo,'DejaVu Sans Mono',consolas,'Courier New',monospace\">List models please.                                                                                                \n",
       "</pre>\n"
      ],
      "text/plain": [
       "List models please.                                                                                                \n"
      ]
     },
     "metadata": {},
     "output_type": "display_data"
    },
    {
     "data": {
      "text/html": [
       "<pre style=\"white-space:pre;overflow-x:auto;line-height:normal;font-family:Menlo,'DejaVu Sans Mono',consolas,'Courier New',monospace\">Tell me about a model's schema.                                                                                    \n",
       "</pre>\n"
      ],
      "text/plain": [
       "Tell me about a model's schema.                                                                                    \n"
      ]
     },
     "metadata": {},
     "output_type": "display_data"
    },
    {
     "data": {
      "text/html": [
       "<pre style=\"white-space:pre;overflow-x:auto;line-height:normal;font-family:Menlo,'DejaVu Sans Mono',consolas,'Courier New',monospace\">What are the specs for a model?                                                                                    \n",
       "</pre>\n"
      ],
      "text/plain": [
       "What are the specs for a model?                                                                                    \n"
      ]
     },
     "metadata": {},
     "output_type": "display_data"
    },
    {
     "data": {
      "text/html": [
       "<pre style=\"white-space:pre;overflow-x:auto;line-height:normal;font-family:Menlo,'DejaVu Sans Mono',consolas,'Courier New',monospace\">Are there any triggered alerts?                                                                                    \n",
       "</pre>\n"
      ],
      "text/plain": [
       "Are there any triggered alerts?                                                                                    \n"
      ]
     },
     "metadata": {},
     "output_type": "display_data"
    },
    {
     "data": {
      "text/html": [
       "<pre style=\"white-space:pre;overflow-x:auto;line-height:normal;font-family:Menlo,'DejaVu Sans Mono',consolas,'Courier New',monospace\">Show me custom metrics for a model.                                                                                \n",
       "</pre>\n"
      ],
      "text/plain": [
       "Show me custom metrics for a model.                                                                                \n"
      ]
     },
     "metadata": {},
     "output_type": "display_data"
    },
    {
     "data": {
      "text/html": [
       "<pre style=\"white-space:pre;overflow-x:auto;line-height:normal;font-family:Menlo,'DejaVu Sans Mono',consolas,'Courier New',monospace\">How can I monitor my ML models?                                                                                    \n",
       "</pre>\n"
      ],
      "text/plain": [
       "How can I monitor my ML models?                                                                                    \n"
      ]
     },
     "metadata": {},
     "output_type": "display_data"
    },
    {
     "data": {
      "text/html": [
       "<pre style=\"white-space:pre;overflow-x:auto;line-height:normal;font-family:Menlo,'DejaVu Sans Mono',consolas,'Courier New',monospace\">Can Fiddler protect my LLM applications?                                                                           \n",
       "</pre>\n"
      ],
      "text/plain": [
       "Can Fiddler protect my LLM applications?                                                                           \n"
      ]
     },
     "metadata": {},
     "output_type": "display_data"
    },
    {
     "data": {
      "text/html": [
       "<pre style=\"white-space:pre;overflow-x:auto;line-height:normal;font-family:Menlo,'DejaVu Sans Mono',consolas,'Courier New',monospace\">How do I identify issues with my models?                                                                           \n",
       "</pre>\n"
      ],
      "text/plain": [
       "How do I identify issues with my models?                                                                           \n"
      ]
     },
     "metadata": {},
     "output_type": "display_data"
    },
    {
     "data": {
      "text/html": [
       "<pre style=\"white-space:pre;overflow-x:auto;line-height:normal;font-family:Menlo,'DejaVu Sans Mono',consolas,'Courier New',monospace\">What's the best way to improve AI systems?                                                                         \n",
       "</pre>\n"
      ],
      "text/plain": [
       "What's the best way to improve AI systems?                                                                         \n"
      ]
     },
     "metadata": {},
     "output_type": "display_data"
    },
    {
     "data": {
      "text/html": [
       "<pre style=\"white-space:pre;overflow-x:auto;line-height:normal;font-family:Menlo,'DejaVu Sans Mono',consolas,'Courier New',monospace\">Show me the performance.                                                                                           \n",
       "</pre>\n"
      ],
      "text/plain": [
       "Show me the performance.                                                                                           \n"
      ]
     },
     "metadata": {},
     "output_type": "display_data"
    },
    {
     "data": {
      "text/html": [
       "<pre style=\"white-space:pre;overflow-x:auto;line-height:normal;font-family:Menlo,'DejaVu Sans Mono',consolas,'Courier New',monospace\">What are the inputs and outputs?                                                                                   \n",
       "</pre>\n"
      ],
      "text/plain": [
       "What are the inputs and outputs?                                                                                   \n"
      ]
     },
     "metadata": {},
     "output_type": "display_data"
    },
    {
     "data": {
      "text/html": [
       "<pre style=\"white-space:pre;overflow-x:auto;line-height:normal;font-family:Menlo,'DejaVu Sans Mono',consolas,'Courier New',monospace\">What models do I have access to?                                                                                   \n",
       "</pre>\n"
      ],
      "text/plain": [
       "What models do I have access to?                                                                                   \n"
      ]
     },
     "metadata": {},
     "output_type": "display_data"
    },
    {
     "data": {
      "text/html": [
       "<pre style=\"white-space:pre;overflow-x:auto;line-height:normal;font-family:Menlo,'DejaVu Sans Mono',consolas,'Courier New',monospace\">Can I see the status of my work?                                                                                   \n",
       "</pre>\n"
      ],
      "text/plain": [
       "Can I see the status of my work?                                                                                   \n"
      ]
     },
     "metadata": {},
     "output_type": "display_data"
    },
    {
     "data": {
      "text/html": [
       "<pre style=\"white-space:pre;overflow-x:auto;line-height:normal;font-family:Menlo,'DejaVu Sans Mono',consolas,'Courier New',monospace\">Are my models doing well?                                                                                          \n",
       "</pre>\n"
      ],
      "text/plain": [
       "Are my models doing well?                                                                                          \n"
      ]
     },
     "metadata": {},
     "output_type": "display_data"
    },
    {
     "data": {
      "text/html": [
       "<pre style=\"white-space:pre;overflow-x:auto;line-height:normal;font-family:Menlo,'DejaVu Sans Mono',consolas,'Courier New',monospace\">What about model drift detection?                                                                                  \n",
       "</pre>\n"
      ],
      "text/plain": [
       "What about model drift detection?                                                                                  \n"
      ]
     },
     "metadata": {},
     "output_type": "display_data"
    },
    {
     "data": {
      "text/html": [
       "<pre style=\"white-space:pre;overflow-x:auto;line-height:normal;font-family:Menlo,'DejaVu Sans Mono',consolas,'Courier New',monospace\">How do I create a new alert?                                                                                       \n",
       "</pre>\n"
      ],
      "text/plain": [
       "How do I create a new alert?                                                                                       \n"
      ]
     },
     "metadata": {},
     "output_type": "display_data"
    },
    {
     "data": {
      "text/html": [
       "<pre style=\"white-space:pre;overflow-x:auto;line-height:normal;font-family:Menlo,'DejaVu Sans Mono',consolas,'Courier New',monospace\">Can I see a dashboard for my project?                                                                              \n",
       "</pre>\n"
      ],
      "text/plain": [
       "Can I see a dashboard for my project?                                                                              \n"
      ]
     },
     "metadata": {},
     "output_type": "display_data"
    },
    {
     "data": {
      "text/html": [
       "<pre style=\"white-space:pre;overflow-x:auto;line-height:normal;font-family:Menlo,'DejaVu Sans Mono',consolas,'Courier New',monospace\">Give me actionable insights.                                                                                       \n",
       "</pre>\n"
      ],
      "text/plain": [
       "Give me actionable insights.                                                                                       \n"
      ]
     },
     "metadata": {},
     "output_type": "display_data"
    },
    {
     "data": {
      "text/html": [
       "<pre style=\"white-space:pre;overflow-x:auto;line-height:normal;font-family:Menlo,'DejaVu Sans Mono',consolas,'Courier New',monospace\">How do I onboard my application?                                                                                   \n",
       "</pre>\n"
      ],
      "text/plain": [
       "How do I onboard my application?                                                                                   \n"
      ]
     },
     "metadata": {},
     "output_type": "display_data"
    },
    {
     "data": {
      "text/html": [
       "<pre style=\"white-space:pre;overflow-x:auto;line-height:normal;font-family:Menlo,'DejaVu Sans Mono',consolas,'Courier New',monospace\">What metrics does Fiddler track automatically?                                                                     \n",
       "</pre>\n"
      ],
      "text/plain": [
       "What metrics does Fiddler track automatically?                                                                     \n"
      ]
     },
     "metadata": {},
     "output_type": "display_data"
    },
    {
     "data": {
      "text/html": [
       "<pre style=\"white-space:pre;overflow-x:auto;line-height:normal;font-family:Menlo,'DejaVu Sans Mono',consolas,'Courier New',monospace\">Can Fiddler explain why my model is making mistakes?                                                               \n",
       "</pre>\n"
      ],
      "text/plain": [
       "Can Fiddler explain why my model is making mistakes?                                                               \n"
      ]
     },
     "metadata": {},
     "output_type": "display_data"
    },
    {
     "data": {
      "text/html": [
       "<pre style=\"white-space:pre;overflow-x:auto;line-height:normal;font-family:Menlo,'DejaVu Sans Mono',consolas,'Courier New',monospace\">Show me all alert rules.                                                                                           \n",
       "</pre>\n"
      ],
      "text/plain": [
       "Show me all alert rules.                                                                                           \n"
      ]
     },
     "metadata": {},
     "output_type": "display_data"
    },
    {
     "data": {
      "text/html": [
       "<pre style=\"white-space:pre;overflow-x:auto;line-height:normal;font-family:Menlo,'DejaVu Sans Mono',consolas,'Courier New',monospace\">Which alerts fired recently?                                                                                       \n",
       "</pre>\n"
      ],
      "text/plain": [
       "Which alerts fired recently?                                                                                       \n"
      ]
     },
     "metadata": {},
     "output_type": "display_data"
    },
    {
     "data": {
      "text/html": [
       "<pre style=\"white-space:pre;overflow-x:auto;line-height:normal;font-family:Menlo,'DejaVu Sans Mono',consolas,'Courier New',monospace\">Has anything unusual happened with my data?                                                                        \n",
       "</pre>\n"
      ],
      "text/plain": [
       "Has anything unusual happened with my data?                                                                        \n"
      ]
     },
     "metadata": {},
     "output_type": "display_data"
    },
    {
     "data": {
      "text/html": [
       "<pre style=\"white-space:pre;overflow-x:auto;line-height:normal;font-family:Menlo,'DejaVu Sans Mono',consolas,'Courier New',monospace\">What metadata should I define for onboarding?                                                                      \n",
       "</pre>\n"
      ],
      "text/plain": [
       "What metadata should I define for onboarding?                                                                      \n"
      ]
     },
     "metadata": {},
     "output_type": "display_data"
    },
    {
     "data": {
      "text/html": [
       "<pre style=\"white-space:pre;overflow-x:auto;line-height:normal;font-family:Menlo,'DejaVu Sans Mono',consolas,'Courier New',monospace\">How do I publish my model's digital exhaust?                                                                       \n",
       "</pre>\n"
      ],
      "text/plain": [
       "How do I publish my model's digital exhaust?                                                                       \n"
      ]
     },
     "metadata": {},
     "output_type": "display_data"
    },
    {
     "data": {
      "text/html": [
       "<pre style=\"white-space:pre;overflow-x:auto;line-height:normal;font-family:Menlo,'DejaVu Sans Mono',consolas,'Courier New',monospace\">Can Fiddler help me debug my GenAI app?                                                                            \n",
       "</pre>\n"
      ],
      "text/plain": [
       "Can Fiddler help me debug my GenAI app?                                                                            \n"
      ]
     },
     "metadata": {},
     "output_type": "display_data"
    },
    {
     "data": {
      "text/html": [
       "<pre style=\"white-space:pre;overflow-x:auto;line-height:normal;font-family:Menlo,'DejaVu Sans Mono',consolas,'Courier New',monospace\">What are the important metrics to look at?                                                                         \n",
       "</pre>\n"
      ],
      "text/plain": [
       "What are the important metrics to look at?                                                                         \n"
      ]
     },
     "metadata": {},
     "output_type": "display_data"
    },
    {
     "data": {
      "text/html": [
       "<pre style=\"white-space:pre;overflow-x:auto;line-height:normal;font-family:Menlo,'DejaVu Sans Mono',consolas,'Courier New',monospace\">Is my LLM application secure?                                                                                      \n",
       "</pre>\n"
      ],
      "text/plain": [
       "Is my LLM application secure?                                                                                      \n"
      ]
     },
     "metadata": {},
     "output_type": "display_data"
    },
    {
     "data": {
      "text/html": [
       "<pre style=\"white-space:pre;overflow-x:auto;line-height:normal;font-family:Menlo,'DejaVu Sans Mono',consolas,'Courier New',monospace\">Show me everything about my models and projects.                                                                   \n",
       "</pre>\n"
      ],
      "text/plain": [
       "Show me everything about my models and projects.                                                                   \n"
      ]
     },
     "metadata": {},
     "output_type": "display_data"
    },
    {
     "data": {
      "text/html": [
       "<pre style=\"white-space:pre;overflow-x:auto;line-height:normal;font-family:Menlo,'DejaVu Sans Mono',consolas,'Courier New',monospace\">Get me the details.                                                                                                \n",
       "</pre>\n"
      ],
      "text/plain": [
       "Get me the details.                                                                                                \n"
      ]
     },
     "metadata": {},
     "output_type": "display_data"
    },
    {
     "data": {
      "text/html": [
       "<pre style=\"white-space:pre;overflow-x:auto;line-height:normal;font-family:Menlo,'DejaVu Sans Mono',consolas,'Courier New',monospace\">How can I learn more about my model?                                                                               \n",
       "</pre>\n"
      ],
      "text/plain": [
       "How can I learn more about my model?                                                                               \n"
      ]
     },
     "metadata": {},
     "output_type": "display_data"
    },
    {
     "data": {
      "text/html": [
       "<pre style=\"white-space:pre;overflow-x:auto;line-height:normal;font-family:Menlo,'DejaVu Sans Mono',consolas,'Courier New',monospace\">List all alerts for me.                                                                                            \n",
       "</pre>\n"
      ],
      "text/plain": [
       "List all alerts for me.                                                                                            \n"
      ]
     },
     "metadata": {},
     "output_type": "display_data"
    },
    {
     "data": {
      "text/html": [
       "<pre style=\"white-space:pre;overflow-x:auto;line-height:normal;font-family:Menlo,'DejaVu Sans Mono',consolas,'Courier New',monospace\">What's the health status of my system?                                                                             \n",
       "</pre>\n"
      ],
      "text/plain": [
       "What's the health status of my system?                                                                             \n"
      ]
     },
     "metadata": {},
     "output_type": "display_data"
    },
    {
     "data": {
      "text/html": [
       "<pre style=\"white-space:pre;overflow-x:auto;line-height:normal;font-family:Menlo,'DejaVu Sans Mono',consolas,'Courier New',monospace\">Can you provide a history of my model's performance?                                                               \n",
       "</pre>\n"
      ],
      "text/plain": [
       "Can you provide a history of my model's performance?                                                               \n"
      ]
     },
     "metadata": {},
     "output_type": "display_data"
    },
    {
     "data": {
      "text/html": [
       "<pre style=\"white-space:pre;overflow-x:auto;line-height:normal;font-family:Menlo,'DejaVu Sans Mono',consolas,'Courier New',monospace\">How do I know if my model is failing?                                                                              \n",
       "</pre>\n"
      ],
      "text/plain": [
       "How do I know if my model is failing?                                                                              \n"
      ]
     },
     "metadata": {},
     "output_type": "display_data"
    },
    {
     "data": {
      "text/html": [
       "<pre style=\"white-space:pre;overflow-x:auto;line-height:normal;font-family:Menlo,'DejaVu Sans Mono',consolas,'Courier New',monospace\">Tell me about my preprod environment.                                                                              \n",
       "</pre>\n"
      ],
      "text/plain": [
       "Tell me about my preprod environment.                                                                              \n"
      ]
     },
     "metadata": {},
     "output_type": "display_data"
    }
   ],
   "source": [
    "print_questions(response.parsed)"
   ]
  },
  {
   "cell_type": "code",
   "execution_count": 61,
   "metadata": {},
   "outputs": [
    {
     "data": {
      "text/html": [
       "<pre style=\"white-space:pre;overflow-x:auto;line-height:normal;font-family:Menlo,'DejaVu Sans Mono',consolas,'Courier New',monospace\">List all projects in Fiddler.                                                                                      \n",
       "</pre>\n"
      ],
      "text/plain": [
       "List all projects in Fiddler.                                                                                      \n"
      ]
     },
     "metadata": {},
     "output_type": "display_data"
    },
    {
     "data": {
      "text/html": [
       "<pre style=\"white-space:pre;overflow-x:auto;line-height:normal;font-family:Menlo,'DejaVu Sans Mono',consolas,'Courier New',monospace\">Show me every project.                                                                                             \n",
       "</pre>\n"
      ],
      "text/plain": [
       "Show me every project.                                                                                             \n"
      ]
     },
     "metadata": {},
     "output_type": "display_data"
    },
    {
     "data": {
      "text/html": [
       "<pre style=\"white-space:pre;overflow-x:auto;line-height:normal;font-family:Menlo,'DejaVu Sans Mono',consolas,'Courier New',monospace\">What are the names of all the projects?                                                                            \n",
       "</pre>\n"
      ],
      "text/plain": [
       "What are the names of all the projects?                                                                            \n"
      ]
     },
     "metadata": {},
     "output_type": "display_data"
    },
    {
     "data": {
      "text/html": [
       "<pre style=\"white-space:pre;overflow-x:auto;line-height:normal;font-family:Menlo,'DejaVu Sans Mono',consolas,'Courier New',monospace\">List all models in project 'fraud_detection_prod'.                                                                 \n",
       "</pre>\n"
      ],
      "text/plain": [
       "List all models in project 'fraud_detection_prod'.                                                                 \n"
      ]
     },
     "metadata": {},
     "output_type": "display_data"
    },
    {
     "data": {
      "text/html": [
       "<pre style=\"white-space:pre;overflow-x:auto;line-height:normal;font-family:Menlo,'DejaVu Sans Mono',consolas,'Courier New',monospace\">Get models for project 'customer_churn_analysis'.                                                                  \n",
       "</pre>\n"
      ],
      "text/plain": [
       "Get models for project 'customer_churn_analysis'.                                                                  \n"
      ]
     },
     "metadata": {},
     "output_type": "display_data"
    },
    {
     "data": {
      "text/html": [
       "<pre style=\"white-space:pre;overflow-x:auto;line-height:normal;font-family:Menlo,'DejaVu Sans Mono',consolas,'Courier New',monospace\">Show me models under the 'llm_chatbot_dev' project.                                                                \n",
       "</pre>\n"
      ],
      "text/plain": [
       "Show me models under the 'llm_chatbot_dev' project.                                                                \n"
      ]
     },
     "metadata": {},
     "output_type": "display_data"
    },
    {
     "data": {
      "text/html": [
       "<pre style=\"white-space:pre;overflow-x:auto;line-height:normal;font-family:Menlo,'DejaVu Sans Mono',consolas,'Courier New',monospace\">What models are present in the 'supply_chain_optimization' project?                                                \n",
       "</pre>\n"
      ],
      "text/plain": [
       "What models are present in the 'supply_chain_optimization' project?                                                \n"
      ]
     },
     "metadata": {},
     "output_type": "display_data"
    },
    {
     "data": {
      "text/html": [
       "<pre style=\"white-space:pre;overflow-x:auto;line-height:normal;font-family:Menlo,'DejaVu Sans Mono',consolas,'Courier New',monospace\">Get the schema for model 'credit_score_v2' in project 'retail_banking'.                                            \n",
       "</pre>\n"
      ],
      "text/plain": [
       "Get the schema for model 'credit_score_v2' in project 'retail_banking'.                                            \n"
      ]
     },
     "metadata": {},
     "output_type": "display_data"
    },
    {
     "data": {
      "text/html": [
       "<pre style=\"white-space:pre;overflow-x:auto;line-height:normal;font-family:Menlo,'DejaVu Sans Mono',consolas,'Courier New',monospace\">Show me the model schema for 'churn_prediction_v1' in project 'telecom_analytics'.                                 \n",
       "</pre>\n"
      ],
      "text/plain": [
       "Show me the model schema for 'churn_prediction_v1' in project 'telecom_analytics'.                                 \n"
      ]
     },
     "metadata": {},
     "output_type": "display_data"
    },
    {
     "data": {
      "text/html": [
       "<pre style=\"white-space:pre;overflow-x:auto;line-height:normal;font-family:Menlo,'DejaVu Sans Mono',consolas,'Courier New',monospace\">What is the schema of 'fraud_transaction_v3' in 'financial_security' project?                                      \n",
       "</pre>\n"
      ],
      "text/plain": [
       "What is the schema of 'fraud_transaction_v3' in 'financial_security' project?                                      \n"
      ]
     },
     "metadata": {},
     "output_type": "display_data"
    },
    {
     "data": {
      "text/html": [
       "<pre style=\"white-space:pre;overflow-x:auto;line-height:normal;font-family:Menlo,'DejaVu Sans Mono',consolas,'Courier New',monospace\">Retrieve schema for model 'document_classifier_v4' in project 'legal_ai_suite'.                                    \n",
       "</pre>\n"
      ],
      "text/plain": [
       "Retrieve schema for model 'document_classifier_v4' in project 'legal_ai_suite'.                                    \n"
      ]
     },
     "metadata": {},
     "output_type": "display_data"
    },
    {
     "data": {
      "text/html": [
       "<pre style=\"white-space:pre;overflow-x:auto;line-height:normal;font-family:Menlo,'DejaVu Sans Mono',consolas,'Courier New',monospace\">Get the specs for model 'image_recognition_v1' in project 'medical_imaging'.                                       \n",
       "</pre>\n"
      ],
      "text/plain": [
       "Get the specs for model 'image_recognition_v1' in project 'medical_imaging'.                                       \n"
      ]
     },
     "metadata": {},
     "output_type": "display_data"
    },
    {
     "data": {
      "text/html": [
       "<pre style=\"white-space:pre;overflow-x:auto;line-height:normal;font-family:Menlo,'DejaVu Sans Mono',consolas,'Courier New',monospace\">Show me the specifications for model 'recommendation_engine_prod' in project 'e_commerce_platform'.                \n",
       "</pre>\n"
      ],
      "text/plain": [
       "Show me the specifications for model 'recommendation_engine_prod' in project 'e_commerce_platform'.                \n"
      ]
     },
     "metadata": {},
     "output_type": "display_data"
    },
    {
     "data": {
      "text/html": [
       "<pre style=\"white-space:pre;overflow-x:auto;line-height:normal;font-family:Menlo,'DejaVu Sans Mono',consolas,'Courier New',monospace\">What are the specs of 'loan_default_model' in 'consumer_lending' project?                                          \n",
       "</pre>\n"
      ],
      "text/plain": [
       "What are the specs of 'loan_default_model' in 'consumer_lending' project?                                          \n"
      ]
     },
     "metadata": {},
     "output_type": "display_data"
    },
    {
     "data": {
      "text/html": [
       "<pre style=\"white-space:pre;overflow-x:auto;line-height:normal;font-family:Menlo,'DejaVu Sans Mono',consolas,'Courier New',monospace\">Retrieve model specs for 'sentiment_analysis_llm' in 'social_media_insights' project.                              \n",
       "</pre>\n"
      ],
      "text/plain": [
       "Retrieve model specs for 'sentiment_analysis_llm' in 'social_media_insights' project.                              \n"
      ]
     },
     "metadata": {},
     "output_type": "display_data"
    },
    {
     "data": {
      "text/html": [
       "<pre style=\"white-space:pre;overflow-x:auto;line-height:normal;font-family:Menlo,'DejaVu Sans Mono',consolas,'Courier New',monospace\">List all alert rules for model 'fraud_detector_v1' in project 'fraud_detection_prod'.                              \n",
       "</pre>\n"
      ],
      "text/plain": [
       "List all alert rules for model 'fraud_detector_v1' in project 'fraud_detection_prod'.                              \n"
      ]
     },
     "metadata": {},
     "output_type": "display_data"
    },
    {
     "data": {
      "text/html": [
       "<pre style=\"white-space:pre;overflow-x:auto;line-height:normal;font-family:Menlo,'DejaVu Sans Mono',consolas,'Courier New',monospace\">Show me alert rules for 'customer_segmentation_model' in project 'marketing_campaigns'.                            \n",
       "</pre>\n"
      ],
      "text/plain": [
       "Show me alert rules for 'customer_segmentation_model' in project 'marketing_campaigns'.                            \n"
      ]
     },
     "metadata": {},
     "output_type": "display_data"
    },
    {
     "data": {
      "text/html": [
       "<pre style=\"white-space:pre;overflow-x:auto;line-height:normal;font-family:Menlo,'DejaVu Sans Mono',consolas,'Courier New',monospace\">What alert rules are configured for 'demand_forecasting_v2' in 'logistics_optimization' project?                   \n",
       "</pre>\n"
      ],
      "text/plain": [
       "What alert rules are configured for 'demand_forecasting_v2' in 'logistics_optimization' project?                   \n"
      ]
     },
     "metadata": {},
     "output_type": "display_data"
    },
    {
     "data": {
      "text/html": [
       "<pre style=\"white-space:pre;overflow-x:auto;line-height:normal;font-family:Menlo,'DejaVu Sans Mono',consolas,'Courier New',monospace\">Get alert rules for 'patient_risk_prediction' in 'healthcare_ai_prod' project.                                     \n",
       "</pre>\n"
      ],
      "text/plain": [
       "Get alert rules for 'patient_risk_prediction' in 'healthcare_ai_prod' project.                                     \n"
      ]
     },
     "metadata": {},
     "output_type": "display_data"
    },
    {
     "data": {
      "text/html": [
       "<pre style=\"white-space:pre;overflow-x:auto;line-height:normal;font-family:Menlo,'DejaVu Sans Mono',consolas,'Courier New',monospace\">List triggered alerts for rule 'data_drift_alert_id_101' on model 'credit_score_v2' in project 'retail_banking'.   \n",
       "</pre>\n"
      ],
      "text/plain": [
       "List triggered alerts for rule 'data_drift_alert_id_101' on model 'credit_score_v2' in project 'retail_banking'.   \n"
      ]
     },
     "metadata": {},
     "output_type": "display_data"
    },
    {
     "data": {
      "text/html": [
       "<pre style=\"white-space:pre;overflow-x:auto;line-height:normal;font-family:Menlo,'DejaVu Sans Mono',consolas,'Courier New',monospace\">Show me triggered alerts for rule 'performance_drop_metric_f1' on 'churn_prediction_v1' in 'telecom_analytics'.    \n",
       "</pre>\n"
      ],
      "text/plain": [
       "Show me triggered alerts for rule 'performance_drop_metric_f1' on 'churn_prediction_v1' in 'telecom_analytics'.    \n"
      ]
     },
     "metadata": {},
     "output_type": "display_data"
    },
    {
     "data": {
      "text/html": [
       "<pre style=\"white-space:pre;overflow-x:auto;line-height:normal;font-family:Menlo,'DejaVu Sans Mono',consolas,'Courier New',monospace\">What alerts were triggered by 'outlier_detection_rule_005' for 'image_recognition_v1' in 'medical_imaging'?        \n",
       "</pre>\n"
      ],
      "text/plain": [
       "What alerts were triggered by 'outlier_detection_rule_005' for 'image_recognition_v1' in 'medical_imaging'?        \n"
      ]
     },
     "metadata": {},
     "output_type": "display_data"
    },
    {
     "data": {
      "text/html": [
       "<pre style=\"white-space:pre;overflow-x:auto;line-height:normal;font-family:Menlo,'DejaVu Sans Mono',consolas,'Courier New',monospace\">Get triggered alerts for rule 'genai_safety_violation' on 'llm_chatbot_dev' in 'genai_guardrails_project'.         \n",
       "</pre>\n"
      ],
      "text/plain": [
       "Get triggered alerts for rule 'genai_safety_violation' on 'llm_chatbot_dev' in 'genai_guardrails_project'.         \n"
      ]
     },
     "metadata": {},
     "output_type": "display_data"
    },
    {
     "data": {
      "text/html": [
       "<pre style=\"white-space:pre;overflow-x:auto;line-height:normal;font-family:Menlo,'DejaVu Sans Mono',consolas,'Courier New',monospace\">List all custom metrics for model 'credit_score_v2' in project 'retail_banking'.                                   \n",
       "</pre>\n"
      ],
      "text/plain": [
       "List all custom metrics for model 'credit_score_v2' in project 'retail_banking'.                                   \n"
      ]
     },
     "metadata": {},
     "output_type": "display_data"
    },
    {
     "data": {
      "text/html": [
       "<pre style=\"white-space:pre;overflow-x:auto;line-height:normal;font-family:Menlo,'DejaVu Sans Mono',consolas,'Courier New',monospace\">Show me custom metrics defined for 'churn_prediction_v1' in project 'telecom_analytics'.                           \n",
       "</pre>\n"
      ],
      "text/plain": [
       "Show me custom metrics defined for 'churn_prediction_v1' in project 'telecom_analytics'.                           \n"
      ]
     },
     "metadata": {},
     "output_type": "display_data"
    },
    {
     "data": {
      "text/html": [
       "<pre style=\"white-space:pre;overflow-x:auto;line-height:normal;font-family:Menlo,'DejaVu Sans Mono',consolas,'Courier New',monospace\">What custom metrics are available for 'fraud_transaction_v3' in 'financial_security' project?                      \n",
       "</pre>\n"
      ],
      "text/plain": [
       "What custom metrics are available for 'fraud_transaction_v3' in 'financial_security' project?                      \n"
      ]
     },
     "metadata": {},
     "output_type": "display_data"
    },
    {
     "data": {
      "text/html": [
       "<pre style=\"white-space:pre;overflow-x:auto;line-height:normal;font-family:Menlo,'DejaVu Sans Mono',consolas,'Courier New',monospace\">Retrieve custom metrics for model 'image_recognition_v1' in project 'medical_imaging'.                             \n",
       "</pre>\n"
      ],
      "text/plain": [
       "Retrieve custom metrics for model 'image_recognition_v1' in project 'medical_imaging'.                             \n"
      ]
     },
     "metadata": {},
     "output_type": "display_data"
    },
    {
     "data": {
      "text/html": [
       "<pre style=\"white-space:pre;overflow-x:auto;line-height:normal;font-family:Menlo,'DejaVu Sans Mono',consolas,'Courier New',monospace\">Get the custom metrics for 'recommendation_engine_prod' in 'e_commerce_platform'.                                  \n",
       "</pre>\n"
      ],
      "text/plain": [
       "Get the custom metrics for 'recommendation_engine_prod' in 'e_commerce_platform'.                                  \n"
      ]
     },
     "metadata": {},
     "output_type": "display_data"
    },
    {
     "data": {
      "text/html": [
       "<pre style=\"white-space:pre;overflow-x:auto;line-height:normal;font-family:Menlo,'DejaVu Sans Mono',consolas,'Courier New',monospace\">Show me all alert rules for 'llm_summarizer_v1' in project 'document_processing'.                                  \n",
       "</pre>\n"
      ],
      "text/plain": [
       "Show me all alert rules for 'llm_summarizer_v1' in project 'document_processing'.                                  \n"
      ]
     },
     "metadata": {},
     "output_type": "display_data"
    },
    {
     "data": {
      "text/html": [
       "<pre style=\"white-space:pre;overflow-x:auto;line-height:normal;font-family:Menlo,'DejaVu Sans Mono',consolas,'Courier New',monospace\">List triggered alerts for rule 'high_toxicity_score' on model 'llm_chatbot_dev' in project                         \n",
       "'genai_guardrails_project'.                                                                                        \n",
       "</pre>\n"
      ],
      "text/plain": [
       "List triggered alerts for rule 'high_toxicity_score' on model 'llm_chatbot_dev' in project                         \n",
       "'genai_guardrails_project'.                                                                                        \n"
      ]
     },
     "metadata": {},
     "output_type": "display_data"
    },
    {
     "data": {
      "text/html": [
       "<pre style=\"white-space:pre;overflow-x:auto;line-height:normal;font-family:Menlo,'DejaVu Sans Mono',consolas,'Courier New',monospace\">Get the model schema.                                                                                              \n",
       "</pre>\n"
      ],
      "text/plain": [
       "Get the model schema.                                                                                              \n"
      ]
     },
     "metadata": {},
     "output_type": "display_data"
    },
    {
     "data": {
      "text/html": [
       "<pre style=\"white-space:pre;overflow-x:auto;line-height:normal;font-family:Menlo,'DejaVu Sans Mono',consolas,'Courier New',monospace\">List all models.                                                                                                   \n",
       "</pre>\n"
      ],
      "text/plain": [
       "List all models.                                                                                                   \n"
      ]
     },
     "metadata": {},
     "output_type": "display_data"
    },
    {
     "data": {
      "text/html": [
       "<pre style=\"white-space:pre;overflow-x:auto;line-height:normal;font-family:Menlo,'DejaVu Sans Mono',consolas,'Courier New',monospace\">Show me the alert rules.                                                                                           \n",
       "</pre>\n"
      ],
      "text/plain": [
       "Show me the alert rules.                                                                                           \n"
      ]
     },
     "metadata": {},
     "output_type": "display_data"
    },
    {
     "data": {
      "text/html": [
       "<pre style=\"white-space:pre;overflow-x:auto;line-height:normal;font-family:Menlo,'DejaVu Sans Mono',consolas,'Courier New',monospace\">List triggered alerts for a rule.                                                                                  \n",
       "</pre>\n"
      ],
      "text/plain": [
       "List triggered alerts for a rule.                                                                                  \n"
      ]
     },
     "metadata": {},
     "output_type": "display_data"
    },
    {
     "data": {
      "text/html": [
       "<pre style=\"white-space:pre;overflow-x:auto;line-height:normal;font-family:Menlo,'DejaVu Sans Mono',consolas,'Courier New',monospace\">Get custom metrics for a model.                                                                                    \n",
       "</pre>\n"
      ],
      "text/plain": [
       "Get custom metrics for a model.                                                                                    \n"
      ]
     },
     "metadata": {},
     "output_type": "display_data"
    },
    {
     "data": {
      "text/html": [
       "<pre style=\"white-space:pre;overflow-x:auto;line-height:normal;font-family:Menlo,'DejaVu Sans Mono',consolas,'Courier New',monospace\">Compare the schema of model 'old_model' with 'new_model' in project 'experimentation'.                             \n",
       "</pre>\n"
      ],
      "text/plain": [
       "Compare the schema of model 'old_model' with 'new_model' in project 'experimentation'.                             \n"
      ]
     },
     "metadata": {},
     "output_type": "display_data"
    },
    {
     "data": {
      "text/html": [
       "<pre style=\"white-space:pre;overflow-x:auto;line-height:normal;font-family:Menlo,'DejaVu Sans Mono',consolas,'Courier New',monospace\">Summarize the performance trends for model 'loan_approval_model' in project 'consumer_lending' over the last month.\n",
       "</pre>\n"
      ],
      "text/plain": [
       "Summarize the performance trends for model 'loan_approval_model' in project 'consumer_lending' over the last month.\n"
      ]
     },
     "metadata": {},
     "output_type": "display_data"
    },
    {
     "data": {
      "text/html": [
       "<pre style=\"white-space:pre;overflow-x:auto;line-height:normal;font-family:Menlo,'DejaVu Sans Mono',consolas,'Courier New',monospace\">What is the overall health status of the 'genai_guardrails_project'?                                               \n",
       "</pre>\n"
      ],
      "text/plain": [
       "What is the overall health status of the 'genai_guardrails_project'?                                               \n"
      ]
     },
     "metadata": {},
     "output_type": "display_data"
    },
    {
     "data": {
      "text/html": [
       "<pre style=\"white-space:pre;overflow-x:auto;line-height:normal;font-family:Menlo,'DejaVu Sans Mono',consolas,'Courier New',monospace\">Can you tell me which models in 'fraud_detection_prod' have active data drift alerts?                              \n",
       "</pre>\n"
      ],
      "text/plain": [
       "Can you tell me which models in 'fraud_detection_prod' have active data drift alerts?                              \n"
      ]
     },
     "metadata": {},
     "output_type": "display_data"
    },
    {
     "data": {
      "text/html": [
       "<pre style=\"white-space:pre;overflow-x:auto;line-height:normal;font-family:Menlo,'DejaVu Sans Mono',consolas,'Courier New',monospace\">How can I onboard a new LLM application to Fiddler?                                                                \n",
       "</pre>\n"
      ],
      "text/plain": [
       "How can I onboard a new LLM application to Fiddler?                                                                \n"
      ]
     },
     "metadata": {},
     "output_type": "display_data"
    }
   ],
   "source": [
    "good_response = gclient.models.generate_content(\n",
    "    model=\"gemini-2.5-flash\",\n",
    "    contents=QS_TEMPLATE.format(num_questions=40, condition=GOOD_CONDITION),\n",
    "    config={\"response_mime_type\": \"application/json\", \"response_schema\": UserQueries},\n",
    ")\n",
    "good_qs = response.parsed\n",
    "print_questions(good_qs)"
   ]
  },
  {
   "cell_type": "code",
   "execution_count": null,
   "metadata": {},
   "outputs": [],
   "source": [
    "good_response = gclient.models.generate_content(\n",
    "    model=\"gemini-2.5-flash\",\n",
    "    contents=QS_TEMPLATE.format(num_questions=40, condition=GOOD_CONDITION),\n",
    "    config={\"response_mime_type\": \"application/json\", \"response_schema\": UserQueries},\n",
    ")\n",
    "good_qs = response.parsed\n",
    "print_questions(good_qs)"
   ]
  },
  {
   "cell_type": "code",
   "execution_count": null,
   "metadata": {},
   "outputs": [],
   "source": []
  },
  {
   "cell_type": "code",
   "execution_count": null,
   "metadata": {},
   "outputs": [],
   "source": []
  },
  {
   "cell_type": "code",
   "execution_count": null,
   "metadata": {},
   "outputs": [],
   "source": []
  }
 ],
 "metadata": {
  "kernelspec": {
   "display_name": ".venv",
   "language": "python",
   "name": "python3"
  },
  "language_info": {
   "codemirror_mode": {
    "name": "ipython",
    "version": 3
   },
   "file_extension": ".py",
   "mimetype": "text/x-python",
   "name": "python",
   "nbconvert_exporter": "python",
   "pygments_lexer": "ipython3",
   "version": "3.12.4"
  }
 },
 "nbformat": 4,
 "nbformat_minor": 2
}
