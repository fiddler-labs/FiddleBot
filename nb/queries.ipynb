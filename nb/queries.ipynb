{
 "cells": [
  {
   "cell_type": "code",
   "execution_count": 1,
   "metadata": {},
   "outputs": [],
   "source": [
    "from openai import OpenAI"
   ]
  },
  {
   "cell_type": "code",
   "execution_count": 2,
   "metadata": {},
   "outputs": [],
   "source": [
    "from google import genai"
   ]
  },
  {
   "cell_type": "code",
   "execution_count": 3,
   "metadata": {},
   "outputs": [],
   "source": [
    "from dotenv import load_dotenv"
   ]
  },
  {
   "cell_type": "code",
   "execution_count": 4,
   "metadata": {},
   "outputs": [],
   "source": [
    "import pandas as pd"
   ]
  },
  {
   "cell_type": "code",
   "execution_count": 5,
   "metadata": {},
   "outputs": [],
   "source": [
    "import toml"
   ]
  },
  {
   "cell_type": "code",
   "execution_count": 6,
   "metadata": {},
   "outputs": [],
   "source": [
    "from rich.console import Console\n",
    "from rich.markdown import Markdown"
   ]
  },
  {
   "cell_type": "code",
   "execution_count": 7,
   "metadata": {},
   "outputs": [],
   "source": [
    "from pydantic import BaseModel"
   ]
  },
  {
   "cell_type": "code",
   "execution_count": 8,
   "metadata": {},
   "outputs": [],
   "source": [
    "CONSOLE = Console()"
   ]
  },
  {
   "cell_type": "code",
   "execution_count": 9,
   "metadata": {},
   "outputs": [],
   "source": [
    "def print(text):\n",
    "    \"\"\"text: str\"\"\"\n",
    "    CONSOLE.print(Markdown(text))"
   ]
  },
  {
   "cell_type": "code",
   "execution_count": 10,
   "metadata": {},
   "outputs": [],
   "source": [
    "def print_questions(user_qs):\n",
    "    \"\"\"user_qs: UserQueries\"\"\"\n",
    "    for qs in user_qs.queries:\n",
    "        print(qs)"
   ]
  },
  {
   "cell_type": "code",
   "execution_count": 11,
   "metadata": {},
   "outputs": [],
   "source": [
    "parsed_toml = toml.load('../.streamlit/secrets.toml')"
   ]
  },
  {
   "cell_type": "code",
   "execution_count": 12,
   "metadata": {},
   "outputs": [],
   "source": [
    "openai_key = parsed_toml['OPENAI_API_KEY']"
   ]
  },
  {
   "cell_type": "code",
   "execution_count": 13,
   "metadata": {},
   "outputs": [],
   "source": [
    "gclient = genai.Client(api_key=parsed_toml['GEMINI_API_KEY'])"
   ]
  },
  {
   "cell_type": "code",
   "execution_count": 14,
   "metadata": {},
   "outputs": [],
   "source": [
    "resposne = gclient.models.generate_content(\n",
    "    model=\"gemini-2.5-flash\",\n",
    "    contents=\"Give me a list of user personas who would be using Fiddler for AI/ML Monitoring and observability\"\n",
    ")"
   ]
  },
  {
   "cell_type": "code",
   "execution_count": 15,
   "metadata": {},
   "outputs": [
    {
     "data": {
      "text/html": [
       "<pre style=\"white-space:pre;overflow-x:auto;line-height:normal;font-family:Menlo,'DejaVu Sans Mono',consolas,'Courier New',monospace\">Fiddler AI is a powerful platform for monitoring, explaining, and analyzing AI models in production. As such, the  \n",
       "user personas for Fiddler often span technical and non-technical roles, each with unique needs related to AI/ML    \n",
       "monitoring and observability.                                                                                      \n",
       "\n",
       "Here's a list of user personas who would be using Fiddler for AI/ML Monitoring and observability:                  \n",
       "\n",
       "<span style=\"color: #808000; text-decoration-color: #808000\">───────────────────────────────────────────────────────────────────────────────────────────────────────────────────</span>\n",
       "                               <span style=\"font-weight: bold\">1. The ML Ops Engineer (The \"Guardian of Production\")</span>                               \n",
       "\n",
       "<span style=\"color: #808000; text-decoration-color: #808000; font-weight: bold\"> • </span><span style=\"font-weight: bold\">Role/Title:</span> ML Ops Engineer, Production ML Engineer, Senior DevOps Engineer (with ML focus)                     \n",
       "<span style=\"color: #808000; text-decoration-color: #808000; font-weight: bold\"> • </span><span style=\"font-weight: bold\">Primary Goal:</span> Ensure the continuous health, performance, and reliability of deployed AI models in production.   \n",
       "<span style=\"color: #808000; text-decoration-color: #808000; font-weight: bold\">   </span>Minimize downtime and quickly diagnose issues.                                                                  \n",
       "<span style=\"color: #808000; text-decoration-color: #808000; font-weight: bold\"> • </span><span style=\"font-weight: bold\">Key Pain Points:</span> Unexplained model performance drops, silent failures, alert fatigue, difficulty pinpointing    \n",
       "<span style=\"color: #808000; text-decoration-color: #808000; font-weight: bold\">   </span>root causes of issues (data vs. model), lack of visibility into model serving infrastructure.                   \n",
       "<span style=\"color: #808000; text-decoration-color: #808000; font-weight: bold\"> • </span><span style=\"font-weight: bold\">How they use Fiddler:</span>                                                                                           \n",
       "<span style=\"color: #808000; text-decoration-color: #808000; font-weight: bold\">    • </span>Set up and monitor real-time alerts for performance degradation, data drift, and concept drift.              \n",
       "<span style=\"color: #808000; text-decoration-color: #808000; font-weight: bold\">    • </span>Dashboard monitoring for overall model health, latency, and throughput.                                      \n",
       "<span style=\"color: #808000; text-decoration-color: #808000; font-weight: bold\">    • </span>Drill down into specific model issues identified by alerts.                                                  \n",
       "<span style=\"color: #808000; text-decoration-color: #808000; font-weight: bold\">    • </span>Integrate Fiddler alerts with existing ops dashboards (e.g., PagerDuty, Slack).                              \n",
       "<span style=\"color: #808000; text-decoration-color: #808000; font-weight: bold\">    • </span>Track resource utilization and serving metrics related to model inference.                                   \n",
       "<span style=\"color: #808000; text-decoration-color: #808000; font-weight: bold\"> • </span><span style=\"font-weight: bold\">Metrics they care about:</span> Model throughput, latency, error rates, data ingress/egress, alert frequency, overall  \n",
       "<span style=\"color: #808000; text-decoration-color: #808000; font-weight: bold\">   </span>system uptime, specific model performance metrics (e.g., F1-score, accuracy) <span style=\"font-style: italic\">after</span> an alert.                    \n",
       "\n",
       "<span style=\"color: #808000; text-decoration-color: #808000\">───────────────────────────────────────────────────────────────────────────────────────────────────────────────────</span>\n",
       "                                   <span style=\"font-weight: bold\">2. The Data Scientist (The \"Model Whisperer\")</span>                                   \n",
       "\n",
       "<span style=\"color: #808000; text-decoration-color: #808000; font-weight: bold\"> • </span><span style=\"font-weight: bold\">Role/Title:</span> Data Scientist, Senior Data Scientist, ML Scientist                                                 \n",
       "<span style=\"color: #808000; text-decoration-color: #808000; font-weight: bold\"> • </span><span style=\"font-weight: bold\">Primary Goal:</span> Understand why their models are performing as they are in the real world, identify the need for   \n",
       "<span style=\"color: #808000; text-decoration-color: #808000; font-weight: bold\">   </span>retraining, and debug model behavior.                                                                           \n",
       "<span style=\"color: #808000; text-decoration-color: #808000; font-weight: bold\"> • </span><span style=\"font-weight: bold\">Key Pain Points:</span> Models decaying over time (drift), unexpected model predictions, difficulty explaining model   \n",
       "<span style=\"color: #808000; text-decoration-color: #808000; font-weight: bold\">   </span>decisions to stakeholders, needing to manually re-evaluate models in production, blind spots once models are    \n",
       "<span style=\"color: #808000; text-decoration-color: #808000; font-weight: bold\">   </span>deployed.                                                                                                       \n",
       "<span style=\"color: #808000; text-decoration-color: #808000; font-weight: bold\"> • </span><span style=\"font-weight: bold\">How they use Fiddler:</span>                                                                                           \n",
       "<span style=\"color: #808000; text-decoration-color: #808000; font-weight: bold\">    • </span>Deep dive into data drift and concept drift reports to understand why model performance is changing.         \n",
       "<span style=\"color: #808000; text-decoration-color: #808000; font-weight: bold\">    • </span>Utilize explainability features (e.g., SHAP, LIME) to understand individual predictions or global model      \n",
       "<span style=\"color: #808000; text-decoration-color: #808000; font-weight: bold\">      </span>behavior.                                                                                                    \n",
       "<span style=\"color: #808000; text-decoration-color: #808000; font-weight: bold\">    • </span>Compare model performance against baselines and retrain triggers.                                            \n",
       "<span style=\"color: #808000; text-decoration-color: #808000; font-weight: bold\">    • </span>Debug specific model prediction failures by inspecting input features and explanations.                      \n",
       "<span style=\"color: #808000; text-decoration-color: #808000; font-weight: bold\">    • </span>Generate reports for model validation and re-training justification.                                         \n",
       "<span style=\"color: #808000; text-decoration-color: #808000; font-weight: bold\"> • </span><span style=\"font-weight: bold\">Metrics they care about:</span> Model accuracy, precision, recall, F1-score, AUC, specific fairness metrics, feature   \n",
       "<span style=\"color: #808000; text-decoration-color: #808000; font-weight: bold\">   </span>distribution shifts, concept drift scores, SHAP values, LIME explanations.                                      \n",
       "\n",
       "<span style=\"color: #808000; text-decoration-color: #808000\">───────────────────────────────────────────────────────────────────────────────────────────────────────────────────</span>\n",
       "                            <span style=\"font-weight: bold\">3. The AI Product Manager (The \"Business Value Maximizer\")</span>                             \n",
       "\n",
       "<span style=\"color: #808000; text-decoration-color: #808000; font-weight: bold\"> • </span><span style=\"font-weight: bold\">Role/Title:</span> AI Product Manager, ML Product Manager, Product Owner                                               \n",
       "<span style=\"color: #808000; text-decoration-color: #808000; font-weight: bold\"> • </span><span style=\"font-weight: bold\">Primary Goal:</span> Ensure the AI model is delivering the intended business value, understanding user impact, and     \n",
       "<span style=\"color: #808000; text-decoration-color: #808000; font-weight: bold\">   </span>identifying opportunities for improvement or new features.                                                      \n",
       "<span style=\"color: #808000; text-decoration-color: #808000; font-weight: bold\"> • </span><span style=\"font-weight: bold\">Key Pain Points:</span> Lack of clear understanding of model impact on business KPIs, difficulty communicating model   \n",
       "<span style=\"color: #808000; text-decoration-color: #808000; font-weight: bold\">   </span>behavior to non-technical stakeholders, unexpected user experiences driven by AI, inability to correlate model  \n",
       "<span style=\"color: #808000; text-decoration-color: #808000; font-weight: bold\">   </span>performance with business outcomes.                                                                             \n",
       "<span style=\"color: #808000; text-decoration-color: #808000; font-weight: bold\"> • </span><span style=\"font-weight: bold\">How they use Fiddler:</span>                                                                                           \n",
       "<span style=\"color: #808000; text-decoration-color: #808000; font-weight: bold\">    • </span>View high-level dashboards showcasing model performance tied to business metrics (e.g., click-through rates, \n",
       "<span style=\"color: #808000; text-decoration-color: #808000; font-weight: bold\">      </span>conversion rates, fraud detection rates).                                                                    \n",
       "<span style=\"color: #808000; text-decoration-color: #808000; font-weight: bold\">    • </span>Review explanations to understand common prediction patterns and user behavior.                              \n",
       "<span style=\"color: #808000; text-decoration-color: #808000; font-weight: bold\">    • </span>Receive summaries of model degradation or bias issues that might impact user experience or business          \n",
       "<span style=\"color: #808000; text-decoration-color: #808000; font-weight: bold\">      </span>objectives.                                                                                                  \n",
       "<span style=\"color: #808000; text-decoration-color: #808000; font-weight: bold\">    • </span>Use reports to justify resource allocation for model improvement or new AI initiatives.                      \n",
       "<span style=\"color: #808000; text-decoration-color: #808000; font-weight: bold\"> • </span><span style=\"font-weight: bold\">Metrics they care about:</span> Business KPIs influenced by the model, user engagement metrics, A/B test results (if   \n",
       "<span style=\"color: #808000; text-decoration-color: #808000; font-weight: bold\">   </span>applicable), high-level model performance trends, impact of bias/fairness issues on customer segments.          \n",
       "\n",
       "<span style=\"color: #808000; text-decoration-color: #808000\">───────────────────────────────────────────────────────────────────────────────────────────────────────────────────</span>\n",
       "                            <span style=\"font-weight: bold\">4. The Risk &amp; Compliance Officer (The \"Ethical AI Steward\")</span>                            \n",
       "\n",
       "<span style=\"color: #808000; text-decoration-color: #808000; font-weight: bold\"> • </span><span style=\"font-weight: bold\">Role/Title:</span> Risk Officer, Compliance Officer, Legal Counsel, Head of Responsible AI                             \n",
       "<span style=\"color: #808000; text-decoration-color: #808000; font-weight: bold\"> • </span><span style=\"font-weight: bold\">Primary Goal:</span> Ensure AI models are fair, transparent, explainable, and compliant with internal policies and     \n",
       "<span style=\"color: #808000; text-decoration-color: #808000; font-weight: bold\">   </span>external regulations (e.g., GDPR, CCPA, upcoming AI acts). Mitigate reputational and financial risks.           \n",
       "<span style=\"color: #808000; text-decoration-color: #808000; font-weight: bold\"> • </span><span style=\"font-weight: bold\">Key Pain Points:</span> Inability to prove model fairness, opaque model decision-making, difficulty auditing past model\n",
       "<span style=\"color: #808000; text-decoration-color: #808000; font-weight: bold\">   </span>predictions, lack of a clear trail for model governance, potential for discriminatory outcomes.                 \n",
       "<span style=\"color: #808000; text-decoration-color: #808000; font-weight: bold\"> • </span><span style=\"font-weight: bold\">How they use Fiddler:</span>                                                                                           \n",
       "<span style=\"color: #808000; text-decoration-color: #808000; font-weight: bold\">    • </span>Monitor fairness metrics across different demographic groups or sensitive attributes.                        \n",
       "<span style=\"color: #808000; text-decoration-color: #808000; font-weight: bold\">    • </span>Access and generate audit trails for individual model predictions and changes.                               \n",
       "<span style=\"color: #808000; text-decoration-color: #808000; font-weight: bold\">    • </span>Utilize explainability features to demonstrate why a decision was made for regulatory reviews.               \n",
       "<span style=\"color: #808000; text-decoration-color: #808000; font-weight: bold\">    • </span>Track and report on model bias over time.                                                                    \n",
       "<span style=\"color: #808000; text-decoration-color: #808000; font-weight: bold\">    • </span>Ensure compliance with explainability and data privacy requirements.                                         \n",
       "<span style=\"color: #808000; text-decoration-color: #808000; font-weight: bold\"> • </span><span style=\"font-weight: bold\">Metrics they care about:</span> Disparate impact ratio, equality of opportunity, demographic parity, group fairness    \n",
       "<span style=\"color: #808000; text-decoration-color: #808000; font-weight: bold\">   </span>metrics, explanation fidelity, data lineage, audit logs, model versioning.                                      \n",
       "\n",
       "<span style=\"color: #808000; text-decoration-color: #808000\">───────────────────────────────────────────────────────────────────────────────────────────────────────────────────</span>\n",
       "                          <span style=\"font-weight: bold\">5. The AI/ML Team Lead / Head of AI (The \"Strategic Overseer\")</span>                           \n",
       "\n",
       "<span style=\"color: #808000; text-decoration-color: #808000; font-weight: bold\"> • </span><span style=\"font-weight: bold\">Role/Title:</span> Head of AI/ML, Director of Data Science, VP of Machine Learning                                     \n",
       "<span style=\"color: #808000; text-decoration-color: #808000; font-weight: bold\"> • </span><span style=\"font-weight: bold\">Primary Goal:</span> Gain a holistic view of all deployed models, allocate resources effectively, assess the overall   \n",
       "<span style=\"color: #808000; text-decoration-color: #808000; font-weight: bold\">   </span>health of the AI portfolio, and make strategic decisions based on model performance and ROI.                    \n",
       "<span style=\"color: #808000; text-decoration-color: #808000; font-weight: bold\"> • </span><span style=\"font-weight: bold\">Key Pain Points:</span> Lack of a centralized view of model performance, difficulty identifying which models need      \n",
       "<span style=\"color: #808000; text-decoration-color: #808000; font-weight: bold\">   </span>immediate attention, inability to quantify the impact of MLOps efforts, resource contention across multiple     \n",
       "<span style=\"color: #808000; text-decoration-color: #808000; font-weight: bold\">   </span>model teams.                                                                                                    \n",
       "<span style=\"color: #808000; text-decoration-color: #808000; font-weight: bold\"> • </span><span style=\"font-weight: bold\">How they use Fiddler:</span>                                                                                           \n",
       "<span style=\"color: #808000; text-decoration-color: #808000; font-weight: bold\">    • </span>Overview dashboards displaying the status of all active models.                                              \n",
       "<span style=\"color: #808000; text-decoration-color: #808000; font-weight: bold\">    • </span>Receive high-level summaries of critical alerts and performance trends.                                      \n",
       "<span style=\"color: #808000; text-decoration-color: #808000; font-weight: bold\">    • </span>Identify which teams or models require more support or investigation.                                        \n",
       "<span style=\"color: #808000; text-decoration-color: #808000; font-weight: bold\">    • </span>Review consolidated reports on model ROI, risk exposure, and compliance posture.                             \n",
       "<span style=\"color: #808000; text-decoration-color: #808000; font-weight: bold\">    • </span>Use Fiddler's insights to prioritize new model development or existing model improvements.                   \n",
       "<span style=\"color: #808000; text-decoration-color: #808000; font-weight: bold\"> • </span><span style=\"font-weight: bold\">Metrics they care about:</span> Portfolio-level model health, number of active alerts, overall drift rates, cumulative \n",
       "<span style=\"color: #808000; text-decoration-color: #808000; font-weight: bold\">   </span>business impact, resource allocation trends, compliance status summary.                                         \n",
       "\n",
       "<span style=\"color: #808000; text-decoration-color: #808000\">───────────────────────────────────────────────────────────────────────────────────────────────────────────────────</span>\n",
       "These personas highlight the diverse needs that Fiddler addresses, spanning the entire lifecycle of AI models in   \n",
       "production – from the technical deep dives of an ML Ops Engineer to the strategic oversight of an AI Leader.       \n",
       "</pre>\n"
      ],
      "text/plain": [
       "Fiddler AI is a powerful platform for monitoring, explaining, and analyzing AI models in production. As such, the  \n",
       "user personas for Fiddler often span technical and non-technical roles, each with unique needs related to AI/ML    \n",
       "monitoring and observability.                                                                                      \n",
       "\n",
       "Here's a list of user personas who would be using Fiddler for AI/ML Monitoring and observability:                  \n",
       "\n",
       "\u001b[33m───────────────────────────────────────────────────────────────────────────────────────────────────────────────────\u001b[0m\n",
       "                               \u001b[1m1. The ML Ops Engineer (The \"Guardian of Production\")\u001b[0m                               \n",
       "\n",
       "\u001b[1;33m • \u001b[0m\u001b[1mRole/Title:\u001b[0m ML Ops Engineer, Production ML Engineer, Senior DevOps Engineer (with ML focus)                     \n",
       "\u001b[1;33m • \u001b[0m\u001b[1mPrimary Goal:\u001b[0m Ensure the continuous health, performance, and reliability of deployed AI models in production.   \n",
       "\u001b[1;33m   \u001b[0mMinimize downtime and quickly diagnose issues.                                                                  \n",
       "\u001b[1;33m • \u001b[0m\u001b[1mKey Pain Points:\u001b[0m Unexplained model performance drops, silent failures, alert fatigue, difficulty pinpointing    \n",
       "\u001b[1;33m   \u001b[0mroot causes of issues (data vs. model), lack of visibility into model serving infrastructure.                   \n",
       "\u001b[1;33m • \u001b[0m\u001b[1mHow they use Fiddler:\u001b[0m                                                                                           \n",
       "\u001b[1;33m   \u001b[0m\u001b[1;33m • \u001b[0mSet up and monitor real-time alerts for performance degradation, data drift, and concept drift.              \n",
       "\u001b[1;33m   \u001b[0m\u001b[1;33m • \u001b[0mDashboard monitoring for overall model health, latency, and throughput.                                      \n",
       "\u001b[1;33m   \u001b[0m\u001b[1;33m • \u001b[0mDrill down into specific model issues identified by alerts.                                                  \n",
       "\u001b[1;33m   \u001b[0m\u001b[1;33m • \u001b[0mIntegrate Fiddler alerts with existing ops dashboards (e.g., PagerDuty, Slack).                              \n",
       "\u001b[1;33m   \u001b[0m\u001b[1;33m • \u001b[0mTrack resource utilization and serving metrics related to model inference.                                   \n",
       "\u001b[1;33m • \u001b[0m\u001b[1mMetrics they care about:\u001b[0m Model throughput, latency, error rates, data ingress/egress, alert frequency, overall  \n",
       "\u001b[1;33m   \u001b[0msystem uptime, specific model performance metrics (e.g., F1-score, accuracy) \u001b[3mafter\u001b[0m an alert.                    \n",
       "\n",
       "\u001b[33m───────────────────────────────────────────────────────────────────────────────────────────────────────────────────\u001b[0m\n",
       "                                   \u001b[1m2. The Data Scientist (The \"Model Whisperer\")\u001b[0m                                   \n",
       "\n",
       "\u001b[1;33m • \u001b[0m\u001b[1mRole/Title:\u001b[0m Data Scientist, Senior Data Scientist, ML Scientist                                                 \n",
       "\u001b[1;33m • \u001b[0m\u001b[1mPrimary Goal:\u001b[0m Understand why their models are performing as they are in the real world, identify the need for   \n",
       "\u001b[1;33m   \u001b[0mretraining, and debug model behavior.                                                                           \n",
       "\u001b[1;33m • \u001b[0m\u001b[1mKey Pain Points:\u001b[0m Models decaying over time (drift), unexpected model predictions, difficulty explaining model   \n",
       "\u001b[1;33m   \u001b[0mdecisions to stakeholders, needing to manually re-evaluate models in production, blind spots once models are    \n",
       "\u001b[1;33m   \u001b[0mdeployed.                                                                                                       \n",
       "\u001b[1;33m • \u001b[0m\u001b[1mHow they use Fiddler:\u001b[0m                                                                                           \n",
       "\u001b[1;33m   \u001b[0m\u001b[1;33m • \u001b[0mDeep dive into data drift and concept drift reports to understand why model performance is changing.         \n",
       "\u001b[1;33m   \u001b[0m\u001b[1;33m • \u001b[0mUtilize explainability features (e.g., SHAP, LIME) to understand individual predictions or global model      \n",
       "\u001b[1;33m   \u001b[0m\u001b[1;33m   \u001b[0mbehavior.                                                                                                    \n",
       "\u001b[1;33m   \u001b[0m\u001b[1;33m • \u001b[0mCompare model performance against baselines and retrain triggers.                                            \n",
       "\u001b[1;33m   \u001b[0m\u001b[1;33m • \u001b[0mDebug specific model prediction failures by inspecting input features and explanations.                      \n",
       "\u001b[1;33m   \u001b[0m\u001b[1;33m • \u001b[0mGenerate reports for model validation and re-training justification.                                         \n",
       "\u001b[1;33m • \u001b[0m\u001b[1mMetrics they care about:\u001b[0m Model accuracy, precision, recall, F1-score, AUC, specific fairness metrics, feature   \n",
       "\u001b[1;33m   \u001b[0mdistribution shifts, concept drift scores, SHAP values, LIME explanations.                                      \n",
       "\n",
       "\u001b[33m───────────────────────────────────────────────────────────────────────────────────────────────────────────────────\u001b[0m\n",
       "                            \u001b[1m3. The AI Product Manager (The \"Business Value Maximizer\")\u001b[0m                             \n",
       "\n",
       "\u001b[1;33m • \u001b[0m\u001b[1mRole/Title:\u001b[0m AI Product Manager, ML Product Manager, Product Owner                                               \n",
       "\u001b[1;33m • \u001b[0m\u001b[1mPrimary Goal:\u001b[0m Ensure the AI model is delivering the intended business value, understanding user impact, and     \n",
       "\u001b[1;33m   \u001b[0midentifying opportunities for improvement or new features.                                                      \n",
       "\u001b[1;33m • \u001b[0m\u001b[1mKey Pain Points:\u001b[0m Lack of clear understanding of model impact on business KPIs, difficulty communicating model   \n",
       "\u001b[1;33m   \u001b[0mbehavior to non-technical stakeholders, unexpected user experiences driven by AI, inability to correlate model  \n",
       "\u001b[1;33m   \u001b[0mperformance with business outcomes.                                                                             \n",
       "\u001b[1;33m • \u001b[0m\u001b[1mHow they use Fiddler:\u001b[0m                                                                                           \n",
       "\u001b[1;33m   \u001b[0m\u001b[1;33m • \u001b[0mView high-level dashboards showcasing model performance tied to business metrics (e.g., click-through rates, \n",
       "\u001b[1;33m   \u001b[0m\u001b[1;33m   \u001b[0mconversion rates, fraud detection rates).                                                                    \n",
       "\u001b[1;33m   \u001b[0m\u001b[1;33m • \u001b[0mReview explanations to understand common prediction patterns and user behavior.                              \n",
       "\u001b[1;33m   \u001b[0m\u001b[1;33m • \u001b[0mReceive summaries of model degradation or bias issues that might impact user experience or business          \n",
       "\u001b[1;33m   \u001b[0m\u001b[1;33m   \u001b[0mobjectives.                                                                                                  \n",
       "\u001b[1;33m   \u001b[0m\u001b[1;33m • \u001b[0mUse reports to justify resource allocation for model improvement or new AI initiatives.                      \n",
       "\u001b[1;33m • \u001b[0m\u001b[1mMetrics they care about:\u001b[0m Business KPIs influenced by the model, user engagement metrics, A/B test results (if   \n",
       "\u001b[1;33m   \u001b[0mapplicable), high-level model performance trends, impact of bias/fairness issues on customer segments.          \n",
       "\n",
       "\u001b[33m───────────────────────────────────────────────────────────────────────────────────────────────────────────────────\u001b[0m\n",
       "                            \u001b[1m4. The Risk & Compliance Officer (The \"Ethical AI Steward\")\u001b[0m                            \n",
       "\n",
       "\u001b[1;33m • \u001b[0m\u001b[1mRole/Title:\u001b[0m Risk Officer, Compliance Officer, Legal Counsel, Head of Responsible AI                             \n",
       "\u001b[1;33m • \u001b[0m\u001b[1mPrimary Goal:\u001b[0m Ensure AI models are fair, transparent, explainable, and compliant with internal policies and     \n",
       "\u001b[1;33m   \u001b[0mexternal regulations (e.g., GDPR, CCPA, upcoming AI acts). Mitigate reputational and financial risks.           \n",
       "\u001b[1;33m • \u001b[0m\u001b[1mKey Pain Points:\u001b[0m Inability to prove model fairness, opaque model decision-making, difficulty auditing past model\n",
       "\u001b[1;33m   \u001b[0mpredictions, lack of a clear trail for model governance, potential for discriminatory outcomes.                 \n",
       "\u001b[1;33m • \u001b[0m\u001b[1mHow they use Fiddler:\u001b[0m                                                                                           \n",
       "\u001b[1;33m   \u001b[0m\u001b[1;33m • \u001b[0mMonitor fairness metrics across different demographic groups or sensitive attributes.                        \n",
       "\u001b[1;33m   \u001b[0m\u001b[1;33m • \u001b[0mAccess and generate audit trails for individual model predictions and changes.                               \n",
       "\u001b[1;33m   \u001b[0m\u001b[1;33m • \u001b[0mUtilize explainability features to demonstrate why a decision was made for regulatory reviews.               \n",
       "\u001b[1;33m   \u001b[0m\u001b[1;33m • \u001b[0mTrack and report on model bias over time.                                                                    \n",
       "\u001b[1;33m   \u001b[0m\u001b[1;33m • \u001b[0mEnsure compliance with explainability and data privacy requirements.                                         \n",
       "\u001b[1;33m • \u001b[0m\u001b[1mMetrics they care about:\u001b[0m Disparate impact ratio, equality of opportunity, demographic parity, group fairness    \n",
       "\u001b[1;33m   \u001b[0mmetrics, explanation fidelity, data lineage, audit logs, model versioning.                                      \n",
       "\n",
       "\u001b[33m───────────────────────────────────────────────────────────────────────────────────────────────────────────────────\u001b[0m\n",
       "                          \u001b[1m5. The AI/ML Team Lead / Head of AI (The \"Strategic Overseer\")\u001b[0m                           \n",
       "\n",
       "\u001b[1;33m • \u001b[0m\u001b[1mRole/Title:\u001b[0m Head of AI/ML, Director of Data Science, VP of Machine Learning                                     \n",
       "\u001b[1;33m • \u001b[0m\u001b[1mPrimary Goal:\u001b[0m Gain a holistic view of all deployed models, allocate resources effectively, assess the overall   \n",
       "\u001b[1;33m   \u001b[0mhealth of the AI portfolio, and make strategic decisions based on model performance and ROI.                    \n",
       "\u001b[1;33m • \u001b[0m\u001b[1mKey Pain Points:\u001b[0m Lack of a centralized view of model performance, difficulty identifying which models need      \n",
       "\u001b[1;33m   \u001b[0mimmediate attention, inability to quantify the impact of MLOps efforts, resource contention across multiple     \n",
       "\u001b[1;33m   \u001b[0mmodel teams.                                                                                                    \n",
       "\u001b[1;33m • \u001b[0m\u001b[1mHow they use Fiddler:\u001b[0m                                                                                           \n",
       "\u001b[1;33m   \u001b[0m\u001b[1;33m • \u001b[0mOverview dashboards displaying the status of all active models.                                              \n",
       "\u001b[1;33m   \u001b[0m\u001b[1;33m • \u001b[0mReceive high-level summaries of critical alerts and performance trends.                                      \n",
       "\u001b[1;33m   \u001b[0m\u001b[1;33m • \u001b[0mIdentify which teams or models require more support or investigation.                                        \n",
       "\u001b[1;33m   \u001b[0m\u001b[1;33m • \u001b[0mReview consolidated reports on model ROI, risk exposure, and compliance posture.                             \n",
       "\u001b[1;33m   \u001b[0m\u001b[1;33m • \u001b[0mUse Fiddler's insights to prioritize new model development or existing model improvements.                   \n",
       "\u001b[1;33m • \u001b[0m\u001b[1mMetrics they care about:\u001b[0m Portfolio-level model health, number of active alerts, overall drift rates, cumulative \n",
       "\u001b[1;33m   \u001b[0mbusiness impact, resource allocation trends, compliance status summary.                                         \n",
       "\n",
       "\u001b[33m───────────────────────────────────────────────────────────────────────────────────────────────────────────────────\u001b[0m\n",
       "These personas highlight the diverse needs that Fiddler addresses, spanning the entire lifecycle of AI models in   \n",
       "production – from the technical deep dives of an ML Ops Engineer to the strategic oversight of an AI Leader.       \n"
      ]
     },
     "metadata": {},
     "output_type": "display_data"
    }
   ],
   "source": [
    "print(resposne.text)"
   ]
  },
  {
   "cell_type": "code",
   "execution_count": 16,
   "metadata": {},
   "outputs": [],
   "source": [
    "class UserQueries(BaseModel):\n",
    "    queries: list[str]"
   ]
  },
  {
   "cell_type": "code",
   "execution_count": 17,
   "metadata": {},
   "outputs": [],
   "source": [
    "QS_TEMPLATE = \"\"\"Give me a list of {num_questions} queries that a user would want to ask FiddleBot about their models and projects in Fiddler.\n",
    "\n",
    "Fiddler has the following capabilities:\n",
    "- Monitor performance of ML models and generative AI applications\n",
    "- Protect your LLM and GenAI applications with Guardrails\n",
    "- Analyze model behavior to identify issues and opportunities\n",
    "- Improve AI systems through actionable insights\n",
    "\n",
    "Implementing Fiddler ML/LLM monitoring requires just three steps:\n",
    "1. Onboard your ML/LLM application to Fiddler by defining its inputs, outputs, and related metadata\n",
    "2. Publish your application data to Fiddler, typically the \"digital exhaust\" from your model serving platform\n",
    "3. Monitor performance through dashboards and alerts that track the metrics most important to your use case\n",
    "\n",
    "Fiddler automatically handles the complex work of generating metrics, detecting anomalies, and providing the visualizations you need to maintain high-quality ML applications.\n",
    "\n",
    "Fiddlebot aims to be a chat based UI to the Fiddler platform, where users can ask the bot to fetch information for them. It is limited to the preprod environment on Fiddler, so please keep that in mind.\n",
    "This is also an unoptimized version and the aim of having this internal dry-run is to ascertain where and how the agent is failing, along with usage patterns. This will better inform us when it comes to optimizing performance.\n",
    "There are 3 major components working under the hood.\n",
    "- Chatbot : Chat UI\n",
    "- Plan n Solve : Certain queries require multiple steps to be resolved. The PnS module aims to first generate a plan and solve each step.\n",
    "- MCP Server : Model Context Protocol Server. A set of tools that the agent can utilise in solving for the query. Runs the Fiddler python client under the hood.\n",
    "\n",
    "Please keep in mind that the bot is still a work in progress and failure is expected. The aim of this exercise is to catch how the agent fails when it is faced with ambiguous queries, queries with incomplete parameters (ex asking for model schema without providing project) and queries which are beyond the scope of the agent.\n",
    "\n",
    "FiddleBot has access the following capabilities via tools:\n",
    "- list all projects in fiddler\n",
    "- list all models in a project\n",
    "- get model schema\n",
    "- get model specs\n",
    "- list alert rules for a model\n",
    "- list triggered alerts for a rule\n",
    "- list all custom metrics for a model\n",
    "\n",
    "{condition}\n",
    "\"\"\""
   ]
  },
  {
   "cell_type": "code",
   "execution_count": 18,
   "metadata": {},
   "outputs": [],
   "source": [
    "AMBIGUOUS_CONDITION = \"\"\"The user is new to Fiddler and is not aware of its capabilities and what to ask for.\n",
    "Their questions are not specific and ambiguous and incomplete.\n",
    "\"\"\""
   ]
  },
  {
   "cell_type": "code",
   "execution_count": 19,
   "metadata": {},
   "outputs": [],
   "source": [
    "CONFLICTING_CONDITION = \"\"\"The user wants to test the Fiddler expert and asks questions with conflicting information and requirements\"\"\""
   ]
  },
  {
   "cell_type": "code",
   "execution_count": 20,
   "metadata": {},
   "outputs": [],
   "source": [
    "GOOD_CONDITION = \"\"\"The user is familiar with Fiddler and is aware of its capabilities and what to ask for.\n",
    "The questions that the user asks are specific and clear. There is no ambiguity in the questions.\n",
    "\"\"\""
   ]
  },
  {
   "cell_type": "code",
   "execution_count": 21,
   "metadata": {},
   "outputs": [],
   "source": [
    "response = gclient.models.generate_content(\n",
    "    model=\"gemini-2.5-flash\",\n",
    "    contents=QS_TEMPLATE.format(num_questions=40, condition=AMBIGUOUS_CONDITION),\n",
    "    config={\n",
    "        \"response_mime_type\": \"application/json\",\n",
    "        \"response_schema\": UserQueries\n",
    "    }\n",
    ")"
   ]
  },
  {
   "cell_type": "code",
   "execution_count": 22,
   "metadata": {},
   "outputs": [],
   "source": [
    "queries = response.parsed"
   ]
  },
  {
   "cell_type": "code",
   "execution_count": 23,
   "metadata": {},
   "outputs": [
    {
     "data": {
      "text/html": [
       "<pre style=\"white-space:pre;overflow-x:auto;line-height:normal;font-family:Menlo,'DejaVu Sans Mono',consolas,'Courier New',monospace\">What's going on in Fiddler?                                                                                        \n",
       "</pre>\n"
      ],
      "text/plain": [
       "What's going on in Fiddler?                                                                                        \n"
      ]
     },
     "metadata": {},
     "output_type": "display_data"
    },
    {
     "data": {
      "text/html": [
       "<pre style=\"white-space:pre;overflow-x:auto;line-height:normal;font-family:Menlo,'DejaVu Sans Mono',consolas,'Courier New',monospace\">Tell me about my models.                                                                                           \n",
       "</pre>\n"
      ],
      "text/plain": [
       "Tell me about my models.                                                                                           \n"
      ]
     },
     "metadata": {},
     "output_type": "display_data"
    },
    {
     "data": {
      "text/html": [
       "<pre style=\"white-space:pre;overflow-x:auto;line-height:normal;font-family:Menlo,'DejaVu Sans Mono',consolas,'Courier New',monospace\">Are there any active projects?                                                                                     \n",
       "</pre>\n"
      ],
      "text/plain": [
       "Are there any active projects?                                                                                     \n"
      ]
     },
     "metadata": {},
     "output_type": "display_data"
    },
    {
     "data": {
      "text/html": [
       "<pre style=\"white-space:pre;overflow-x:auto;line-height:normal;font-family:Menlo,'DejaVu Sans Mono',consolas,'Courier New',monospace\">Show me some models.                                                                                               \n",
       "</pre>\n"
      ],
      "text/plain": [
       "Show me some models.                                                                                               \n"
      ]
     },
     "metadata": {},
     "output_type": "display_data"
    },
    {
     "data": {
      "text/html": [
       "<pre style=\"white-space:pre;overflow-x:auto;line-height:normal;font-family:Menlo,'DejaVu Sans Mono',consolas,'Courier New',monospace\">What kind of data do you have for a model?                                                                         \n",
       "</pre>\n"
      ],
      "text/plain": [
       "What kind of data do you have for a model?                                                                         \n"
      ]
     },
     "metadata": {},
     "output_type": "display_data"
    },
    {
     "data": {
      "text/html": [
       "<pre style=\"white-space:pre;overflow-x:auto;line-height:normal;font-family:Menlo,'DejaVu Sans Mono',consolas,'Courier New',monospace\">Are there any problems?                                                                                            \n",
       "</pre>\n"
      ],
      "text/plain": [
       "Are there any problems?                                                                                            \n"
      ]
     },
     "metadata": {},
     "output_type": "display_data"
    },
    {
     "data": {
      "text/html": [
       "<pre style=\"white-space:pre;overflow-x:auto;line-height:normal;font-family:Menlo,'DejaVu Sans Mono',consolas,'Courier New',monospace\">List alerts.                                                                                                       \n",
       "</pre>\n"
      ],
      "text/plain": [
       "List alerts.                                                                                                       \n"
      ]
     },
     "metadata": {},
     "output_type": "display_data"
    },
    {
     "data": {
      "text/html": [
       "<pre style=\"white-space:pre;overflow-x:auto;line-height:normal;font-family:Menlo,'DejaVu Sans Mono',consolas,'Courier New',monospace\">What are the projects I have?                                                                                      \n",
       "</pre>\n"
      ],
      "text/plain": [
       "What are the projects I have?                                                                                      \n"
      ]
     },
     "metadata": {},
     "output_type": "display_data"
    },
    {
     "data": {
      "text/html": [
       "<pre style=\"white-space:pre;overflow-x:auto;line-height:normal;font-family:Menlo,'DejaVu Sans Mono',consolas,'Courier New',monospace\">Can you show me the models?                                                                                        \n",
       "</pre>\n"
      ],
      "text/plain": [
       "Can you show me the models?                                                                                        \n"
      ]
     },
     "metadata": {},
     "output_type": "display_data"
    },
    {
     "data": {
      "text/html": [
       "<pre style=\"white-space:pre;overflow-x:auto;line-height:normal;font-family:Menlo,'DejaVu Sans Mono',consolas,'Courier New',monospace\">What's the schema for a model?                                                                                     \n",
       "</pre>\n"
      ],
      "text/plain": [
       "What's the schema for a model?                                                                                     \n"
      ]
     },
     "metadata": {},
     "output_type": "display_data"
    },
    {
     "data": {
      "text/html": [
       "<pre style=\"white-space:pre;overflow-x:auto;line-height:normal;font-family:Menlo,'DejaVu Sans Mono',consolas,'Courier New',monospace\">Give me details about a model.                                                                                     \n",
       "</pre>\n"
      ],
      "text/plain": [
       "Give me details about a model.                                                                                     \n"
      ]
     },
     "metadata": {},
     "output_type": "display_data"
    },
    {
     "data": {
      "text/html": [
       "<pre style=\"white-space:pre;overflow-x:auto;line-height:normal;font-family:Menlo,'DejaVu Sans Mono',consolas,'Courier New',monospace\">What are the metrics?                                                                                              \n",
       "</pre>\n"
      ],
      "text/plain": [
       "What are the metrics?                                                                                              \n"
      ]
     },
     "metadata": {},
     "output_type": "display_data"
    },
    {
     "data": {
      "text/html": [
       "<pre style=\"white-space:pre;overflow-x:auto;line-height:normal;font-family:Menlo,'DejaVu Sans Mono',consolas,'Courier New',monospace\">How are my models performing?                                                                                      \n",
       "</pre>\n"
      ],
      "text/plain": [
       "How are my models performing?                                                                                      \n"
      ]
     },
     "metadata": {},
     "output_type": "display_data"
    },
    {
     "data": {
      "text/html": [
       "<pre style=\"white-space:pre;overflow-x:auto;line-height:normal;font-family:Menlo,'DejaVu Sans Mono',consolas,'Courier New',monospace\">Show me everything you know.                                                                                       \n",
       "</pre>\n"
      ],
      "text/plain": [
       "Show me everything you know.                                                                                       \n"
      ]
     },
     "metadata": {},
     "output_type": "display_data"
    },
    {
     "data": {
      "text/html": [
       "<pre style=\"white-space:pre;overflow-x:auto;line-height:normal;font-family:Menlo,'DejaVu Sans Mono',consolas,'Courier New',monospace\">What are the rules for alerts?                                                                                     \n",
       "</pre>\n"
      ],
      "text/plain": [
       "What are the rules for alerts?                                                                                     \n"
      ]
     },
     "metadata": {},
     "output_type": "display_data"
    },
    {
     "data": {
      "text/html": [
       "<pre style=\"white-space:pre;overflow-x:auto;line-height:normal;font-family:Menlo,'DejaVu Sans Mono',consolas,'Courier New',monospace\">Are any alerts currently triggered?                                                                                \n",
       "</pre>\n"
      ],
      "text/plain": [
       "Are any alerts currently triggered?                                                                                \n"
      ]
     },
     "metadata": {},
     "output_type": "display_data"
    },
    {
     "data": {
      "text/html": [
       "<pre style=\"white-space:pre;overflow-x:auto;line-height:normal;font-family:Menlo,'DejaVu Sans Mono',consolas,'Courier New',monospace\">I need some model information.                                                                                     \n",
       "</pre>\n"
      ],
      "text/plain": [
       "I need some model information.                                                                                     \n"
      ]
     },
     "metadata": {},
     "output_type": "display_data"
    },
    {
     "data": {
      "text/html": [
       "<pre style=\"white-space:pre;overflow-x:auto;line-height:normal;font-family:Menlo,'DejaVu Sans Mono',consolas,'Courier New',monospace\">What are the specs?                                                                                                \n",
       "</pre>\n"
      ],
      "text/plain": [
       "What are the specs?                                                                                                \n"
      ]
     },
     "metadata": {},
     "output_type": "display_data"
    },
    {
     "data": {
      "text/html": [
       "<pre style=\"white-space:pre;overflow-x:auto;line-height:normal;font-family:Menlo,'DejaVu Sans Mono',consolas,'Courier New',monospace\">Show me custom metrics.                                                                                            \n",
       "</pre>\n"
      ],
      "text/plain": [
       "Show me custom metrics.                                                                                            \n"
      ]
     },
     "metadata": {},
     "output_type": "display_data"
    },
    {
     "data": {
      "text/html": [
       "<pre style=\"white-space:pre;overflow-x:auto;line-height:normal;font-family:Menlo,'DejaVu Sans Mono',consolas,'Courier New',monospace\">How do I improve my models?                                                                                        \n",
       "</pre>\n"
      ],
      "text/plain": [
       "How do I improve my models?                                                                                        \n"
      ]
     },
     "metadata": {},
     "output_type": "display_data"
    },
    {
     "data": {
      "text/html": [
       "<pre style=\"white-space:pre;overflow-x:auto;line-height:normal;font-family:Menlo,'DejaVu Sans Mono',consolas,'Courier New',monospace\">Can you analyze model behavior for me?                                                                             \n",
       "</pre>\n"
      ],
      "text/plain": [
       "Can you analyze model behavior for me?                                                                             \n"
      ]
     },
     "metadata": {},
     "output_type": "display_data"
    },
    {
     "data": {
      "text/html": [
       "<pre style=\"white-space:pre;overflow-x:auto;line-height:normal;font-family:Menlo,'DejaVu Sans Mono',consolas,'Courier New',monospace\">What models are running in preprod?                                                                                \n",
       "</pre>\n"
      ],
      "text/plain": [
       "What models are running in preprod?                                                                                \n"
      ]
     },
     "metadata": {},
     "output_type": "display_data"
    },
    {
     "data": {
      "text/html": [
       "<pre style=\"white-space:pre;overflow-x:auto;line-height:normal;font-family:Menlo,'DejaVu Sans Mono',consolas,'Courier New',monospace\">Tell me about the project I'm in.                                                                                  \n",
       "</pre>\n"
      ],
      "text/plain": [
       "Tell me about the project I'm in.                                                                                  \n"
      ]
     },
     "metadata": {},
     "output_type": "display_data"
    },
    {
     "data": {
      "text/html": [
       "<pre style=\"white-space:pre;overflow-x:auto;line-height:normal;font-family:Menlo,'DejaVu Sans Mono',consolas,'Courier New',monospace\">Are there any issues with my GenAI applications?                                                                   \n",
       "</pre>\n"
      ],
      "text/plain": [
       "Are there any issues with my GenAI applications?                                                                   \n"
      ]
     },
     "metadata": {},
     "output_type": "display_data"
    },
    {
     "data": {
      "text/html": [
       "<pre style=\"white-space:pre;overflow-x:auto;line-height:normal;font-family:Menlo,'DejaVu Sans Mono',consolas,'Courier New',monospace\">Can you help me protect my LLM?                                                                                    \n",
       "</pre>\n"
      ],
      "text/plain": [
       "Can you help me protect my LLM?                                                                                    \n"
      ]
     },
     "metadata": {},
     "output_type": "display_data"
    },
    {
     "data": {
      "text/html": [
       "<pre style=\"white-space:pre;overflow-x:auto;line-height:normal;font-family:Menlo,'DejaVu Sans Mono',consolas,'Courier New',monospace\">What can you do for me?                                                                                            \n",
       "</pre>\n"
      ],
      "text/plain": [
       "What can you do for me?                                                                                            \n"
      ]
     },
     "metadata": {},
     "output_type": "display_data"
    },
    {
     "data": {
      "text/html": [
       "<pre style=\"white-space:pre;overflow-x:auto;line-height:normal;font-family:Menlo,'DejaVu Sans Mono',consolas,'Courier New',monospace\">Where are my models located?                                                                                       \n",
       "</pre>\n"
      ],
      "text/plain": [
       "Where are my models located?                                                                                       \n"
      ]
     },
     "metadata": {},
     "output_type": "display_data"
    },
    {
     "data": {
      "text/html": [
       "<pre style=\"white-space:pre;overflow-x:auto;line-height:normal;font-family:Menlo,'DejaVu Sans Mono',consolas,'Courier New',monospace\">What's the status of my models?                                                                                    \n",
       "</pre>\n"
      ],
      "text/plain": [
       "What's the status of my models?                                                                                    \n"
      ]
     },
     "metadata": {},
     "output_type": "display_data"
    },
    {
     "data": {
      "text/html": [
       "<pre style=\"white-space:pre;overflow-x:auto;line-height:normal;font-family:Menlo,'DejaVu Sans Mono',consolas,'Courier New',monospace\">I want to see the model details.                                                                                   \n",
       "</pre>\n"
      ],
      "text/plain": [
       "I want to see the model details.                                                                                   \n"
      ]
     },
     "metadata": {},
     "output_type": "display_data"
    },
    {
     "data": {
      "text/html": [
       "<pre style=\"white-space:pre;overflow-x:auto;line-height:normal;font-family:Menlo,'DejaVu Sans Mono',consolas,'Courier New',monospace\">List all the stuff.                                                                                                \n",
       "</pre>\n"
      ],
      "text/plain": [
       "List all the stuff.                                                                                                \n"
      ]
     },
     "metadata": {},
     "output_type": "display_data"
    },
    {
     "data": {
      "text/html": [
       "<pre style=\"white-space:pre;overflow-x:auto;line-height:normal;font-family:Menlo,'DejaVu Sans Mono',consolas,'Courier New',monospace\">What are the key metrics?                                                                                          \n",
       "</pre>\n"
      ],
      "text/plain": [
       "What are the key metrics?                                                                                          \n"
      ]
     },
     "metadata": {},
     "output_type": "display_data"
    },
    {
     "data": {
      "text/html": [
       "<pre style=\"white-space:pre;overflow-x:auto;line-height:normal;font-family:Menlo,'DejaVu Sans Mono',consolas,'Courier New',monospace\">What's wrong with the performance?                                                                                 \n",
       "</pre>\n"
      ],
      "text/plain": [
       "What's wrong with the performance?                                                                                 \n"
      ]
     },
     "metadata": {},
     "output_type": "display_data"
    },
    {
     "data": {
      "text/html": [
       "<pre style=\"white-space:pre;overflow-x:auto;line-height:normal;font-family:Menlo,'DejaVu Sans Mono',consolas,'Courier New',monospace\">How do I identify issues?                                                                                          \n",
       "</pre>\n"
      ],
      "text/plain": [
       "How do I identify issues?                                                                                          \n"
      ]
     },
     "metadata": {},
     "output_type": "display_data"
    },
    {
     "data": {
      "text/html": [
       "<pre style=\"white-space:pre;overflow-x:auto;line-height:normal;font-family:Menlo,'DejaVu Sans Mono',consolas,'Courier New',monospace\">Can you show me the outputs?                                                                                       \n",
       "</pre>\n"
      ],
      "text/plain": [
       "Can you show me the outputs?                                                                                       \n"
      ]
     },
     "metadata": {},
     "output_type": "display_data"
    },
    {
     "data": {
      "text/html": [
       "<pre style=\"white-space:pre;overflow-x:auto;line-height:normal;font-family:Menlo,'DejaVu Sans Mono',consolas,'Courier New',monospace\">What about the inputs?                                                                                             \n",
       "</pre>\n"
      ],
      "text/plain": [
       "What about the inputs?                                                                                             \n"
      ]
     },
     "metadata": {},
     "output_type": "display_data"
    },
    {
     "data": {
      "text/html": [
       "<pre style=\"white-space:pre;overflow-x:auto;line-height:normal;font-family:Menlo,'DejaVu Sans Mono',consolas,'Courier New',monospace\">Are there any recommended actions?                                                                                 \n",
       "</pre>\n"
      ],
      "text/plain": [
       "Are there any recommended actions?                                                                                 \n"
      ]
     },
     "metadata": {},
     "output_type": "display_data"
    },
    {
     "data": {
      "text/html": [
       "<pre style=\"white-space:pre;overflow-x:auto;line-height:normal;font-family:Menlo,'DejaVu Sans Mono',consolas,'Courier New',monospace\">What kind of guardrails are in place?                                                                              \n",
       "</pre>\n"
      ],
      "text/plain": [
       "What kind of guardrails are in place?                                                                              \n"
      ]
     },
     "metadata": {},
     "output_type": "display_data"
    },
    {
     "data": {
      "text/html": [
       "<pre style=\"white-space:pre;overflow-x:auto;line-height:normal;font-family:Menlo,'DejaVu Sans Mono',consolas,'Courier New',monospace\">Show me a summary.                                                                                                 \n",
       "</pre>\n"
      ],
      "text/plain": [
       "Show me a summary.                                                                                                 \n"
      ]
     },
     "metadata": {},
     "output_type": "display_data"
    },
    {
     "data": {
      "text/html": [
       "<pre style=\"white-space:pre;overflow-x:auto;line-height:normal;font-family:Menlo,'DejaVu Sans Mono',consolas,'Courier New',monospace\">What's the most important information?                                                                             \n",
       "</pre>\n"
      ],
      "text/plain": [
       "What's the most important information?                                                                             \n"
      ]
     },
     "metadata": {},
     "output_type": "display_data"
    },
    {
     "data": {
      "text/html": [
       "<pre style=\"white-space:pre;overflow-x:auto;line-height:normal;font-family:Menlo,'DejaVu Sans Mono',consolas,'Courier New',monospace\">Can you tell me about the model called 'production_model'?                                                         \n",
       "</pre>\n"
      ],
      "text/plain": [
       "Can you tell me about the model called 'production_model'?                                                         \n"
      ]
     },
     "metadata": {},
     "output_type": "display_data"
    }
   ],
   "source": [
    "print_questions(response.parsed)"
   ]
  },
  {
   "cell_type": "code",
   "execution_count": 24,
   "metadata": {},
   "outputs": [
    {
     "data": {
      "text/html": [
       "<pre style=\"white-space:pre;overflow-x:auto;line-height:normal;font-family:Menlo,'DejaVu Sans Mono',consolas,'Courier New',monospace\">What's going on in Fiddler?                                                                                        \n",
       "</pre>\n"
      ],
      "text/plain": [
       "What's going on in Fiddler?                                                                                        \n"
      ]
     },
     "metadata": {},
     "output_type": "display_data"
    },
    {
     "data": {
      "text/html": [
       "<pre style=\"white-space:pre;overflow-x:auto;line-height:normal;font-family:Menlo,'DejaVu Sans Mono',consolas,'Courier New',monospace\">Tell me about my models.                                                                                           \n",
       "</pre>\n"
      ],
      "text/plain": [
       "Tell me about my models.                                                                                           \n"
      ]
     },
     "metadata": {},
     "output_type": "display_data"
    },
    {
     "data": {
      "text/html": [
       "<pre style=\"white-space:pre;overflow-x:auto;line-height:normal;font-family:Menlo,'DejaVu Sans Mono',consolas,'Courier New',monospace\">Are there any active projects?                                                                                     \n",
       "</pre>\n"
      ],
      "text/plain": [
       "Are there any active projects?                                                                                     \n"
      ]
     },
     "metadata": {},
     "output_type": "display_data"
    },
    {
     "data": {
      "text/html": [
       "<pre style=\"white-space:pre;overflow-x:auto;line-height:normal;font-family:Menlo,'DejaVu Sans Mono',consolas,'Courier New',monospace\">Show me some models.                                                                                               \n",
       "</pre>\n"
      ],
      "text/plain": [
       "Show me some models.                                                                                               \n"
      ]
     },
     "metadata": {},
     "output_type": "display_data"
    },
    {
     "data": {
      "text/html": [
       "<pre style=\"white-space:pre;overflow-x:auto;line-height:normal;font-family:Menlo,'DejaVu Sans Mono',consolas,'Courier New',monospace\">What kind of data do you have for a model?                                                                         \n",
       "</pre>\n"
      ],
      "text/plain": [
       "What kind of data do you have for a model?                                                                         \n"
      ]
     },
     "metadata": {},
     "output_type": "display_data"
    },
    {
     "data": {
      "text/html": [
       "<pre style=\"white-space:pre;overflow-x:auto;line-height:normal;font-family:Menlo,'DejaVu Sans Mono',consolas,'Courier New',monospace\">Are there any problems?                                                                                            \n",
       "</pre>\n"
      ],
      "text/plain": [
       "Are there any problems?                                                                                            \n"
      ]
     },
     "metadata": {},
     "output_type": "display_data"
    },
    {
     "data": {
      "text/html": [
       "<pre style=\"white-space:pre;overflow-x:auto;line-height:normal;font-family:Menlo,'DejaVu Sans Mono',consolas,'Courier New',monospace\">List alerts.                                                                                                       \n",
       "</pre>\n"
      ],
      "text/plain": [
       "List alerts.                                                                                                       \n"
      ]
     },
     "metadata": {},
     "output_type": "display_data"
    },
    {
     "data": {
      "text/html": [
       "<pre style=\"white-space:pre;overflow-x:auto;line-height:normal;font-family:Menlo,'DejaVu Sans Mono',consolas,'Courier New',monospace\">What are the projects I have?                                                                                      \n",
       "</pre>\n"
      ],
      "text/plain": [
       "What are the projects I have?                                                                                      \n"
      ]
     },
     "metadata": {},
     "output_type": "display_data"
    },
    {
     "data": {
      "text/html": [
       "<pre style=\"white-space:pre;overflow-x:auto;line-height:normal;font-family:Menlo,'DejaVu Sans Mono',consolas,'Courier New',monospace\">Can you show me the models?                                                                                        \n",
       "</pre>\n"
      ],
      "text/plain": [
       "Can you show me the models?                                                                                        \n"
      ]
     },
     "metadata": {},
     "output_type": "display_data"
    },
    {
     "data": {
      "text/html": [
       "<pre style=\"white-space:pre;overflow-x:auto;line-height:normal;font-family:Menlo,'DejaVu Sans Mono',consolas,'Courier New',monospace\">What's the schema for a model?                                                                                     \n",
       "</pre>\n"
      ],
      "text/plain": [
       "What's the schema for a model?                                                                                     \n"
      ]
     },
     "metadata": {},
     "output_type": "display_data"
    },
    {
     "data": {
      "text/html": [
       "<pre style=\"white-space:pre;overflow-x:auto;line-height:normal;font-family:Menlo,'DejaVu Sans Mono',consolas,'Courier New',monospace\">Give me details about a model.                                                                                     \n",
       "</pre>\n"
      ],
      "text/plain": [
       "Give me details about a model.                                                                                     \n"
      ]
     },
     "metadata": {},
     "output_type": "display_data"
    },
    {
     "data": {
      "text/html": [
       "<pre style=\"white-space:pre;overflow-x:auto;line-height:normal;font-family:Menlo,'DejaVu Sans Mono',consolas,'Courier New',monospace\">What are the metrics?                                                                                              \n",
       "</pre>\n"
      ],
      "text/plain": [
       "What are the metrics?                                                                                              \n"
      ]
     },
     "metadata": {},
     "output_type": "display_data"
    },
    {
     "data": {
      "text/html": [
       "<pre style=\"white-space:pre;overflow-x:auto;line-height:normal;font-family:Menlo,'DejaVu Sans Mono',consolas,'Courier New',monospace\">How are my models performing?                                                                                      \n",
       "</pre>\n"
      ],
      "text/plain": [
       "How are my models performing?                                                                                      \n"
      ]
     },
     "metadata": {},
     "output_type": "display_data"
    },
    {
     "data": {
      "text/html": [
       "<pre style=\"white-space:pre;overflow-x:auto;line-height:normal;font-family:Menlo,'DejaVu Sans Mono',consolas,'Courier New',monospace\">Show me everything you know.                                                                                       \n",
       "</pre>\n"
      ],
      "text/plain": [
       "Show me everything you know.                                                                                       \n"
      ]
     },
     "metadata": {},
     "output_type": "display_data"
    },
    {
     "data": {
      "text/html": [
       "<pre style=\"white-space:pre;overflow-x:auto;line-height:normal;font-family:Menlo,'DejaVu Sans Mono',consolas,'Courier New',monospace\">What are the rules for alerts?                                                                                     \n",
       "</pre>\n"
      ],
      "text/plain": [
       "What are the rules for alerts?                                                                                     \n"
      ]
     },
     "metadata": {},
     "output_type": "display_data"
    },
    {
     "data": {
      "text/html": [
       "<pre style=\"white-space:pre;overflow-x:auto;line-height:normal;font-family:Menlo,'DejaVu Sans Mono',consolas,'Courier New',monospace\">Are any alerts currently triggered?                                                                                \n",
       "</pre>\n"
      ],
      "text/plain": [
       "Are any alerts currently triggered?                                                                                \n"
      ]
     },
     "metadata": {},
     "output_type": "display_data"
    },
    {
     "data": {
      "text/html": [
       "<pre style=\"white-space:pre;overflow-x:auto;line-height:normal;font-family:Menlo,'DejaVu Sans Mono',consolas,'Courier New',monospace\">I need some model information.                                                                                     \n",
       "</pre>\n"
      ],
      "text/plain": [
       "I need some model information.                                                                                     \n"
      ]
     },
     "metadata": {},
     "output_type": "display_data"
    },
    {
     "data": {
      "text/html": [
       "<pre style=\"white-space:pre;overflow-x:auto;line-height:normal;font-family:Menlo,'DejaVu Sans Mono',consolas,'Courier New',monospace\">What are the specs?                                                                                                \n",
       "</pre>\n"
      ],
      "text/plain": [
       "What are the specs?                                                                                                \n"
      ]
     },
     "metadata": {},
     "output_type": "display_data"
    },
    {
     "data": {
      "text/html": [
       "<pre style=\"white-space:pre;overflow-x:auto;line-height:normal;font-family:Menlo,'DejaVu Sans Mono',consolas,'Courier New',monospace\">Show me custom metrics.                                                                                            \n",
       "</pre>\n"
      ],
      "text/plain": [
       "Show me custom metrics.                                                                                            \n"
      ]
     },
     "metadata": {},
     "output_type": "display_data"
    },
    {
     "data": {
      "text/html": [
       "<pre style=\"white-space:pre;overflow-x:auto;line-height:normal;font-family:Menlo,'DejaVu Sans Mono',consolas,'Courier New',monospace\">How do I improve my models?                                                                                        \n",
       "</pre>\n"
      ],
      "text/plain": [
       "How do I improve my models?                                                                                        \n"
      ]
     },
     "metadata": {},
     "output_type": "display_data"
    },
    {
     "data": {
      "text/html": [
       "<pre style=\"white-space:pre;overflow-x:auto;line-height:normal;font-family:Menlo,'DejaVu Sans Mono',consolas,'Courier New',monospace\">Can you analyze model behavior for me?                                                                             \n",
       "</pre>\n"
      ],
      "text/plain": [
       "Can you analyze model behavior for me?                                                                             \n"
      ]
     },
     "metadata": {},
     "output_type": "display_data"
    },
    {
     "data": {
      "text/html": [
       "<pre style=\"white-space:pre;overflow-x:auto;line-height:normal;font-family:Menlo,'DejaVu Sans Mono',consolas,'Courier New',monospace\">What models are running in preprod?                                                                                \n",
       "</pre>\n"
      ],
      "text/plain": [
       "What models are running in preprod?                                                                                \n"
      ]
     },
     "metadata": {},
     "output_type": "display_data"
    },
    {
     "data": {
      "text/html": [
       "<pre style=\"white-space:pre;overflow-x:auto;line-height:normal;font-family:Menlo,'DejaVu Sans Mono',consolas,'Courier New',monospace\">Tell me about the project I'm in.                                                                                  \n",
       "</pre>\n"
      ],
      "text/plain": [
       "Tell me about the project I'm in.                                                                                  \n"
      ]
     },
     "metadata": {},
     "output_type": "display_data"
    },
    {
     "data": {
      "text/html": [
       "<pre style=\"white-space:pre;overflow-x:auto;line-height:normal;font-family:Menlo,'DejaVu Sans Mono',consolas,'Courier New',monospace\">Are there any issues with my GenAI applications?                                                                   \n",
       "</pre>\n"
      ],
      "text/plain": [
       "Are there any issues with my GenAI applications?                                                                   \n"
      ]
     },
     "metadata": {},
     "output_type": "display_data"
    },
    {
     "data": {
      "text/html": [
       "<pre style=\"white-space:pre;overflow-x:auto;line-height:normal;font-family:Menlo,'DejaVu Sans Mono',consolas,'Courier New',monospace\">Can you help me protect my LLM?                                                                                    \n",
       "</pre>\n"
      ],
      "text/plain": [
       "Can you help me protect my LLM?                                                                                    \n"
      ]
     },
     "metadata": {},
     "output_type": "display_data"
    },
    {
     "data": {
      "text/html": [
       "<pre style=\"white-space:pre;overflow-x:auto;line-height:normal;font-family:Menlo,'DejaVu Sans Mono',consolas,'Courier New',monospace\">What can you do for me?                                                                                            \n",
       "</pre>\n"
      ],
      "text/plain": [
       "What can you do for me?                                                                                            \n"
      ]
     },
     "metadata": {},
     "output_type": "display_data"
    },
    {
     "data": {
      "text/html": [
       "<pre style=\"white-space:pre;overflow-x:auto;line-height:normal;font-family:Menlo,'DejaVu Sans Mono',consolas,'Courier New',monospace\">Where are my models located?                                                                                       \n",
       "</pre>\n"
      ],
      "text/plain": [
       "Where are my models located?                                                                                       \n"
      ]
     },
     "metadata": {},
     "output_type": "display_data"
    },
    {
     "data": {
      "text/html": [
       "<pre style=\"white-space:pre;overflow-x:auto;line-height:normal;font-family:Menlo,'DejaVu Sans Mono',consolas,'Courier New',monospace\">What's the status of my models?                                                                                    \n",
       "</pre>\n"
      ],
      "text/plain": [
       "What's the status of my models?                                                                                    \n"
      ]
     },
     "metadata": {},
     "output_type": "display_data"
    },
    {
     "data": {
      "text/html": [
       "<pre style=\"white-space:pre;overflow-x:auto;line-height:normal;font-family:Menlo,'DejaVu Sans Mono',consolas,'Courier New',monospace\">I want to see the model details.                                                                                   \n",
       "</pre>\n"
      ],
      "text/plain": [
       "I want to see the model details.                                                                                   \n"
      ]
     },
     "metadata": {},
     "output_type": "display_data"
    },
    {
     "data": {
      "text/html": [
       "<pre style=\"white-space:pre;overflow-x:auto;line-height:normal;font-family:Menlo,'DejaVu Sans Mono',consolas,'Courier New',monospace\">List all the stuff.                                                                                                \n",
       "</pre>\n"
      ],
      "text/plain": [
       "List all the stuff.                                                                                                \n"
      ]
     },
     "metadata": {},
     "output_type": "display_data"
    },
    {
     "data": {
      "text/html": [
       "<pre style=\"white-space:pre;overflow-x:auto;line-height:normal;font-family:Menlo,'DejaVu Sans Mono',consolas,'Courier New',monospace\">What are the key metrics?                                                                                          \n",
       "</pre>\n"
      ],
      "text/plain": [
       "What are the key metrics?                                                                                          \n"
      ]
     },
     "metadata": {},
     "output_type": "display_data"
    },
    {
     "data": {
      "text/html": [
       "<pre style=\"white-space:pre;overflow-x:auto;line-height:normal;font-family:Menlo,'DejaVu Sans Mono',consolas,'Courier New',monospace\">What's wrong with the performance?                                                                                 \n",
       "</pre>\n"
      ],
      "text/plain": [
       "What's wrong with the performance?                                                                                 \n"
      ]
     },
     "metadata": {},
     "output_type": "display_data"
    },
    {
     "data": {
      "text/html": [
       "<pre style=\"white-space:pre;overflow-x:auto;line-height:normal;font-family:Menlo,'DejaVu Sans Mono',consolas,'Courier New',monospace\">How do I identify issues?                                                                                          \n",
       "</pre>\n"
      ],
      "text/plain": [
       "How do I identify issues?                                                                                          \n"
      ]
     },
     "metadata": {},
     "output_type": "display_data"
    },
    {
     "data": {
      "text/html": [
       "<pre style=\"white-space:pre;overflow-x:auto;line-height:normal;font-family:Menlo,'DejaVu Sans Mono',consolas,'Courier New',monospace\">Can you show me the outputs?                                                                                       \n",
       "</pre>\n"
      ],
      "text/plain": [
       "Can you show me the outputs?                                                                                       \n"
      ]
     },
     "metadata": {},
     "output_type": "display_data"
    },
    {
     "data": {
      "text/html": [
       "<pre style=\"white-space:pre;overflow-x:auto;line-height:normal;font-family:Menlo,'DejaVu Sans Mono',consolas,'Courier New',monospace\">What about the inputs?                                                                                             \n",
       "</pre>\n"
      ],
      "text/plain": [
       "What about the inputs?                                                                                             \n"
      ]
     },
     "metadata": {},
     "output_type": "display_data"
    },
    {
     "data": {
      "text/html": [
       "<pre style=\"white-space:pre;overflow-x:auto;line-height:normal;font-family:Menlo,'DejaVu Sans Mono',consolas,'Courier New',monospace\">Are there any recommended actions?                                                                                 \n",
       "</pre>\n"
      ],
      "text/plain": [
       "Are there any recommended actions?                                                                                 \n"
      ]
     },
     "metadata": {},
     "output_type": "display_data"
    },
    {
     "data": {
      "text/html": [
       "<pre style=\"white-space:pre;overflow-x:auto;line-height:normal;font-family:Menlo,'DejaVu Sans Mono',consolas,'Courier New',monospace\">What kind of guardrails are in place?                                                                              \n",
       "</pre>\n"
      ],
      "text/plain": [
       "What kind of guardrails are in place?                                                                              \n"
      ]
     },
     "metadata": {},
     "output_type": "display_data"
    },
    {
     "data": {
      "text/html": [
       "<pre style=\"white-space:pre;overflow-x:auto;line-height:normal;font-family:Menlo,'DejaVu Sans Mono',consolas,'Courier New',monospace\">Show me a summary.                                                                                                 \n",
       "</pre>\n"
      ],
      "text/plain": [
       "Show me a summary.                                                                                                 \n"
      ]
     },
     "metadata": {},
     "output_type": "display_data"
    },
    {
     "data": {
      "text/html": [
       "<pre style=\"white-space:pre;overflow-x:auto;line-height:normal;font-family:Menlo,'DejaVu Sans Mono',consolas,'Courier New',monospace\">What's the most important information?                                                                             \n",
       "</pre>\n"
      ],
      "text/plain": [
       "What's the most important information?                                                                             \n"
      ]
     },
     "metadata": {},
     "output_type": "display_data"
    },
    {
     "data": {
      "text/html": [
       "<pre style=\"white-space:pre;overflow-x:auto;line-height:normal;font-family:Menlo,'DejaVu Sans Mono',consolas,'Courier New',monospace\">Can you tell me about the model called 'production_model'?                                                         \n",
       "</pre>\n"
      ],
      "text/plain": [
       "Can you tell me about the model called 'production_model'?                                                         \n"
      ]
     },
     "metadata": {},
     "output_type": "display_data"
    }
   ],
   "source": [
    "good_response = gclient.models.generate_content(\n",
    "    model=\"gemini-2.5-flash\",\n",
    "    contents=QS_TEMPLATE.format(num_questions=40, condition=GOOD_CONDITION),\n",
    "    config={\"response_mime_type\": \"application/json\", \"response_schema\": UserQueries},\n",
    ")\n",
    "good_qs = response.parsed\n",
    "print_questions(good_qs)"
   ]
  },
  {
   "cell_type": "code",
   "execution_count": 25,
   "metadata": {},
   "outputs": [
    {
     "data": {
      "text/html": [
       "<pre style=\"white-space:pre;overflow-x:auto;line-height:normal;font-family:Menlo,'DejaVu Sans Mono',consolas,'Courier New',monospace\">What's going on in Fiddler?                                                                                        \n",
       "</pre>\n"
      ],
      "text/plain": [
       "What's going on in Fiddler?                                                                                        \n"
      ]
     },
     "metadata": {},
     "output_type": "display_data"
    },
    {
     "data": {
      "text/html": [
       "<pre style=\"white-space:pre;overflow-x:auto;line-height:normal;font-family:Menlo,'DejaVu Sans Mono',consolas,'Courier New',monospace\">Tell me about my models.                                                                                           \n",
       "</pre>\n"
      ],
      "text/plain": [
       "Tell me about my models.                                                                                           \n"
      ]
     },
     "metadata": {},
     "output_type": "display_data"
    },
    {
     "data": {
      "text/html": [
       "<pre style=\"white-space:pre;overflow-x:auto;line-height:normal;font-family:Menlo,'DejaVu Sans Mono',consolas,'Courier New',monospace\">Are there any active projects?                                                                                     \n",
       "</pre>\n"
      ],
      "text/plain": [
       "Are there any active projects?                                                                                     \n"
      ]
     },
     "metadata": {},
     "output_type": "display_data"
    },
    {
     "data": {
      "text/html": [
       "<pre style=\"white-space:pre;overflow-x:auto;line-height:normal;font-family:Menlo,'DejaVu Sans Mono',consolas,'Courier New',monospace\">Show me some models.                                                                                               \n",
       "</pre>\n"
      ],
      "text/plain": [
       "Show me some models.                                                                                               \n"
      ]
     },
     "metadata": {},
     "output_type": "display_data"
    },
    {
     "data": {
      "text/html": [
       "<pre style=\"white-space:pre;overflow-x:auto;line-height:normal;font-family:Menlo,'DejaVu Sans Mono',consolas,'Courier New',monospace\">What kind of data do you have for a model?                                                                         \n",
       "</pre>\n"
      ],
      "text/plain": [
       "What kind of data do you have for a model?                                                                         \n"
      ]
     },
     "metadata": {},
     "output_type": "display_data"
    },
    {
     "data": {
      "text/html": [
       "<pre style=\"white-space:pre;overflow-x:auto;line-height:normal;font-family:Menlo,'DejaVu Sans Mono',consolas,'Courier New',monospace\">Are there any problems?                                                                                            \n",
       "</pre>\n"
      ],
      "text/plain": [
       "Are there any problems?                                                                                            \n"
      ]
     },
     "metadata": {},
     "output_type": "display_data"
    },
    {
     "data": {
      "text/html": [
       "<pre style=\"white-space:pre;overflow-x:auto;line-height:normal;font-family:Menlo,'DejaVu Sans Mono',consolas,'Courier New',monospace\">List alerts.                                                                                                       \n",
       "</pre>\n"
      ],
      "text/plain": [
       "List alerts.                                                                                                       \n"
      ]
     },
     "metadata": {},
     "output_type": "display_data"
    },
    {
     "data": {
      "text/html": [
       "<pre style=\"white-space:pre;overflow-x:auto;line-height:normal;font-family:Menlo,'DejaVu Sans Mono',consolas,'Courier New',monospace\">What are the projects I have?                                                                                      \n",
       "</pre>\n"
      ],
      "text/plain": [
       "What are the projects I have?                                                                                      \n"
      ]
     },
     "metadata": {},
     "output_type": "display_data"
    },
    {
     "data": {
      "text/html": [
       "<pre style=\"white-space:pre;overflow-x:auto;line-height:normal;font-family:Menlo,'DejaVu Sans Mono',consolas,'Courier New',monospace\">Can you show me the models?                                                                                        \n",
       "</pre>\n"
      ],
      "text/plain": [
       "Can you show me the models?                                                                                        \n"
      ]
     },
     "metadata": {},
     "output_type": "display_data"
    },
    {
     "data": {
      "text/html": [
       "<pre style=\"white-space:pre;overflow-x:auto;line-height:normal;font-family:Menlo,'DejaVu Sans Mono',consolas,'Courier New',monospace\">What's the schema for a model?                                                                                     \n",
       "</pre>\n"
      ],
      "text/plain": [
       "What's the schema for a model?                                                                                     \n"
      ]
     },
     "metadata": {},
     "output_type": "display_data"
    },
    {
     "data": {
      "text/html": [
       "<pre style=\"white-space:pre;overflow-x:auto;line-height:normal;font-family:Menlo,'DejaVu Sans Mono',consolas,'Courier New',monospace\">Give me details about a model.                                                                                     \n",
       "</pre>\n"
      ],
      "text/plain": [
       "Give me details about a model.                                                                                     \n"
      ]
     },
     "metadata": {},
     "output_type": "display_data"
    },
    {
     "data": {
      "text/html": [
       "<pre style=\"white-space:pre;overflow-x:auto;line-height:normal;font-family:Menlo,'DejaVu Sans Mono',consolas,'Courier New',monospace\">What are the metrics?                                                                                              \n",
       "</pre>\n"
      ],
      "text/plain": [
       "What are the metrics?                                                                                              \n"
      ]
     },
     "metadata": {},
     "output_type": "display_data"
    },
    {
     "data": {
      "text/html": [
       "<pre style=\"white-space:pre;overflow-x:auto;line-height:normal;font-family:Menlo,'DejaVu Sans Mono',consolas,'Courier New',monospace\">How are my models performing?                                                                                      \n",
       "</pre>\n"
      ],
      "text/plain": [
       "How are my models performing?                                                                                      \n"
      ]
     },
     "metadata": {},
     "output_type": "display_data"
    },
    {
     "data": {
      "text/html": [
       "<pre style=\"white-space:pre;overflow-x:auto;line-height:normal;font-family:Menlo,'DejaVu Sans Mono',consolas,'Courier New',monospace\">Show me everything you know.                                                                                       \n",
       "</pre>\n"
      ],
      "text/plain": [
       "Show me everything you know.                                                                                       \n"
      ]
     },
     "metadata": {},
     "output_type": "display_data"
    },
    {
     "data": {
      "text/html": [
       "<pre style=\"white-space:pre;overflow-x:auto;line-height:normal;font-family:Menlo,'DejaVu Sans Mono',consolas,'Courier New',monospace\">What are the rules for alerts?                                                                                     \n",
       "</pre>\n"
      ],
      "text/plain": [
       "What are the rules for alerts?                                                                                     \n"
      ]
     },
     "metadata": {},
     "output_type": "display_data"
    },
    {
     "data": {
      "text/html": [
       "<pre style=\"white-space:pre;overflow-x:auto;line-height:normal;font-family:Menlo,'DejaVu Sans Mono',consolas,'Courier New',monospace\">Are any alerts currently triggered?                                                                                \n",
       "</pre>\n"
      ],
      "text/plain": [
       "Are any alerts currently triggered?                                                                                \n"
      ]
     },
     "metadata": {},
     "output_type": "display_data"
    },
    {
     "data": {
      "text/html": [
       "<pre style=\"white-space:pre;overflow-x:auto;line-height:normal;font-family:Menlo,'DejaVu Sans Mono',consolas,'Courier New',monospace\">I need some model information.                                                                                     \n",
       "</pre>\n"
      ],
      "text/plain": [
       "I need some model information.                                                                                     \n"
      ]
     },
     "metadata": {},
     "output_type": "display_data"
    },
    {
     "data": {
      "text/html": [
       "<pre style=\"white-space:pre;overflow-x:auto;line-height:normal;font-family:Menlo,'DejaVu Sans Mono',consolas,'Courier New',monospace\">What are the specs?                                                                                                \n",
       "</pre>\n"
      ],
      "text/plain": [
       "What are the specs?                                                                                                \n"
      ]
     },
     "metadata": {},
     "output_type": "display_data"
    },
    {
     "data": {
      "text/html": [
       "<pre style=\"white-space:pre;overflow-x:auto;line-height:normal;font-family:Menlo,'DejaVu Sans Mono',consolas,'Courier New',monospace\">Show me custom metrics.                                                                                            \n",
       "</pre>\n"
      ],
      "text/plain": [
       "Show me custom metrics.                                                                                            \n"
      ]
     },
     "metadata": {},
     "output_type": "display_data"
    },
    {
     "data": {
      "text/html": [
       "<pre style=\"white-space:pre;overflow-x:auto;line-height:normal;font-family:Menlo,'DejaVu Sans Mono',consolas,'Courier New',monospace\">How do I improve my models?                                                                                        \n",
       "</pre>\n"
      ],
      "text/plain": [
       "How do I improve my models?                                                                                        \n"
      ]
     },
     "metadata": {},
     "output_type": "display_data"
    },
    {
     "data": {
      "text/html": [
       "<pre style=\"white-space:pre;overflow-x:auto;line-height:normal;font-family:Menlo,'DejaVu Sans Mono',consolas,'Courier New',monospace\">Can you analyze model behavior for me?                                                                             \n",
       "</pre>\n"
      ],
      "text/plain": [
       "Can you analyze model behavior for me?                                                                             \n"
      ]
     },
     "metadata": {},
     "output_type": "display_data"
    },
    {
     "data": {
      "text/html": [
       "<pre style=\"white-space:pre;overflow-x:auto;line-height:normal;font-family:Menlo,'DejaVu Sans Mono',consolas,'Courier New',monospace\">What models are running in preprod?                                                                                \n",
       "</pre>\n"
      ],
      "text/plain": [
       "What models are running in preprod?                                                                                \n"
      ]
     },
     "metadata": {},
     "output_type": "display_data"
    },
    {
     "data": {
      "text/html": [
       "<pre style=\"white-space:pre;overflow-x:auto;line-height:normal;font-family:Menlo,'DejaVu Sans Mono',consolas,'Courier New',monospace\">Tell me about the project I'm in.                                                                                  \n",
       "</pre>\n"
      ],
      "text/plain": [
       "Tell me about the project I'm in.                                                                                  \n"
      ]
     },
     "metadata": {},
     "output_type": "display_data"
    },
    {
     "data": {
      "text/html": [
       "<pre style=\"white-space:pre;overflow-x:auto;line-height:normal;font-family:Menlo,'DejaVu Sans Mono',consolas,'Courier New',monospace\">Are there any issues with my GenAI applications?                                                                   \n",
       "</pre>\n"
      ],
      "text/plain": [
       "Are there any issues with my GenAI applications?                                                                   \n"
      ]
     },
     "metadata": {},
     "output_type": "display_data"
    },
    {
     "data": {
      "text/html": [
       "<pre style=\"white-space:pre;overflow-x:auto;line-height:normal;font-family:Menlo,'DejaVu Sans Mono',consolas,'Courier New',monospace\">Can you help me protect my LLM?                                                                                    \n",
       "</pre>\n"
      ],
      "text/plain": [
       "Can you help me protect my LLM?                                                                                    \n"
      ]
     },
     "metadata": {},
     "output_type": "display_data"
    },
    {
     "data": {
      "text/html": [
       "<pre style=\"white-space:pre;overflow-x:auto;line-height:normal;font-family:Menlo,'DejaVu Sans Mono',consolas,'Courier New',monospace\">What can you do for me?                                                                                            \n",
       "</pre>\n"
      ],
      "text/plain": [
       "What can you do for me?                                                                                            \n"
      ]
     },
     "metadata": {},
     "output_type": "display_data"
    },
    {
     "data": {
      "text/html": [
       "<pre style=\"white-space:pre;overflow-x:auto;line-height:normal;font-family:Menlo,'DejaVu Sans Mono',consolas,'Courier New',monospace\">Where are my models located?                                                                                       \n",
       "</pre>\n"
      ],
      "text/plain": [
       "Where are my models located?                                                                                       \n"
      ]
     },
     "metadata": {},
     "output_type": "display_data"
    },
    {
     "data": {
      "text/html": [
       "<pre style=\"white-space:pre;overflow-x:auto;line-height:normal;font-family:Menlo,'DejaVu Sans Mono',consolas,'Courier New',monospace\">What's the status of my models?                                                                                    \n",
       "</pre>\n"
      ],
      "text/plain": [
       "What's the status of my models?                                                                                    \n"
      ]
     },
     "metadata": {},
     "output_type": "display_data"
    },
    {
     "data": {
      "text/html": [
       "<pre style=\"white-space:pre;overflow-x:auto;line-height:normal;font-family:Menlo,'DejaVu Sans Mono',consolas,'Courier New',monospace\">I want to see the model details.                                                                                   \n",
       "</pre>\n"
      ],
      "text/plain": [
       "I want to see the model details.                                                                                   \n"
      ]
     },
     "metadata": {},
     "output_type": "display_data"
    },
    {
     "data": {
      "text/html": [
       "<pre style=\"white-space:pre;overflow-x:auto;line-height:normal;font-family:Menlo,'DejaVu Sans Mono',consolas,'Courier New',monospace\">List all the stuff.                                                                                                \n",
       "</pre>\n"
      ],
      "text/plain": [
       "List all the stuff.                                                                                                \n"
      ]
     },
     "metadata": {},
     "output_type": "display_data"
    },
    {
     "data": {
      "text/html": [
       "<pre style=\"white-space:pre;overflow-x:auto;line-height:normal;font-family:Menlo,'DejaVu Sans Mono',consolas,'Courier New',monospace\">What are the key metrics?                                                                                          \n",
       "</pre>\n"
      ],
      "text/plain": [
       "What are the key metrics?                                                                                          \n"
      ]
     },
     "metadata": {},
     "output_type": "display_data"
    },
    {
     "data": {
      "text/html": [
       "<pre style=\"white-space:pre;overflow-x:auto;line-height:normal;font-family:Menlo,'DejaVu Sans Mono',consolas,'Courier New',monospace\">What's wrong with the performance?                                                                                 \n",
       "</pre>\n"
      ],
      "text/plain": [
       "What's wrong with the performance?                                                                                 \n"
      ]
     },
     "metadata": {},
     "output_type": "display_data"
    },
    {
     "data": {
      "text/html": [
       "<pre style=\"white-space:pre;overflow-x:auto;line-height:normal;font-family:Menlo,'DejaVu Sans Mono',consolas,'Courier New',monospace\">How do I identify issues?                                                                                          \n",
       "</pre>\n"
      ],
      "text/plain": [
       "How do I identify issues?                                                                                          \n"
      ]
     },
     "metadata": {},
     "output_type": "display_data"
    },
    {
     "data": {
      "text/html": [
       "<pre style=\"white-space:pre;overflow-x:auto;line-height:normal;font-family:Menlo,'DejaVu Sans Mono',consolas,'Courier New',monospace\">Can you show me the outputs?                                                                                       \n",
       "</pre>\n"
      ],
      "text/plain": [
       "Can you show me the outputs?                                                                                       \n"
      ]
     },
     "metadata": {},
     "output_type": "display_data"
    },
    {
     "data": {
      "text/html": [
       "<pre style=\"white-space:pre;overflow-x:auto;line-height:normal;font-family:Menlo,'DejaVu Sans Mono',consolas,'Courier New',monospace\">What about the inputs?                                                                                             \n",
       "</pre>\n"
      ],
      "text/plain": [
       "What about the inputs?                                                                                             \n"
      ]
     },
     "metadata": {},
     "output_type": "display_data"
    },
    {
     "data": {
      "text/html": [
       "<pre style=\"white-space:pre;overflow-x:auto;line-height:normal;font-family:Menlo,'DejaVu Sans Mono',consolas,'Courier New',monospace\">Are there any recommended actions?                                                                                 \n",
       "</pre>\n"
      ],
      "text/plain": [
       "Are there any recommended actions?                                                                                 \n"
      ]
     },
     "metadata": {},
     "output_type": "display_data"
    },
    {
     "data": {
      "text/html": [
       "<pre style=\"white-space:pre;overflow-x:auto;line-height:normal;font-family:Menlo,'DejaVu Sans Mono',consolas,'Courier New',monospace\">What kind of guardrails are in place?                                                                              \n",
       "</pre>\n"
      ],
      "text/plain": [
       "What kind of guardrails are in place?                                                                              \n"
      ]
     },
     "metadata": {},
     "output_type": "display_data"
    },
    {
     "data": {
      "text/html": [
       "<pre style=\"white-space:pre;overflow-x:auto;line-height:normal;font-family:Menlo,'DejaVu Sans Mono',consolas,'Courier New',monospace\">Show me a summary.                                                                                                 \n",
       "</pre>\n"
      ],
      "text/plain": [
       "Show me a summary.                                                                                                 \n"
      ]
     },
     "metadata": {},
     "output_type": "display_data"
    },
    {
     "data": {
      "text/html": [
       "<pre style=\"white-space:pre;overflow-x:auto;line-height:normal;font-family:Menlo,'DejaVu Sans Mono',consolas,'Courier New',monospace\">What's the most important information?                                                                             \n",
       "</pre>\n"
      ],
      "text/plain": [
       "What's the most important information?                                                                             \n"
      ]
     },
     "metadata": {},
     "output_type": "display_data"
    },
    {
     "data": {
      "text/html": [
       "<pre style=\"white-space:pre;overflow-x:auto;line-height:normal;font-family:Menlo,'DejaVu Sans Mono',consolas,'Courier New',monospace\">Can you tell me about the model called 'production_model'?                                                         \n",
       "</pre>\n"
      ],
      "text/plain": [
       "Can you tell me about the model called 'production_model'?                                                         \n"
      ]
     },
     "metadata": {},
     "output_type": "display_data"
    }
   ],
   "source": [
    "good_response = gclient.models.generate_content(\n",
    "    model=\"gemini-2.5-flash\",\n",
    "    contents=QS_TEMPLATE.format(num_questions=40, condition=GOOD_CONDITION),\n",
    "    config={\"response_mime_type\": \"application/json\", \"response_schema\": UserQueries},\n",
    ")\n",
    "good_qs = response.parsed\n",
    "print_questions(good_qs)"
   ]
  },
  {
   "cell_type": "code",
   "execution_count": 26,
   "metadata": {},
   "outputs": [],
   "source": [
    "import fiddler as fdl"
   ]
  },
  {
   "cell_type": "code",
   "execution_count": 27,
   "metadata": {},
   "outputs": [],
   "source": [
    "import traceback"
   ]
  },
  {
   "cell_type": "code",
   "execution_count": 28,
   "metadata": {},
   "outputs": [
    {
     "name": "stderr",
     "output_type": "stream",
     "text": [
      "250626T07:44:24.707Z     INFO| attached stderr handler to logger: auto_attach_log_handler=True, and root logger not configured \n",
      "250626T07:44:24.709Z     INFO| http: https://preprod.cloud.fiddler.ai/v3/server-info GET -- emit req (0 B, timeout: (5, 15)) \n",
      "250626T07:44:25.678Z     INFO| http: https://preprod.cloud.fiddler.ai/v3/server-info GET -- resp code: 200, took 0.968 s, resp/req body size: (912 B, 0 B) \n",
      "250626T07:44:25.681Z     INFO| http: https://preprod.cloud.fiddler.ai/v3/version-compatibility GET -- emit req (0 B, timeout: (5, 15)) \n",
      "250626T07:44:26.013Z     INFO| http: https://preprod.cloud.fiddler.ai/v3/version-compatibility GET -- resp code: 200, took 0.330 s, resp/req body size: (2 B, 0 B) \n"
     ]
    }
   ],
   "source": [
    "BASE_URL = \"https://preprod.cloud.fiddler.ai\"\n",
    "TOKEN = parsed_toml[\"FIDDLER_ACCESS_TOKEN\"]\n",
    "fdl.init(url=BASE_URL, token=TOKEN)"
   ]
  },
  {
   "cell_type": "code",
   "execution_count": 46,
   "metadata": {},
   "outputs": [],
   "source": [
    "def _list_all_projects() -> list[str]:\n",
    "    \"\"\"\n",
    "    List the names of all projects in the organisation\n",
    "    \"\"\"\n",
    "    print(\"Listing all projects\")\n",
    "    project_names = []\n",
    "    projects = list(fdl.Project.list())\n",
    "    try:\n",
    "        for project in projects:\n",
    "            project_names.append(str(project.name))\n",
    "        return project_names\n",
    "    except Exception as e:\n",
    "        return \"Error in obtaining projects\""
   ]
  },
  {
   "cell_type": "code",
   "execution_count": 30,
   "metadata": {},
   "outputs": [],
   "source": [
    "# @server.tool()\n",
    "def _list_models_in_project(project_name: str) -> list[str]:\n",
    "    \"\"\"\n",
    "    List out all model names associated with a project\n",
    "\n",
    "    Args:\n",
    "        project_name: Name of the project\n",
    "    \"\"\"\n",
    "    try:\n",
    "        project = fdl.Project.from_name(name=project_name)\n",
    "        model_names = []\n",
    "        for model in project.models:\n",
    "            model_names.append(str(model.name))\n",
    "    except Exception as e:\n",
    "        return \"Error in obtaining models\"\n",
    "    return model_names"
   ]
  },
  {
   "cell_type": "code",
   "execution_count": 31,
   "metadata": {},
   "outputs": [],
   "source": [
    "def list_all_models_in_all_projects_in_organisation() -> list[str]:\n",
    "    \"\"\"\n",
    "    Tool to list all model names across all projects in the organisation.\n",
    "    \"\"\"\n",
    "    try:\n",
    "        print(\"Listing all projects\")\n",
    "        model_names = []\n",
    "        project_names = _list_all_projects()\n",
    "        if not isinstance(project_names, list):\n",
    "            return \"Error in obtaining projects\"\n",
    "        print(f\"Found {len(project_names)} projects\")\n",
    "        for project_name in project_names:\n",
    "            print(f\"Listing models in project: {project_name}\")\n",
    "            model_list = _list_models_in_project(project_name)\n",
    "            if isinstance(model_list, list):\n",
    "                model_names.extend(model_list)\n",
    "            else:\n",
    "                continue\n",
    "        return model_names\n",
    "    except Exception as e:\n",
    "        print(f\"Error in obtaining models: {traceback.format_exc()}\")\n",
    "        return \"Error in obtaining models\""
   ]
  },
  {
   "cell_type": "code",
   "execution_count": 39,
   "metadata": {},
   "outputs": [
    {
     "data": {
      "text/html": [
       "<pre style=\"white-space:pre;overflow-x:auto;line-height:normal;font-family:Menlo,'DejaVu Sans Mono',consolas,'Courier New',monospace\">Listing all projects                                                                                               \n",
       "</pre>\n"
      ],
      "text/plain": [
       "Listing all projects                                                                                               \n"
      ]
     },
     "metadata": {},
     "output_type": "display_data"
    },
    {
     "name": "stderr",
     "output_type": "stream",
     "text": [
      "250626T07:46:41.191Z     INFO| http: https://preprod.cloud.fiddler.ai/v3/projects GET -- emit req (0 B, timeout: (5, 100)) \n",
      "250626T07:46:41.745Z     INFO| http: https://preprod.cloud.fiddler.ai/v3/projects GET -- resp code: 200, took 0.554 s, resp/req body size: (0.014 MB, 0 B) \n",
      "250626T07:46:41.749Z     INFO| http: https://preprod.cloud.fiddler.ai/v3/projects GET -- emit req (0 B, timeout: (5, 100)) \n",
      "250626T07:46:42.101Z     INFO| http: https://preprod.cloud.fiddler.ai/v3/projects GET -- resp code: 200, took 0.352 s, resp/req body size: (0.014 MB, 0 B) \n",
      "250626T07:46:42.106Z     INFO| http: https://preprod.cloud.fiddler.ai/v3/projects GET -- emit req (0 B, timeout: (5, 100)) \n",
      "250626T07:46:42.403Z     INFO| http: https://preprod.cloud.fiddler.ai/v3/projects GET -- resp code: 200, took 0.296 s, resp/req body size: (0.014 MB, 0 B) \n",
      "250626T07:46:42.409Z     INFO| http: https://preprod.cloud.fiddler.ai/v3/projects GET -- emit req (0 B, timeout: (5, 100)) \n",
      "250626T07:46:42.717Z     INFO| http: https://preprod.cloud.fiddler.ai/v3/projects GET -- resp code: 200, took 0.307 s, resp/req body size: (0.014 MB, 0 B) \n",
      "250626T07:46:42.723Z     INFO| http: https://preprod.cloud.fiddler.ai/v3/projects GET -- emit req (0 B, timeout: (5, 100)) \n",
      "250626T07:46:43.016Z     INFO| http: https://preprod.cloud.fiddler.ai/v3/projects GET -- resp code: 200, took 0.292 s, resp/req body size: (3570 B, 0 B) \n"
     ]
    }
   ],
   "source": [
    "project_names = _list_all_projects()"
   ]
  },
  {
   "cell_type": "code",
   "execution_count": 40,
   "metadata": {},
   "outputs": [
    {
     "data": {
      "text/plain": [
       "['jenn_llama_classifier']"
      ]
     },
     "execution_count": 40,
     "metadata": {},
     "output_type": "execute_result"
    }
   ],
   "source": [
    "project_names"
   ]
  },
  {
   "cell_type": "code",
   "execution_count": 41,
   "metadata": {},
   "outputs": [
    {
     "name": "stderr",
     "output_type": "stream",
     "text": [
      "250626T07:47:00.233Z     INFO| http: https://preprod.cloud.fiddler.ai/v3/projects GET -- emit req (0 B, timeout: (5, 100)) \n",
      "250626T07:47:00.809Z     INFO| http: https://preprod.cloud.fiddler.ai/v3/projects GET -- resp code: 200, took 0.575 s, resp/req body size: (0.014 MB, 0 B) \n",
      "250626T07:47:00.814Z     INFO| http: https://preprod.cloud.fiddler.ai/v3/projects GET -- emit req (0 B, timeout: (5, 100)) \n",
      "250626T07:47:01.108Z     INFO| http: https://preprod.cloud.fiddler.ai/v3/projects GET -- resp code: 200, took 0.294 s, resp/req body size: (0.014 MB, 0 B) \n",
      "250626T07:47:01.112Z     INFO| http: https://preprod.cloud.fiddler.ai/v3/projects GET -- emit req (0 B, timeout: (5, 100)) \n",
      "250626T07:47:01.411Z     INFO| http: https://preprod.cloud.fiddler.ai/v3/projects GET -- resp code: 200, took 0.298 s, resp/req body size: (0.014 MB, 0 B) \n",
      "250626T07:47:01.416Z     INFO| http: https://preprod.cloud.fiddler.ai/v3/projects GET -- emit req (0 B, timeout: (5, 100)) \n",
      "250626T07:47:01.717Z     INFO| http: https://preprod.cloud.fiddler.ai/v3/projects GET -- resp code: 200, took 0.300 s, resp/req body size: (0.014 MB, 0 B) \n",
      "250626T07:47:01.721Z     INFO| http: https://preprod.cloud.fiddler.ai/v3/projects GET -- emit req (0 B, timeout: (5, 100)) \n",
      "250626T07:47:02.014Z     INFO| http: https://preprod.cloud.fiddler.ai/v3/projects GET -- resp code: 200, took 0.292 s, resp/req body size: (3570 B, 0 B) \n"
     ]
    }
   ],
   "source": [
    "projects = list(fdl.Project.list())"
   ]
  },
  {
   "cell_type": "code",
   "execution_count": 42,
   "metadata": {},
   "outputs": [
    {
     "data": {
      "text/plain": [
       "212"
      ]
     },
     "execution_count": 42,
     "metadata": {},
     "output_type": "execute_result"
    }
   ],
   "source": [
    "len(projects)"
   ]
  },
  {
   "cell_type": "code",
   "execution_count": 45,
   "metadata": {},
   "outputs": [
    {
     "data": {
      "text/plain": [
       "'wb_chart_deletion_yooo'"
      ]
     },
     "execution_count": 45,
     "metadata": {},
     "output_type": "execute_result"
    }
   ],
   "source": [
    "projects[1].name"
   ]
  },
  {
   "cell_type": "code",
   "execution_count": null,
   "metadata": {},
   "outputs": [],
   "source": [
    "names = []\n",
    "for project in projects:\n",
    "    names.append(str(project.name))"
   ]
  },
  {
   "cell_type": "code",
   "execution_count": 47,
   "metadata": {},
   "outputs": [
    {
     "data": {
      "text/html": [
       "<pre style=\"white-space:pre;overflow-x:auto;line-height:normal;font-family:Menlo,'DejaVu Sans Mono',consolas,'Courier New',monospace\">Listing all projects                                                                                               \n",
       "</pre>\n"
      ],
      "text/plain": [
       "Listing all projects                                                                                               \n"
      ]
     },
     "metadata": {},
     "output_type": "display_data"
    },
    {
     "data": {
      "text/html": [
       "<pre style=\"white-space:pre;overflow-x:auto;line-height:normal;font-family:Menlo,'DejaVu Sans Mono',consolas,'Courier New',monospace\">Listing all projects                                                                                               \n",
       "</pre>\n"
      ],
      "text/plain": [
       "Listing all projects                                                                                               \n"
      ]
     },
     "metadata": {},
     "output_type": "display_data"
    },
    {
     "name": "stderr",
     "output_type": "stream",
     "text": [
      "250626T07:52:06.496Z     INFO| http: https://preprod.cloud.fiddler.ai/v3/projects GET -- emit req (0 B, timeout: (5, 100)) \n",
      "250626T07:52:08.011Z     INFO| http: https://preprod.cloud.fiddler.ai/v3/projects GET -- resp code: 200, took 1.515 s, resp/req body size: (0.014 MB, 0 B) \n",
      "250626T07:52:08.018Z     INFO| http: https://preprod.cloud.fiddler.ai/v3/projects GET -- emit req (0 B, timeout: (5, 100)) \n",
      "250626T07:52:08.313Z     INFO| http: https://preprod.cloud.fiddler.ai/v3/projects GET -- resp code: 200, took 0.294 s, resp/req body size: (0.014 MB, 0 B) \n",
      "250626T07:52:08.318Z     INFO| http: https://preprod.cloud.fiddler.ai/v3/projects GET -- emit req (0 B, timeout: (5, 100)) \n",
      "250626T07:52:08.609Z     INFO| http: https://preprod.cloud.fiddler.ai/v3/projects GET -- resp code: 200, took 0.290 s, resp/req body size: (0.014 MB, 0 B) \n",
      "250626T07:52:08.615Z     INFO| http: https://preprod.cloud.fiddler.ai/v3/projects GET -- emit req (0 B, timeout: (5, 100)) \n",
      "250626T07:52:09.248Z     INFO| http: https://preprod.cloud.fiddler.ai/v3/projects GET -- resp code: 200, took 0.633 s, resp/req body size: (0.014 MB, 0 B) \n",
      "250626T07:52:09.256Z     INFO| http: https://preprod.cloud.fiddler.ai/v3/projects GET -- emit req (0 B, timeout: (5, 100)) \n",
      "250626T07:52:09.572Z     INFO| http: https://preprod.cloud.fiddler.ai/v3/projects GET -- resp code: 200, took 0.315 s, resp/req body size: (3570 B, 0 B) \n"
     ]
    },
    {
     "data": {
      "text/html": [
       "<pre style=\"white-space:pre;overflow-x:auto;line-height:normal;font-family:Menlo,'DejaVu Sans Mono',consolas,'Courier New',monospace\">Found 212 projects                                                                                                 \n",
       "</pre>\n"
      ],
      "text/plain": [
       "Found 212 projects                                                                                                 \n"
      ]
     },
     "metadata": {},
     "output_type": "display_data"
    },
    {
     "data": {
      "text/html": [
       "<pre style=\"white-space:pre;overflow-x:auto;line-height:normal;font-family:Menlo,'DejaVu Sans Mono',consolas,'Courier New',monospace\">Listing models in project: jenn_llama_classifier                                                                   \n",
       "</pre>\n"
      ],
      "text/plain": [
       "Listing models in project: jenn_llama_classifier                                                                   \n"
      ]
     },
     "metadata": {},
     "output_type": "display_data"
    },
    {
     "name": "stderr",
     "output_type": "stream",
     "text": [
      "250626T07:52:09.580Z     INFO| http: https://preprod.cloud.fiddler.ai/v3/projects GET -- emit req (0 B, timeout: (5, 100)) \n",
      "250626T07:52:09.853Z     INFO| http: https://preprod.cloud.fiddler.ai/v3/projects GET -- resp code: 200, took 0.273 s, resp/req body size: (448 B, 0 B) \n",
      "250626T07:52:09.857Z     INFO| http: https://preprod.cloud.fiddler.ai/v3/models GET -- emit req (0 B, timeout: (5, 100)) \n",
      "250626T07:52:10.959Z     INFO| http: https://preprod.cloud.fiddler.ai/v3/models GET -- resp code: 200, took 1.102 s, resp/req body size: (1758 B, 0 B) \n"
     ]
    },
    {
     "data": {
      "text/html": [
       "<pre style=\"white-space:pre;overflow-x:auto;line-height:normal;font-family:Menlo,'DejaVu Sans Mono',consolas,'Courier New',monospace\">Listing models in project: wb_chart_deletion_yooo                                                                  \n",
       "</pre>\n"
      ],
      "text/plain": [
       "Listing models in project: wb_chart_deletion_yooo                                                                  \n"
      ]
     },
     "metadata": {},
     "output_type": "display_data"
    },
    {
     "name": "stderr",
     "output_type": "stream",
     "text": [
      "250626T07:52:10.964Z     INFO| http: https://preprod.cloud.fiddler.ai/v3/projects GET -- emit req (0 B, timeout: (5, 100)) \n",
      "250626T07:52:11.292Z     INFO| http: https://preprod.cloud.fiddler.ai/v3/projects GET -- resp code: 200, took 0.327 s, resp/req body size: (449 B, 0 B) \n",
      "250626T07:52:11.295Z     INFO| http: https://preprod.cloud.fiddler.ai/v3/models GET -- emit req (0 B, timeout: (5, 100)) \n",
      "250626T07:52:11.778Z     INFO| http: https://preprod.cloud.fiddler.ai/v3/models GET -- resp code: 200, took 0.483 s, resp/req body size: (159 B, 0 B) \n"
     ]
    },
    {
     "data": {
      "text/html": [
       "<pre style=\"white-space:pre;overflow-x:auto;line-height:normal;font-family:Menlo,'DejaVu Sans Mono',consolas,'Courier New',monospace\">Listing models in project: quickstart_examples_rp                                                                  \n",
       "</pre>\n"
      ],
      "text/plain": [
       "Listing models in project: quickstart_examples_rp                                                                  \n"
      ]
     },
     "metadata": {},
     "output_type": "display_data"
    },
    {
     "name": "stderr",
     "output_type": "stream",
     "text": [
      "250626T07:52:11.784Z     INFO| http: https://preprod.cloud.fiddler.ai/v3/projects GET -- emit req (0 B, timeout: (5, 100)) \n",
      "250626T07:52:12.057Z     INFO| http: https://preprod.cloud.fiddler.ai/v3/projects GET -- resp code: 200, took 0.272 s, resp/req body size: (449 B, 0 B) \n",
      "250626T07:52:12.060Z     INFO| http: https://preprod.cloud.fiddler.ai/v3/models GET -- emit req (0 B, timeout: (5, 100)) \n",
      "250626T07:52:12.463Z     INFO| http: https://preprod.cloud.fiddler.ai/v3/models GET -- resp code: 200, took 0.403 s, resp/req body size: (985 B, 0 B) \n"
     ]
    },
    {
     "data": {
      "text/html": [
       "<pre style=\"white-space:pre;overflow-x:auto;line-height:normal;font-family:Menlo,'DejaVu Sans Mono',consolas,'Courier New',monospace\">Listing models in project: dtcc_quickstart_examples                                                                \n",
       "</pre>\n"
      ],
      "text/plain": [
       "Listing models in project: dtcc_quickstart_examples                                                                \n"
      ]
     },
     "metadata": {},
     "output_type": "display_data"
    },
    {
     "name": "stderr",
     "output_type": "stream",
     "text": [
      "250626T07:52:12.469Z     INFO| http: https://preprod.cloud.fiddler.ai/v3/projects GET -- emit req (0 B, timeout: (5, 100)) \n",
      "250626T07:52:12.766Z     INFO| http: https://preprod.cloud.fiddler.ai/v3/projects GET -- resp code: 200, took 0.296 s, resp/req body size: (451 B, 0 B) \n",
      "250626T07:52:12.769Z     INFO| http: https://preprod.cloud.fiddler.ai/v3/models GET -- emit req (0 B, timeout: (5, 100)) \n",
      "250626T07:52:13.245Z     INFO| http: https://preprod.cloud.fiddler.ai/v3/models GET -- resp code: 200, took 0.474 s, resp/req body size: (965 B, 0 B) \n"
     ]
    },
    {
     "data": {
      "text/html": [
       "<pre style=\"white-space:pre;overflow-x:auto;line-height:normal;font-family:Menlo,'DejaVu Sans Mono',consolas,'Courier New',monospace\">Listing models in project: dtcc_quickstart_examples_final                                                          \n",
       "</pre>\n"
      ],
      "text/plain": [
       "Listing models in project: dtcc_quickstart_examples_final                                                          \n"
      ]
     },
     "metadata": {},
     "output_type": "display_data"
    },
    {
     "name": "stderr",
     "output_type": "stream",
     "text": [
      "250626T07:52:13.252Z     INFO| http: https://preprod.cloud.fiddler.ai/v3/projects GET -- emit req (0 B, timeout: (5, 100)) \n",
      "250626T07:52:13.530Z     INFO| http: https://preprod.cloud.fiddler.ai/v3/projects GET -- resp code: 200, took 0.277 s, resp/req body size: (457 B, 0 B) \n",
      "250626T07:52:13.533Z     INFO| http: https://preprod.cloud.fiddler.ai/v3/models GET -- emit req (0 B, timeout: (5, 100)) \n",
      "250626T07:52:13.944Z     INFO| http: https://preprod.cloud.fiddler.ai/v3/models GET -- resp code: 200, took 0.410 s, resp/req body size: (971 B, 0 B) \n"
     ]
    },
    {
     "data": {
      "text/html": [
       "<pre style=\"white-space:pre;overflow-x:auto;line-height:normal;font-family:Menlo,'DejaVu Sans Mono',consolas,'Courier New',monospace\">Listing models in project: fiddler_easyconfig_testing                                                              \n",
       "</pre>\n"
      ],
      "text/plain": [
       "Listing models in project: fiddler_easyconfig_testing                                                              \n"
      ]
     },
     "metadata": {},
     "output_type": "display_data"
    },
    {
     "name": "stderr",
     "output_type": "stream",
     "text": [
      "250626T07:52:13.950Z     INFO| http: https://preprod.cloud.fiddler.ai/v3/projects GET -- emit req (0 B, timeout: (5, 100)) \n",
      "250626T07:52:14.231Z     INFO| http: https://preprod.cloud.fiddler.ai/v3/projects GET -- resp code: 200, took 0.280 s, resp/req body size: (453 B, 0 B) \n",
      "250626T07:52:14.234Z     INFO| http: https://preprod.cloud.fiddler.ai/v3/models GET -- emit req (0 B, timeout: (5, 100)) \n",
      "250626T07:52:14.702Z     INFO| http: https://preprod.cloud.fiddler.ai/v3/models GET -- resp code: 200, took 0.467 s, resp/req body size: (5011 B, 0 B) \n"
     ]
    },
    {
     "data": {
      "text/html": [
       "<pre style=\"white-space:pre;overflow-x:auto;line-height:normal;font-family:Menlo,'DejaVu Sans Mono',consolas,'Courier New',monospace\">Listing models in project: test                                                                                    \n",
       "</pre>\n"
      ],
      "text/plain": [
       "Listing models in project: test                                                                                    \n"
      ]
     },
     "metadata": {},
     "output_type": "display_data"
    },
    {
     "name": "stderr",
     "output_type": "stream",
     "text": [
      "250626T07:52:14.709Z     INFO| http: https://preprod.cloud.fiddler.ai/v3/projects GET -- emit req (0 B, timeout: (5, 100)) \n",
      "250626T07:52:14.992Z     INFO| http: https://preprod.cloud.fiddler.ai/v3/projects GET -- resp code: 200, took 0.281 s, resp/req body size: (431 B, 0 B) \n",
      "250626T07:52:14.995Z     INFO| http: https://preprod.cloud.fiddler.ai/v3/models GET -- emit req (0 B, timeout: (5, 100)) \n",
      "250626T07:52:15.401Z     INFO| http: https://preprod.cloud.fiddler.ai/v3/models GET -- resp code: 200, took 0.404 s, resp/req body size: (159 B, 0 B) \n"
     ]
    },
    {
     "data": {
      "text/html": [
       "<pre style=\"white-space:pre;overflow-x:auto;line-height:normal;font-family:Menlo,'DejaVu Sans Mono',consolas,'Courier New',monospace\">Listing models in project: travelers_claim_gl_cov                                                                  \n",
       "</pre>\n"
      ],
      "text/plain": [
       "Listing models in project: travelers_claim_gl_cov                                                                  \n"
      ]
     },
     "metadata": {},
     "output_type": "display_data"
    },
    {
     "name": "stderr",
     "output_type": "stream",
     "text": [
      "250626T07:52:15.406Z     INFO| http: https://preprod.cloud.fiddler.ai/v3/projects GET -- emit req (0 B, timeout: (5, 100)) \n",
      "250626T07:52:15.689Z     INFO| http: https://preprod.cloud.fiddler.ai/v3/projects GET -- resp code: 200, took 0.282 s, resp/req body size: (449 B, 0 B) \n",
      "250626T07:52:15.693Z     INFO| http: https://preprod.cloud.fiddler.ai/v3/models GET -- emit req (0 B, timeout: (5, 100)) \n",
      "250626T07:52:16.154Z     INFO| http: https://preprod.cloud.fiddler.ai/v3/models GET -- resp code: 200, took 0.459 s, resp/req body size: (159 B, 0 B) \n"
     ]
    },
    {
     "data": {
      "text/html": [
       "<pre style=\"white-space:pre;overflow-x:auto;line-height:normal;font-family:Menlo,'DejaVu Sans Mono',consolas,'Courier New',monospace\">Listing models in project: dtcc_quickstart_examples_finalv1                                                        \n",
       "</pre>\n"
      ],
      "text/plain": [
       "Listing models in project: dtcc_quickstart_examples_finalv1                                                        \n"
      ]
     },
     "metadata": {},
     "output_type": "display_data"
    },
    {
     "name": "stderr",
     "output_type": "stream",
     "text": [
      "250626T07:52:16.160Z     INFO| http: https://preprod.cloud.fiddler.ai/v3/projects GET -- emit req (0 B, timeout: (5, 100)) \n",
      "250626T07:52:16.447Z     INFO| http: https://preprod.cloud.fiddler.ai/v3/projects GET -- resp code: 200, took 0.285 s, resp/req body size: (459 B, 0 B) \n",
      "250626T07:52:16.449Z     INFO| http: https://preprod.cloud.fiddler.ai/v3/models GET -- emit req (0 B, timeout: (5, 100)) \n",
      "250626T07:52:16.874Z     INFO| http: https://preprod.cloud.fiddler.ai/v3/models GET -- resp code: 200, took 0.424 s, resp/req body size: (973 B, 0 B) \n"
     ]
    },
    {
     "data": {
      "text/html": [
       "<pre style=\"white-space:pre;overflow-x:auto;line-height:normal;font-family:Menlo,'DejaVu Sans Mono',consolas,'Courier New',monospace\">Listing models in project: dtcc_quickstart_examples_finalv2                                                        \n",
       "</pre>\n"
      ],
      "text/plain": [
       "Listing models in project: dtcc_quickstart_examples_finalv2                                                        \n"
      ]
     },
     "metadata": {},
     "output_type": "display_data"
    },
    {
     "name": "stderr",
     "output_type": "stream",
     "text": [
      "250626T07:52:16.880Z     INFO| http: https://preprod.cloud.fiddler.ai/v3/projects GET -- emit req (0 B, timeout: (5, 100)) \n",
      "250626T07:52:17.159Z     INFO| http: https://preprod.cloud.fiddler.ai/v3/projects GET -- resp code: 200, took 0.277 s, resp/req body size: (459 B, 0 B) \n",
      "250626T07:52:17.161Z     INFO| http: https://preprod.cloud.fiddler.ai/v3/models GET -- emit req (0 B, timeout: (5, 100)) \n",
      "250626T07:52:17.631Z     INFO| http: https://preprod.cloud.fiddler.ai/v3/models GET -- resp code: 200, took 0.469 s, resp/req body size: (973 B, 0 B) \n"
     ]
    },
    {
     "data": {
      "text/html": [
       "<pre style=\"white-space:pre;overflow-x:auto;line-height:normal;font-family:Menlo,'DejaVu Sans Mono',consolas,'Courier New',monospace\">Listing models in project: fiddler_examples                                                                        \n",
       "</pre>\n"
      ],
      "text/plain": [
       "Listing models in project: fiddler_examples                                                                        \n"
      ]
     },
     "metadata": {},
     "output_type": "display_data"
    },
    {
     "name": "stderr",
     "output_type": "stream",
     "text": [
      "250626T07:52:17.634Z     INFO| http: https://preprod.cloud.fiddler.ai/v3/projects GET -- emit req (0 B, timeout: (5, 100)) \n",
      "250626T07:52:17.907Z     INFO| http: https://preprod.cloud.fiddler.ai/v3/projects GET -- resp code: 200, took 0.273 s, resp/req body size: (443 B, 0 B) \n",
      "250626T07:52:17.908Z     INFO| http: https://preprod.cloud.fiddler.ai/v3/models GET -- emit req (0 B, timeout: (5, 100)) \n",
      "250626T07:52:18.342Z     INFO| http: https://preprod.cloud.fiddler.ai/v3/models GET -- resp code: 200, took 0.433 s, resp/req body size: (944 B, 0 B) \n"
     ]
    },
    {
     "data": {
      "text/html": [
       "<pre style=\"white-space:pre;overflow-x:auto;line-height:normal;font-family:Menlo,'DejaVu Sans Mono',consolas,'Courier New',monospace\">Listing models in project: josh_pepsi_test                                                                         \n",
       "</pre>\n"
      ],
      "text/plain": [
       "Listing models in project: josh_pepsi_test                                                                         \n"
      ]
     },
     "metadata": {},
     "output_type": "display_data"
    },
    {
     "name": "stderr",
     "output_type": "stream",
     "text": [
      "250626T07:52:18.343Z     INFO| http: https://preprod.cloud.fiddler.ai/v3/projects GET -- emit req (0 B, timeout: (5, 100)) \n",
      "250626T07:52:18.625Z     INFO| http: https://preprod.cloud.fiddler.ai/v3/projects GET -- resp code: 200, took 0.281 s, resp/req body size: (442 B, 0 B) \n",
      "250626T07:52:18.627Z     INFO| http: https://preprod.cloud.fiddler.ai/v3/models GET -- emit req (0 B, timeout: (5, 100)) \n",
      "250626T07:52:19.098Z     INFO| http: https://preprod.cloud.fiddler.ai/v3/models GET -- resp code: 200, took 0.471 s, resp/req body size: (937 B, 0 B) \n"
     ]
    },
    {
     "data": {
      "text/html": [
       "<pre style=\"white-space:pre;overflow-x:auto;line-height:normal;font-family:Menlo,'DejaVu Sans Mono',consolas,'Courier New',monospace\">Listing models in project: jr_cv_xai                                                                               \n",
       "</pre>\n"
      ],
      "text/plain": [
       "Listing models in project: jr_cv_xai                                                                               \n"
      ]
     },
     "metadata": {},
     "output_type": "display_data"
    },
    {
     "name": "stderr",
     "output_type": "stream",
     "text": [
      "250626T07:52:19.104Z     INFO| http: https://preprod.cloud.fiddler.ai/v3/projects GET -- emit req (0 B, timeout: (5, 100)) \n",
      "250626T07:52:19.377Z     INFO| http: https://preprod.cloud.fiddler.ai/v3/projects GET -- resp code: 200, took 0.272 s, resp/req body size: (436 B, 0 B) \n",
      "250626T07:52:19.379Z     INFO| http: https://preprod.cloud.fiddler.ai/v3/models GET -- emit req (0 B, timeout: (5, 100)) \n",
      "250626T07:52:19.783Z     INFO| http: https://preprod.cloud.fiddler.ai/v3/models GET -- resp code: 200, took 0.404 s, resp/req body size: (159 B, 0 B) \n"
     ]
    },
    {
     "data": {
      "text/html": [
       "<pre style=\"white-space:pre;overflow-x:auto;line-height:normal;font-family:Menlo,'DejaVu Sans Mono',consolas,'Courier New',monospace\">Listing models in project: pepsi_rlhf                                                                              \n",
       "</pre>\n"
      ],
      "text/plain": [
       "Listing models in project: pepsi_rlhf                                                                              \n"
      ]
     },
     "metadata": {},
     "output_type": "display_data"
    },
    {
     "name": "stderr",
     "output_type": "stream",
     "text": [
      "250626T07:52:19.788Z     INFO| http: https://preprod.cloud.fiddler.ai/v3/projects GET -- emit req (0 B, timeout: (5, 100)) \n",
      "250626T07:52:20.071Z     INFO| http: https://preprod.cloud.fiddler.ai/v3/projects GET -- resp code: 200, took 0.282 s, resp/req body size: (437 B, 0 B) \n",
      "250626T07:52:20.074Z     INFO| http: https://preprod.cloud.fiddler.ai/v3/models GET -- emit req (0 B, timeout: (5, 100)) \n",
      "250626T07:52:20.540Z     INFO| http: https://preprod.cloud.fiddler.ai/v3/models GET -- resp code: 200, took 0.465 s, resp/req body size: (159 B, 0 B) \n"
     ]
    },
    {
     "data": {
      "text/html": [
       "<pre style=\"white-space:pre;overflow-x:auto;line-height:normal;font-family:Menlo,'DejaVu Sans Mono',consolas,'Courier New',monospace\">Listing models in project: quickstart_example                                                                      \n",
       "</pre>\n"
      ],
      "text/plain": [
       "Listing models in project: quickstart_example                                                                      \n"
      ]
     },
     "metadata": {},
     "output_type": "display_data"
    },
    {
     "name": "stderr",
     "output_type": "stream",
     "text": [
      "250626T07:52:20.546Z     INFO| http: https://preprod.cloud.fiddler.ai/v3/projects GET -- emit req (0 B, timeout: (5, 100)) \n",
      "250626T07:52:20.867Z     INFO| http: https://preprod.cloud.fiddler.ai/v3/projects GET -- resp code: 200, took 0.319 s, resp/req body size: (445 B, 0 B) \n",
      "250626T07:52:20.870Z     INFO| http: https://preprod.cloud.fiddler.ai/v3/models GET -- emit req (0 B, timeout: (5, 100)) \n",
      "250626T07:52:21.272Z     INFO| http: https://preprod.cloud.fiddler.ai/v3/models GET -- resp code: 200, took 0.401 s, resp/req body size: (159 B, 0 B) \n"
     ]
    },
    {
     "data": {
      "text/html": [
       "<pre style=\"white-space:pre;overflow-x:auto;line-height:normal;font-family:Menlo,'DejaVu Sans Mono',consolas,'Courier New',monospace\">Listing models in project: quickstart_example2                                                                     \n",
       "</pre>\n"
      ],
      "text/plain": [
       "Listing models in project: quickstart_example2                                                                     \n"
      ]
     },
     "metadata": {},
     "output_type": "display_data"
    },
    {
     "name": "stderr",
     "output_type": "stream",
     "text": [
      "250626T07:52:21.274Z     INFO| http: https://preprod.cloud.fiddler.ai/v3/projects GET -- emit req (0 B, timeout: (5, 100)) \n",
      "250626T07:52:21.566Z     INFO| http: https://preprod.cloud.fiddler.ai/v3/projects GET -- resp code: 200, took 0.292 s, resp/req body size: (446 B, 0 B) \n",
      "250626T07:52:21.567Z     INFO| http: https://preprod.cloud.fiddler.ai/v3/models GET -- emit req (0 B, timeout: (5, 100)) \n",
      "250626T07:52:22.159Z     INFO| http: https://preprod.cloud.fiddler.ai/v3/models GET -- resp code: 200, took 0.592 s, resp/req body size: (948 B, 0 B) \n"
     ]
    },
    {
     "data": {
      "text/html": [
       "<pre style=\"white-space:pre;overflow-x:auto;line-height:normal;font-family:Menlo,'DejaVu Sans Mono',consolas,'Courier New',monospace\">Listing models in project: object_detection_jr_test                                                                \n",
       "</pre>\n"
      ],
      "text/plain": [
       "Listing models in project: object_detection_jr_test                                                                \n"
      ]
     },
     "metadata": {},
     "output_type": "display_data"
    },
    {
     "name": "stderr",
     "output_type": "stream",
     "text": [
      "250626T07:52:22.163Z     INFO| http: https://preprod.cloud.fiddler.ai/v3/projects GET -- emit req (0 B, timeout: (5, 100)) \n",
      "250626T07:52:22.442Z     INFO| http: https://preprod.cloud.fiddler.ai/v3/projects GET -- resp code: 200, took 0.278 s, resp/req body size: (451 B, 0 B) \n",
      "250626T07:52:22.445Z     INFO| http: https://preprod.cloud.fiddler.ai/v3/models GET -- emit req (0 B, timeout: (5, 100)) \n",
      "250626T07:52:22.857Z     INFO| http: https://preprod.cloud.fiddler.ai/v3/models GET -- resp code: 200, took 0.411 s, resp/req body size: (973 B, 0 B) \n"
     ]
    },
    {
     "data": {
      "text/html": [
       "<pre style=\"white-space:pre;overflow-x:auto;line-height:normal;font-family:Menlo,'DejaVu Sans Mono',consolas,'Courier New',monospace\">Listing models in project: jenn_chatbot_2024_10_21                                                                 \n",
       "</pre>\n"
      ],
      "text/plain": [
       "Listing models in project: jenn_chatbot_2024_10_21                                                                 \n"
      ]
     },
     "metadata": {},
     "output_type": "display_data"
    },
    {
     "name": "stderr",
     "output_type": "stream",
     "text": [
      "250626T07:52:22.863Z     INFO| http: https://preprod.cloud.fiddler.ai/v3/projects GET -- emit req (0 B, timeout: (5, 100)) \n",
      "250626T07:52:23.154Z     INFO| http: https://preprod.cloud.fiddler.ai/v3/projects GET -- resp code: 200, took 0.290 s, resp/req body size: (450 B, 0 B) \n",
      "250626T07:52:23.157Z     INFO| http: https://preprod.cloud.fiddler.ai/v3/models GET -- emit req (0 B, timeout: (5, 100)) \n",
      "250626T07:52:23.634Z     INFO| http: https://preprod.cloud.fiddler.ai/v3/models GET -- resp code: 200, took 0.476 s, resp/req body size: (956 B, 0 B) \n"
     ]
    },
    {
     "data": {
      "text/html": [
       "<pre style=\"white-space:pre;overflow-x:auto;line-height:normal;font-family:Menlo,'DejaVu Sans Mono',consolas,'Courier New',monospace\">Listing models in project: test_lea_2416                                                                           \n",
       "</pre>\n"
      ],
      "text/plain": [
       "Listing models in project: test_lea_2416                                                                           \n"
      ]
     },
     "metadata": {},
     "output_type": "display_data"
    },
    {
     "name": "stderr",
     "output_type": "stream",
     "text": [
      "250626T07:52:23.640Z     INFO| http: https://preprod.cloud.fiddler.ai/v3/projects GET -- emit req (0 B, timeout: (5, 100)) \n",
      "250626T07:52:23.934Z     INFO| http: https://preprod.cloud.fiddler.ai/v3/projects GET -- resp code: 200, took 0.292 s, resp/req body size: (440 B, 0 B) \n",
      "250626T07:52:23.938Z     INFO| http: https://preprod.cloud.fiddler.ai/v3/models GET -- emit req (0 B, timeout: (5, 100)) \n",
      "250626T07:52:24.337Z     INFO| http: https://preprod.cloud.fiddler.ai/v3/models GET -- resp code: 200, took 0.398 s, resp/req body size: (159 B, 0 B) \n"
     ]
    },
    {
     "data": {
      "text/html": [
       "<pre style=\"white-space:pre;overflow-x:auto;line-height:normal;font-family:Menlo,'DejaVu Sans Mono',consolas,'Courier New',monospace\">Listing models in project: image_monitoring                                                                        \n",
       "</pre>\n"
      ],
      "text/plain": [
       "Listing models in project: image_monitoring                                                                        \n"
      ]
     },
     "metadata": {},
     "output_type": "display_data"
    },
    {
     "name": "stderr",
     "output_type": "stream",
     "text": [
      "250626T07:52:24.342Z     INFO| http: https://preprod.cloud.fiddler.ai/v3/projects GET -- emit req (0 B, timeout: (5, 100)) \n",
      "250626T07:52:24.624Z     INFO| http: https://preprod.cloud.fiddler.ai/v3/projects GET -- resp code: 200, took 0.281 s, resp/req body size: (443 B, 0 B) \n",
      "250626T07:52:24.628Z     INFO| http: https://preprod.cloud.fiddler.ai/v3/models GET -- emit req (0 B, timeout: (5, 100)) \n",
      "250626T07:52:25.094Z     INFO| http: https://preprod.cloud.fiddler.ai/v3/models GET -- resp code: 200, took 0.466 s, resp/req body size: (963 B, 0 B) \n"
     ]
    },
    {
     "data": {
      "text/html": [
       "<pre style=\"white-space:pre;overflow-x:auto;line-height:normal;font-family:Menlo,'DejaVu Sans Mono',consolas,'Courier New',monospace\">Listing models in project: jr_image_monitoring                                                                     \n",
       "</pre>\n"
      ],
      "text/plain": [
       "Listing models in project: jr_image_monitoring                                                                     \n"
      ]
     },
     "metadata": {},
     "output_type": "display_data"
    },
    {
     "name": "stderr",
     "output_type": "stream",
     "text": [
      "250626T07:52:25.098Z     INFO| http: https://preprod.cloud.fiddler.ai/v3/projects GET -- emit req (0 B, timeout: (5, 100)) \n",
      "250626T07:52:25.370Z     INFO| http: https://preprod.cloud.fiddler.ai/v3/projects GET -- resp code: 200, took 0.271 s, resp/req body size: (446 B, 0 B) \n",
      "250626T07:52:25.373Z     INFO| http: https://preprod.cloud.fiddler.ai/v3/models GET -- emit req (0 B, timeout: (5, 100)) \n",
      "250626T07:52:25.777Z     INFO| http: https://preprod.cloud.fiddler.ai/v3/models GET -- resp code: 200, took 0.404 s, resp/req body size: (966 B, 0 B) \n"
     ]
    },
    {
     "data": {
      "text/html": [
       "<pre style=\"white-space:pre;overflow-x:auto;line-height:normal;font-family:Menlo,'DejaVu Sans Mono',consolas,'Courier New',monospace\">Listing models in project: episci_fe5                                                                              \n",
       "</pre>\n"
      ],
      "text/plain": [
       "Listing models in project: episci_fe5                                                                              \n"
      ]
     },
     "metadata": {},
     "output_type": "display_data"
    },
    {
     "name": "stderr",
     "output_type": "stream",
     "text": [
      "250626T07:52:25.783Z     INFO| http: https://preprod.cloud.fiddler.ai/v3/projects GET -- emit req (0 B, timeout: (5, 100)) \n",
      "250626T07:52:26.064Z     INFO| http: https://preprod.cloud.fiddler.ai/v3/projects GET -- resp code: 200, took 0.279 s, resp/req body size: (437 B, 0 B) \n",
      "250626T07:52:26.067Z     INFO| http: https://preprod.cloud.fiddler.ai/v3/models GET -- emit req (0 B, timeout: (5, 100)) \n",
      "250626T07:52:26.567Z     INFO| http: https://preprod.cloud.fiddler.ai/v3/models GET -- resp code: 200, took 0.499 s, resp/req body size: (967 B, 0 B) \n"
     ]
    },
    {
     "data": {
      "text/html": [
       "<pre style=\"white-space:pre;overflow-x:auto;line-height:normal;font-family:Menlo,'DejaVu Sans Mono',consolas,'Courier New',monospace\">Listing models in project: drb_image_monitoring                                                                    \n",
       "</pre>\n"
      ],
      "text/plain": [
       "Listing models in project: drb_image_monitoring                                                                    \n"
      ]
     },
     "metadata": {},
     "output_type": "display_data"
    },
    {
     "name": "stderr",
     "output_type": "stream",
     "text": [
      "250626T07:52:26.568Z     INFO| http: https://preprod.cloud.fiddler.ai/v3/projects GET -- emit req (0 B, timeout: (5, 100)) \n",
      "250626T07:52:26.843Z     INFO| http: https://preprod.cloud.fiddler.ai/v3/projects GET -- resp code: 200, took 0.274 s, resp/req body size: (447 B, 0 B) \n",
      "250626T07:52:26.844Z     INFO| http: https://preprod.cloud.fiddler.ai/v3/models GET -- emit req (0 B, timeout: (5, 100)) \n",
      "250626T07:52:27.249Z     INFO| http: https://preprod.cloud.fiddler.ai/v3/models GET -- resp code: 200, took 0.405 s, resp/req body size: (159 B, 0 B) \n"
     ]
    },
    {
     "data": {
      "text/html": [
       "<pre style=\"white-space:pre;overflow-x:auto;line-height:normal;font-family:Menlo,'DejaVu Sans Mono',consolas,'Courier New',monospace\">Listing models in project: quickstart_example_1001                                                                 \n",
       "</pre>\n"
      ],
      "text/plain": [
       "Listing models in project: quickstart_example_1001                                                                 \n"
      ]
     },
     "metadata": {},
     "output_type": "display_data"
    },
    {
     "name": "stderr",
     "output_type": "stream",
     "text": [
      "250626T07:52:27.255Z     INFO| http: https://preprod.cloud.fiddler.ai/v3/projects GET -- emit req (0 B, timeout: (5, 100)) \n",
      "250626T07:52:28.110Z     INFO| http: https://preprod.cloud.fiddler.ai/v3/projects GET -- resp code: 200, took 0.854 s, resp/req body size: (450 B, 0 B) \n",
      "250626T07:52:28.111Z     INFO| http: https://preprod.cloud.fiddler.ai/v3/models GET -- emit req (0 B, timeout: (5, 100)) \n",
      "250626T07:52:28.587Z     INFO| http: https://preprod.cloud.fiddler.ai/v3/models GET -- resp code: 200, took 0.475 s, resp/req body size: (966 B, 0 B) \n"
     ]
    },
    {
     "data": {
      "text/html": [
       "<pre style=\"white-space:pre;overflow-x:auto;line-height:normal;font-family:Menlo,'DejaVu Sans Mono',consolas,'Courier New',monospace\">Listing models in project: test_lea                                                                                \n",
       "</pre>\n"
      ],
      "text/plain": [
       "Listing models in project: test_lea                                                                                \n"
      ]
     },
     "metadata": {},
     "output_type": "display_data"
    },
    {
     "name": "stderr",
     "output_type": "stream",
     "text": [
      "250626T07:52:28.593Z     INFO| http: https://preprod.cloud.fiddler.ai/v3/projects GET -- emit req (0 B, timeout: (5, 100)) \n",
      "250626T07:52:28.867Z     INFO| http: https://preprod.cloud.fiddler.ai/v3/projects GET -- resp code: 200, took 0.273 s, resp/req body size: (435 B, 0 B) \n",
      "250626T07:52:28.870Z     INFO| http: https://preprod.cloud.fiddler.ai/v3/models GET -- emit req (0 B, timeout: (5, 100)) \n",
      "250626T07:52:29.274Z     INFO| http: https://preprod.cloud.fiddler.ai/v3/models GET -- resp code: 200, took 0.403 s, resp/req body size: (159 B, 0 B) \n"
     ]
    },
    {
     "data": {
      "text/html": [
       "<pre style=\"white-space:pre;overflow-x:auto;line-height:normal;font-family:Menlo,'DejaVu Sans Mono',consolas,'Courier New',monospace\">Listing models in project: huntington_ctr                                                                          \n",
       "</pre>\n"
      ],
      "text/plain": [
       "Listing models in project: huntington_ctr                                                                          \n"
      ]
     },
     "metadata": {},
     "output_type": "display_data"
    },
    {
     "name": "stderr",
     "output_type": "stream",
     "text": [
      "250626T07:52:29.277Z     INFO| http: https://preprod.cloud.fiddler.ai/v3/projects GET -- emit req (0 B, timeout: (5, 100)) \n",
      "250626T07:52:29.557Z     INFO| http: https://preprod.cloud.fiddler.ai/v3/projects GET -- resp code: 200, took 0.279 s, resp/req body size: (441 B, 0 B) \n",
      "250626T07:52:29.560Z     INFO| http: https://preprod.cloud.fiddler.ai/v3/models GET -- emit req (0 B, timeout: (5, 100)) \n",
      "250626T07:52:30.054Z     INFO| http: https://preprod.cloud.fiddler.ai/v3/models GET -- resp code: 200, took 0.494 s, resp/req body size: (969 B, 0 B) \n"
     ]
    },
    {
     "data": {
      "text/html": [
       "<pre style=\"white-space:pre;overflow-x:auto;line-height:normal;font-family:Menlo,'DejaVu Sans Mono',consolas,'Courier New',monospace\">Listing models in project: test_aggregation                                                                        \n",
       "</pre>\n"
      ],
      "text/plain": [
       "Listing models in project: test_aggregation                                                                        \n"
      ]
     },
     "metadata": {},
     "output_type": "display_data"
    },
    {
     "name": "stderr",
     "output_type": "stream",
     "text": [
      "250626T07:52:30.061Z     INFO| http: https://preprod.cloud.fiddler.ai/v3/projects GET -- emit req (0 B, timeout: (5, 100)) \n",
      "250626T07:52:30.335Z     INFO| http: https://preprod.cloud.fiddler.ai/v3/projects GET -- resp code: 200, took 0.273 s, resp/req body size: (443 B, 0 B) \n",
      "250626T07:52:30.338Z     INFO| http: https://preprod.cloud.fiddler.ai/v3/models GET -- emit req (0 B, timeout: (5, 100)) \n",
      "250626T07:52:30.742Z     INFO| http: https://preprod.cloud.fiddler.ai/v3/models GET -- resp code: 200, took 0.403 s, resp/req body size: (1018 B, 0 B) \n"
     ]
    },
    {
     "data": {
      "text/html": [
       "<pre style=\"white-space:pre;overflow-x:auto;line-height:normal;font-family:Menlo,'DejaVu Sans Mono',consolas,'Courier New',monospace\">Listing models in project: datax_feb_21                                                                            \n",
       "</pre>\n"
      ],
      "text/plain": [
       "Listing models in project: datax_feb_21                                                                            \n"
      ]
     },
     "metadata": {},
     "output_type": "display_data"
    },
    {
     "name": "stderr",
     "output_type": "stream",
     "text": [
      "250626T07:52:30.747Z     INFO| http: https://preprod.cloud.fiddler.ai/v3/projects GET -- emit req (0 B, timeout: (5, 100)) \n",
      "250626T07:52:31.035Z     INFO| http: https://preprod.cloud.fiddler.ai/v3/projects GET -- resp code: 200, took 0.286 s, resp/req body size: (439 B, 0 B) \n",
      "250626T07:52:31.038Z     INFO| http: https://preprod.cloud.fiddler.ai/v3/models GET -- emit req (0 B, timeout: (5, 100)) \n",
      "250626T07:52:31.599Z     INFO| http: https://preprod.cloud.fiddler.ai/v3/models GET -- resp code: 200, took 0.560 s, resp/req body size: (159 B, 0 B) \n"
     ]
    },
    {
     "data": {
      "text/html": [
       "<pre style=\"white-space:pre;overflow-x:auto;line-height:normal;font-family:Menlo,'DejaVu Sans Mono',consolas,'Courier New',monospace\">Listing models in project: fiddler_chatbot_v3                                                                      \n",
       "</pre>\n"
      ],
      "text/plain": [
       "Listing models in project: fiddler_chatbot_v3                                                                      \n"
      ]
     },
     "metadata": {},
     "output_type": "display_data"
    },
    {
     "name": "stderr",
     "output_type": "stream",
     "text": [
      "250626T07:52:31.604Z     INFO| http: https://preprod.cloud.fiddler.ai/v3/projects GET -- emit req (0 B, timeout: (5, 100)) \n",
      "250626T07:52:31.878Z     INFO| http: https://preprod.cloud.fiddler.ai/v3/projects GET -- resp code: 200, took 0.273 s, resp/req body size: (445 B, 0 B) \n",
      "250626T07:52:31.880Z     INFO| http: https://preprod.cloud.fiddler.ai/v3/models GET -- emit req (0 B, timeout: (5, 100)) \n",
      "250626T07:52:32.301Z     INFO| http: https://preprod.cloud.fiddler.ai/v3/models GET -- resp code: 200, took 0.420 s, resp/req body size: (159 B, 0 B) \n"
     ]
    },
    {
     "data": {
      "text/html": [
       "<pre style=\"white-space:pre;overflow-x:auto;line-height:normal;font-family:Menlo,'DejaVu Sans Mono',consolas,'Courier New',monospace\">Listing models in project: catapult_1                                                                              \n",
       "</pre>\n"
      ],
      "text/plain": [
       "Listing models in project: catapult_1                                                                              \n"
      ]
     },
     "metadata": {},
     "output_type": "display_data"
    },
    {
     "name": "stderr",
     "output_type": "stream",
     "text": [
      "250626T07:52:32.308Z     INFO| http: https://preprod.cloud.fiddler.ai/v3/projects GET -- emit req (0 B, timeout: (5, 100)) \n",
      "250626T07:52:32.587Z     INFO| http: https://preprod.cloud.fiddler.ai/v3/projects GET -- resp code: 200, took 0.278 s, resp/req body size: (437 B, 0 B) \n",
      "250626T07:52:32.590Z     INFO| http: https://preprod.cloud.fiddler.ai/v3/models GET -- emit req (0 B, timeout: (5, 100)) \n",
      "250626T07:52:33.084Z     INFO| http: https://preprod.cloud.fiddler.ai/v3/models GET -- resp code: 200, took 0.493 s, resp/req body size: (973 B, 0 B) \n"
     ]
    },
    {
     "data": {
      "text/html": [
       "<pre style=\"white-space:pre;overflow-x:auto;line-height:normal;font-family:Menlo,'DejaVu Sans Mono',consolas,'Courier New',monospace\">Listing models in project: quickstart_examples_njn1                                                                \n",
       "</pre>\n"
      ],
      "text/plain": [
       "Listing models in project: quickstart_examples_njn1                                                                \n"
      ]
     },
     "metadata": {},
     "output_type": "display_data"
    },
    {
     "name": "stderr",
     "output_type": "stream",
     "text": [
      "250626T07:52:33.088Z     INFO| http: https://preprod.cloud.fiddler.ai/v3/projects GET -- emit req (0 B, timeout: (5, 100)) \n",
      "250626T07:52:33.362Z     INFO| http: https://preprod.cloud.fiddler.ai/v3/projects GET -- resp code: 200, took 0.273 s, resp/req body size: (451 B, 0 B) \n",
      "250626T07:52:33.365Z     INFO| http: https://preprod.cloud.fiddler.ai/v3/models GET -- emit req (0 B, timeout: (5, 100)) \n",
      "250626T07:52:33.785Z     INFO| http: https://preprod.cloud.fiddler.ai/v3/models GET -- resp code: 200, took 0.419 s, resp/req body size: (969 B, 0 B) \n"
     ]
    },
    {
     "data": {
      "text/html": [
       "<pre style=\"white-space:pre;overflow-x:auto;line-height:normal;font-family:Menlo,'DejaVu Sans Mono',consolas,'Courier New',monospace\">Listing models in project: quickstart_ex_njn2                                                                      \n",
       "</pre>\n"
      ],
      "text/plain": [
       "Listing models in project: quickstart_ex_njn2                                                                      \n"
      ]
     },
     "metadata": {},
     "output_type": "display_data"
    },
    {
     "name": "stderr",
     "output_type": "stream",
     "text": [
      "250626T07:52:33.791Z     INFO| http: https://preprod.cloud.fiddler.ai/v3/projects GET -- emit req (0 B, timeout: (5, 100)) \n",
      "250626T07:52:34.137Z     INFO| http: https://preprod.cloud.fiddler.ai/v3/projects GET -- resp code: 200, took 0.344 s, resp/req body size: (445 B, 0 B) \n",
      "250626T07:52:34.140Z     INFO| http: https://preprod.cloud.fiddler.ai/v3/models GET -- emit req (0 B, timeout: (5, 100)) \n",
      "250626T07:52:34.605Z     INFO| http: https://preprod.cloud.fiddler.ai/v3/models GET -- resp code: 200, took 0.464 s, resp/req body size: (975 B, 0 B) \n"
     ]
    },
    {
     "data": {
      "text/html": [
       "<pre style=\"white-space:pre;overflow-x:auto;line-height:normal;font-family:Menlo,'DejaVu Sans Mono',consolas,'Courier New',monospace\">Listing models in project: bank_churn                                                                              \n",
       "</pre>\n"
      ],
      "text/plain": [
       "Listing models in project: bank_churn                                                                              \n"
      ]
     },
     "metadata": {},
     "output_type": "display_data"
    },
    {
     "name": "stderr",
     "output_type": "stream",
     "text": [
      "250626T07:52:34.611Z     INFO| http: https://preprod.cloud.fiddler.ai/v3/projects GET -- emit req (0 B, timeout: (5, 100)) \n",
      "250626T07:52:34.960Z     INFO| http: https://preprod.cloud.fiddler.ai/v3/projects GET -- resp code: 200, took 0.349 s, resp/req body size: (437 B, 0 B) \n",
      "250626T07:52:34.963Z     INFO| http: https://preprod.cloud.fiddler.ai/v3/models GET -- emit req (0 B, timeout: (5, 100)) \n",
      "250626T07:52:35.370Z     INFO| http: https://preprod.cloud.fiddler.ai/v3/models GET -- resp code: 200, took 0.406 s, resp/req body size: (1012 B, 0 B) \n"
     ]
    },
    {
     "data": {
      "text/html": [
       "<pre style=\"white-space:pre;overflow-x:auto;line-height:normal;font-family:Menlo,'DejaVu Sans Mono',consolas,'Courier New',monospace\">Listing models in project: life_expectancy_example                                                                 \n",
       "</pre>\n"
      ],
      "text/plain": [
       "Listing models in project: life_expectancy_example                                                                 \n"
      ]
     },
     "metadata": {},
     "output_type": "display_data"
    },
    {
     "name": "stderr",
     "output_type": "stream",
     "text": [
      "250626T07:52:35.375Z     INFO| http: https://preprod.cloud.fiddler.ai/v3/projects GET -- emit req (0 B, timeout: (5, 100)) \n",
      "250626T07:52:35.654Z     INFO| http: https://preprod.cloud.fiddler.ai/v3/projects GET -- resp code: 200, took 0.279 s, resp/req body size: (450 B, 0 B) \n",
      "250626T07:52:35.657Z     INFO| http: https://preprod.cloud.fiddler.ai/v3/models GET -- emit req (0 B, timeout: (5, 100)) \n",
      "250626T07:52:36.117Z     INFO| http: https://preprod.cloud.fiddler.ai/v3/models GET -- resp code: 200, took 0.459 s, resp/req body size: (952 B, 0 B) \n"
     ]
    },
    {
     "data": {
      "text/html": [
       "<pre style=\"white-space:pre;overflow-x:auto;line-height:normal;font-family:Menlo,'DejaVu Sans Mono',consolas,'Courier New',monospace\">Listing models in project: life_expectancy_example2                                                                \n",
       "</pre>\n"
      ],
      "text/plain": [
       "Listing models in project: life_expectancy_example2                                                                \n"
      ]
     },
     "metadata": {},
     "output_type": "display_data"
    },
    {
     "name": "stderr",
     "output_type": "stream",
     "text": [
      "250626T07:52:36.119Z     INFO| http: https://preprod.cloud.fiddler.ai/v3/projects GET -- emit req (0 B, timeout: (5, 100)) \n",
      "250626T07:52:36.393Z     INFO| http: https://preprod.cloud.fiddler.ai/v3/projects GET -- resp code: 200, took 0.273 s, resp/req body size: (451 B, 0 B) \n",
      "250626T07:52:36.396Z     INFO| http: https://preprod.cloud.fiddler.ai/v3/models GET -- emit req (0 B, timeout: (5, 100)) \n",
      "250626T07:52:36.817Z     INFO| http: https://preprod.cloud.fiddler.ai/v3/models GET -- resp code: 200, took 0.421 s, resp/req body size: (958 B, 0 B) \n"
     ]
    },
    {
     "data": {
      "text/html": [
       "<pre style=\"white-space:pre;overflow-x:auto;line-height:normal;font-family:Menlo,'DejaVu Sans Mono',consolas,'Courier New',monospace\">Listing models in project: quickstart_examplesx                                                                    \n",
       "</pre>\n"
      ],
      "text/plain": [
       "Listing models in project: quickstart_examplesx                                                                    \n"
      ]
     },
     "metadata": {},
     "output_type": "display_data"
    },
    {
     "name": "stderr",
     "output_type": "stream",
     "text": [
      "250626T07:52:36.819Z     INFO| http: https://preprod.cloud.fiddler.ai/v3/projects GET -- emit req (0 B, timeout: (5, 100)) \n",
      "250626T07:52:37.099Z     INFO| http: https://preprod.cloud.fiddler.ai/v3/projects GET -- resp code: 200, took 0.279 s, resp/req body size: (447 B, 0 B) \n",
      "250626T07:52:37.102Z     INFO| http: https://preprod.cloud.fiddler.ai/v3/models GET -- emit req (0 B, timeout: (5, 100)) \n",
      "250626T07:52:37.579Z     INFO| http: https://preprod.cloud.fiddler.ai/v3/models GET -- resp code: 200, took 0.477 s, resp/req body size: (159 B, 0 B) \n"
     ]
    },
    {
     "data": {
      "text/html": [
       "<pre style=\"white-space:pre;overflow-x:auto;line-height:normal;font-family:Menlo,'DejaVu Sans Mono',consolas,'Courier New',monospace\">Listing models in project: search_ranking_example                                                                  \n",
       "</pre>\n"
      ],
      "text/plain": [
       "Listing models in project: search_ranking_example                                                                  \n"
      ]
     },
     "metadata": {},
     "output_type": "display_data"
    },
    {
     "name": "stderr",
     "output_type": "stream",
     "text": [
      "250626T07:52:37.581Z     INFO| http: https://preprod.cloud.fiddler.ai/v3/projects GET -- emit req (0 B, timeout: (5, 100)) \n",
      "250626T07:52:37.854Z     INFO| http: https://preprod.cloud.fiddler.ai/v3/projects GET -- resp code: 200, took 0.272 s, resp/req body size: (449 B, 0 B) \n",
      "250626T07:52:37.855Z     INFO| http: https://preprod.cloud.fiddler.ai/v3/models GET -- emit req (0 B, timeout: (5, 100)) \n",
      "250626T07:52:38.268Z     INFO| http: https://preprod.cloud.fiddler.ai/v3/models GET -- resp code: 200, took 0.413 s, resp/req body size: (159 B, 0 B) \n"
     ]
    },
    {
     "data": {
      "text/html": [
       "<pre style=\"white-space:pre;overflow-x:auto;line-height:normal;font-family:Menlo,'DejaVu Sans Mono',consolas,'Courier New',monospace\">Listing models in project: quickstart_examples_dx                                                                  \n",
       "</pre>\n"
      ],
      "text/plain": [
       "Listing models in project: quickstart_examples_dx                                                                  \n"
      ]
     },
     "metadata": {},
     "output_type": "display_data"
    },
    {
     "name": "stderr",
     "output_type": "stream",
     "text": [
      "250626T07:52:38.272Z     INFO| http: https://preprod.cloud.fiddler.ai/v3/projects GET -- emit req (0 B, timeout: (5, 100)) \n",
      "250626T07:52:38.558Z     INFO| http: https://preprod.cloud.fiddler.ai/v3/projects GET -- resp code: 200, took 0.285 s, resp/req body size: (449 B, 0 B) \n",
      "250626T07:52:38.559Z     INFO| http: https://preprod.cloud.fiddler.ai/v3/models GET -- emit req (0 B, timeout: (5, 100)) \n",
      "250626T07:52:39.055Z     INFO| http: https://preprod.cloud.fiddler.ai/v3/models GET -- resp code: 200, took 0.495 s, resp/req body size: (159 B, 0 B) \n"
     ]
    },
    {
     "data": {
      "text/html": [
       "<pre style=\"white-space:pre;overflow-x:auto;line-height:normal;font-family:Menlo,'DejaVu Sans Mono',consolas,'Courier New',monospace\">Listing models in project: datax_demo                                                                              \n",
       "</pre>\n"
      ],
      "text/plain": [
       "Listing models in project: datax_demo                                                                              \n"
      ]
     },
     "metadata": {},
     "output_type": "display_data"
    },
    {
     "name": "stderr",
     "output_type": "stream",
     "text": [
      "250626T07:52:39.060Z     INFO| http: https://preprod.cloud.fiddler.ai/v3/projects GET -- emit req (0 B, timeout: (5, 100)) \n",
      "250626T07:52:39.336Z     INFO| http: https://preprod.cloud.fiddler.ai/v3/projects GET -- resp code: 200, took 0.275 s, resp/req body size: (437 B, 0 B) \n",
      "250626T07:52:39.338Z     INFO| http: https://preprod.cloud.fiddler.ai/v3/models GET -- emit req (0 B, timeout: (5, 100)) \n",
      "250626T07:52:39.741Z     INFO| http: https://preprod.cloud.fiddler.ai/v3/models GET -- resp code: 200, took 0.403 s, resp/req body size: (159 B, 0 B) \n"
     ]
    },
    {
     "data": {
      "text/html": [
       "<pre style=\"white-space:pre;overflow-x:auto;line-height:normal;font-family:Menlo,'DejaVu Sans Mono',consolas,'Courier New',monospace\">Listing models in project: quickstart_examples_nick                                                                \n",
       "</pre>\n"
      ],
      "text/plain": [
       "Listing models in project: quickstart_examples_nick                                                                \n"
      ]
     },
     "metadata": {},
     "output_type": "display_data"
    },
    {
     "name": "stderr",
     "output_type": "stream",
     "text": [
      "250626T07:52:39.744Z     INFO| http: https://preprod.cloud.fiddler.ai/v3/projects GET -- emit req (0 B, timeout: (5, 100)) \n",
      "250626T07:52:40.019Z     INFO| http: https://preprod.cloud.fiddler.ai/v3/projects GET -- resp code: 200, took 0.275 s, resp/req body size: (451 B, 0 B) \n",
      "250626T07:52:40.020Z     INFO| http: https://preprod.cloud.fiddler.ai/v3/models GET -- emit req (0 B, timeout: (5, 100)) \n",
      "250626T07:52:40.525Z     INFO| http: https://preprod.cloud.fiddler.ai/v3/models GET -- resp code: 200, took 0.505 s, resp/req body size: (988 B, 0 B) \n"
     ]
    },
    {
     "data": {
      "text/html": [
       "<pre style=\"white-space:pre;overflow-x:auto;line-height:normal;font-family:Menlo,'DejaVu Sans Mono',consolas,'Courier New',monospace\">Listing models in project: ally_ai                                                                                 \n",
       "</pre>\n"
      ],
      "text/plain": [
       "Listing models in project: ally_ai                                                                                 \n"
      ]
     },
     "metadata": {},
     "output_type": "display_data"
    },
    {
     "name": "stderr",
     "output_type": "stream",
     "text": [
      "250626T07:52:40.527Z     INFO| http: https://preprod.cloud.fiddler.ai/v3/projects GET -- emit req (0 B, timeout: (5, 100)) \n",
      "250626T07:52:40.799Z     INFO| http: https://preprod.cloud.fiddler.ai/v3/projects GET -- resp code: 200, took 0.272 s, resp/req body size: (434 B, 0 B) \n",
      "250626T07:52:40.800Z     INFO| http: https://preprod.cloud.fiddler.ai/v3/models GET -- emit req (0 B, timeout: (5, 100)) \n",
      "250626T07:52:41.222Z     INFO| http: https://preprod.cloud.fiddler.ai/v3/models GET -- resp code: 200, took 0.422 s, resp/req body size: (159 B, 0 B) \n"
     ]
    },
    {
     "data": {
      "text/html": [
       "<pre style=\"white-space:pre;overflow-x:auto;line-height:normal;font-family:Menlo,'DejaVu Sans Mono',consolas,'Courier New',monospace\">Listing models in project: ml_new                                                                                  \n",
       "</pre>\n"
      ],
      "text/plain": [
       "Listing models in project: ml_new                                                                                  \n"
      ]
     },
     "metadata": {},
     "output_type": "display_data"
    },
    {
     "name": "stderr",
     "output_type": "stream",
     "text": [
      "250626T07:52:41.223Z     INFO| http: https://preprod.cloud.fiddler.ai/v3/projects GET -- emit req (0 B, timeout: (5, 100)) \n",
      "250626T07:52:41.507Z     INFO| http: https://preprod.cloud.fiddler.ai/v3/projects GET -- resp code: 200, took 0.284 s, resp/req body size: (433 B, 0 B) \n",
      "250626T07:52:41.510Z     INFO| http: https://preprod.cloud.fiddler.ai/v3/models GET -- emit req (0 B, timeout: (5, 100)) \n",
      "250626T07:52:42.112Z     INFO| http: https://preprod.cloud.fiddler.ai/v3/models GET -- resp code: 200, took 0.602 s, resp/req body size: (7472 B, 0 B) \n"
     ]
    },
    {
     "data": {
      "text/html": [
       "<pre style=\"white-space:pre;overflow-x:auto;line-height:normal;font-family:Menlo,'DejaVu Sans Mono',consolas,'Courier New',monospace\">Listing models in project: ml1_new                                                                                 \n",
       "</pre>\n"
      ],
      "text/plain": [
       "Listing models in project: ml1_new                                                                                 \n"
      ]
     },
     "metadata": {},
     "output_type": "display_data"
    },
    {
     "name": "stderr",
     "output_type": "stream",
     "text": [
      "250626T07:52:42.119Z     INFO| http: https://preprod.cloud.fiddler.ai/v3/projects GET -- emit req (0 B, timeout: (5, 100)) \n",
      "250626T07:52:42.432Z     INFO| http: https://preprod.cloud.fiddler.ai/v3/projects GET -- resp code: 200, took 0.312 s, resp/req body size: (434 B, 0 B) \n",
      "250626T07:52:42.435Z     INFO| http: https://preprod.cloud.fiddler.ai/v3/models GET -- emit req (0 B, timeout: (5, 100)) \n",
      "250626T07:52:42.838Z     INFO| http: https://preprod.cloud.fiddler.ai/v3/models GET -- resp code: 200, took 0.403 s, resp/req body size: (159 B, 0 B) \n"
     ]
    },
    {
     "data": {
      "text/html": [
       "<pre style=\"white-space:pre;overflow-x:auto;line-height:normal;font-family:Menlo,'DejaVu Sans Mono',consolas,'Courier New',monospace\">Listing models in project: state_street                                                                            \n",
       "</pre>\n"
      ],
      "text/plain": [
       "Listing models in project: state_street                                                                            \n"
      ]
     },
     "metadata": {},
     "output_type": "display_data"
    },
    {
     "name": "stderr",
     "output_type": "stream",
     "text": [
      "250626T07:52:42.845Z     INFO| http: https://preprod.cloud.fiddler.ai/v3/projects GET -- emit req (0 B, timeout: (5, 100)) \n",
      "250626T07:52:43.130Z     INFO| http: https://preprod.cloud.fiddler.ai/v3/projects GET -- resp code: 200, took 0.285 s, resp/req body size: (439 B, 0 B) \n",
      "250626T07:52:43.133Z     INFO| http: https://preprod.cloud.fiddler.ai/v3/models GET -- emit req (0 B, timeout: (5, 100)) \n",
      "250626T07:52:43.620Z     INFO| http: https://preprod.cloud.fiddler.ai/v3/models GET -- resp code: 200, took 0.486 s, resp/req body size: (3337 B, 0 B) \n"
     ]
    },
    {
     "data": {
      "text/html": [
       "<pre style=\"white-space:pre;overflow-x:auto;line-height:normal;font-family:Menlo,'DejaVu Sans Mono',consolas,'Courier New',monospace\">Listing models in project: airline_delays                                                                          \n",
       "</pre>\n"
      ],
      "text/plain": [
       "Listing models in project: airline_delays                                                                          \n"
      ]
     },
     "metadata": {},
     "output_type": "display_data"
    },
    {
     "name": "stderr",
     "output_type": "stream",
     "text": [
      "250626T07:52:43.626Z     INFO| http: https://preprod.cloud.fiddler.ai/v3/projects GET -- emit req (0 B, timeout: (5, 100)) \n",
      "250626T07:52:43.974Z     INFO| http: https://preprod.cloud.fiddler.ai/v3/projects GET -- resp code: 200, took 0.347 s, resp/req body size: (441 B, 0 B) \n",
      "250626T07:52:43.976Z     INFO| http: https://preprod.cloud.fiddler.ai/v3/models GET -- emit req (0 B, timeout: (5, 100)) \n",
      "250626T07:52:44.404Z     INFO| http: https://preprod.cloud.fiddler.ai/v3/models GET -- resp code: 200, took 0.427 s, resp/req body size: (963 B, 0 B) \n"
     ]
    },
    {
     "data": {
      "text/html": [
       "<pre style=\"white-space:pre;overflow-x:auto;line-height:normal;font-family:Menlo,'DejaVu Sans Mono',consolas,'Courier New',monospace\">Listing models in project: ml2_new                                                                                 \n",
       "</pre>\n"
      ],
      "text/plain": [
       "Listing models in project: ml2_new                                                                                 \n"
      ]
     },
     "metadata": {},
     "output_type": "display_data"
    },
    {
     "name": "stderr",
     "output_type": "stream",
     "text": [
      "250626T07:52:44.409Z     INFO| http: https://preprod.cloud.fiddler.ai/v3/projects GET -- emit req (0 B, timeout: (5, 100)) \n",
      "250626T07:52:44.687Z     INFO| http: https://preprod.cloud.fiddler.ai/v3/projects GET -- resp code: 200, took 0.277 s, resp/req body size: (434 B, 0 B) \n",
      "250626T07:52:44.689Z     INFO| http: https://preprod.cloud.fiddler.ai/v3/models GET -- emit req (0 B, timeout: (5, 100)) \n",
      "250626T07:52:45.188Z     INFO| http: https://preprod.cloud.fiddler.ai/v3/models GET -- resp code: 200, took 0.499 s, resp/req body size: (159 B, 0 B) \n"
     ]
    },
    {
     "data": {
      "text/html": [
       "<pre style=\"white-space:pre;overflow-x:auto;line-height:normal;font-family:Menlo,'DejaVu Sans Mono',consolas,'Courier New',monospace\">Listing models in project: quickstart_examples_yoshita                                                             \n",
       "</pre>\n"
      ],
      "text/plain": [
       "Listing models in project: quickstart_examples_yoshita                                                             \n"
      ]
     },
     "metadata": {},
     "output_type": "display_data"
    },
    {
     "name": "stderr",
     "output_type": "stream",
     "text": [
      "250626T07:52:45.191Z     INFO| http: https://preprod.cloud.fiddler.ai/v3/projects GET -- emit req (0 B, timeout: (5, 100)) \n",
      "250626T07:52:45.467Z     INFO| http: https://preprod.cloud.fiddler.ai/v3/projects GET -- resp code: 200, took 0.275 s, resp/req body size: (454 B, 0 B) \n",
      "250626T07:52:45.469Z     INFO| http: https://preprod.cloud.fiddler.ai/v3/models GET -- emit req (0 B, timeout: (5, 100)) \n",
      "250626T07:52:45.877Z     INFO| http: https://preprod.cloud.fiddler.ai/v3/models GET -- resp code: 200, took 0.407 s, resp/req body size: (159 B, 0 B) \n"
     ]
    },
    {
     "data": {
      "text/html": [
       "<pre style=\"white-space:pre;overflow-x:auto;line-height:normal;font-family:Menlo,'DejaVu Sans Mono',consolas,'Courier New',monospace\">Listing models in project: py_test                                                                                 \n",
       "</pre>\n"
      ],
      "text/plain": [
       "Listing models in project: py_test                                                                                 \n"
      ]
     },
     "metadata": {},
     "output_type": "display_data"
    },
    {
     "name": "stderr",
     "output_type": "stream",
     "text": [
      "250626T07:52:45.883Z     INFO| http: https://preprod.cloud.fiddler.ai/v3/projects GET -- emit req (0 B, timeout: (5, 100)) \n",
      "250626T07:52:46.160Z     INFO| http: https://preprod.cloud.fiddler.ai/v3/projects GET -- resp code: 200, took 0.276 s, resp/req body size: (434 B, 0 B) \n",
      "250626T07:52:46.161Z     INFO| http: https://preprod.cloud.fiddler.ai/v3/models GET -- emit req (0 B, timeout: (5, 100)) \n",
      "250626T07:52:46.668Z     INFO| http: https://preprod.cloud.fiddler.ai/v3/models GET -- resp code: 200, took 0.507 s, resp/req body size: (4144 B, 0 B) \n"
     ]
    },
    {
     "data": {
      "text/html": [
       "<pre style=\"white-space:pre;overflow-x:auto;line-height:normal;font-family:Menlo,'DejaVu Sans Mono',consolas,'Courier New',monospace\">Listing models in project: model_artifact_upload_test                                                              \n",
       "</pre>\n"
      ],
      "text/plain": [
       "Listing models in project: model_artifact_upload_test                                                              \n"
      ]
     },
     "metadata": {},
     "output_type": "display_data"
    },
    {
     "name": "stderr",
     "output_type": "stream",
     "text": [
      "250626T07:52:46.670Z     INFO| http: https://preprod.cloud.fiddler.ai/v3/projects GET -- emit req (0 B, timeout: (5, 100)) \n",
      "250626T07:52:47.017Z     INFO| http: https://preprod.cloud.fiddler.ai/v3/projects GET -- resp code: 200, took 0.346 s, resp/req body size: (453 B, 0 B) \n",
      "250626T07:52:47.018Z     INFO| http: https://preprod.cloud.fiddler.ai/v3/models GET -- emit req (0 B, timeout: (5, 100)) \n",
      "250626T07:52:47.421Z     INFO| http: https://preprod.cloud.fiddler.ai/v3/models GET -- resp code: 200, took 0.404 s, resp/req body size: (159 B, 0 B) \n"
     ]
    },
    {
     "data": {
      "text/html": [
       "<pre style=\"white-space:pre;overflow-x:auto;line-height:normal;font-family:Menlo,'DejaVu Sans Mono',consolas,'Courier New',monospace\">Listing models in project: seabed_demo_max_test                                                                    \n",
       "</pre>\n"
      ],
      "text/plain": [
       "Listing models in project: seabed_demo_max_test                                                                    \n"
      ]
     },
     "metadata": {},
     "output_type": "display_data"
    },
    {
     "name": "stderr",
     "output_type": "stream",
     "text": [
      "250626T07:52:47.425Z     INFO| http: https://preprod.cloud.fiddler.ai/v3/projects GET -- emit req (0 B, timeout: (5, 100)) \n",
      "250626T07:52:47.722Z     INFO| http: https://preprod.cloud.fiddler.ai/v3/projects GET -- resp code: 200, took 0.296 s, resp/req body size: (447 B, 0 B) \n",
      "250626T07:52:47.725Z     INFO| http: https://preprod.cloud.fiddler.ai/v3/models GET -- emit req (0 B, timeout: (5, 100)) \n",
      "250626T07:52:48.200Z     INFO| http: https://preprod.cloud.fiddler.ai/v3/models GET -- resp code: 200, took 0.474 s, resp/req body size: (159 B, 0 B) \n"
     ]
    },
    {
     "data": {
      "text/html": [
       "<pre style=\"white-space:pre;overflow-x:auto;line-height:normal;font-family:Menlo,'DejaVu Sans Mono',consolas,'Courier New',monospace\">Listing models in project: hybrid_bank_churn                                                                       \n",
       "</pre>\n"
      ],
      "text/plain": [
       "Listing models in project: hybrid_bank_churn                                                                       \n"
      ]
     },
     "metadata": {},
     "output_type": "display_data"
    },
    {
     "name": "stderr",
     "output_type": "stream",
     "text": [
      "250626T07:52:48.206Z     INFO| http: https://preprod.cloud.fiddler.ai/v3/projects GET -- emit req (0 B, timeout: (5, 100)) \n",
      "250626T07:52:48.496Z     INFO| http: https://preprod.cloud.fiddler.ai/v3/projects GET -- resp code: 200, took 0.289 s, resp/req body size: (444 B, 0 B) \n",
      "250626T07:52:48.499Z     INFO| http: https://preprod.cloud.fiddler.ai/v3/models GET -- emit req (0 B, timeout: (5, 100)) \n",
      "250626T07:52:48.909Z     INFO| http: https://preprod.cloud.fiddler.ai/v3/models GET -- resp code: 200, took 0.409 s, resp/req body size: (1005 B, 0 B) \n"
     ]
    },
    {
     "data": {
      "text/html": [
       "<pre style=\"white-space:pre;overflow-x:auto;line-height:normal;font-family:Menlo,'DejaVu Sans Mono',consolas,'Courier New',monospace\">Listing models in project: llm_chat_fdl                                                                            \n",
       "</pre>\n"
      ],
      "text/plain": [
       "Listing models in project: llm_chat_fdl                                                                            \n"
      ]
     },
     "metadata": {},
     "output_type": "display_data"
    },
    {
     "name": "stderr",
     "output_type": "stream",
     "text": [
      "250626T07:52:48.916Z     INFO| http: https://preprod.cloud.fiddler.ai/v3/projects GET -- emit req (0 B, timeout: (5, 100)) \n",
      "250626T07:52:49.196Z     INFO| http: https://preprod.cloud.fiddler.ai/v3/projects GET -- resp code: 200, took 0.278 s, resp/req body size: (439 B, 0 B) \n",
      "250626T07:52:49.199Z     INFO| http: https://preprod.cloud.fiddler.ai/v3/models GET -- emit req (0 B, timeout: (5, 100)) \n",
      "250626T07:52:49.679Z     INFO| http: https://preprod.cloud.fiddler.ai/v3/models GET -- resp code: 200, took 0.479 s, resp/req body size: (1739 B, 0 B) \n"
     ]
    },
    {
     "data": {
      "text/html": [
       "<pre style=\"white-space:pre;overflow-x:auto;line-height:normal;font-family:Menlo,'DejaVu Sans Mono',consolas,'Courier New',monospace\">Listing models in project: llm_yaml                                                                                \n",
       "</pre>\n"
      ],
      "text/plain": [
       "Listing models in project: llm_yaml                                                                                \n"
      ]
     },
     "metadata": {},
     "output_type": "display_data"
    },
    {
     "name": "stderr",
     "output_type": "stream",
     "text": [
      "250626T07:52:49.684Z     INFO| http: https://preprod.cloud.fiddler.ai/v3/projects GET -- emit req (0 B, timeout: (5, 100)) \n",
      "250626T07:52:49.957Z     INFO| http: https://preprod.cloud.fiddler.ai/v3/projects GET -- resp code: 200, took 0.272 s, resp/req body size: (435 B, 0 B) \n",
      "250626T07:52:49.958Z     INFO| http: https://preprod.cloud.fiddler.ai/v3/models GET -- emit req (0 B, timeout: (5, 100)) \n",
      "250626T07:52:50.359Z     INFO| http: https://preprod.cloud.fiddler.ai/v3/models GET -- resp code: 200, took 0.400 s, resp/req body size: (159 B, 0 B) \n"
     ]
    },
    {
     "data": {
      "text/html": [
       "<pre style=\"white-space:pre;overflow-x:auto;line-height:normal;font-family:Menlo,'DejaVu Sans Mono',consolas,'Courier New',monospace\">Listing models in project: search_ranking                                                                          \n",
       "</pre>\n"
      ],
      "text/plain": [
       "Listing models in project: search_ranking                                                                          \n"
      ]
     },
     "metadata": {},
     "output_type": "display_data"
    },
    {
     "name": "stderr",
     "output_type": "stream",
     "text": [
      "250626T07:52:50.364Z     INFO| http: https://preprod.cloud.fiddler.ai/v3/projects GET -- emit req (0 B, timeout: (5, 100)) \n",
      "250626T07:52:50.674Z     INFO| http: https://preprod.cloud.fiddler.ai/v3/projects GET -- resp code: 200, took 0.309 s, resp/req body size: (441 B, 0 B) \n",
      "250626T07:52:50.678Z     INFO| http: https://preprod.cloud.fiddler.ai/v3/models GET -- emit req (0 B, timeout: (5, 100)) \n",
      "250626T07:52:51.175Z     INFO| http: https://preprod.cloud.fiddler.ai/v3/models GET -- resp code: 200, took 0.497 s, resp/req body size: (1757 B, 0 B) \n"
     ]
    },
    {
     "data": {
      "text/html": [
       "<pre style=\"white-space:pre;overflow-x:auto;line-height:normal;font-family:Menlo,'DejaVu Sans Mono',consolas,'Courier New',monospace\">Listing models in project: quickstart_examplesranking                                                              \n",
       "</pre>\n"
      ],
      "text/plain": [
       "Listing models in project: quickstart_examplesranking                                                              \n"
      ]
     },
     "metadata": {},
     "output_type": "display_data"
    },
    {
     "name": "stderr",
     "output_type": "stream",
     "text": [
      "250626T07:52:51.182Z     INFO| http: https://preprod.cloud.fiddler.ai/v3/projects GET -- emit req (0 B, timeout: (5, 100)) \n",
      "250626T07:52:51.479Z     INFO| http: https://preprod.cloud.fiddler.ai/v3/projects GET -- resp code: 200, took 0.294 s, resp/req body size: (453 B, 0 B) \n",
      "250626T07:52:51.481Z     INFO| http: https://preprod.cloud.fiddler.ai/v3/models GET -- emit req (0 B, timeout: (5, 100)) \n",
      "250626T07:52:51.896Z     INFO| http: https://preprod.cloud.fiddler.ai/v3/models GET -- resp code: 200, took 0.414 s, resp/req body size: (969 B, 0 B) \n"
     ]
    },
    {
     "data": {
      "text/html": [
       "<pre style=\"white-space:pre;overflow-x:auto;line-height:normal;font-family:Menlo,'DejaVu Sans Mono',consolas,'Courier New',monospace\">Listing models in project: llm_chat                                                                                \n",
       "</pre>\n"
      ],
      "text/plain": [
       "Listing models in project: llm_chat                                                                                \n"
      ]
     },
     "metadata": {},
     "output_type": "display_data"
    },
    {
     "name": "stderr",
     "output_type": "stream",
     "text": [
      "250626T07:52:51.902Z     INFO| http: https://preprod.cloud.fiddler.ai/v3/projects GET -- emit req (0 B, timeout: (5, 100)) \n",
      "250626T07:52:52.205Z     INFO| http: https://preprod.cloud.fiddler.ai/v3/projects GET -- resp code: 200, took 0.303 s, resp/req body size: (435 B, 0 B) \n",
      "250626T07:52:52.207Z     INFO| http: https://preprod.cloud.fiddler.ai/v3/models GET -- emit req (0 B, timeout: (5, 100)) \n",
      "250626T07:52:52.713Z     INFO| http: https://preprod.cloud.fiddler.ai/v3/models GET -- resp code: 200, took 0.505 s, resp/req body size: (959 B, 0 B) \n"
     ]
    },
    {
     "data": {
      "text/html": [
       "<pre style=\"white-space:pre;overflow-x:auto;line-height:normal;font-family:Menlo,'DejaVu Sans Mono',consolas,'Courier New',monospace\">Listing models in project: search_ranking_queries                                                                  \n",
       "</pre>\n"
      ],
      "text/plain": [
       "Listing models in project: search_ranking_queries                                                                  \n"
      ]
     },
     "metadata": {},
     "output_type": "display_data"
    },
    {
     "name": "stderr",
     "output_type": "stream",
     "text": [
      "250626T07:52:52.720Z     INFO| http: https://preprod.cloud.fiddler.ai/v3/projects GET -- emit req (0 B, timeout: (5, 100)) \n",
      "250626T07:52:53.001Z     INFO| http: https://preprod.cloud.fiddler.ai/v3/projects GET -- resp code: 200, took 0.280 s, resp/req body size: (449 B, 0 B) \n",
      "250626T07:52:53.002Z     INFO| http: https://preprod.cloud.fiddler.ai/v3/models GET -- emit req (0 B, timeout: (5, 100)) \n",
      "250626T07:52:53.410Z     INFO| http: https://preprod.cloud.fiddler.ai/v3/models GET -- resp code: 200, took 0.407 s, resp/req body size: (973 B, 0 B) \n"
     ]
    },
    {
     "data": {
      "text/html": [
       "<pre style=\"white-space:pre;overflow-x:auto;line-height:normal;font-family:Menlo,'DejaVu Sans Mono',consolas,'Courier New',monospace\">Listing models in project: josh_image_monitoring                                                                   \n",
       "</pre>\n"
      ],
      "text/plain": [
       "Listing models in project: josh_image_monitoring                                                                   \n"
      ]
     },
     "metadata": {},
     "output_type": "display_data"
    },
    {
     "name": "stderr",
     "output_type": "stream",
     "text": [
      "250626T07:52:53.415Z     INFO| http: https://preprod.cloud.fiddler.ai/v3/projects GET -- emit req (0 B, timeout: (5, 100)) \n",
      "250626T07:52:53.703Z     INFO| http: https://preprod.cloud.fiddler.ai/v3/projects GET -- resp code: 200, took 0.288 s, resp/req body size: (448 B, 0 B) \n",
      "250626T07:52:53.706Z     INFO| http: https://preprod.cloud.fiddler.ai/v3/models GET -- emit req (0 B, timeout: (5, 100)) \n",
      "250626T07:52:54.198Z     INFO| http: https://preprod.cloud.fiddler.ai/v3/models GET -- resp code: 200, took 0.491 s, resp/req body size: (968 B, 0 B) \n"
     ]
    },
    {
     "data": {
      "text/html": [
       "<pre style=\"white-space:pre;overflow-x:auto;line-height:normal;font-family:Menlo,'DejaVu Sans Mono',consolas,'Courier New',monospace\">Listing models in project: demo_ranking                                                                            \n",
       "</pre>\n"
      ],
      "text/plain": [
       "Listing models in project: demo_ranking                                                                            \n"
      ]
     },
     "metadata": {},
     "output_type": "display_data"
    },
    {
     "name": "stderr",
     "output_type": "stream",
     "text": [
      "250626T07:52:54.200Z     INFO| http: https://preprod.cloud.fiddler.ai/v3/projects GET -- emit req (0 B, timeout: (5, 100)) \n",
      "250626T07:52:54.477Z     INFO| http: https://preprod.cloud.fiddler.ai/v3/projects GET -- resp code: 200, took 0.277 s, resp/req body size: (439 B, 0 B) \n",
      "250626T07:52:54.479Z     INFO| http: https://preprod.cloud.fiddler.ai/v3/models GET -- emit req (0 B, timeout: (5, 100)) \n",
      "250626T07:52:54.965Z     INFO| http: https://preprod.cloud.fiddler.ai/v3/models GET -- resp code: 200, took 0.485 s, resp/req body size: (1754 B, 0 B) \n"
     ]
    },
    {
     "data": {
      "text/html": [
       "<pre style=\"white-space:pre;overflow-x:auto;line-height:normal;font-family:Menlo,'DejaVu Sans Mono',consolas,'Courier New',monospace\">Listing models in project: ai_travel_agent                                                                         \n",
       "</pre>\n"
      ],
      "text/plain": [
       "Listing models in project: ai_travel_agent                                                                         \n"
      ]
     },
     "metadata": {},
     "output_type": "display_data"
    },
    {
     "name": "stderr",
     "output_type": "stream",
     "text": [
      "250626T07:52:54.970Z     INFO| http: https://preprod.cloud.fiddler.ai/v3/projects GET -- emit req (0 B, timeout: (5, 100)) \n",
      "250626T07:52:55.295Z     INFO| http: https://preprod.cloud.fiddler.ai/v3/projects GET -- resp code: 200, took 0.324 s, resp/req body size: (442 B, 0 B) \n",
      "250626T07:52:55.297Z     INFO| http: https://preprod.cloud.fiddler.ai/v3/models GET -- emit req (0 B, timeout: (5, 100)) \n",
      "250626T07:52:55.778Z     INFO| http: https://preprod.cloud.fiddler.ai/v3/models GET -- resp code: 200, took 0.479 s, resp/req body size: (1753 B, 0 B) \n"
     ]
    },
    {
     "data": {
      "text/html": [
       "<pre style=\"white-space:pre;overflow-x:auto;line-height:normal;font-family:Menlo,'DejaVu Sans Mono',consolas,'Courier New',monospace\">Listing models in project: llm_chat_fdl2                                                                           \n",
       "</pre>\n"
      ],
      "text/plain": [
       "Listing models in project: llm_chat_fdl2                                                                           \n"
      ]
     },
     "metadata": {},
     "output_type": "display_data"
    },
    {
     "name": "stderr",
     "output_type": "stream",
     "text": [
      "250626T07:52:55.784Z     INFO| http: https://preprod.cloud.fiddler.ai/v3/projects GET -- emit req (0 B, timeout: (5, 100)) \n",
      "250626T07:52:56.068Z     INFO| http: https://preprod.cloud.fiddler.ai/v3/projects GET -- resp code: 200, took 0.282 s, resp/req body size: (440 B, 0 B) \n",
      "250626T07:52:56.070Z     INFO| http: https://preprod.cloud.fiddler.ai/v3/models GET -- emit req (0 B, timeout: (5, 100)) \n",
      "250626T07:52:56.477Z     INFO| http: https://preprod.cloud.fiddler.ai/v3/models GET -- resp code: 200, took 0.405 s, resp/req body size: (159 B, 0 B) \n"
     ]
    },
    {
     "data": {
      "text/html": [
       "<pre style=\"white-space:pre;overflow-x:auto;line-height:normal;font-family:Menlo,'DejaVu Sans Mono',consolas,'Courier New',monospace\">Listing models in project: llm_chat_fdl3                                                                           \n",
       "</pre>\n"
      ],
      "text/plain": [
       "Listing models in project: llm_chat_fdl3                                                                           \n"
      ]
     },
     "metadata": {},
     "output_type": "display_data"
    },
    {
     "name": "stderr",
     "output_type": "stream",
     "text": [
      "250626T07:52:56.483Z     INFO| http: https://preprod.cloud.fiddler.ai/v3/projects GET -- emit req (0 B, timeout: (5, 100)) \n",
      "250626T07:52:57.006Z     INFO| http: https://preprod.cloud.fiddler.ai/v3/projects GET -- resp code: 200, took 0.521 s, resp/req body size: (440 B, 0 B) \n",
      "250626T07:52:57.009Z     INFO| http: https://preprod.cloud.fiddler.ai/v3/models GET -- emit req (0 B, timeout: (5, 100)) \n",
      "250626T07:52:57.501Z     INFO| http: https://preprod.cloud.fiddler.ai/v3/models GET -- resp code: 200, took 0.491 s, resp/req body size: (956 B, 0 B) \n"
     ]
    },
    {
     "data": {
      "text/html": [
       "<pre style=\"white-space:pre;overflow-x:auto;line-height:normal;font-family:Menlo,'DejaVu Sans Mono',consolas,'Courier New',monospace\">Listing models in project: ai_travel_agent_anu                                                                     \n",
       "</pre>\n"
      ],
      "text/plain": [
       "Listing models in project: ai_travel_agent_anu                                                                     \n"
      ]
     },
     "metadata": {},
     "output_type": "display_data"
    },
    {
     "name": "stderr",
     "output_type": "stream",
     "text": [
      "250626T07:52:57.507Z     INFO| http: https://preprod.cloud.fiddler.ai/v3/projects GET -- emit req (0 B, timeout: (5, 100)) \n",
      "250626T07:52:57.782Z     INFO| http: https://preprod.cloud.fiddler.ai/v3/projects GET -- resp code: 200, took 0.274 s, resp/req body size: (446 B, 0 B) \n",
      "250626T07:52:57.785Z     INFO| http: https://preprod.cloud.fiddler.ai/v3/models GET -- emit req (0 B, timeout: (5, 100)) \n",
      "250626T07:52:58.183Z     INFO| http: https://preprod.cloud.fiddler.ai/v3/models GET -- resp code: 200, took 0.397 s, resp/req body size: (159 B, 0 B) \n"
     ]
    },
    {
     "data": {
      "text/html": [
       "<pre style=\"white-space:pre;overflow-x:auto;line-height:normal;font-family:Menlo,'DejaVu Sans Mono',consolas,'Courier New',monospace\">Listing models in project: llm_chat_fdl4                                                                           \n",
       "</pre>\n"
      ],
      "text/plain": [
       "Listing models in project: llm_chat_fdl4                                                                           \n"
      ]
     },
     "metadata": {},
     "output_type": "display_data"
    },
    {
     "name": "stderr",
     "output_type": "stream",
     "text": [
      "250626T07:52:58.189Z     INFO| http: https://preprod.cloud.fiddler.ai/v3/projects GET -- emit req (0 B, timeout: (5, 100)) \n",
      "250626T07:52:58.468Z     INFO| http: https://preprod.cloud.fiddler.ai/v3/projects GET -- resp code: 200, took 0.278 s, resp/req body size: (440 B, 0 B) \n",
      "250626T07:52:58.471Z     INFO| http: https://preprod.cloud.fiddler.ai/v3/models GET -- emit req (0 B, timeout: (5, 100)) \n",
      "250626T07:52:59.253Z     INFO| http: https://preprod.cloud.fiddler.ai/v3/models GET -- resp code: 200, took 0.781 s, resp/req body size: (159 B, 0 B) \n"
     ]
    },
    {
     "data": {
      "text/html": [
       "<pre style=\"white-space:pre;overflow-x:auto;line-height:normal;font-family:Menlo,'DejaVu Sans Mono',consolas,'Courier New',monospace\">Listing models in project: hadron_test                                                                             \n",
       "</pre>\n"
      ],
      "text/plain": [
       "Listing models in project: hadron_test                                                                             \n"
      ]
     },
     "metadata": {},
     "output_type": "display_data"
    },
    {
     "name": "stderr",
     "output_type": "stream",
     "text": [
      "250626T07:52:59.257Z     INFO| http: https://preprod.cloud.fiddler.ai/v3/projects GET -- emit req (0 B, timeout: (5, 100)) \n",
      "250626T07:52:59.592Z     INFO| http: https://preprod.cloud.fiddler.ai/v3/projects GET -- resp code: 200, took 0.334 s, resp/req body size: (438 B, 0 B) \n",
      "250626T07:52:59.595Z     INFO| http: https://preprod.cloud.fiddler.ai/v3/models GET -- emit req (0 B, timeout: (5, 100)) \n",
      "250626T07:52:59.992Z     INFO| http: https://preprod.cloud.fiddler.ai/v3/models GET -- resp code: 200, took 0.396 s, resp/req body size: (159 B, 0 B) \n"
     ]
    },
    {
     "data": {
      "text/html": [
       "<pre style=\"white-space:pre;overflow-x:auto;line-height:normal;font-family:Menlo,'DejaVu Sans Mono',consolas,'Courier New',monospace\">Listing models in project: hardon_test                                                                             \n",
       "</pre>\n"
      ],
      "text/plain": [
       "Listing models in project: hardon_test                                                                             \n"
      ]
     },
     "metadata": {},
     "output_type": "display_data"
    },
    {
     "name": "stderr",
     "output_type": "stream",
     "text": [
      "250626T07:52:59.997Z     INFO| http: https://preprod.cloud.fiddler.ai/v3/projects GET -- emit req (0 B, timeout: (5, 100)) \n",
      "250626T07:53:00.276Z     INFO| http: https://preprod.cloud.fiddler.ai/v3/projects GET -- resp code: 200, took 0.278 s, resp/req body size: (438 B, 0 B) \n",
      "250626T07:53:00.279Z     INFO| http: https://preprod.cloud.fiddler.ai/v3/models GET -- emit req (0 B, timeout: (5, 100)) \n",
      "250626T07:53:00.742Z     INFO| http: https://preprod.cloud.fiddler.ai/v3/models GET -- resp code: 200, took 0.462 s, resp/req body size: (159 B, 0 B) \n"
     ]
    },
    {
     "data": {
      "text/html": [
       "<pre style=\"white-space:pre;overflow-x:auto;line-height:normal;font-family:Menlo,'DejaVu Sans Mono',consolas,'Courier New',monospace\">Listing models in project: llm_chat_1732039552                                                                     \n",
       "</pre>\n"
      ],
      "text/plain": [
       "Listing models in project: llm_chat_1732039552                                                                     \n"
      ]
     },
     "metadata": {},
     "output_type": "display_data"
    },
    {
     "name": "stderr",
     "output_type": "stream",
     "text": [
      "250626T07:53:00.747Z     INFO| http: https://preprod.cloud.fiddler.ai/v3/projects GET -- emit req (0 B, timeout: (5, 100)) \n",
      "250626T07:53:01.022Z     INFO| http: https://preprod.cloud.fiddler.ai/v3/projects GET -- resp code: 200, took 0.274 s, resp/req body size: (446 B, 0 B) \n",
      "250626T07:53:01.024Z     INFO| http: https://preprod.cloud.fiddler.ai/v3/models GET -- emit req (0 B, timeout: (5, 100)) \n",
      "250626T07:53:01.441Z     INFO| http: https://preprod.cloud.fiddler.ai/v3/models GET -- resp code: 200, took 0.416 s, resp/req body size: (159 B, 0 B) \n"
     ]
    },
    {
     "data": {
      "text/html": [
       "<pre style=\"white-space:pre;overflow-x:auto;line-height:normal;font-family:Menlo,'DejaVu Sans Mono',consolas,'Courier New',monospace\">Listing models in project: hardon_test_list                                                                        \n",
       "</pre>\n"
      ],
      "text/plain": [
       "Listing models in project: hardon_test_list                                                                        \n"
      ]
     },
     "metadata": {},
     "output_type": "display_data"
    },
    {
     "name": "stderr",
     "output_type": "stream",
     "text": [
      "250626T07:53:01.447Z     INFO| http: https://preprod.cloud.fiddler.ai/v3/projects GET -- emit req (0 B, timeout: (5, 100)) \n",
      "250626T07:53:01.728Z     INFO| http: https://preprod.cloud.fiddler.ai/v3/projects GET -- resp code: 200, took 0.280 s, resp/req body size: (443 B, 0 B) \n",
      "250626T07:53:01.730Z     INFO| http: https://preprod.cloud.fiddler.ai/v3/models GET -- emit req (0 B, timeout: (5, 100)) \n",
      "250626T07:53:02.296Z     INFO| http: https://preprod.cloud.fiddler.ai/v3/models GET -- resp code: 200, took 0.566 s, resp/req body size: (959 B, 0 B) \n"
     ]
    },
    {
     "data": {
      "text/html": [
       "<pre style=\"white-space:pre;overflow-x:auto;line-height:normal;font-family:Menlo,'DejaVu Sans Mono',consolas,'Courier New',monospace\">Listing models in project: hardon_test_list2                                                                       \n",
       "</pre>\n"
      ],
      "text/plain": [
       "Listing models in project: hardon_test_list2                                                                       \n"
      ]
     },
     "metadata": {},
     "output_type": "display_data"
    },
    {
     "name": "stderr",
     "output_type": "stream",
     "text": [
      "250626T07:53:02.302Z     INFO| http: https://preprod.cloud.fiddler.ai/v3/projects GET -- emit req (0 B, timeout: (5, 100)) \n",
      "250626T07:53:02.674Z     INFO| http: https://preprod.cloud.fiddler.ai/v3/projects GET -- resp code: 200, took 0.371 s, resp/req body size: (444 B, 0 B) \n",
      "250626T07:53:02.677Z     INFO| http: https://preprod.cloud.fiddler.ai/v3/models GET -- emit req (0 B, timeout: (5, 100)) \n",
      "250626T07:53:03.093Z     INFO| http: https://preprod.cloud.fiddler.ai/v3/models GET -- resp code: 200, took 0.415 s, resp/req body size: (960 B, 0 B) \n"
     ]
    },
    {
     "data": {
      "text/html": [
       "<pre style=\"white-space:pre;overflow-x:auto;line-height:normal;font-family:Menlo,'DejaVu Sans Mono',consolas,'Courier New',monospace\">Listing models in project: image_monitoring1732053018                                                              \n",
       "</pre>\n"
      ],
      "text/plain": [
       "Listing models in project: image_monitoring1732053018                                                              \n"
      ]
     },
     "metadata": {},
     "output_type": "display_data"
    },
    {
     "name": "stderr",
     "output_type": "stream",
     "text": [
      "250626T07:53:03.098Z     INFO| http: https://preprod.cloud.fiddler.ai/v3/projects GET -- emit req (0 B, timeout: (5, 100)) \n",
      "250626T07:53:03.377Z     INFO| http: https://preprod.cloud.fiddler.ai/v3/projects GET -- resp code: 200, took 0.277 s, resp/req body size: (453 B, 0 B) \n",
      "250626T07:53:03.379Z     INFO| http: https://preprod.cloud.fiddler.ai/v3/models GET -- emit req (0 B, timeout: (5, 100)) \n",
      "250626T07:53:03.857Z     INFO| http: https://preprod.cloud.fiddler.ai/v3/models GET -- resp code: 200, took 0.478 s, resp/req body size: (973 B, 0 B) \n"
     ]
    },
    {
     "data": {
      "text/html": [
       "<pre style=\"white-space:pre;overflow-x:auto;line-height:normal;font-family:Menlo,'DejaVu Sans Mono',consolas,'Courier New',monospace\">Listing models in project: nlp_travelers                                                                           \n",
       "</pre>\n"
      ],
      "text/plain": [
       "Listing models in project: nlp_travelers                                                                           \n"
      ]
     },
     "metadata": {},
     "output_type": "display_data"
    },
    {
     "name": "stderr",
     "output_type": "stream",
     "text": [
      "250626T07:53:03.862Z     INFO| http: https://preprod.cloud.fiddler.ai/v3/projects GET -- emit req (0 B, timeout: (5, 100)) \n",
      "250626T07:53:04.167Z     INFO| http: https://preprod.cloud.fiddler.ai/v3/projects GET -- resp code: 200, took 0.304 s, resp/req body size: (440 B, 0 B) \n",
      "250626T07:53:04.170Z     INFO| http: https://preprod.cloud.fiddler.ai/v3/models GET -- emit req (0 B, timeout: (5, 100)) \n",
      "250626T07:53:04.579Z     INFO| http: https://preprod.cloud.fiddler.ai/v3/models GET -- resp code: 200, took 0.409 s, resp/req body size: (977 B, 0 B) \n"
     ]
    },
    {
     "data": {
      "text/html": [
       "<pre style=\"white-space:pre;overflow-x:auto;line-height:normal;font-family:Menlo,'DejaVu Sans Mono',consolas,'Courier New',monospace\">Listing models in project: ai_travel_agent_av                                                                      \n",
       "</pre>\n"
      ],
      "text/plain": [
       "Listing models in project: ai_travel_agent_av                                                                      \n"
      ]
     },
     "metadata": {},
     "output_type": "display_data"
    },
    {
     "name": "stderr",
     "output_type": "stream",
     "text": [
      "250626T07:53:04.584Z     INFO| http: https://preprod.cloud.fiddler.ai/v3/projects GET -- emit req (0 B, timeout: (5, 100)) \n",
      "250626T07:53:04.868Z     INFO| http: https://preprod.cloud.fiddler.ai/v3/projects GET -- resp code: 200, took 0.283 s, resp/req body size: (445 B, 0 B) \n",
      "250626T07:53:04.871Z     INFO| http: https://preprod.cloud.fiddler.ai/v3/models GET -- emit req (0 B, timeout: (5, 100)) \n",
      "250626T07:53:05.374Z     INFO| http: https://preprod.cloud.fiddler.ai/v3/models GET -- resp code: 200, took 0.503 s, resp/req body size: (1759 B, 0 B) \n"
     ]
    },
    {
     "data": {
      "text/html": [
       "<pre style=\"white-space:pre;overflow-x:auto;line-height:normal;font-family:Menlo,'DejaVu Sans Mono',consolas,'Courier New',monospace\">Listing models in project: ai_travel_agent_sabina                                                                  \n",
       "</pre>\n"
      ],
      "text/plain": [
       "Listing models in project: ai_travel_agent_sabina                                                                  \n"
      ]
     },
     "metadata": {},
     "output_type": "display_data"
    },
    {
     "name": "stderr",
     "output_type": "stream",
     "text": [
      "250626T07:53:05.381Z     INFO| http: https://preprod.cloud.fiddler.ai/v3/projects GET -- emit req (0 B, timeout: (5, 100)) \n",
      "250626T07:53:05.658Z     INFO| http: https://preprod.cloud.fiddler.ai/v3/projects GET -- resp code: 200, took 0.276 s, resp/req body size: (449 B, 0 B) \n",
      "250626T07:53:05.659Z     INFO| http: https://preprod.cloud.fiddler.ai/v3/models GET -- emit req (0 B, timeout: (5, 100)) \n",
      "250626T07:53:06.350Z     INFO| http: https://preprod.cloud.fiddler.ai/v3/models GET -- resp code: 200, took 0.690 s, resp/req body size: (963 B, 0 B) \n"
     ]
    },
    {
     "data": {
      "text/html": [
       "<pre style=\"white-space:pre;overflow-x:auto;line-height:normal;font-family:Menlo,'DejaVu Sans Mono',consolas,'Courier New',monospace\">Listing models in project: ai_travel_agent_scart                                                                   \n",
       "</pre>\n"
      ],
      "text/plain": [
       "Listing models in project: ai_travel_agent_scart                                                                   \n"
      ]
     },
     "metadata": {},
     "output_type": "display_data"
    },
    {
     "name": "stderr",
     "output_type": "stream",
     "text": [
      "250626T07:53:06.354Z     INFO| http: https://preprod.cloud.fiddler.ai/v3/projects GET -- emit req (0 B, timeout: (5, 100)) \n",
      "250626T07:53:06.636Z     INFO| http: https://preprod.cloud.fiddler.ai/v3/projects GET -- resp code: 200, took 0.281 s, resp/req body size: (448 B, 0 B) \n",
      "250626T07:53:06.638Z     INFO| http: https://preprod.cloud.fiddler.ai/v3/models GET -- emit req (0 B, timeout: (5, 100)) \n",
      "250626T07:53:07.119Z     INFO| http: https://preprod.cloud.fiddler.ai/v3/models GET -- resp code: 200, took 0.480 s, resp/req body size: (159 B, 0 B) \n"
     ]
    },
    {
     "data": {
      "text/html": [
       "<pre style=\"white-space:pre;overflow-x:auto;line-height:normal;font-family:Menlo,'DejaVu Sans Mono',consolas,'Courier New',monospace\">Listing models in project: ai_travel_agent_anushrav                                                                \n",
       "</pre>\n"
      ],
      "text/plain": [
       "Listing models in project: ai_travel_agent_anushrav                                                                \n"
      ]
     },
     "metadata": {},
     "output_type": "display_data"
    },
    {
     "name": "stderr",
     "output_type": "stream",
     "text": [
      "250626T07:53:07.124Z     INFO| http: https://preprod.cloud.fiddler.ai/v3/projects GET -- emit req (0 B, timeout: (5, 100)) \n",
      "250626T07:53:07.398Z     INFO| http: https://preprod.cloud.fiddler.ai/v3/projects GET -- resp code: 200, took 0.273 s, resp/req body size: (451 B, 0 B) \n",
      "250626T07:53:07.401Z     INFO| http: https://preprod.cloud.fiddler.ai/v3/models GET -- emit req (0 B, timeout: (5, 100)) \n",
      "250626T07:53:07.813Z     INFO| http: https://preprod.cloud.fiddler.ai/v3/models GET -- resp code: 200, took 0.411 s, resp/req body size: (1771 B, 0 B) \n"
     ]
    },
    {
     "data": {
      "text/html": [
       "<pre style=\"white-space:pre;overflow-x:auto;line-height:normal;font-family:Menlo,'DejaVu Sans Mono',consolas,'Courier New',monospace\">Listing models in project: ai_travel_agent_sc                                                                      \n",
       "</pre>\n"
      ],
      "text/plain": [
       "Listing models in project: ai_travel_agent_sc                                                                      \n"
      ]
     },
     "metadata": {},
     "output_type": "display_data"
    },
    {
     "name": "stderr",
     "output_type": "stream",
     "text": [
      "250626T07:53:07.820Z     INFO| http: https://preprod.cloud.fiddler.ai/v3/projects GET -- emit req (0 B, timeout: (5, 100)) \n",
      "250626T07:53:08.104Z     INFO| http: https://preprod.cloud.fiddler.ai/v3/projects GET -- resp code: 200, took 0.282 s, resp/req body size: (445 B, 0 B) \n",
      "250626T07:53:08.107Z     INFO| http: https://preprod.cloud.fiddler.ai/v3/models GET -- emit req (0 B, timeout: (5, 100)) \n",
      "250626T07:53:08.589Z     INFO| http: https://preprod.cloud.fiddler.ai/v3/models GET -- resp code: 200, took 0.482 s, resp/req body size: (1759 B, 0 B) \n"
     ]
    },
    {
     "data": {
      "text/html": [
       "<pre style=\"white-space:pre;overflow-x:auto;line-height:normal;font-family:Menlo,'DejaVu Sans Mono',consolas,'Courier New',monospace\">Listing models in project: ai_travel_agent_anuvv                                                                   \n",
       "</pre>\n"
      ],
      "text/plain": [
       "Listing models in project: ai_travel_agent_anuvv                                                                   \n"
      ]
     },
     "metadata": {},
     "output_type": "display_data"
    },
    {
     "name": "stderr",
     "output_type": "stream",
     "text": [
      "250626T07:53:08.593Z     INFO| http: https://preprod.cloud.fiddler.ai/v3/projects GET -- emit req (0 B, timeout: (5, 100)) \n",
      "250626T07:53:08.866Z     INFO| http: https://preprod.cloud.fiddler.ai/v3/projects GET -- resp code: 200, took 0.273 s, resp/req body size: (448 B, 0 B) \n",
      "250626T07:53:08.869Z     INFO| http: https://preprod.cloud.fiddler.ai/v3/models GET -- emit req (0 B, timeout: (5, 100)) \n",
      "250626T07:53:09.388Z     INFO| http: https://preprod.cloud.fiddler.ai/v3/models GET -- resp code: 200, took 0.519 s, resp/req body size: (1765 B, 0 B) \n"
     ]
    },
    {
     "data": {
      "text/html": [
       "<pre style=\"white-space:pre;overflow-x:auto;line-height:normal;font-family:Menlo,'DejaVu Sans Mono',consolas,'Courier New',monospace\">Listing models in project: ai_travel_agent_spinning_jenny                                                          \n",
       "</pre>\n"
      ],
      "text/plain": [
       "Listing models in project: ai_travel_agent_spinning_jenny                                                          \n"
      ]
     },
     "metadata": {},
     "output_type": "display_data"
    },
    {
     "name": "stderr",
     "output_type": "stream",
     "text": [
      "250626T07:53:09.395Z     INFO| http: https://preprod.cloud.fiddler.ai/v3/projects GET -- emit req (0 B, timeout: (5, 100)) \n",
      "250626T07:53:09.676Z     INFO| http: https://preprod.cloud.fiddler.ai/v3/projects GET -- resp code: 200, took 0.281 s, resp/req body size: (457 B, 0 B) \n",
      "250626T07:53:09.679Z     INFO| http: https://preprod.cloud.fiddler.ai/v3/models GET -- emit req (0 B, timeout: (5, 100)) \n",
      "250626T07:53:10.154Z     INFO| http: https://preprod.cloud.fiddler.ai/v3/models GET -- resp code: 200, took 0.474 s, resp/req body size: (1783 B, 0 B) \n"
     ]
    },
    {
     "data": {
      "text/html": [
       "<pre style=\"white-space:pre;overflow-x:auto;line-height:normal;font-family:Menlo,'DejaVu Sans Mono',consolas,'Courier New',monospace\">Listing models in project: ai_travel_agent_anuu                                                                    \n",
       "</pre>\n"
      ],
      "text/plain": [
       "Listing models in project: ai_travel_agent_anuu                                                                    \n"
      ]
     },
     "metadata": {},
     "output_type": "display_data"
    },
    {
     "name": "stderr",
     "output_type": "stream",
     "text": [
      "250626T07:53:10.159Z     INFO| http: https://preprod.cloud.fiddler.ai/v3/projects GET -- emit req (0 B, timeout: (5, 100)) \n",
      "250626T07:53:10.436Z     INFO| http: https://preprod.cloud.fiddler.ai/v3/projects GET -- resp code: 200, took 0.276 s, resp/req body size: (447 B, 0 B) \n",
      "250626T07:53:10.438Z     INFO| http: https://preprod.cloud.fiddler.ai/v3/models GET -- emit req (0 B, timeout: (5, 100)) \n",
      "250626T07:53:10.851Z     INFO| http: https://preprod.cloud.fiddler.ai/v3/models GET -- resp code: 200, took 0.413 s, resp/req body size: (1763 B, 0 B) \n"
     ]
    },
    {
     "data": {
      "text/html": [
       "<pre style=\"white-space:pre;overflow-x:auto;line-height:normal;font-family:Menlo,'DejaVu Sans Mono',consolas,'Courier New',monospace\">Listing models in project: ai_travel_agent_atoz                                                                    \n",
       "</pre>\n"
      ],
      "text/plain": [
       "Listing models in project: ai_travel_agent_atoz                                                                    \n"
      ]
     },
     "metadata": {},
     "output_type": "display_data"
    },
    {
     "name": "stderr",
     "output_type": "stream",
     "text": [
      "250626T07:53:10.854Z     INFO| http: https://preprod.cloud.fiddler.ai/v3/projects GET -- emit req (0 B, timeout: (5, 100)) \n",
      "250626T07:53:11.132Z     INFO| http: https://preprod.cloud.fiddler.ai/v3/projects GET -- resp code: 200, took 0.277 s, resp/req body size: (447 B, 0 B) \n",
      "250626T07:53:11.133Z     INFO| http: https://preprod.cloud.fiddler.ai/v3/models GET -- emit req (0 B, timeout: (5, 100)) \n",
      "250626T07:53:11.609Z     INFO| http: https://preprod.cloud.fiddler.ai/v3/models GET -- resp code: 200, took 0.475 s, resp/req body size: (1763 B, 0 B) \n"
     ]
    },
    {
     "data": {
      "text/html": [
       "<pre style=\"white-space:pre;overflow-x:auto;line-height:normal;font-family:Menlo,'DejaVu Sans Mono',consolas,'Courier New',monospace\">Listing models in project: ai_travel_agent_lior                                                                    \n",
       "</pre>\n"
      ],
      "text/plain": [
       "Listing models in project: ai_travel_agent_lior                                                                    \n"
      ]
     },
     "metadata": {},
     "output_type": "display_data"
    },
    {
     "name": "stderr",
     "output_type": "stream",
     "text": [
      "250626T07:53:11.611Z     INFO| http: https://preprod.cloud.fiddler.ai/v3/projects GET -- emit req (0 B, timeout: (5, 100)) \n",
      "250626T07:53:11.884Z     INFO| http: https://preprod.cloud.fiddler.ai/v3/projects GET -- resp code: 200, took 0.272 s, resp/req body size: (447 B, 0 B) \n",
      "250626T07:53:11.887Z     INFO| http: https://preprod.cloud.fiddler.ai/v3/models GET -- emit req (0 B, timeout: (5, 100)) \n",
      "250626T07:53:12.312Z     INFO| http: https://preprod.cloud.fiddler.ai/v3/models GET -- resp code: 200, took 0.425 s, resp/req body size: (1763 B, 0 B) \n"
     ]
    },
    {
     "data": {
      "text/html": [
       "<pre style=\"white-space:pre;overflow-x:auto;line-height:normal;font-family:Menlo,'DejaVu Sans Mono',consolas,'Courier New',monospace\">Listing models in project: amfam_demos                                                                             \n",
       "</pre>\n"
      ],
      "text/plain": [
       "Listing models in project: amfam_demos                                                                             \n"
      ]
     },
     "metadata": {},
     "output_type": "display_data"
    },
    {
     "name": "stderr",
     "output_type": "stream",
     "text": [
      "250626T07:53:12.318Z     INFO| http: https://preprod.cloud.fiddler.ai/v3/projects GET -- emit req (0 B, timeout: (5, 100)) \n",
      "250626T07:53:12.599Z     INFO| http: https://preprod.cloud.fiddler.ai/v3/projects GET -- resp code: 200, took 0.279 s, resp/req body size: (438 B, 0 B) \n",
      "250626T07:53:12.600Z     INFO| http: https://preprod.cloud.fiddler.ai/v3/models GET -- emit req (0 B, timeout: (5, 100)) \n",
      "250626T07:53:13.158Z     INFO| http: https://preprod.cloud.fiddler.ai/v3/models GET -- resp code: 200, took 0.558 s, resp/req body size: (159 B, 0 B) \n"
     ]
    },
    {
     "data": {
      "text/html": [
       "<pre style=\"white-space:pre;overflow-x:auto;line-height:normal;font-family:Menlo,'DejaVu Sans Mono',consolas,'Courier New',monospace\">Listing models in project: ai_travel_agent_sab                                                                     \n",
       "</pre>\n"
      ],
      "text/plain": [
       "Listing models in project: ai_travel_agent_sab                                                                     \n"
      ]
     },
     "metadata": {},
     "output_type": "display_data"
    },
    {
     "name": "stderr",
     "output_type": "stream",
     "text": [
      "250626T07:53:13.164Z     INFO| http: https://preprod.cloud.fiddler.ai/v3/projects GET -- emit req (0 B, timeout: (5, 100)) \n",
      "250626T07:53:13.441Z     INFO| http: https://preprod.cloud.fiddler.ai/v3/projects GET -- resp code: 200, took 0.276 s, resp/req body size: (446 B, 0 B) \n",
      "250626T07:53:13.443Z     INFO| http: https://preprod.cloud.fiddler.ai/v3/models GET -- emit req (0 B, timeout: (5, 100)) \n",
      "250626T07:53:13.863Z     INFO| http: https://preprod.cloud.fiddler.ai/v3/models GET -- resp code: 200, took 0.419 s, resp/req body size: (1761 B, 0 B) \n"
     ]
    },
    {
     "data": {
      "text/html": [
       "<pre style=\"white-space:pre;overflow-x:auto;line-height:normal;font-family:Menlo,'DejaVu Sans Mono',consolas,'Courier New',monospace\">Listing models in project: ai_travel_agent_sc2                                                                     \n",
       "</pre>\n"
      ],
      "text/plain": [
       "Listing models in project: ai_travel_agent_sc2                                                                     \n"
      ]
     },
     "metadata": {},
     "output_type": "display_data"
    },
    {
     "name": "stderr",
     "output_type": "stream",
     "text": [
      "250626T07:53:13.869Z     INFO| http: https://preprod.cloud.fiddler.ai/v3/projects GET -- emit req (0 B, timeout: (5, 100)) \n",
      "250626T07:53:14.153Z     INFO| http: https://preprod.cloud.fiddler.ai/v3/projects GET -- resp code: 200, took 0.283 s, resp/req body size: (446 B, 0 B) \n",
      "250626T07:53:14.155Z     INFO| http: https://preprod.cloud.fiddler.ai/v3/models GET -- emit req (0 B, timeout: (5, 100)) \n",
      "250626T07:53:14.639Z     INFO| http: https://preprod.cloud.fiddler.ai/v3/models GET -- resp code: 200, took 0.484 s, resp/req body size: (1761 B, 0 B) \n"
     ]
    },
    {
     "data": {
      "text/html": [
       "<pre style=\"white-space:pre;overflow-x:auto;line-height:normal;font-family:Menlo,'DejaVu Sans Mono',consolas,'Courier New',monospace\">Listing models in project: ai_travel_agent_atov                                                                    \n",
       "</pre>\n"
      ],
      "text/plain": [
       "Listing models in project: ai_travel_agent_atov                                                                    \n"
      ]
     },
     "metadata": {},
     "output_type": "display_data"
    },
    {
     "name": "stderr",
     "output_type": "stream",
     "text": [
      "250626T07:53:14.643Z     INFO| http: https://preprod.cloud.fiddler.ai/v3/projects GET -- emit req (0 B, timeout: (5, 100)) \n",
      "250626T07:53:14.921Z     INFO| http: https://preprod.cloud.fiddler.ai/v3/projects GET -- resp code: 200, took 0.278 s, resp/req body size: (447 B, 0 B) \n",
      "250626T07:53:14.923Z     INFO| http: https://preprod.cloud.fiddler.ai/v3/models GET -- emit req (0 B, timeout: (5, 100)) \n",
      "250626T07:53:15.405Z     INFO| http: https://preprod.cloud.fiddler.ai/v3/models GET -- resp code: 200, took 0.482 s, resp/req body size: (1763 B, 0 B) \n"
     ]
    },
    {
     "data": {
      "text/html": [
       "<pre style=\"white-space:pre;overflow-x:auto;line-height:normal;font-family:Menlo,'DejaVu Sans Mono',consolas,'Courier New',monospace\">Listing models in project: ai_travel_agent_sc3                                                                     \n",
       "</pre>\n"
      ],
      "text/plain": [
       "Listing models in project: ai_travel_agent_sc3                                                                     \n"
      ]
     },
     "metadata": {},
     "output_type": "display_data"
    },
    {
     "name": "stderr",
     "output_type": "stream",
     "text": [
      "250626T07:53:15.407Z     INFO| http: https://preprod.cloud.fiddler.ai/v3/projects GET -- emit req (0 B, timeout: (5, 100)) \n",
      "250626T07:53:15.701Z     INFO| http: https://preprod.cloud.fiddler.ai/v3/projects GET -- resp code: 200, took 0.294 s, resp/req body size: (446 B, 0 B) \n",
      "250626T07:53:15.702Z     INFO| http: https://preprod.cloud.fiddler.ai/v3/models GET -- emit req (0 B, timeout: (5, 100)) \n",
      "250626T07:53:16.176Z     INFO| http: https://preprod.cloud.fiddler.ai/v3/models GET -- resp code: 200, took 0.474 s, resp/req body size: (1761 B, 0 B) \n"
     ]
    },
    {
     "data": {
      "text/html": [
       "<pre style=\"white-space:pre;overflow-x:auto;line-height:normal;font-family:Menlo,'DejaVu Sans Mono',consolas,'Courier New',monospace\">Listing models in project: ai_travel_agent_liortest                                                                \n",
       "</pre>\n"
      ],
      "text/plain": [
       "Listing models in project: ai_travel_agent_liortest                                                                \n"
      ]
     },
     "metadata": {},
     "output_type": "display_data"
    },
    {
     "name": "stderr",
     "output_type": "stream",
     "text": [
      "250626T07:53:16.179Z     INFO| http: https://preprod.cloud.fiddler.ai/v3/projects GET -- emit req (0 B, timeout: (5, 100)) \n",
      "250626T07:53:16.454Z     INFO| http: https://preprod.cloud.fiddler.ai/v3/projects GET -- resp code: 200, took 0.275 s, resp/req body size: (451 B, 0 B) \n",
      "250626T07:53:16.456Z     INFO| http: https://preprod.cloud.fiddler.ai/v3/models GET -- emit req (0 B, timeout: (5, 100)) \n",
      "250626T07:53:16.870Z     INFO| http: https://preprod.cloud.fiddler.ai/v3/models GET -- resp code: 200, took 0.414 s, resp/req body size: (1771 B, 0 B) \n"
     ]
    },
    {
     "data": {
      "text/html": [
       "<pre style=\"white-space:pre;overflow-x:auto;line-height:normal;font-family:Menlo,'DejaVu Sans Mono',consolas,'Courier New',monospace\">Listing models in project: ai_travel_agent_sc5                                                                     \n",
       "</pre>\n"
      ],
      "text/plain": [
       "Listing models in project: ai_travel_agent_sc5                                                                     \n"
      ]
     },
     "metadata": {},
     "output_type": "display_data"
    },
    {
     "name": "stderr",
     "output_type": "stream",
     "text": [
      "250626T07:53:16.874Z     INFO| http: https://preprod.cloud.fiddler.ai/v3/projects GET -- emit req (0 B, timeout: (5, 100)) \n",
      "250626T07:53:17.152Z     INFO| http: https://preprod.cloud.fiddler.ai/v3/projects GET -- resp code: 200, took 0.278 s, resp/req body size: (446 B, 0 B) \n",
      "250626T07:53:17.154Z     INFO| http: https://preprod.cloud.fiddler.ai/v3/models GET -- emit req (0 B, timeout: (5, 100)) \n",
      "250626T07:53:17.647Z     INFO| http: https://preprod.cloud.fiddler.ai/v3/models GET -- resp code: 200, took 0.493 s, resp/req body size: (1761 B, 0 B) \n"
     ]
    },
    {
     "data": {
      "text/html": [
       "<pre style=\"white-space:pre;overflow-x:auto;line-height:normal;font-family:Menlo,'DejaVu Sans Mono',consolas,'Courier New',monospace\">Listing models in project: ai_travel_agent_danny                                                                   \n",
       "</pre>\n"
      ],
      "text/plain": [
       "Listing models in project: ai_travel_agent_danny                                                                   \n"
      ]
     },
     "metadata": {},
     "output_type": "display_data"
    },
    {
     "name": "stderr",
     "output_type": "stream",
     "text": [
      "250626T07:53:17.653Z     INFO| http: https://preprod.cloud.fiddler.ai/v3/projects GET -- emit req (0 B, timeout: (5, 100)) \n",
      "250626T07:53:17.926Z     INFO| http: https://preprod.cloud.fiddler.ai/v3/projects GET -- resp code: 200, took 0.272 s, resp/req body size: (448 B, 0 B) \n",
      "250626T07:53:17.928Z     INFO| http: https://preprod.cloud.fiddler.ai/v3/models GET -- emit req (0 B, timeout: (5, 100)) \n",
      "250626T07:53:18.349Z     INFO| http: https://preprod.cloud.fiddler.ai/v3/models GET -- resp code: 200, took 0.421 s, resp/req body size: (1765 B, 0 B) \n"
     ]
    },
    {
     "data": {
      "text/html": [
       "<pre style=\"white-space:pre;overflow-x:auto;line-height:normal;font-family:Menlo,'DejaVu Sans Mono',consolas,'Courier New',monospace\">Listing models in project: ai_travel_agent_danny2                                                                  \n",
       "</pre>\n"
      ],
      "text/plain": [
       "Listing models in project: ai_travel_agent_danny2                                                                  \n"
      ]
     },
     "metadata": {},
     "output_type": "display_data"
    },
    {
     "name": "stderr",
     "output_type": "stream",
     "text": [
      "250626T07:53:18.353Z     INFO| http: https://preprod.cloud.fiddler.ai/v3/projects GET -- emit req (0 B, timeout: (5, 100)) \n",
      "250626T07:53:18.651Z     INFO| http: https://preprod.cloud.fiddler.ai/v3/projects GET -- resp code: 200, took 0.297 s, resp/req body size: (449 B, 0 B) \n",
      "250626T07:53:18.652Z     INFO| http: https://preprod.cloud.fiddler.ai/v3/models GET -- emit req (0 B, timeout: (5, 100)) \n",
      "250626T07:53:19.126Z     INFO| http: https://preprod.cloud.fiddler.ai/v3/models GET -- resp code: 200, took 0.474 s, resp/req body size: (1767 B, 0 B) \n"
     ]
    },
    {
     "data": {
      "text/html": [
       "<pre style=\"white-space:pre;overflow-x:auto;line-height:normal;font-family:Menlo,'DejaVu Sans Mono',consolas,'Courier New',monospace\">Listing models in project: ai_travel_agent_anu_test                                                                \n",
       "</pre>\n"
      ],
      "text/plain": [
       "Listing models in project: ai_travel_agent_anu_test                                                                \n"
      ]
     },
     "metadata": {},
     "output_type": "display_data"
    },
    {
     "name": "stderr",
     "output_type": "stream",
     "text": [
      "250626T07:53:19.132Z     INFO| http: https://preprod.cloud.fiddler.ai/v3/projects GET -- emit req (0 B, timeout: (5, 100)) \n",
      "250626T07:53:19.431Z     INFO| http: https://preprod.cloud.fiddler.ai/v3/projects GET -- resp code: 200, took 0.298 s, resp/req body size: (451 B, 0 B) \n",
      "250626T07:53:19.433Z     INFO| http: https://preprod.cloud.fiddler.ai/v3/models GET -- emit req (0 B, timeout: (5, 100)) \n",
      "250626T07:53:19.857Z     INFO| http: https://preprod.cloud.fiddler.ai/v3/models GET -- resp code: 200, took 0.423 s, resp/req body size: (1771 B, 0 B) \n"
     ]
    },
    {
     "data": {
      "text/html": [
       "<pre style=\"white-space:pre;overflow-x:auto;line-height:normal;font-family:Menlo,'DejaVu Sans Mono',consolas,'Courier New',monospace\">Listing models in project: ai_travel_agent_sc6                                                                     \n",
       "</pre>\n"
      ],
      "text/plain": [
       "Listing models in project: ai_travel_agent_sc6                                                                     \n"
      ]
     },
     "metadata": {},
     "output_type": "display_data"
    },
    {
     "name": "stderr",
     "output_type": "stream",
     "text": [
      "250626T07:53:19.863Z     INFO| http: https://preprod.cloud.fiddler.ai/v3/projects GET -- emit req (0 B, timeout: (5, 100)) \n",
      "250626T07:53:20.143Z     INFO| http: https://preprod.cloud.fiddler.ai/v3/projects GET -- resp code: 200, took 0.279 s, resp/req body size: (446 B, 0 B) \n",
      "250626T07:53:20.144Z     INFO| http: https://preprod.cloud.fiddler.ai/v3/models GET -- emit req (0 B, timeout: (5, 100)) \n",
      "250626T07:53:20.619Z     INFO| http: https://preprod.cloud.fiddler.ai/v3/models GET -- resp code: 200, took 0.475 s, resp/req body size: (1761 B, 0 B) \n"
     ]
    },
    {
     "data": {
      "text/html": [
       "<pre style=\"white-space:pre;overflow-x:auto;line-height:normal;font-family:Menlo,'DejaVu Sans Mono',consolas,'Courier New',monospace\">Listing models in project: ai_travel_agent_liortest2                                                               \n",
       "</pre>\n"
      ],
      "text/plain": [
       "Listing models in project: ai_travel_agent_liortest2                                                               \n"
      ]
     },
     "metadata": {},
     "output_type": "display_data"
    },
    {
     "name": "stderr",
     "output_type": "stream",
     "text": [
      "250626T07:53:20.624Z     INFO| http: https://preprod.cloud.fiddler.ai/v3/projects GET -- emit req (0 B, timeout: (5, 100)) \n",
      "250626T07:53:20.896Z     INFO| http: https://preprod.cloud.fiddler.ai/v3/projects GET -- resp code: 200, took 0.272 s, resp/req body size: (452 B, 0 B) \n",
      "250626T07:53:20.897Z     INFO| http: https://preprod.cloud.fiddler.ai/v3/models GET -- emit req (0 B, timeout: (5, 100)) \n",
      "250626T07:53:21.296Z     INFO| http: https://preprod.cloud.fiddler.ai/v3/models GET -- resp code: 200, took 0.398 s, resp/req body size: (159 B, 0 B) \n"
     ]
    },
    {
     "data": {
      "text/html": [
       "<pre style=\"white-space:pre;overflow-x:auto;line-height:normal;font-family:Menlo,'DejaVu Sans Mono',consolas,'Courier New',monospace\">Listing models in project: ai_travel_agent_liortest3                                                               \n",
       "</pre>\n"
      ],
      "text/plain": [
       "Listing models in project: ai_travel_agent_liortest3                                                               \n"
      ]
     },
     "metadata": {},
     "output_type": "display_data"
    },
    {
     "name": "stderr",
     "output_type": "stream",
     "text": [
      "250626T07:53:21.298Z     INFO| http: https://preprod.cloud.fiddler.ai/v3/projects GET -- emit req (0 B, timeout: (5, 100)) \n",
      "250626T07:53:21.574Z     INFO| http: https://preprod.cloud.fiddler.ai/v3/projects GET -- resp code: 200, took 0.276 s, resp/req body size: (452 B, 0 B) \n",
      "250626T07:53:21.575Z     INFO| http: https://preprod.cloud.fiddler.ai/v3/models GET -- emit req (0 B, timeout: (5, 100)) \n",
      "250626T07:53:22.074Z     INFO| http: https://preprod.cloud.fiddler.ai/v3/models GET -- resp code: 200, took 0.498 s, resp/req body size: (1773 B, 0 B) \n"
     ]
    },
    {
     "data": {
      "text/html": [
       "<pre style=\"white-space:pre;overflow-x:auto;line-height:normal;font-family:Menlo,'DejaVu Sans Mono',consolas,'Courier New',monospace\">Listing models in project: ai_travel_agent_jenagain                                                                \n",
       "</pre>\n"
      ],
      "text/plain": [
       "Listing models in project: ai_travel_agent_jenagain                                                                \n"
      ]
     },
     "metadata": {},
     "output_type": "display_data"
    },
    {
     "name": "stderr",
     "output_type": "stream",
     "text": [
      "250626T07:53:22.077Z     INFO| http: https://preprod.cloud.fiddler.ai/v3/projects GET -- emit req (0 B, timeout: (5, 100)) \n",
      "250626T07:53:22.350Z     INFO| http: https://preprod.cloud.fiddler.ai/v3/projects GET -- resp code: 200, took 0.273 s, resp/req body size: (451 B, 0 B) \n",
      "250626T07:53:22.352Z     INFO| http: https://preprod.cloud.fiddler.ai/v3/models GET -- emit req (0 B, timeout: (5, 100)) \n",
      "250626T07:53:22.765Z     INFO| http: https://preprod.cloud.fiddler.ai/v3/models GET -- resp code: 200, took 0.413 s, resp/req body size: (1771 B, 0 B) \n"
     ]
    },
    {
     "data": {
      "text/html": [
       "<pre style=\"white-space:pre;overflow-x:auto;line-height:normal;font-family:Menlo,'DejaVu Sans Mono',consolas,'Courier New',monospace\">Listing models in project: ai_travel_agent_tarun                                                                   \n",
       "</pre>\n"
      ],
      "text/plain": [
       "Listing models in project: ai_travel_agent_tarun                                                                   \n"
      ]
     },
     "metadata": {},
     "output_type": "display_data"
    },
    {
     "name": "stderr",
     "output_type": "stream",
     "text": [
      "250626T07:53:22.767Z     INFO| http: https://preprod.cloud.fiddler.ai/v3/projects GET -- emit req (0 B, timeout: (5, 100)) \n",
      "250626T07:53:23.046Z     INFO| http: https://preprod.cloud.fiddler.ai/v3/projects GET -- resp code: 200, took 0.278 s, resp/req body size: (448 B, 0 B) \n",
      "250626T07:53:23.048Z     INFO| http: https://preprod.cloud.fiddler.ai/v3/models GET -- emit req (0 B, timeout: (5, 100)) \n",
      "250626T07:53:23.539Z     INFO| http: https://preprod.cloud.fiddler.ai/v3/models GET -- resp code: 200, took 0.491 s, resp/req body size: (1765 B, 0 B) \n"
     ]
    },
    {
     "data": {
      "text/html": [
       "<pre style=\"white-space:pre;overflow-x:auto;line-height:normal;font-family:Menlo,'DejaVu Sans Mono',consolas,'Courier New',monospace\">Listing models in project: ai_travel_agent_drbfid                                                                  \n",
       "</pre>\n"
      ],
      "text/plain": [
       "Listing models in project: ai_travel_agent_drbfid                                                                  \n"
      ]
     },
     "metadata": {},
     "output_type": "display_data"
    },
    {
     "name": "stderr",
     "output_type": "stream",
     "text": [
      "250626T07:53:23.542Z     INFO| http: https://preprod.cloud.fiddler.ai/v3/projects GET -- emit req (0 B, timeout: (5, 100)) \n",
      "250626T07:53:23.818Z     INFO| http: https://preprod.cloud.fiddler.ai/v3/projects GET -- resp code: 200, took 0.275 s, resp/req body size: (449 B, 0 B) \n",
      "250626T07:53:23.818Z     INFO| http: https://preprod.cloud.fiddler.ai/v3/models GET -- emit req (0 B, timeout: (5, 100)) \n",
      "250626T07:53:24.235Z     INFO| http: https://preprod.cloud.fiddler.ai/v3/models GET -- resp code: 200, took 0.417 s, resp/req body size: (159 B, 0 B) \n"
     ]
    },
    {
     "data": {
      "text/html": [
       "<pre style=\"white-space:pre;overflow-x:auto;line-height:normal;font-family:Menlo,'DejaVu Sans Mono',consolas,'Courier New',monospace\">Listing models in project: ai_travel_agent_danny4                                                                  \n",
       "</pre>\n"
      ],
      "text/plain": [
       "Listing models in project: ai_travel_agent_danny4                                                                  \n"
      ]
     },
     "metadata": {},
     "output_type": "display_data"
    },
    {
     "name": "stderr",
     "output_type": "stream",
     "text": [
      "250626T07:53:24.242Z     INFO| http: https://preprod.cloud.fiddler.ai/v3/projects GET -- emit req (0 B, timeout: (5, 100)) \n",
      "250626T07:53:24.536Z     INFO| http: https://preprod.cloud.fiddler.ai/v3/projects GET -- resp code: 200, took 0.292 s, resp/req body size: (449 B, 0 B) \n",
      "250626T07:53:24.537Z     INFO| http: https://preprod.cloud.fiddler.ai/v3/models GET -- emit req (0 B, timeout: (5, 100)) \n",
      "250626T07:53:25.026Z     INFO| http: https://preprod.cloud.fiddler.ai/v3/models GET -- resp code: 200, took 0.488 s, resp/req body size: (1767 B, 0 B) \n"
     ]
    },
    {
     "data": {
      "text/html": [
       "<pre style=\"white-space:pre;overflow-x:auto;line-height:normal;font-family:Menlo,'DejaVu Sans Mono',consolas,'Courier New',monospace\">Listing models in project: ai_travel_agent_anu_test2                                                               \n",
       "</pre>\n"
      ],
      "text/plain": [
       "Listing models in project: ai_travel_agent_anu_test2                                                               \n"
      ]
     },
     "metadata": {},
     "output_type": "display_data"
    },
    {
     "name": "stderr",
     "output_type": "stream",
     "text": [
      "250626T07:53:25.031Z     INFO| http: https://preprod.cloud.fiddler.ai/v3/projects GET -- emit req (0 B, timeout: (5, 100)) \n",
      "250626T07:53:25.322Z     INFO| http: https://preprod.cloud.fiddler.ai/v3/projects GET -- resp code: 200, took 0.291 s, resp/req body size: (452 B, 0 B) \n",
      "250626T07:53:25.323Z     INFO| http: https://preprod.cloud.fiddler.ai/v3/models GET -- emit req (0 B, timeout: (5, 100)) \n",
      "250626T07:53:25.726Z     INFO| http: https://preprod.cloud.fiddler.ai/v3/models GET -- resp code: 200, took 0.402 s, resp/req body size: (966 B, 0 B) \n"
     ]
    },
    {
     "data": {
      "text/html": [
       "<pre style=\"white-space:pre;overflow-x:auto;line-height:normal;font-family:Menlo,'DejaVu Sans Mono',consolas,'Courier New',monospace\">Listing models in project: ai_travel_agent_jen_small_data                                                          \n",
       "</pre>\n"
      ],
      "text/plain": [
       "Listing models in project: ai_travel_agent_jen_small_data                                                          \n"
      ]
     },
     "metadata": {},
     "output_type": "display_data"
    },
    {
     "name": "stderr",
     "output_type": "stream",
     "text": [
      "250626T07:53:25.732Z     INFO| http: https://preprod.cloud.fiddler.ai/v3/projects GET -- emit req (0 B, timeout: (5, 100)) \n",
      "250626T07:53:26.010Z     INFO| http: https://preprod.cloud.fiddler.ai/v3/projects GET -- resp code: 200, took 0.278 s, resp/req body size: (457 B, 0 B) \n",
      "250626T07:53:26.013Z     INFO| http: https://preprod.cloud.fiddler.ai/v3/models GET -- emit req (0 B, timeout: (5, 100)) \n",
      "250626T07:53:26.491Z     INFO| http: https://preprod.cloud.fiddler.ai/v3/models GET -- resp code: 200, took 0.477 s, resp/req body size: (1783 B, 0 B) \n"
     ]
    },
    {
     "data": {
      "text/html": [
       "<pre style=\"white-space:pre;overflow-x:auto;line-height:normal;font-family:Menlo,'DejaVu Sans Mono',consolas,'Courier New',monospace\">Listing models in project: fiddler_pepsi_rag                                                                       \n",
       "</pre>\n"
      ],
      "text/plain": [
       "Listing models in project: fiddler_pepsi_rag                                                                       \n"
      ]
     },
     "metadata": {},
     "output_type": "display_data"
    },
    {
     "name": "stderr",
     "output_type": "stream",
     "text": [
      "250626T07:53:26.498Z     INFO| http: https://preprod.cloud.fiddler.ai/v3/projects GET -- emit req (0 B, timeout: (5, 100)) \n",
      "250626T07:53:26.776Z     INFO| http: https://preprod.cloud.fiddler.ai/v3/projects GET -- resp code: 200, took 0.277 s, resp/req body size: (444 B, 0 B) \n",
      "250626T07:53:26.778Z     INFO| http: https://preprod.cloud.fiddler.ai/v3/models GET -- emit req (0 B, timeout: (5, 100)) \n",
      "250626T07:53:27.196Z     INFO| http: https://preprod.cloud.fiddler.ai/v3/models GET -- resp code: 200, took 0.418 s, resp/req body size: (159 B, 0 B) \n"
     ]
    },
    {
     "data": {
      "text/html": [
       "<pre style=\"white-space:pre;overflow-x:auto;line-height:normal;font-family:Menlo,'DejaVu Sans Mono',consolas,'Courier New',monospace\">Listing models in project: ai_travel_agent_jwtracy                                                                 \n",
       "</pre>\n"
      ],
      "text/plain": [
       "Listing models in project: ai_travel_agent_jwtracy                                                                 \n"
      ]
     },
     "metadata": {},
     "output_type": "display_data"
    },
    {
     "name": "stderr",
     "output_type": "stream",
     "text": [
      "250626T07:53:27.198Z     INFO| http: https://preprod.cloud.fiddler.ai/v3/projects GET -- emit req (0 B, timeout: (5, 100)) \n",
      "250626T07:53:27.493Z     INFO| http: https://preprod.cloud.fiddler.ai/v3/projects GET -- resp code: 200, took 0.294 s, resp/req body size: (450 B, 0 B) \n",
      "250626T07:53:27.494Z     INFO| http: https://preprod.cloud.fiddler.ai/v3/models GET -- emit req (0 B, timeout: (5, 100)) \n",
      "250626T07:53:27.992Z     INFO| http: https://preprod.cloud.fiddler.ai/v3/models GET -- resp code: 200, took 0.497 s, resp/req body size: (1758 B, 0 B) \n"
     ]
    },
    {
     "data": {
      "text/html": [
       "<pre style=\"white-space:pre;overflow-x:auto;line-height:normal;font-family:Menlo,'DejaVu Sans Mono',consolas,'Courier New',monospace\">Listing models in project: ai_travel_agent_jwtracy_02                                                              \n",
       "</pre>\n"
      ],
      "text/plain": [
       "Listing models in project: ai_travel_agent_jwtracy_02                                                              \n"
      ]
     },
     "metadata": {},
     "output_type": "display_data"
    },
    {
     "name": "stderr",
     "output_type": "stream",
     "text": [
      "250626T07:53:27.993Z     INFO| http: https://preprod.cloud.fiddler.ai/v3/projects GET -- emit req (0 B, timeout: (5, 100)) \n",
      "250626T07:53:28.278Z     INFO| http: https://preprod.cloud.fiddler.ai/v3/projects GET -- resp code: 200, took 0.284 s, resp/req body size: (453 B, 0 B) \n",
      "250626T07:53:28.280Z     INFO| http: https://preprod.cloud.fiddler.ai/v3/models GET -- emit req (0 B, timeout: (5, 100)) \n",
      "250626T07:53:28.707Z     INFO| http: https://preprod.cloud.fiddler.ai/v3/models GET -- resp code: 200, took 0.426 s, resp/req body size: (1764 B, 0 B) \n"
     ]
    },
    {
     "data": {
      "text/html": [
       "<pre style=\"white-space:pre;overflow-x:auto;line-height:normal;font-family:Menlo,'DejaVu Sans Mono',consolas,'Courier New',monospace\">Listing models in project: test_deletemodel                                                                        \n",
       "</pre>\n"
      ],
      "text/plain": [
       "Listing models in project: test_deletemodel                                                                        \n"
      ]
     },
     "metadata": {},
     "output_type": "display_data"
    },
    {
     "name": "stderr",
     "output_type": "stream",
     "text": [
      "250626T07:53:28.708Z     INFO| http: https://preprod.cloud.fiddler.ai/v3/projects GET -- emit req (0 B, timeout: (5, 100)) \n",
      "250626T07:53:28.996Z     INFO| http: https://preprod.cloud.fiddler.ai/v3/projects GET -- resp code: 200, took 0.288 s, resp/req body size: (443 B, 0 B) \n",
      "250626T07:53:28.997Z     INFO| http: https://preprod.cloud.fiddler.ai/v3/models GET -- emit req (0 B, timeout: (5, 100)) \n",
      "250626T07:53:29.465Z     INFO| http: https://preprod.cloud.fiddler.ai/v3/models GET -- resp code: 200, took 0.467 s, resp/req body size: (979 B, 0 B) \n"
     ]
    },
    {
     "data": {
      "text/html": [
       "<pre style=\"white-space:pre;overflow-x:auto;line-height:normal;font-family:Menlo,'DejaVu Sans Mono',consolas,'Courier New',monospace\">Listing models in project: test_deletemodel2                                                                       \n",
       "</pre>\n"
      ],
      "text/plain": [
       "Listing models in project: test_deletemodel2                                                                       \n"
      ]
     },
     "metadata": {},
     "output_type": "display_data"
    },
    {
     "name": "stderr",
     "output_type": "stream",
     "text": [
      "250626T07:53:29.468Z     INFO| http: https://preprod.cloud.fiddler.ai/v3/projects GET -- emit req (0 B, timeout: (5, 100)) \n",
      "250626T07:53:29.749Z     INFO| http: https://preprod.cloud.fiddler.ai/v3/projects GET -- resp code: 200, took 0.280 s, resp/req body size: (444 B, 0 B) \n",
      "250626T07:53:29.750Z     INFO| http: https://preprod.cloud.fiddler.ai/v3/models GET -- emit req (0 B, timeout: (5, 100)) \n",
      "250626T07:53:30.154Z     INFO| http: https://preprod.cloud.fiddler.ai/v3/models GET -- resp code: 200, took 0.404 s, resp/req body size: (159 B, 0 B) \n"
     ]
    },
    {
     "data": {
      "text/html": [
       "<pre style=\"white-space:pre;overflow-x:auto;line-height:normal;font-family:Menlo,'DejaVu Sans Mono',consolas,'Courier New',monospace\">Listing models in project: quickstart_examples_njn                                                                 \n",
       "</pre>\n"
      ],
      "text/plain": [
       "Listing models in project: quickstart_examples_njn                                                                 \n"
      ]
     },
     "metadata": {},
     "output_type": "display_data"
    },
    {
     "name": "stderr",
     "output_type": "stream",
     "text": [
      "250626T07:53:30.157Z     INFO| http: https://preprod.cloud.fiddler.ai/v3/projects GET -- emit req (0 B, timeout: (5, 100)) \n",
      "250626T07:53:30.455Z     INFO| http: https://preprod.cloud.fiddler.ai/v3/projects GET -- resp code: 200, took 0.298 s, resp/req body size: (450 B, 0 B) \n",
      "250626T07:53:30.457Z     INFO| http: https://preprod.cloud.fiddler.ai/v3/models GET -- emit req (0 B, timeout: (5, 100)) \n",
      "250626T07:53:30.923Z     INFO| http: https://preprod.cloud.fiddler.ai/v3/models GET -- resp code: 200, took 0.466 s, resp/req body size: (991 B, 0 B) \n"
     ]
    },
    {
     "data": {
      "text/html": [
       "<pre style=\"white-space:pre;overflow-x:auto;line-height:normal;font-family:Menlo,'DejaVu Sans Mono',consolas,'Courier New',monospace\">Listing models in project: travelers_claim_gl_cov_anu                                                              \n",
       "</pre>\n"
      ],
      "text/plain": [
       "Listing models in project: travelers_claim_gl_cov_anu                                                              \n"
      ]
     },
     "metadata": {},
     "output_type": "display_data"
    },
    {
     "name": "stderr",
     "output_type": "stream",
     "text": [
      "250626T07:53:30.925Z     INFO| http: https://preprod.cloud.fiddler.ai/v3/projects GET -- emit req (0 B, timeout: (5, 100)) \n",
      "250626T07:53:31.201Z     INFO| http: https://preprod.cloud.fiddler.ai/v3/projects GET -- resp code: 200, took 0.276 s, resp/req body size: (453 B, 0 B) \n",
      "250626T07:53:31.202Z     INFO| http: https://preprod.cloud.fiddler.ai/v3/models GET -- emit req (0 B, timeout: (5, 100)) \n",
      "250626T07:53:31.604Z     INFO| http: https://preprod.cloud.fiddler.ai/v3/models GET -- resp code: 200, took 0.402 s, resp/req body size: (159 B, 0 B) \n"
     ]
    },
    {
     "data": {
      "text/html": [
       "<pre style=\"white-space:pre;overflow-x:auto;line-height:normal;font-family:Menlo,'DejaVu Sans Mono',consolas,'Courier New',monospace\">Listing models in project: travelers_claim_gl_cov_an                                                               \n",
       "</pre>\n"
      ],
      "text/plain": [
       "Listing models in project: travelers_claim_gl_cov_an                                                               \n"
      ]
     },
     "metadata": {},
     "output_type": "display_data"
    },
    {
     "name": "stderr",
     "output_type": "stream",
     "text": [
      "250626T07:53:31.606Z     INFO| http: https://preprod.cloud.fiddler.ai/v3/projects GET -- emit req (0 B, timeout: (5, 100)) \n",
      "250626T07:53:31.890Z     INFO| http: https://preprod.cloud.fiddler.ai/v3/projects GET -- resp code: 200, took 0.284 s, resp/req body size: (452 B, 0 B) \n",
      "250626T07:53:31.892Z     INFO| http: https://preprod.cloud.fiddler.ai/v3/models GET -- emit req (0 B, timeout: (5, 100)) \n",
      "250626T07:53:32.361Z     INFO| http: https://preprod.cloud.fiddler.ai/v3/models GET -- resp code: 200, took 0.469 s, resp/req body size: (973 B, 0 B) \n"
     ]
    },
    {
     "data": {
      "text/html": [
       "<pre style=\"white-space:pre;overflow-x:auto;line-height:normal;font-family:Menlo,'DejaVu Sans Mono',consolas,'Courier New',monospace\">Listing models in project: quickstart_examples_b1                                                                  \n",
       "</pre>\n"
      ],
      "text/plain": [
       "Listing models in project: quickstart_examples_b1                                                                  \n"
      ]
     },
     "metadata": {},
     "output_type": "display_data"
    },
    {
     "name": "stderr",
     "output_type": "stream",
     "text": [
      "250626T07:53:32.362Z     INFO| http: https://preprod.cloud.fiddler.ai/v3/projects GET -- emit req (0 B, timeout: (5, 100)) \n",
      "250626T07:53:32.656Z     INFO| http: https://preprod.cloud.fiddler.ai/v3/projects GET -- resp code: 200, took 0.294 s, resp/req body size: (449 B, 0 B) \n",
      "250626T07:53:32.658Z     INFO| http: https://preprod.cloud.fiddler.ai/v3/models GET -- emit req (0 B, timeout: (5, 100)) \n",
      "250626T07:53:33.071Z     INFO| http: https://preprod.cloud.fiddler.ai/v3/models GET -- resp code: 200, took 0.412 s, resp/req body size: (965 B, 0 B) \n"
     ]
    },
    {
     "data": {
      "text/html": [
       "<pre style=\"white-space:pre;overflow-x:auto;line-height:normal;font-family:Menlo,'DejaVu Sans Mono',consolas,'Courier New',monospace\">Listing models in project: claim_gl_cov                                                                            \n",
       "</pre>\n"
      ],
      "text/plain": [
       "Listing models in project: claim_gl_cov                                                                            \n"
      ]
     },
     "metadata": {},
     "output_type": "display_data"
    },
    {
     "name": "stderr",
     "output_type": "stream",
     "text": [
      "250626T07:53:33.074Z     INFO| http: https://preprod.cloud.fiddler.ai/v3/projects GET -- emit req (0 B, timeout: (5, 100)) \n",
      "250626T07:53:33.363Z     INFO| http: https://preprod.cloud.fiddler.ai/v3/projects GET -- resp code: 200, took 0.288 s, resp/req body size: (439 B, 0 B) \n",
      "250626T07:53:33.365Z     INFO| http: https://preprod.cloud.fiddler.ai/v3/models GET -- emit req (0 B, timeout: (5, 100)) \n",
      "250626T07:53:33.877Z     INFO| http: https://preprod.cloud.fiddler.ai/v3/models GET -- resp code: 200, took 0.512 s, resp/req body size: (159 B, 0 B) \n"
     ]
    },
    {
     "data": {
      "text/html": [
       "<pre style=\"white-space:pre;overflow-x:auto;line-height:normal;font-family:Menlo,'DejaVu Sans Mono',consolas,'Courier New',monospace\">Listing models in project: claim_gl_cov2                                                                           \n",
       "</pre>\n"
      ],
      "text/plain": [
       "Listing models in project: claim_gl_cov2                                                                           \n"
      ]
     },
     "metadata": {},
     "output_type": "display_data"
    },
    {
     "name": "stderr",
     "output_type": "stream",
     "text": [
      "250626T07:53:33.881Z     INFO| http: https://preprod.cloud.fiddler.ai/v3/projects GET -- emit req (0 B, timeout: (5, 100)) \n",
      "250626T07:53:34.171Z     INFO| http: https://preprod.cloud.fiddler.ai/v3/projects GET -- resp code: 200, took 0.289 s, resp/req body size: (440 B, 0 B) \n",
      "250626T07:53:34.172Z     INFO| http: https://preprod.cloud.fiddler.ai/v3/models GET -- emit req (0 B, timeout: (5, 100)) \n",
      "250626T07:53:34.578Z     INFO| http: https://preprod.cloud.fiddler.ai/v3/models GET -- resp code: 200, took 0.405 s, resp/req body size: (159 B, 0 B) \n"
     ]
    },
    {
     "data": {
      "text/html": [
       "<pre style=\"white-space:pre;overflow-x:auto;line-height:normal;font-family:Menlo,'DejaVu Sans Mono',consolas,'Courier New',monospace\">Listing models in project: ash_quickstart_examples                                                                 \n",
       "</pre>\n"
      ],
      "text/plain": [
       "Listing models in project: ash_quickstart_examples                                                                 \n"
      ]
     },
     "metadata": {},
     "output_type": "display_data"
    },
    {
     "name": "stderr",
     "output_type": "stream",
     "text": [
      "250626T07:53:34.579Z     INFO| http: https://preprod.cloud.fiddler.ai/v3/projects GET -- emit req (0 B, timeout: (5, 100)) \n",
      "250626T07:53:34.862Z     INFO| http: https://preprod.cloud.fiddler.ai/v3/projects GET -- resp code: 200, took 0.283 s, resp/req body size: (450 B, 0 B) \n",
      "250626T07:53:34.863Z     INFO| http: https://preprod.cloud.fiddler.ai/v3/models GET -- emit req (0 B, timeout: (5, 100)) \n",
      "250626T07:53:35.466Z     INFO| http: https://preprod.cloud.fiddler.ai/v3/models GET -- resp code: 200, took 0.603 s, resp/req body size: (7215 B, 0 B) \n"
     ]
    },
    {
     "data": {
      "text/html": [
       "<pre style=\"white-space:pre;overflow-x:auto;line-height:normal;font-family:Menlo,'DejaVu Sans Mono',consolas,'Courier New',monospace\">Listing models in project: josh_quickstart_examples                                                                \n",
       "</pre>\n"
      ],
      "text/plain": [
       "Listing models in project: josh_quickstart_examples                                                                \n"
      ]
     },
     "metadata": {},
     "output_type": "display_data"
    },
    {
     "name": "stderr",
     "output_type": "stream",
     "text": [
      "250626T07:53:35.469Z     INFO| http: https://preprod.cloud.fiddler.ai/v3/projects GET -- emit req (0 B, timeout: (5, 100)) \n",
      "250626T07:53:35.746Z     INFO| http: https://preprod.cloud.fiddler.ai/v3/projects GET -- resp code: 200, took 0.276 s, resp/req body size: (451 B, 0 B) \n",
      "250626T07:53:35.747Z     INFO| http: https://preprod.cloud.fiddler.ai/v3/models GET -- emit req (0 B, timeout: (5, 100)) \n",
      "250626T07:53:36.165Z     INFO| http: https://preprod.cloud.fiddler.ai/v3/models GET -- resp code: 200, took 0.418 s, resp/req body size: (2580 B, 0 B) \n"
     ]
    },
    {
     "data": {
      "text/html": [
       "<pre style=\"white-space:pre;overflow-x:auto;line-height:normal;font-family:Menlo,'DejaVu Sans Mono',consolas,'Courier New',monospace\">Listing models in project: lior_test                                                                               \n",
       "</pre>\n"
      ],
      "text/plain": [
       "Listing models in project: lior_test                                                                               \n"
      ]
     },
     "metadata": {},
     "output_type": "display_data"
    },
    {
     "name": "stderr",
     "output_type": "stream",
     "text": [
      "250626T07:53:36.166Z     INFO| http: https://preprod.cloud.fiddler.ai/v3/projects GET -- emit req (0 B, timeout: (5, 100)) \n",
      "250626T07:53:36.479Z     INFO| http: https://preprod.cloud.fiddler.ai/v3/projects GET -- resp code: 200, took 0.312 s, resp/req body size: (436 B, 0 B) \n",
      "250626T07:53:36.480Z     INFO| http: https://preprod.cloud.fiddler.ai/v3/models GET -- emit req (0 B, timeout: (5, 100)) \n",
      "250626T07:53:36.961Z     INFO| http: https://preprod.cloud.fiddler.ai/v3/models GET -- resp code: 200, took 0.481 s, resp/req body size: (159 B, 0 B) \n"
     ]
    },
    {
     "data": {
      "text/html": [
       "<pre style=\"white-space:pre;overflow-x:auto;line-height:normal;font-family:Menlo,'DejaVu Sans Mono',consolas,'Courier New',monospace\">Listing models in project: quickstart_examples_njn2                                                                \n",
       "</pre>\n"
      ],
      "text/plain": [
       "Listing models in project: quickstart_examples_njn2                                                                \n"
      ]
     },
     "metadata": {},
     "output_type": "display_data"
    },
    {
     "name": "stderr",
     "output_type": "stream",
     "text": [
      "250626T07:53:36.964Z     INFO| http: https://preprod.cloud.fiddler.ai/v3/projects GET -- emit req (0 B, timeout: (5, 100)) \n",
      "250626T07:53:37.236Z     INFO| http: https://preprod.cloud.fiddler.ai/v3/projects GET -- resp code: 200, took 0.271 s, resp/req body size: (451 B, 0 B) \n",
      "250626T07:53:37.237Z     INFO| http: https://preprod.cloud.fiddler.ai/v3/models GET -- emit req (0 B, timeout: (5, 100)) \n",
      "250626T07:53:37.648Z     INFO| http: https://preprod.cloud.fiddler.ai/v3/models GET -- resp code: 200, took 0.411 s, resp/req body size: (159 B, 0 B) \n"
     ]
    },
    {
     "data": {
      "text/html": [
       "<pre style=\"white-space:pre;overflow-x:auto;line-height:normal;font-family:Menlo,'DejaVu Sans Mono',consolas,'Courier New',monospace\">Listing models in project: catapult_bank_churn                                                                     \n",
       "</pre>\n"
      ],
      "text/plain": [
       "Listing models in project: catapult_bank_churn                                                                     \n"
      ]
     },
     "metadata": {},
     "output_type": "display_data"
    },
    {
     "name": "stderr",
     "output_type": "stream",
     "text": [
      "250626T07:53:37.653Z     INFO| http: https://preprod.cloud.fiddler.ai/v3/projects GET -- emit req (0 B, timeout: (5, 100)) \n",
      "250626T07:53:37.939Z     INFO| http: https://preprod.cloud.fiddler.ai/v3/projects GET -- resp code: 200, took 0.284 s, resp/req body size: (446 B, 0 B) \n",
      "250626T07:53:37.940Z     INFO| http: https://preprod.cloud.fiddler.ai/v3/models GET -- emit req (0 B, timeout: (5, 100)) \n",
      "250626T07:53:38.448Z     INFO| http: https://preprod.cloud.fiddler.ai/v3/models GET -- resp code: 200, took 0.507 s, resp/req body size: (965 B, 0 B) \n"
     ]
    },
    {
     "data": {
      "text/html": [
       "<pre style=\"white-space:pre;overflow-x:auto;line-height:normal;font-family:Menlo,'DejaVu Sans Mono',consolas,'Courier New',monospace\">Listing models in project: josh_image_monitoring2                                                                  \n",
       "</pre>\n"
      ],
      "text/plain": [
       "Listing models in project: josh_image_monitoring2                                                                  \n"
      ]
     },
     "metadata": {},
     "output_type": "display_data"
    },
    {
     "name": "stderr",
     "output_type": "stream",
     "text": [
      "250626T07:53:38.451Z     INFO| http: https://preprod.cloud.fiddler.ai/v3/projects GET -- emit req (0 B, timeout: (5, 100)) \n",
      "250626T07:53:38.727Z     INFO| http: https://preprod.cloud.fiddler.ai/v3/projects GET -- resp code: 200, took 0.275 s, resp/req body size: (449 B, 0 B) \n",
      "250626T07:53:38.728Z     INFO| http: https://preprod.cloud.fiddler.ai/v3/models GET -- emit req (0 B, timeout: (5, 100)) \n",
      "250626T07:53:39.150Z     INFO| http: https://preprod.cloud.fiddler.ai/v3/models GET -- resp code: 200, took 0.421 s, resp/req body size: (969 B, 0 B) \n"
     ]
    },
    {
     "data": {
      "text/html": [
       "<pre style=\"white-space:pre;overflow-x:auto;line-height:normal;font-family:Menlo,'DejaVu Sans Mono',consolas,'Courier New',monospace\">Listing models in project: josh_image_monitoring3                                                                  \n",
       "</pre>\n"
      ],
      "text/plain": [
       "Listing models in project: josh_image_monitoring3                                                                  \n"
      ]
     },
     "metadata": {},
     "output_type": "display_data"
    },
    {
     "name": "stderr",
     "output_type": "stream",
     "text": [
      "250626T07:53:39.153Z     INFO| http: https://preprod.cloud.fiddler.ai/v3/projects GET -- emit req (0 B, timeout: (5, 100)) \n",
      "250626T07:53:39.438Z     INFO| http: https://preprod.cloud.fiddler.ai/v3/projects GET -- resp code: 200, took 0.285 s, resp/req body size: (449 B, 0 B) \n",
      "250626T07:53:39.440Z     INFO| http: https://preprod.cloud.fiddler.ai/v3/models GET -- emit req (0 B, timeout: (5, 100)) \n",
      "250626T07:53:39.929Z     INFO| http: https://preprod.cloud.fiddler.ai/v3/models GET -- resp code: 200, took 0.488 s, resp/req body size: (2596 B, 0 B) \n"
     ]
    },
    {
     "data": {
      "text/html": [
       "<pre style=\"white-space:pre;overflow-x:auto;line-height:normal;font-family:Menlo,'DejaVu Sans Mono',consolas,'Courier New',monospace\">Listing models in project: josh_image_monitoring_check                                                             \n",
       "</pre>\n"
      ],
      "text/plain": [
       "Listing models in project: josh_image_monitoring_check                                                             \n"
      ]
     },
     "metadata": {},
     "output_type": "display_data"
    },
    {
     "name": "stderr",
     "output_type": "stream",
     "text": [
      "250626T07:53:39.932Z     INFO| http: https://preprod.cloud.fiddler.ai/v3/projects GET -- emit req (0 B, timeout: (5, 100)) \n",
      "250626T07:53:40.206Z     INFO| http: https://preprod.cloud.fiddler.ai/v3/projects GET -- resp code: 200, took 0.274 s, resp/req body size: (454 B, 0 B) \n",
      "250626T07:53:40.209Z     INFO| http: https://preprod.cloud.fiddler.ai/v3/models GET -- emit req (0 B, timeout: (5, 100)) \n",
      "250626T07:53:40.615Z     INFO| http: https://preprod.cloud.fiddler.ai/v3/models GET -- resp code: 200, took 0.406 s, resp/req body size: (974 B, 0 B) \n"
     ]
    },
    {
     "data": {
      "text/html": [
       "<pre style=\"white-space:pre;overflow-x:auto;line-height:normal;font-family:Menlo,'DejaVu Sans Mono',consolas,'Courier New',monospace\">Listing models in project: umap_btest                                                                              \n",
       "</pre>\n"
      ],
      "text/plain": [
       "Listing models in project: umap_btest                                                                              \n"
      ]
     },
     "metadata": {},
     "output_type": "display_data"
    },
    {
     "name": "stderr",
     "output_type": "stream",
     "text": [
      "250626T07:53:40.617Z     INFO| http: https://preprod.cloud.fiddler.ai/v3/projects GET -- emit req (0 B, timeout: (5, 100)) \n",
      "250626T07:53:40.894Z     INFO| http: https://preprod.cloud.fiddler.ai/v3/projects GET -- resp code: 200, took 0.276 s, resp/req body size: (437 B, 0 B) \n",
      "250626T07:53:40.895Z     INFO| http: https://preprod.cloud.fiddler.ai/v3/models GET -- emit req (0 B, timeout: (5, 100)) \n",
      "250626T07:53:41.376Z     INFO| http: https://preprod.cloud.fiddler.ai/v3/models GET -- resp code: 200, took 0.480 s, resp/req body size: (950 B, 0 B) \n"
     ]
    },
    {
     "data": {
      "text/html": [
       "<pre style=\"white-space:pre;overflow-x:auto;line-height:normal;font-family:Menlo,'DejaVu Sans Mono',consolas,'Courier New',monospace\">Listing models in project: quickstart_examples1734654547                                                           \n",
       "</pre>\n"
      ],
      "text/plain": [
       "Listing models in project: quickstart_examples1734654547                                                           \n"
      ]
     },
     "metadata": {},
     "output_type": "display_data"
    },
    {
     "name": "stderr",
     "output_type": "stream",
     "text": [
      "250626T07:53:41.378Z     INFO| http: https://preprod.cloud.fiddler.ai/v3/projects GET -- emit req (0 B, timeout: (5, 100)) \n",
      "250626T07:53:41.652Z     INFO| http: https://preprod.cloud.fiddler.ai/v3/projects GET -- resp code: 200, took 0.273 s, resp/req body size: (456 B, 0 B) \n",
      "250626T07:53:41.653Z     INFO| http: https://preprod.cloud.fiddler.ai/v3/models GET -- emit req (0 B, timeout: (5, 100)) \n",
      "250626T07:53:42.087Z     INFO| http: https://preprod.cloud.fiddler.ai/v3/models GET -- resp code: 200, took 0.434 s, resp/req body size: (2595 B, 0 B) \n"
     ]
    },
    {
     "data": {
      "text/html": [
       "<pre style=\"white-space:pre;overflow-x:auto;line-height:normal;font-family:Menlo,'DejaVu Sans Mono',consolas,'Courier New',monospace\">Listing models in project: quickstart_examples1734720257                                                           \n",
       "</pre>\n"
      ],
      "text/plain": [
       "Listing models in project: quickstart_examples1734720257                                                           \n"
      ]
     },
     "metadata": {},
     "output_type": "display_data"
    },
    {
     "name": "stderr",
     "output_type": "stream",
     "text": [
      "250626T07:53:42.089Z     INFO| http: https://preprod.cloud.fiddler.ai/v3/projects GET -- emit req (0 B, timeout: (5, 100)) \n",
      "250626T07:53:42.365Z     INFO| http: https://preprod.cloud.fiddler.ai/v3/projects GET -- resp code: 200, took 0.276 s, resp/req body size: (456 B, 0 B) \n",
      "250626T07:53:42.366Z     INFO| http: https://preprod.cloud.fiddler.ai/v3/models GET -- emit req (0 B, timeout: (5, 100)) \n",
      "250626T07:53:42.957Z     INFO| http: https://preprod.cloud.fiddler.ai/v3/models GET -- resp code: 200, took 0.591 s, resp/req body size: (970 B, 0 B) \n"
     ]
    },
    {
     "data": {
      "text/html": [
       "<pre style=\"white-space:pre;overflow-x:auto;line-height:normal;font-family:Menlo,'DejaVu Sans Mono',consolas,'Courier New',monospace\">Listing models in project: ust_quickstart_llm                                                                      \n",
       "</pre>\n"
      ],
      "text/plain": [
       "Listing models in project: ust_quickstart_llm                                                                      \n"
      ]
     },
     "metadata": {},
     "output_type": "display_data"
    },
    {
     "name": "stderr",
     "output_type": "stream",
     "text": [
      "250626T07:53:42.959Z     INFO| http: https://preprod.cloud.fiddler.ai/v3/projects GET -- emit req (0 B, timeout: (5, 100)) \n",
      "250626T07:53:43.232Z     INFO| http: https://preprod.cloud.fiddler.ai/v3/projects GET -- resp code: 200, took 0.273 s, resp/req body size: (445 B, 0 B) \n",
      "250626T07:53:43.234Z     INFO| http: https://preprod.cloud.fiddler.ai/v3/models GET -- emit req (0 B, timeout: (5, 100)) \n",
      "250626T07:53:43.662Z     INFO| http: https://preprod.cloud.fiddler.ai/v3/models GET -- resp code: 200, took 0.428 s, resp/req body size: (954 B, 0 B) \n"
     ]
    },
    {
     "data": {
      "text/html": [
       "<pre style=\"white-space:pre;overflow-x:auto;line-height:normal;font-family:Menlo,'DejaVu Sans Mono',consolas,'Courier New',monospace\">Listing models in project: fashion_mnist                                                                           \n",
       "</pre>\n"
      ],
      "text/plain": [
       "Listing models in project: fashion_mnist                                                                           \n"
      ]
     },
     "metadata": {},
     "output_type": "display_data"
    },
    {
     "name": "stderr",
     "output_type": "stream",
     "text": [
      "250626T07:53:43.664Z     INFO| http: https://preprod.cloud.fiddler.ai/v3/projects GET -- emit req (0 B, timeout: (5, 100)) \n",
      "250626T07:53:43.946Z     INFO| http: https://preprod.cloud.fiddler.ai/v3/projects GET -- resp code: 200, took 0.282 s, resp/req body size: (440 B, 0 B) \n",
      "250626T07:53:43.947Z     INFO| http: https://preprod.cloud.fiddler.ai/v3/models GET -- emit req (0 B, timeout: (5, 100)) \n",
      "250626T07:53:44.417Z     INFO| http: https://preprod.cloud.fiddler.ai/v3/models GET -- resp code: 200, took 0.470 s, resp/req body size: (971 B, 0 B) \n"
     ]
    },
    {
     "data": {
      "text/html": [
       "<pre style=\"white-space:pre;overflow-x:auto;line-height:normal;font-family:Menlo,'DejaVu Sans Mono',consolas,'Courier New',monospace\">Listing models in project: quickstart_examples_meee                                                                \n",
       "</pre>\n"
      ],
      "text/plain": [
       "Listing models in project: quickstart_examples_meee                                                                \n"
      ]
     },
     "metadata": {},
     "output_type": "display_data"
    },
    {
     "name": "stderr",
     "output_type": "stream",
     "text": [
      "250626T07:53:44.418Z     INFO| http: https://preprod.cloud.fiddler.ai/v3/projects GET -- emit req (0 B, timeout: (5, 100)) \n",
      "250626T07:53:44.692Z     INFO| http: https://preprod.cloud.fiddler.ai/v3/projects GET -- resp code: 200, took 0.273 s, resp/req body size: (451 B, 0 B) \n",
      "250626T07:53:44.693Z     INFO| http: https://preprod.cloud.fiddler.ai/v3/models GET -- emit req (0 B, timeout: (5, 100)) \n",
      "250626T07:53:45.114Z     INFO| http: https://preprod.cloud.fiddler.ai/v3/models GET -- resp code: 200, took 0.421 s, resp/req body size: (969 B, 0 B) \n"
     ]
    },
    {
     "data": {
      "text/html": [
       "<pre style=\"white-space:pre;overflow-x:auto;line-height:normal;font-family:Menlo,'DejaVu Sans Mono',consolas,'Courier New',monospace\">Listing models in project: image_monitoring_max                                                                    \n",
       "</pre>\n"
      ],
      "text/plain": [
       "Listing models in project: image_monitoring_max                                                                    \n"
      ]
     },
     "metadata": {},
     "output_type": "display_data"
    },
    {
     "name": "stderr",
     "output_type": "stream",
     "text": [
      "250626T07:53:45.115Z     INFO| http: https://preprod.cloud.fiddler.ai/v3/projects GET -- emit req (0 B, timeout: (5, 100)) \n",
      "250626T07:53:45.392Z     INFO| http: https://preprod.cloud.fiddler.ai/v3/projects GET -- resp code: 200, took 0.276 s, resp/req body size: (447 B, 0 B) \n",
      "250626T07:53:45.393Z     INFO| http: https://preprod.cloud.fiddler.ai/v3/models GET -- emit req (0 B, timeout: (5, 100)) \n",
      "250626T07:53:45.942Z     INFO| http: https://preprod.cloud.fiddler.ai/v3/models GET -- resp code: 200, took 0.549 s, resp/req body size: (949 B, 0 B) \n"
     ]
    },
    {
     "data": {
      "text/html": [
       "<pre style=\"white-space:pre;overflow-x:auto;line-height:normal;font-family:Menlo,'DejaVu Sans Mono',consolas,'Courier New',monospace\">Listing models in project: object_detection_xai                                                                    \n",
       "</pre>\n"
      ],
      "text/plain": [
       "Listing models in project: object_detection_xai                                                                    \n"
      ]
     },
     "metadata": {},
     "output_type": "display_data"
    },
    {
     "name": "stderr",
     "output_type": "stream",
     "text": [
      "250626T07:53:45.944Z     INFO| http: https://preprod.cloud.fiddler.ai/v3/projects GET -- emit req (0 B, timeout: (5, 100)) \n",
      "250626T07:53:46.231Z     INFO| http: https://preprod.cloud.fiddler.ai/v3/projects GET -- resp code: 200, took 0.287 s, resp/req body size: (447 B, 0 B) \n",
      "250626T07:53:46.232Z     INFO| http: https://preprod.cloud.fiddler.ai/v3/models GET -- emit req (0 B, timeout: (5, 100)) \n",
      "250626T07:53:46.780Z     INFO| http: https://preprod.cloud.fiddler.ai/v3/models GET -- resp code: 200, took 0.548 s, resp/req body size: (6571 B, 0 B) \n"
     ]
    },
    {
     "data": {
      "text/html": [
       "<pre style=\"white-space:pre;overflow-x:auto;line-height:normal;font-family:Menlo,'DejaVu Sans Mono',consolas,'Courier New',monospace\">Listing models in project: lending2                                                                                \n",
       "</pre>\n"
      ],
      "text/plain": [
       "Listing models in project: lending2                                                                                \n"
      ]
     },
     "metadata": {},
     "output_type": "display_data"
    },
    {
     "name": "stderr",
     "output_type": "stream",
     "text": [
      "250626T07:53:46.782Z     INFO| http: https://preprod.cloud.fiddler.ai/v3/projects GET -- emit req (0 B, timeout: (5, 100)) \n",
      "250626T07:53:47.106Z     INFO| http: https://preprod.cloud.fiddler.ai/v3/projects GET -- resp code: 200, took 0.323 s, resp/req body size: (435 B, 0 B) \n",
      "250626T07:53:47.107Z     INFO| http: https://preprod.cloud.fiddler.ai/v3/models GET -- emit req (0 B, timeout: (5, 100)) \n",
      "250626T07:53:47.576Z     INFO| http: https://preprod.cloud.fiddler.ai/v3/models GET -- resp code: 200, took 0.469 s, resp/req body size: (159 B, 0 B) \n"
     ]
    },
    {
     "data": {
      "text/html": [
       "<pre style=\"white-space:pre;overflow-x:auto;line-height:normal;font-family:Menlo,'DejaVu Sans Mono',consolas,'Courier New',monospace\">Listing models in project: catapult_fiddler_chatbot                                                                \n",
       "</pre>\n"
      ],
      "text/plain": [
       "Listing models in project: catapult_fiddler_chatbot                                                                \n"
      ]
     },
     "metadata": {},
     "output_type": "display_data"
    },
    {
     "name": "stderr",
     "output_type": "stream",
     "text": [
      "250626T07:53:47.579Z     INFO| http: https://preprod.cloud.fiddler.ai/v3/projects GET -- emit req (0 B, timeout: (5, 100)) \n",
      "250626T07:53:47.852Z     INFO| http: https://preprod.cloud.fiddler.ai/v3/projects GET -- resp code: 200, took 0.273 s, resp/req body size: (451 B, 0 B) \n",
      "250626T07:53:47.853Z     INFO| http: https://preprod.cloud.fiddler.ai/v3/models GET -- emit req (0 B, timeout: (5, 100)) \n",
      "250626T07:53:48.260Z     INFO| http: https://preprod.cloud.fiddler.ai/v3/models GET -- resp code: 200, took 0.407 s, resp/req body size: (159 B, 0 B) \n"
     ]
    },
    {
     "data": {
      "text/html": [
       "<pre style=\"white-space:pre;overflow-x:auto;line-height:normal;font-family:Menlo,'DejaVu Sans Mono',consolas,'Courier New',monospace\">Listing models in project: seabed_demo_max                                                                         \n",
       "</pre>\n"
      ],
      "text/plain": [
       "Listing models in project: seabed_demo_max                                                                         \n"
      ]
     },
     "metadata": {},
     "output_type": "display_data"
    },
    {
     "name": "stderr",
     "output_type": "stream",
     "text": [
      "250626T07:53:48.265Z     INFO| http: https://preprod.cloud.fiddler.ai/v3/projects GET -- emit req (0 B, timeout: (5, 100)) \n",
      "250626T07:53:48.549Z     INFO| http: https://preprod.cloud.fiddler.ai/v3/projects GET -- resp code: 200, took 0.283 s, resp/req body size: (442 B, 0 B) \n",
      "250626T07:53:48.551Z     INFO| http: https://preprod.cloud.fiddler.ai/v3/models GET -- emit req (0 B, timeout: (5, 100)) \n",
      "250626T07:53:49.056Z     INFO| http: https://preprod.cloud.fiddler.ai/v3/models GET -- resp code: 200, took 0.504 s, resp/req body size: (1771 B, 0 B) \n"
     ]
    },
    {
     "data": {
      "text/html": [
       "<pre style=\"white-space:pre;overflow-x:auto;line-height:normal;font-family:Menlo,'DejaVu Sans Mono',consolas,'Courier New',monospace\">Listing models in project: nick_fiddler_nba                                                                        \n",
       "</pre>\n"
      ],
      "text/plain": [
       "Listing models in project: nick_fiddler_nba                                                                        \n"
      ]
     },
     "metadata": {},
     "output_type": "display_data"
    },
    {
     "name": "stderr",
     "output_type": "stream",
     "text": [
      "250626T07:53:49.058Z     INFO| http: https://preprod.cloud.fiddler.ai/v3/projects GET -- emit req (0 B, timeout: (5, 100)) \n",
      "250626T07:53:49.336Z     INFO| http: https://preprod.cloud.fiddler.ai/v3/projects GET -- resp code: 200, took 0.277 s, resp/req body size: (443 B, 0 B) \n",
      "250626T07:53:49.336Z     INFO| http: https://preprod.cloud.fiddler.ai/v3/models GET -- emit req (0 B, timeout: (5, 100)) \n",
      "250626T07:53:49.739Z     INFO| http: https://preprod.cloud.fiddler.ai/v3/models GET -- resp code: 200, took 0.403 s, resp/req body size: (952 B, 0 B) \n"
     ]
    },
    {
     "data": {
      "text/html": [
       "<pre style=\"white-space:pre;overflow-x:auto;line-height:normal;font-family:Menlo,'DejaVu Sans Mono',consolas,'Courier New',monospace\">Listing models in project: test_bank_churn_demo1                                                                   \n",
       "</pre>\n"
      ],
      "text/plain": [
       "Listing models in project: test_bank_churn_demo1                                                                   \n"
      ]
     },
     "metadata": {},
     "output_type": "display_data"
    },
    {
     "name": "stderr",
     "output_type": "stream",
     "text": [
      "250626T07:53:49.742Z     INFO| http: https://preprod.cloud.fiddler.ai/v3/projects GET -- emit req (0 B, timeout: (5, 100)) \n",
      "250626T07:53:50.028Z     INFO| http: https://preprod.cloud.fiddler.ai/v3/projects GET -- resp code: 200, took 0.285 s, resp/req body size: (448 B, 0 B) \n",
      "250626T07:53:50.028Z     INFO| http: https://preprod.cloud.fiddler.ai/v3/models GET -- emit req (0 B, timeout: (5, 100)) \n",
      "250626T07:53:50.501Z     INFO| http: https://preprod.cloud.fiddler.ai/v3/models GET -- resp code: 200, took 0.472 s, resp/req body size: (159 B, 0 B) \n"
     ]
    },
    {
     "data": {
      "text/html": [
       "<pre style=\"white-space:pre;overflow-x:auto;line-height:normal;font-family:Menlo,'DejaVu Sans Mono',consolas,'Courier New',monospace\">Listing models in project: test_bank_churn_demo                                                                    \n",
       "</pre>\n"
      ],
      "text/plain": [
       "Listing models in project: test_bank_churn_demo                                                                    \n"
      ]
     },
     "metadata": {},
     "output_type": "display_data"
    },
    {
     "name": "stderr",
     "output_type": "stream",
     "text": [
      "250626T07:53:50.503Z     INFO| http: https://preprod.cloud.fiddler.ai/v3/projects GET -- emit req (0 B, timeout: (5, 100)) \n",
      "250626T07:53:50.775Z     INFO| http: https://preprod.cloud.fiddler.ai/v3/projects GET -- resp code: 200, took 0.272 s, resp/req body size: (447 B, 0 B) \n",
      "250626T07:53:50.777Z     INFO| http: https://preprod.cloud.fiddler.ai/v3/models GET -- emit req (0 B, timeout: (5, 100)) \n",
      "250626T07:53:51.208Z     INFO| http: https://preprod.cloud.fiddler.ai/v3/models GET -- resp code: 200, took 0.431 s, resp/req body size: (3381 B, 0 B) \n"
     ]
    },
    {
     "data": {
      "text/html": [
       "<pre style=\"white-space:pre;overflow-x:auto;line-height:normal;font-family:Menlo,'DejaVu Sans Mono',consolas,'Courier New',monospace\">Listing models in project: dqcwz                                                                                   \n",
       "</pre>\n"
      ],
      "text/plain": [
       "Listing models in project: dqcwz                                                                                   \n"
      ]
     },
     "metadata": {},
     "output_type": "display_data"
    },
    {
     "name": "stderr",
     "output_type": "stream",
     "text": [
      "250626T07:53:51.211Z     INFO| http: https://preprod.cloud.fiddler.ai/v3/projects GET -- emit req (0 B, timeout: (5, 100)) \n",
      "250626T07:53:51.495Z     INFO| http: https://preprod.cloud.fiddler.ai/v3/projects GET -- resp code: 200, took 0.284 s, resp/req body size: (432 B, 0 B) \n",
      "250626T07:53:51.496Z     INFO| http: https://preprod.cloud.fiddler.ai/v3/models GET -- emit req (0 B, timeout: (5, 100)) \n",
      "250626T07:53:51.987Z     INFO| http: https://preprod.cloud.fiddler.ai/v3/models GET -- resp code: 200, took 0.490 s, resp/req body size: (947 B, 0 B) \n"
     ]
    },
    {
     "data": {
      "text/html": [
       "<pre style=\"white-space:pre;overflow-x:auto;line-height:normal;font-family:Menlo,'DejaVu Sans Mono',consolas,'Courier New',monospace\">Listing models in project: quickstart_examples_max                                                                 \n",
       "</pre>\n"
      ],
      "text/plain": [
       "Listing models in project: quickstart_examples_max                                                                 \n"
      ]
     },
     "metadata": {},
     "output_type": "display_data"
    },
    {
     "name": "stderr",
     "output_type": "stream",
     "text": [
      "250626T07:53:51.989Z     INFO| http: https://preprod.cloud.fiddler.ai/v3/projects GET -- emit req (0 B, timeout: (5, 100)) \n",
      "250626T07:53:52.274Z     INFO| http: https://preprod.cloud.fiddler.ai/v3/projects GET -- resp code: 200, took 0.285 s, resp/req body size: (450 B, 0 B) \n",
      "250626T07:53:52.275Z     INFO| http: https://preprod.cloud.fiddler.ai/v3/models GET -- emit req (0 B, timeout: (5, 100)) \n",
      "250626T07:53:52.729Z     INFO| http: https://preprod.cloud.fiddler.ai/v3/models GET -- resp code: 200, took 0.454 s, resp/req body size: (975 B, 0 B) \n"
     ]
    },
    {
     "data": {
      "text/html": [
       "<pre style=\"white-space:pre;overflow-x:auto;line-height:normal;font-family:Menlo,'DejaVu Sans Mono',consolas,'Courier New',monospace\">Listing models in project: ctplt_bank_churn                                                                        \n",
       "</pre>\n"
      ],
      "text/plain": [
       "Listing models in project: ctplt_bank_churn                                                                        \n"
      ]
     },
     "metadata": {},
     "output_type": "display_data"
    },
    {
     "name": "stderr",
     "output_type": "stream",
     "text": [
      "250626T07:53:52.731Z     INFO| http: https://preprod.cloud.fiddler.ai/v3/projects GET -- emit req (0 B, timeout: (5, 100)) \n",
      "250626T07:53:53.018Z     INFO| http: https://preprod.cloud.fiddler.ai/v3/projects GET -- resp code: 200, took 0.286 s, resp/req body size: (443 B, 0 B) \n",
      "250626T07:53:53.019Z     INFO| http: https://preprod.cloud.fiddler.ai/v3/models GET -- emit req (0 B, timeout: (5, 100)) \n",
      "250626T07:53:53.489Z     INFO| http: https://preprod.cloud.fiddler.ai/v3/models GET -- resp code: 200, took 0.469 s, resp/req body size: (1023 B, 0 B) \n"
     ]
    },
    {
     "data": {
      "text/html": [
       "<pre style=\"white-space:pre;overflow-x:auto;line-height:normal;font-family:Menlo,'DejaVu Sans Mono',consolas,'Courier New',monospace\">Listing models in project: ctplt_fiddler_chatbot_v3                                                                \n",
       "</pre>\n"
      ],
      "text/plain": [
       "Listing models in project: ctplt_fiddler_chatbot_v3                                                                \n"
      ]
     },
     "metadata": {},
     "output_type": "display_data"
    },
    {
     "name": "stderr",
     "output_type": "stream",
     "text": [
      "250626T07:53:53.490Z     INFO| http: https://preprod.cloud.fiddler.ai/v3/projects GET -- emit req (0 B, timeout: (5, 100)) \n",
      "250626T07:53:53.767Z     INFO| http: https://preprod.cloud.fiddler.ai/v3/projects GET -- resp code: 200, took 0.277 s, resp/req body size: (451 B, 0 B) \n",
      "250626T07:53:53.768Z     INFO| http: https://preprod.cloud.fiddler.ai/v3/models GET -- emit req (0 B, timeout: (5, 100)) \n",
      "250626T07:53:54.242Z     INFO| http: https://preprod.cloud.fiddler.ai/v3/models GET -- resp code: 200, took 0.473 s, resp/req body size: (960 B, 0 B) \n"
     ]
    },
    {
     "data": {
      "text/html": [
       "<pre style=\"white-space:pre;overflow-x:auto;line-height:normal;font-family:Menlo,'DejaVu Sans Mono',consolas,'Courier New',monospace\">Listing models in project: catapult_credit_approval                                                                \n",
       "</pre>\n"
      ],
      "text/plain": [
       "Listing models in project: catapult_credit_approval                                                                \n"
      ]
     },
     "metadata": {},
     "output_type": "display_data"
    },
    {
     "name": "stderr",
     "output_type": "stream",
     "text": [
      "250626T07:53:54.245Z     INFO| http: https://preprod.cloud.fiddler.ai/v3/projects GET -- emit req (0 B, timeout: (5, 100)) \n",
      "250626T07:53:54.592Z     INFO| http: https://preprod.cloud.fiddler.ai/v3/projects GET -- resp code: 200, took 0.347 s, resp/req body size: (451 B, 0 B) \n",
      "250626T07:53:54.593Z     INFO| http: https://preprod.cloud.fiddler.ai/v3/models GET -- emit req (0 B, timeout: (5, 100)) \n",
      "250626T07:53:55.079Z     INFO| http: https://preprod.cloud.fiddler.ai/v3/models GET -- resp code: 200, took 0.485 s, resp/req body size: (159 B, 0 B) \n"
     ]
    },
    {
     "data": {
      "text/html": [
       "<pre style=\"white-space:pre;overflow-x:auto;line-height:normal;font-family:Menlo,'DejaVu Sans Mono',consolas,'Courier New',monospace\">Listing models in project: ctplt_search_ranking                                                                    \n",
       "</pre>\n"
      ],
      "text/plain": [
       "Listing models in project: ctplt_search_ranking                                                                    \n"
      ]
     },
     "metadata": {},
     "output_type": "display_data"
    },
    {
     "name": "stderr",
     "output_type": "stream",
     "text": [
      "250626T07:53:55.081Z     INFO| http: https://preprod.cloud.fiddler.ai/v3/projects GET -- emit req (0 B, timeout: (5, 100)) \n",
      "250626T07:53:55.372Z     INFO| http: https://preprod.cloud.fiddler.ai/v3/projects GET -- resp code: 200, took 0.291 s, resp/req body size: (447 B, 0 B) \n",
      "250626T07:53:55.373Z     INFO| http: https://preprod.cloud.fiddler.ai/v3/models GET -- emit req (0 B, timeout: (5, 100)) \n",
      "250626T07:53:55.803Z     INFO| http: https://preprod.cloud.fiddler.ai/v3/models GET -- resp code: 200, took 0.429 s, resp/req body size: (1949 B, 0 B) \n"
     ]
    },
    {
     "data": {
      "text/html": [
       "<pre style=\"white-space:pre;overflow-x:auto;line-height:normal;font-family:Menlo,'DejaVu Sans Mono',consolas,'Courier New',monospace\">Listing models in project: ctplt_airline_delays                                                                    \n",
       "</pre>\n"
      ],
      "text/plain": [
       "Listing models in project: ctplt_airline_delays                                                                    \n"
      ]
     },
     "metadata": {},
     "output_type": "display_data"
    },
    {
     "name": "stderr",
     "output_type": "stream",
     "text": [
      "250626T07:53:55.809Z     INFO| http: https://preprod.cloud.fiddler.ai/v3/projects GET -- emit req (0 B, timeout: (5, 100)) \n",
      "250626T07:53:56.088Z     INFO| http: https://preprod.cloud.fiddler.ai/v3/projects GET -- resp code: 200, took 0.278 s, resp/req body size: (447 B, 0 B) \n",
      "250626T07:53:56.090Z     INFO| http: https://preprod.cloud.fiddler.ai/v3/models GET -- emit req (0 B, timeout: (5, 100)) \n",
      "250626T07:53:56.575Z     INFO| http: https://preprod.cloud.fiddler.ai/v3/models GET -- resp code: 200, took 0.485 s, resp/req body size: (969 B, 0 B) \n"
     ]
    },
    {
     "data": {
      "text/html": [
       "<pre style=\"white-space:pre;overflow-x:auto;line-height:normal;font-family:Menlo,'DejaVu Sans Mono',consolas,'Courier New',monospace\">Listing models in project: test_bank_churn_exp                                                                     \n",
       "</pre>\n"
      ],
      "text/plain": [
       "Listing models in project: test_bank_churn_exp                                                                     \n"
      ]
     },
     "metadata": {},
     "output_type": "display_data"
    },
    {
     "name": "stderr",
     "output_type": "stream",
     "text": [
      "250626T07:53:56.580Z     INFO| http: https://preprod.cloud.fiddler.ai/v3/projects GET -- emit req (0 B, timeout: (5, 100)) \n",
      "250626T07:53:56.880Z     INFO| http: https://preprod.cloud.fiddler.ai/v3/projects GET -- resp code: 200, took 0.299 s, resp/req body size: (446 B, 0 B) \n",
      "250626T07:53:56.882Z     INFO| http: https://preprod.cloud.fiddler.ai/v3/models GET -- emit req (0 B, timeout: (5, 100)) \n",
      "250626T07:53:57.360Z     INFO| http: https://preprod.cloud.fiddler.ai/v3/models GET -- resp code: 200, took 0.477 s, resp/req body size: (1785 B, 0 B) \n"
     ]
    },
    {
     "data": {
      "text/html": [
       "<pre style=\"white-space:pre;overflow-x:auto;line-height:normal;font-family:Menlo,'DejaVu Sans Mono',consolas,'Courier New',monospace\">Listing models in project: ctplt_fashion_mnist                                                                     \n",
       "</pre>\n"
      ],
      "text/plain": [
       "Listing models in project: ctplt_fashion_mnist                                                                     \n"
      ]
     },
     "metadata": {},
     "output_type": "display_data"
    },
    {
     "name": "stderr",
     "output_type": "stream",
     "text": [
      "250626T07:53:57.365Z     INFO| http: https://preprod.cloud.fiddler.ai/v3/projects GET -- emit req (0 B, timeout: (5, 100)) \n",
      "250626T07:53:57.653Z     INFO| http: https://preprod.cloud.fiddler.ai/v3/projects GET -- resp code: 200, took 0.287 s, resp/req body size: (446 B, 0 B) \n",
      "250626T07:53:57.654Z     INFO| http: https://preprod.cloud.fiddler.ai/v3/models GET -- emit req (0 B, timeout: (5, 100)) \n",
      "250626T07:53:58.121Z     INFO| http: https://preprod.cloud.fiddler.ai/v3/models GET -- resp code: 200, took 0.466 s, resp/req body size: (1016 B, 0 B) \n"
     ]
    },
    {
     "data": {
      "text/html": [
       "<pre style=\"white-space:pre;overflow-x:auto;line-height:normal;font-family:Menlo,'DejaVu Sans Mono',consolas,'Courier New',monospace\">Listing models in project: test_imdb_rnn_exp                                                                       \n",
       "</pre>\n"
      ],
      "text/plain": [
       "Listing models in project: test_imdb_rnn_exp                                                                       \n"
      ]
     },
     "metadata": {},
     "output_type": "display_data"
    },
    {
     "name": "stderr",
     "output_type": "stream",
     "text": [
      "250626T07:53:58.128Z     INFO| http: https://preprod.cloud.fiddler.ai/v3/projects GET -- emit req (0 B, timeout: (5, 100)) \n",
      "250626T07:53:58.430Z     INFO| http: https://preprod.cloud.fiddler.ai/v3/projects GET -- resp code: 200, took 0.302 s, resp/req body size: (444 B, 0 B) \n",
      "250626T07:53:58.433Z     INFO| http: https://preprod.cloud.fiddler.ai/v3/models GET -- emit req (0 B, timeout: (5, 100)) \n",
      "250626T07:53:58.852Z     INFO| http: https://preprod.cloud.fiddler.ai/v3/models GET -- resp code: 200, took 0.419 s, resp/req body size: (959 B, 0 B) \n"
     ]
    },
    {
     "data": {
      "text/html": [
       "<pre style=\"white-space:pre;overflow-x:auto;line-height:normal;font-family:Menlo,'DejaVu Sans Mono',consolas,'Courier New',monospace\">Listing models in project: object_detection_xai_catapult                                                           \n",
       "</pre>\n"
      ],
      "text/plain": [
       "Listing models in project: object_detection_xai_catapult                                                           \n"
      ]
     },
     "metadata": {},
     "output_type": "display_data"
    },
    {
     "name": "stderr",
     "output_type": "stream",
     "text": [
      "250626T07:53:58.858Z     INFO| http: https://preprod.cloud.fiddler.ai/v3/projects GET -- emit req (0 B, timeout: (5, 100)) \n",
      "250626T07:53:59.135Z     INFO| http: https://preprod.cloud.fiddler.ai/v3/projects GET -- resp code: 200, took 0.276 s, resp/req body size: (456 B, 0 B) \n",
      "250626T07:53:59.137Z     INFO| http: https://preprod.cloud.fiddler.ai/v3/models GET -- emit req (0 B, timeout: (5, 100)) \n",
      "250626T07:53:59.619Z     INFO| http: https://preprod.cloud.fiddler.ai/v3/models GET -- resp code: 200, took 0.482 s, resp/req body size: (957 B, 0 B) \n"
     ]
    },
    {
     "data": {
      "text/html": [
       "<pre style=\"white-space:pre;overflow-x:auto;line-height:normal;font-family:Menlo,'DejaVu Sans Mono',consolas,'Courier New',monospace\">Listing models in project: test_lending_exp                                                                        \n",
       "</pre>\n"
      ],
      "text/plain": [
       "Listing models in project: test_lending_exp                                                                        \n"
      ]
     },
     "metadata": {},
     "output_type": "display_data"
    },
    {
     "name": "stderr",
     "output_type": "stream",
     "text": [
      "250626T07:53:59.624Z     INFO| http: https://preprod.cloud.fiddler.ai/v3/projects GET -- emit req (0 B, timeout: (5, 100)) \n",
      "250626T07:53:59.897Z     INFO| http: https://preprod.cloud.fiddler.ai/v3/projects GET -- resp code: 200, took 0.272 s, resp/req body size: (443 B, 0 B) \n",
      "250626T07:53:59.899Z     INFO| http: https://preprod.cloud.fiddler.ai/v3/models GET -- emit req (0 B, timeout: (5, 100)) \n",
      "250626T07:54:00.317Z     INFO| http: https://preprod.cloud.fiddler.ai/v3/models GET -- resp code: 200, took 0.418 s, resp/req body size: (966 B, 0 B) \n"
     ]
    },
    {
     "data": {
      "text/html": [
       "<pre style=\"white-space:pre;overflow-x:auto;line-height:normal;font-family:Menlo,'DejaVu Sans Mono',consolas,'Courier New',monospace\">Listing models in project: test_news_group_exp                                                                     \n",
       "</pre>\n"
      ],
      "text/plain": [
       "Listing models in project: test_news_group_exp                                                                     \n"
      ]
     },
     "metadata": {},
     "output_type": "display_data"
    },
    {
     "name": "stderr",
     "output_type": "stream",
     "text": [
      "250626T07:54:00.320Z     INFO| http: https://preprod.cloud.fiddler.ai/v3/projects GET -- emit req (0 B, timeout: (5, 100)) \n",
      "250626T07:54:00.598Z     INFO| http: https://preprod.cloud.fiddler.ai/v3/projects GET -- resp code: 200, took 0.277 s, resp/req body size: (446 B, 0 B) \n",
      "250626T07:54:00.599Z     INFO| http: https://preprod.cloud.fiddler.ai/v3/models GET -- emit req (0 B, timeout: (5, 100)) \n",
      "250626T07:54:01.177Z     INFO| http: https://preprod.cloud.fiddler.ai/v3/models GET -- resp code: 200, took 0.577 s, resp/req body size: (973 B, 0 B) \n"
     ]
    },
    {
     "data": {
      "text/html": [
       "<pre style=\"white-space:pre;overflow-x:auto;line-height:normal;font-family:Menlo,'DejaVu Sans Mono',consolas,'Courier New',monospace\">Listing models in project: quickstart_examples_me                                                                  \n",
       "</pre>\n"
      ],
      "text/plain": [
       "Listing models in project: quickstart_examples_me                                                                  \n"
      ]
     },
     "metadata": {},
     "output_type": "display_data"
    },
    {
     "name": "stderr",
     "output_type": "stream",
     "text": [
      "250626T07:54:01.180Z     INFO| http: https://preprod.cloud.fiddler.ai/v3/projects GET -- emit req (0 B, timeout: (5, 100)) \n",
      "250626T07:54:01.457Z     INFO| http: https://preprod.cloud.fiddler.ai/v3/projects GET -- resp code: 200, took 0.276 s, resp/req body size: (449 B, 0 B) \n",
      "250626T07:54:01.459Z     INFO| http: https://preprod.cloud.fiddler.ai/v3/models GET -- emit req (0 B, timeout: (5, 100)) \n",
      "250626T07:54:01.863Z     INFO| http: https://preprod.cloud.fiddler.ai/v3/models GET -- resp code: 200, took 0.404 s, resp/req body size: (965 B, 0 B) \n"
     ]
    },
    {
     "data": {
      "text/html": [
       "<pre style=\"white-space:pre;overflow-x:auto;line-height:normal;font-family:Menlo,'DejaVu Sans Mono',consolas,'Courier New',monospace\">Listing models in project: quickstart_examples_b                                                                   \n",
       "</pre>\n"
      ],
      "text/plain": [
       "Listing models in project: quickstart_examples_b                                                                   \n"
      ]
     },
     "metadata": {},
     "output_type": "display_data"
    },
    {
     "name": "stderr",
     "output_type": "stream",
     "text": [
      "250626T07:54:01.870Z     INFO| http: https://preprod.cloud.fiddler.ai/v3/projects GET -- emit req (0 B, timeout: (5, 100)) \n",
      "250626T07:54:02.148Z     INFO| http: https://preprod.cloud.fiddler.ai/v3/projects GET -- resp code: 200, took 0.278 s, resp/req body size: (448 B, 0 B) \n",
      "250626T07:54:02.149Z     INFO| http: https://preprod.cloud.fiddler.ai/v3/models GET -- emit req (0 B, timeout: (5, 100)) \n",
      "250626T07:54:02.659Z     INFO| http: https://preprod.cloud.fiddler.ai/v3/models GET -- resp code: 200, took 0.509 s, resp/req body size: (963 B, 0 B) \n"
     ]
    },
    {
     "data": {
      "text/html": [
       "<pre style=\"white-space:pre;overflow-x:auto;line-height:normal;font-family:Menlo,'DejaVu Sans Mono',consolas,'Courier New',monospace\">Listing models in project: quickstart_examples_wb                                                                  \n",
       "</pre>\n"
      ],
      "text/plain": [
       "Listing models in project: quickstart_examples_wb                                                                  \n"
      ]
     },
     "metadata": {},
     "output_type": "display_data"
    },
    {
     "name": "stderr",
     "output_type": "stream",
     "text": [
      "250626T07:54:02.666Z     INFO| http: https://preprod.cloud.fiddler.ai/v3/projects GET -- emit req (0 B, timeout: (5, 100)) \n",
      "250626T07:54:02.940Z     INFO| http: https://preprod.cloud.fiddler.ai/v3/projects GET -- resp code: 200, took 0.273 s, resp/req body size: (449 B, 0 B) \n",
      "250626T07:54:02.942Z     INFO| http: https://preprod.cloud.fiddler.ai/v3/models GET -- emit req (0 B, timeout: (5, 100)) \n",
      "250626T07:54:03.389Z     INFO| http: https://preprod.cloud.fiddler.ai/v3/models GET -- resp code: 200, took 0.447 s, resp/req body size: (4169 B, 0 B) \n"
     ]
    },
    {
     "data": {
      "text/html": [
       "<pre style=\"white-space:pre;overflow-x:auto;line-height:normal;font-family:Menlo,'DejaVu Sans Mono',consolas,'Courier New',monospace\">Listing models in project: dhara_gg                                                                                \n",
       "</pre>\n"
      ],
      "text/plain": [
       "Listing models in project: dhara_gg                                                                                \n"
      ]
     },
     "metadata": {},
     "output_type": "display_data"
    },
    {
     "name": "stderr",
     "output_type": "stream",
     "text": [
      "250626T07:54:03.396Z     INFO| http: https://preprod.cloud.fiddler.ai/v3/projects GET -- emit req (0 B, timeout: (5, 100)) \n",
      "250626T07:54:03.676Z     INFO| http: https://preprod.cloud.fiddler.ai/v3/projects GET -- resp code: 200, took 0.278 s, resp/req body size: (435 B, 0 B) \n",
      "250626T07:54:03.677Z     INFO| http: https://preprod.cloud.fiddler.ai/v3/models GET -- emit req (0 B, timeout: (5, 100)) \n",
      "250626T07:54:04.138Z     INFO| http: https://preprod.cloud.fiddler.ai/v3/models GET -- resp code: 200, took 0.461 s, resp/req body size: (955 B, 0 B) \n"
     ]
    },
    {
     "data": {
      "text/html": [
       "<pre style=\"white-space:pre;overflow-x:auto;line-height:normal;font-family:Menlo,'DejaVu Sans Mono',consolas,'Courier New',monospace\">Listing models in project: quickstart_examples_dg                                                                  \n",
       "</pre>\n"
      ],
      "text/plain": [
       "Listing models in project: quickstart_examples_dg                                                                  \n"
      ]
     },
     "metadata": {},
     "output_type": "display_data"
    },
    {
     "name": "stderr",
     "output_type": "stream",
     "text": [
      "250626T07:54:04.145Z     INFO| http: https://preprod.cloud.fiddler.ai/v3/projects GET -- emit req (0 B, timeout: (5, 100)) \n",
      "250626T07:54:04.426Z     INFO| http: https://preprod.cloud.fiddler.ai/v3/projects GET -- resp code: 200, took 0.280 s, resp/req body size: (449 B, 0 B) \n",
      "250626T07:54:04.428Z     INFO| http: https://preprod.cloud.fiddler.ai/v3/models GET -- emit req (0 B, timeout: (5, 100)) \n",
      "250626T07:54:04.830Z     INFO| http: https://preprod.cloud.fiddler.ai/v3/models GET -- resp code: 200, took 0.402 s, resp/req body size: (985 B, 0 B) \n"
     ]
    },
    {
     "data": {
      "text/html": [
       "<pre style=\"white-space:pre;overflow-x:auto;line-height:normal;font-family:Menlo,'DejaVu Sans Mono',consolas,'Courier New',monospace\">Listing models in project: quickstart_dg                                                                           \n",
       "</pre>\n"
      ],
      "text/plain": [
       "Listing models in project: quickstart_dg                                                                           \n"
      ]
     },
     "metadata": {},
     "output_type": "display_data"
    },
    {
     "name": "stderr",
     "output_type": "stream",
     "text": [
      "250626T07:54:04.837Z     INFO| http: https://preprod.cloud.fiddler.ai/v3/projects GET -- emit req (0 B, timeout: (5, 100)) \n",
      "250626T07:54:05.118Z     INFO| http: https://preprod.cloud.fiddler.ai/v3/projects GET -- resp code: 200, took 0.279 s, resp/req body size: (440 B, 0 B) \n",
      "250626T07:54:05.119Z     INFO| http: https://preprod.cloud.fiddler.ai/v3/models GET -- emit req (0 B, timeout: (5, 100)) \n",
      "250626T07:54:05.593Z     INFO| http: https://preprod.cloud.fiddler.ai/v3/models GET -- resp code: 200, took 0.474 s, resp/req body size: (968 B, 0 B) \n"
     ]
    },
    {
     "data": {
      "text/html": [
       "<pre style=\"white-space:pre;overflow-x:auto;line-height:normal;font-family:Menlo,'DejaVu Sans Mono',consolas,'Courier New',monospace\">Listing models in project: catapult_newsgroup_nlp                                                                  \n",
       "</pre>\n"
      ],
      "text/plain": [
       "Listing models in project: catapult_newsgroup_nlp                                                                  \n"
      ]
     },
     "metadata": {},
     "output_type": "display_data"
    },
    {
     "name": "stderr",
     "output_type": "stream",
     "text": [
      "250626T07:54:05.600Z     INFO| http: https://preprod.cloud.fiddler.ai/v3/projects GET -- emit req (0 B, timeout: (5, 100)) \n",
      "250626T07:54:05.874Z     INFO| http: https://preprod.cloud.fiddler.ai/v3/projects GET -- resp code: 200, took 0.274 s, resp/req body size: (449 B, 0 B) \n",
      "250626T07:54:05.876Z     INFO| http: https://preprod.cloud.fiddler.ai/v3/models GET -- emit req (0 B, timeout: (5, 100)) \n",
      "250626T07:54:06.277Z     INFO| http: https://preprod.cloud.fiddler.ai/v3/models GET -- resp code: 200, took 0.401 s, resp/req body size: (159 B, 0 B) \n"
     ]
    },
    {
     "data": {
      "text/html": [
       "<pre style=\"white-space:pre;overflow-x:auto;line-height:normal;font-family:Menlo,'DejaVu Sans Mono',consolas,'Courier New',monospace\">Listing models in project: catapult                                                                                \n",
       "</pre>\n"
      ],
      "text/plain": [
       "Listing models in project: catapult                                                                                \n"
      ]
     },
     "metadata": {},
     "output_type": "display_data"
    },
    {
     "name": "stderr",
     "output_type": "stream",
     "text": [
      "250626T07:54:06.281Z     INFO| http: https://preprod.cloud.fiddler.ai/v3/projects GET -- emit req (0 B, timeout: (5, 100)) \n",
      "250626T07:54:06.635Z     INFO| http: https://preprod.cloud.fiddler.ai/v3/projects GET -- resp code: 200, took 0.353 s, resp/req body size: (435 B, 0 B) \n",
      "250626T07:54:06.636Z     INFO| http: https://preprod.cloud.fiddler.ai/v3/models GET -- emit req (0 B, timeout: (5, 100)) \n",
      "250626T07:54:07.134Z     INFO| http: https://preprod.cloud.fiddler.ai/v3/models GET -- resp code: 200, took 0.497 s, resp/req body size: (1044 B, 0 B) \n"
     ]
    },
    {
     "data": {
      "text/html": [
       "<pre style=\"white-space:pre;overflow-x:auto;line-height:normal;font-family:Menlo,'DejaVu Sans Mono',consolas,'Courier New',monospace\">Listing models in project: credit_approval                                                                         \n",
       "</pre>\n"
      ],
      "text/plain": [
       "Listing models in project: credit_approval                                                                         \n"
      ]
     },
     "metadata": {},
     "output_type": "display_data"
    },
    {
     "name": "stderr",
     "output_type": "stream",
     "text": [
      "250626T07:54:07.140Z     INFO| http: https://preprod.cloud.fiddler.ai/v3/projects GET -- emit req (0 B, timeout: (5, 100)) \n",
      "250626T07:54:07.422Z     INFO| http: https://preprod.cloud.fiddler.ai/v3/projects GET -- resp code: 200, took 0.281 s, resp/req body size: (442 B, 0 B) \n",
      "250626T07:54:07.425Z     INFO| http: https://preprod.cloud.fiddler.ai/v3/models GET -- emit req (0 B, timeout: (5, 100)) \n",
      "250626T07:54:07.843Z     INFO| http: https://preprod.cloud.fiddler.ai/v3/models GET -- resp code: 200, took 0.417 s, resp/req body size: (159 B, 0 B) \n"
     ]
    },
    {
     "data": {
      "text/html": [
       "<pre style=\"white-space:pre;overflow-x:auto;line-height:normal;font-family:Menlo,'DejaVu Sans Mono',consolas,'Courier New',monospace\">Listing models in project: atodnnv9model                                                                           \n",
       "</pre>\n"
      ],
      "text/plain": [
       "Listing models in project: atodnnv9model                                                                           \n"
      ]
     },
     "metadata": {},
     "output_type": "display_data"
    },
    {
     "name": "stderr",
     "output_type": "stream",
     "text": [
      "250626T07:54:07.849Z     INFO| http: https://preprod.cloud.fiddler.ai/v3/projects GET -- emit req (0 B, timeout: (5, 100)) \n",
      "250626T07:54:08.127Z     INFO| http: https://preprod.cloud.fiddler.ai/v3/projects GET -- resp code: 200, took 0.276 s, resp/req body size: (440 B, 0 B) \n",
      "250626T07:54:08.128Z     INFO| http: https://preprod.cloud.fiddler.ai/v3/models GET -- emit req (0 B, timeout: (5, 100)) \n",
      "250626T07:54:08.612Z     INFO| http: https://preprod.cloud.fiddler.ai/v3/models GET -- resp code: 200, took 0.483 s, resp/req body size: (159 B, 0 B) \n"
     ]
    },
    {
     "data": {
      "text/html": [
       "<pre style=\"white-space:pre;overflow-x:auto;line-height:normal;font-family:Menlo,'DejaVu Sans Mono',consolas,'Courier New',monospace\">Listing models in project: atologindnnmodel                                                                        \n",
       "</pre>\n"
      ],
      "text/plain": [
       "Listing models in project: atologindnnmodel                                                                        \n"
      ]
     },
     "metadata": {},
     "output_type": "display_data"
    },
    {
     "name": "stderr",
     "output_type": "stream",
     "text": [
      "250626T07:54:08.617Z     INFO| http: https://preprod.cloud.fiddler.ai/v3/projects GET -- emit req (0 B, timeout: (5, 100)) \n",
      "250626T07:54:08.891Z     INFO| http: https://preprod.cloud.fiddler.ai/v3/projects GET -- resp code: 200, took 0.273 s, resp/req body size: (443 B, 0 B) \n",
      "250626T07:54:08.891Z     INFO| http: https://preprod.cloud.fiddler.ai/v3/models GET -- emit req (0 B, timeout: (5, 100)) \n",
      "250626T07:54:09.357Z     INFO| http: https://preprod.cloud.fiddler.ai/v3/models GET -- resp code: 200, took 0.465 s, resp/req body size: (159 B, 0 B) \n"
     ]
    },
    {
     "data": {
      "text/html": [
       "<pre style=\"white-space:pre;overflow-x:auto;line-height:normal;font-family:Menlo,'DejaVu Sans Mono',consolas,'Courier New',monospace\">Listing models in project: urmsmmodel                                                                              \n",
       "</pre>\n"
      ],
      "text/plain": [
       "Listing models in project: urmsmmodel                                                                              \n"
      ]
     },
     "metadata": {},
     "output_type": "display_data"
    },
    {
     "name": "stderr",
     "output_type": "stream",
     "text": [
      "250626T07:54:09.362Z     INFO| http: https://preprod.cloud.fiddler.ai/v3/projects GET -- emit req (0 B, timeout: (5, 100)) \n",
      "250626T07:54:09.644Z     INFO| http: https://preprod.cloud.fiddler.ai/v3/projects GET -- resp code: 200, took 0.281 s, resp/req body size: (437 B, 0 B) \n",
      "250626T07:54:09.645Z     INFO| http: https://preprod.cloud.fiddler.ai/v3/models GET -- emit req (0 B, timeout: (5, 100)) \n",
      "250626T07:54:10.117Z     INFO| http: https://preprod.cloud.fiddler.ai/v3/models GET -- resp code: 200, took 0.471 s, resp/req body size: (159 B, 0 B) \n"
     ]
    },
    {
     "data": {
      "text/html": [
       "<pre style=\"white-space:pre;overflow-x:auto;line-height:normal;font-family:Menlo,'DejaVu Sans Mono',consolas,'Courier New',monospace\">Listing models in project: lea_quickstart_examples                                                                 \n",
       "</pre>\n"
      ],
      "text/plain": [
       "Listing models in project: lea_quickstart_examples                                                                 \n"
      ]
     },
     "metadata": {},
     "output_type": "display_data"
    },
    {
     "name": "stderr",
     "output_type": "stream",
     "text": [
      "250626T07:54:10.124Z     INFO| http: https://preprod.cloud.fiddler.ai/v3/projects GET -- emit req (0 B, timeout: (5, 100)) \n",
      "250626T07:54:10.407Z     INFO| http: https://preprod.cloud.fiddler.ai/v3/projects GET -- resp code: 200, took 0.282 s, resp/req body size: (450 B, 0 B) \n",
      "250626T07:54:10.409Z     INFO| http: https://preprod.cloud.fiddler.ai/v3/models GET -- emit req (0 B, timeout: (5, 100)) \n",
      "250626T07:54:10.822Z     INFO| http: https://preprod.cloud.fiddler.ai/v3/models GET -- resp code: 200, took 0.413 s, resp/req body size: (963 B, 0 B) \n"
     ]
    },
    {
     "data": {
      "text/html": [
       "<pre style=\"white-space:pre;overflow-x:auto;line-height:normal;font-family:Menlo,'DejaVu Sans Mono',consolas,'Courier New',monospace\">Listing models in project: lea_quickstart_examples2                                                                \n",
       "</pre>\n"
      ],
      "text/plain": [
       "Listing models in project: lea_quickstart_examples2                                                                \n"
      ]
     },
     "metadata": {},
     "output_type": "display_data"
    },
    {
     "name": "stderr",
     "output_type": "stream",
     "text": [
      "250626T07:54:10.828Z     INFO| http: https://preprod.cloud.fiddler.ai/v3/projects GET -- emit req (0 B, timeout: (5, 100)) \n",
      "250626T07:54:11.108Z     INFO| http: https://preprod.cloud.fiddler.ai/v3/projects GET -- resp code: 200, took 0.278 s, resp/req body size: (451 B, 0 B) \n",
      "250626T07:54:11.109Z     INFO| http: https://preprod.cloud.fiddler.ai/v3/models GET -- emit req (0 B, timeout: (5, 100)) \n",
      "250626T07:54:11.570Z     INFO| http: https://preprod.cloud.fiddler.ai/v3/models GET -- resp code: 200, took 0.460 s, resp/req body size: (1776 B, 0 B) \n"
     ]
    },
    {
     "data": {
      "text/html": [
       "<pre style=\"white-space:pre;overflow-x:auto;line-height:normal;font-family:Menlo,'DejaVu Sans Mono',consolas,'Courier New',monospace\">Listing models in project: test_diabetic_readmissions_demo                                                         \n",
       "</pre>\n"
      ],
      "text/plain": [
       "Listing models in project: test_diabetic_readmissions_demo                                                         \n"
      ]
     },
     "metadata": {},
     "output_type": "display_data"
    },
    {
     "name": "stderr",
     "output_type": "stream",
     "text": [
      "250626T07:54:11.576Z     INFO| http: https://preprod.cloud.fiddler.ai/v3/projects GET -- emit req (0 B, timeout: (5, 100)) \n",
      "250626T07:54:11.849Z     INFO| http: https://preprod.cloud.fiddler.ai/v3/projects GET -- resp code: 200, took 0.272 s, resp/req body size: (458 B, 0 B) \n",
      "250626T07:54:11.850Z     INFO| http: https://preprod.cloud.fiddler.ai/v3/models GET -- emit req (0 B, timeout: (5, 100)) \n",
      "250626T07:54:12.276Z     INFO| http: https://preprod.cloud.fiddler.ai/v3/models GET -- resp code: 200, took 0.425 s, resp/req body size: (998 B, 0 B) \n"
     ]
    },
    {
     "data": {
      "text/html": [
       "<pre style=\"white-space:pre;overflow-x:auto;line-height:normal;font-family:Menlo,'DejaVu Sans Mono',consolas,'Courier New',monospace\">Listing models in project: rajeev_quickstart_llm                                                                   \n",
       "</pre>\n"
      ],
      "text/plain": [
       "Listing models in project: rajeev_quickstart_llm                                                                   \n"
      ]
     },
     "metadata": {},
     "output_type": "display_data"
    },
    {
     "name": "stderr",
     "output_type": "stream",
     "text": [
      "250626T07:54:12.282Z     INFO| http: https://preprod.cloud.fiddler.ai/v3/projects GET -- emit req (0 B, timeout: (5, 100)) \n",
      "250626T07:54:12.567Z     INFO| http: https://preprod.cloud.fiddler.ai/v3/projects GET -- resp code: 200, took 0.284 s, resp/req body size: (448 B, 0 B) \n",
      "250626T07:54:12.568Z     INFO| http: https://preprod.cloud.fiddler.ai/v3/models GET -- emit req (0 B, timeout: (5, 100)) \n",
      "250626T07:54:13.049Z     INFO| http: https://preprod.cloud.fiddler.ai/v3/models GET -- resp code: 200, took 0.481 s, resp/req body size: (1766 B, 0 B) \n"
     ]
    },
    {
     "data": {
      "text/html": [
       "<pre style=\"white-space:pre;overflow-x:auto;line-height:normal;font-family:Menlo,'DejaVu Sans Mono',consolas,'Courier New',monospace\">Listing models in project: ctplt_lending2                                                                          \n",
       "</pre>\n"
      ],
      "text/plain": [
       "Listing models in project: ctplt_lending2                                                                          \n"
      ]
     },
     "metadata": {},
     "output_type": "display_data"
    },
    {
     "name": "stderr",
     "output_type": "stream",
     "text": [
      "250626T07:54:13.053Z     INFO| http: https://preprod.cloud.fiddler.ai/v3/projects GET -- emit req (0 B, timeout: (5, 100)) \n",
      "250626T07:54:13.327Z     INFO| http: https://preprod.cloud.fiddler.ai/v3/projects GET -- resp code: 200, took 0.273 s, resp/req body size: (441 B, 0 B) \n",
      "250626T07:54:13.328Z     INFO| http: https://preprod.cloud.fiddler.ai/v3/models GET -- emit req (0 B, timeout: (5, 100)) \n",
      "250626T07:54:13.760Z     INFO| http: https://preprod.cloud.fiddler.ai/v3/models GET -- resp code: 200, took 0.432 s, resp/req body size: (1042 B, 0 B) \n"
     ]
    },
    {
     "data": {
      "text/html": [
       "<pre style=\"white-space:pre;overflow-x:auto;line-height:normal;font-family:Menlo,'DejaVu Sans Mono',consolas,'Courier New',monospace\">Listing models in project: ctplt_hybrid_bank_churn                                                                 \n",
       "</pre>\n"
      ],
      "text/plain": [
       "Listing models in project: ctplt_hybrid_bank_churn                                                                 \n"
      ]
     },
     "metadata": {},
     "output_type": "display_data"
    },
    {
     "name": "stderr",
     "output_type": "stream",
     "text": [
      "250626T07:54:13.765Z     INFO| http: https://preprod.cloud.fiddler.ai/v3/projects GET -- emit req (0 B, timeout: (5, 100)) \n",
      "250626T07:54:14.046Z     INFO| http: https://preprod.cloud.fiddler.ai/v3/projects GET -- resp code: 200, took 0.280 s, resp/req body size: (450 B, 0 B) \n",
      "250626T07:54:14.048Z     INFO| http: https://preprod.cloud.fiddler.ai/v3/models GET -- emit req (0 B, timeout: (5, 100)) \n",
      "250626T07:54:14.533Z     INFO| http: https://preprod.cloud.fiddler.ai/v3/models GET -- resp code: 200, took 0.484 s, resp/req body size: (1016 B, 0 B) \n"
     ]
    },
    {
     "data": {
      "text/html": [
       "<pre style=\"white-space:pre;overflow-x:auto;line-height:normal;font-family:Menlo,'DejaVu Sans Mono',consolas,'Courier New',monospace\">Listing models in project: ctplt_hybrid_lending                                                                    \n",
       "</pre>\n"
      ],
      "text/plain": [
       "Listing models in project: ctplt_hybrid_lending                                                                    \n"
      ]
     },
     "metadata": {},
     "output_type": "display_data"
    },
    {
     "name": "stderr",
     "output_type": "stream",
     "text": [
      "250626T07:54:14.538Z     INFO| http: https://preprod.cloud.fiddler.ai/v3/projects GET -- emit req (0 B, timeout: (5, 100)) \n",
      "250626T07:54:14.817Z     INFO| http: https://preprod.cloud.fiddler.ai/v3/projects GET -- resp code: 200, took 0.279 s, resp/req body size: (447 B, 0 B) \n",
      "250626T07:54:14.819Z     INFO| http: https://preprod.cloud.fiddler.ai/v3/models GET -- emit req (0 B, timeout: (5, 100)) \n",
      "250626T07:54:15.227Z     INFO| http: https://preprod.cloud.fiddler.ai/v3/models GET -- resp code: 200, took 0.407 s, resp/req body size: (1019 B, 0 B) \n"
     ]
    },
    {
     "data": {
      "text/html": [
       "<pre style=\"white-space:pre;overflow-x:auto;line-height:normal;font-family:Menlo,'DejaVu Sans Mono',consolas,'Courier New',monospace\">Listing models in project: ctplt_fraud_detection                                                                   \n",
       "</pre>\n"
      ],
      "text/plain": [
       "Listing models in project: ctplt_fraud_detection                                                                   \n"
      ]
     },
     "metadata": {},
     "output_type": "display_data"
    },
    {
     "name": "stderr",
     "output_type": "stream",
     "text": [
      "250626T07:54:15.234Z     INFO| http: https://preprod.cloud.fiddler.ai/v3/projects GET -- emit req (0 B, timeout: (5, 100)) \n",
      "250626T07:54:15.583Z     INFO| http: https://preprod.cloud.fiddler.ai/v3/projects GET -- resp code: 200, took 0.349 s, resp/req body size: (448 B, 0 B) \n",
      "250626T07:54:15.585Z     INFO| http: https://preprod.cloud.fiddler.ai/v3/models GET -- emit req (0 B, timeout: (5, 100)) \n",
      "250626T07:54:16.100Z     INFO| http: https://preprod.cloud.fiddler.ai/v3/models GET -- resp code: 200, took 0.514 s, resp/req body size: (2001 B, 0 B) \n"
     ]
    },
    {
     "data": {
      "text/html": [
       "<pre style=\"white-space:pre;overflow-x:auto;line-height:normal;font-family:Menlo,'DejaVu Sans Mono',consolas,'Courier New',monospace\">Listing models in project: ctplt_imbalance_cc_fraud                                                                \n",
       "</pre>\n"
      ],
      "text/plain": [
       "Listing models in project: ctplt_imbalance_cc_fraud                                                                \n"
      ]
     },
     "metadata": {},
     "output_type": "display_data"
    },
    {
     "name": "stderr",
     "output_type": "stream",
     "text": [
      "250626T07:54:16.105Z     INFO| http: https://preprod.cloud.fiddler.ai/v3/projects GET -- emit req (0 B, timeout: (5, 100)) \n",
      "250626T07:54:16.378Z     INFO| http: https://preprod.cloud.fiddler.ai/v3/projects GET -- resp code: 200, took 0.272 s, resp/req body size: (451 B, 0 B) \n",
      "250626T07:54:16.380Z     INFO| http: https://preprod.cloud.fiddler.ai/v3/models GET -- emit req (0 B, timeout: (5, 100)) \n",
      "250626T07:54:16.824Z     INFO| http: https://preprod.cloud.fiddler.ai/v3/models GET -- resp code: 200, took 0.443 s, resp/req body size: (1882 B, 0 B) \n"
     ]
    },
    {
     "data": {
      "text/html": [
       "<pre style=\"white-space:pre;overflow-x:auto;line-height:normal;font-family:Menlo,'DejaVu Sans Mono',consolas,'Courier New',monospace\">Listing models in project: ctplt_iris_classification                                                               \n",
       "</pre>\n"
      ],
      "text/plain": [
       "Listing models in project: ctplt_iris_classification                                                               \n"
      ]
     },
     "metadata": {},
     "output_type": "display_data"
    },
    {
     "name": "stderr",
     "output_type": "stream",
     "text": [
      "250626T07:54:16.831Z     INFO| http: https://preprod.cloud.fiddler.ai/v3/projects GET -- emit req (0 B, timeout: (5, 100)) \n",
      "250626T07:54:17.112Z     INFO| http: https://preprod.cloud.fiddler.ai/v3/projects GET -- resp code: 200, took 0.279 s, resp/req body size: (452 B, 0 B) \n",
      "250626T07:54:17.113Z     INFO| http: https://preprod.cloud.fiddler.ai/v3/models GET -- emit req (0 B, timeout: (5, 100)) \n",
      "250626T07:54:17.614Z     INFO| http: https://preprod.cloud.fiddler.ai/v3/models GET -- resp code: 200, took 0.500 s, resp/req body size: (1065 B, 0 B) \n"
     ]
    },
    {
     "data": {
      "text/html": [
       "<pre style=\"white-space:pre;overflow-x:auto;line-height:normal;font-family:Menlo,'DejaVu Sans Mono',consolas,'Courier New',monospace\">Listing models in project: ctplt_newsgroup_nlp                                                                     \n",
       "</pre>\n"
      ],
      "text/plain": [
       "Listing models in project: ctplt_newsgroup_nlp                                                                     \n"
      ]
     },
     "metadata": {},
     "output_type": "display_data"
    },
    {
     "name": "stderr",
     "output_type": "stream",
     "text": [
      "250626T07:54:17.620Z     INFO| http: https://preprod.cloud.fiddler.ai/v3/projects GET -- emit req (0 B, timeout: (5, 100)) \n",
      "250626T07:54:17.893Z     INFO| http: https://preprod.cloud.fiddler.ai/v3/projects GET -- resp code: 200, took 0.272 s, resp/req body size: (446 B, 0 B) \n",
      "250626T07:54:17.894Z     INFO| http: https://preprod.cloud.fiddler.ai/v3/models GET -- emit req (0 B, timeout: (5, 100)) \n",
      "250626T07:54:18.303Z     INFO| http: https://preprod.cloud.fiddler.ai/v3/models GET -- resp code: 200, took 0.408 s, resp/req body size: (1897 B, 0 B) \n"
     ]
    },
    {
     "data": {
      "text/html": [
       "<pre style=\"white-space:pre;overflow-x:auto;line-height:normal;font-family:Menlo,'DejaVu Sans Mono',consolas,'Courier New',monospace\">Listing models in project: ctplt_diabetic_readmissions                                                             \n",
       "</pre>\n"
      ],
      "text/plain": [
       "Listing models in project: ctplt_diabetic_readmissions                                                             \n"
      ]
     },
     "metadata": {},
     "output_type": "display_data"
    },
    {
     "name": "stderr",
     "output_type": "stream",
     "text": [
      "250626T07:54:18.309Z     INFO| http: https://preprod.cloud.fiddler.ai/v3/projects GET -- emit req (0 B, timeout: (5, 100)) \n",
      "250626T07:54:18.591Z     INFO| http: https://preprod.cloud.fiddler.ai/v3/projects GET -- resp code: 200, took 0.280 s, resp/req body size: (454 B, 0 B) \n",
      "250626T07:54:18.592Z     INFO| http: https://preprod.cloud.fiddler.ai/v3/models GET -- emit req (0 B, timeout: (5, 100)) \n",
      "250626T07:54:19.148Z     INFO| http: https://preprod.cloud.fiddler.ai/v3/models GET -- resp code: 200, took 0.556 s, resp/req body size: (994 B, 0 B) \n"
     ]
    },
    {
     "data": {
      "text/html": [
       "<pre style=\"white-space:pre;overflow-x:auto;line-height:normal;font-family:Menlo,'DejaVu Sans Mono',consolas,'Courier New',monospace\">Listing models in project: ctplt_credit_approval                                                                   \n",
       "</pre>\n"
      ],
      "text/plain": [
       "Listing models in project: ctplt_credit_approval                                                                   \n"
      ]
     },
     "metadata": {},
     "output_type": "display_data"
    },
    {
     "name": "stderr",
     "output_type": "stream",
     "text": [
      "250626T07:54:19.155Z     INFO| http: https://preprod.cloud.fiddler.ai/v3/projects GET -- emit req (0 B, timeout: (5, 100)) \n",
      "250626T07:54:19.428Z     INFO| http: https://preprod.cloud.fiddler.ai/v3/projects GET -- resp code: 200, took 0.273 s, resp/req body size: (448 B, 0 B) \n",
      "250626T07:54:19.430Z     INFO| http: https://preprod.cloud.fiddler.ai/v3/models GET -- emit req (0 B, timeout: (5, 100)) \n",
      "250626T07:54:19.854Z     INFO| http: https://preprod.cloud.fiddler.ai/v3/models GET -- resp code: 200, took 0.423 s, resp/req body size: (1000 B, 0 B) \n"
     ]
    },
    {
     "data": {
      "text/html": [
       "<pre style=\"white-space:pre;overflow-x:auto;line-height:normal;font-family:Menlo,'DejaVu Sans Mono',consolas,'Courier New',monospace\">Listing models in project: quickstart_examples_lior                                                                \n",
       "</pre>\n"
      ],
      "text/plain": [
       "Listing models in project: quickstart_examples_lior                                                                \n"
      ]
     },
     "metadata": {},
     "output_type": "display_data"
    },
    {
     "name": "stderr",
     "output_type": "stream",
     "text": [
      "250626T07:54:19.859Z     INFO| http: https://preprod.cloud.fiddler.ai/v3/projects GET -- emit req (0 B, timeout: (5, 100)) \n",
      "250626T07:54:20.136Z     INFO| http: https://preprod.cloud.fiddler.ai/v3/projects GET -- resp code: 200, took 0.277 s, resp/req body size: (451 B, 0 B) \n",
      "250626T07:54:20.138Z     INFO| http: https://preprod.cloud.fiddler.ai/v3/models GET -- emit req (0 B, timeout: (5, 100)) \n",
      "250626T07:54:20.601Z     INFO| http: https://preprod.cloud.fiddler.ai/v3/models GET -- resp code: 200, took 0.463 s, resp/req body size: (159 B, 0 B) \n"
     ]
    },
    {
     "data": {
      "text/html": [
       "<pre style=\"white-space:pre;overflow-x:auto;line-height:normal;font-family:Menlo,'DejaVu Sans Mono',consolas,'Courier New',monospace\">Listing models in project: quickstart_examples_lior2                                                               \n",
       "</pre>\n"
      ],
      "text/plain": [
       "Listing models in project: quickstart_examples_lior2                                                               \n"
      ]
     },
     "metadata": {},
     "output_type": "display_data"
    },
    {
     "name": "stderr",
     "output_type": "stream",
     "text": [
      "250626T07:54:20.607Z     INFO| http: https://preprod.cloud.fiddler.ai/v3/projects GET -- emit req (0 B, timeout: (5, 100)) \n",
      "250626T07:54:20.883Z     INFO| http: https://preprod.cloud.fiddler.ai/v3/projects GET -- resp code: 200, took 0.275 s, resp/req body size: (452 B, 0 B) \n",
      "250626T07:54:20.884Z     INFO| http: https://preprod.cloud.fiddler.ai/v3/models GET -- emit req (0 B, timeout: (5, 100)) \n",
      "250626T07:54:21.297Z     INFO| http: https://preprod.cloud.fiddler.ai/v3/models GET -- resp code: 200, took 0.412 s, resp/req body size: (159 B, 0 B) \n"
     ]
    },
    {
     "data": {
      "text/html": [
       "<pre style=\"white-space:pre;overflow-x:auto;line-height:normal;font-family:Menlo,'DejaVu Sans Mono',consolas,'Courier New',monospace\">Listing models in project: quickstart_examples_lior4                                                               \n",
       "</pre>\n"
      ],
      "text/plain": [
       "Listing models in project: quickstart_examples_lior4                                                               \n"
      ]
     },
     "metadata": {},
     "output_type": "display_data"
    },
    {
     "name": "stderr",
     "output_type": "stream",
     "text": [
      "250626T07:54:21.302Z     INFO| http: https://preprod.cloud.fiddler.ai/v3/projects GET -- emit req (0 B, timeout: (5, 100)) \n",
      "250626T07:54:21.582Z     INFO| http: https://preprod.cloud.fiddler.ai/v3/projects GET -- resp code: 200, took 0.279 s, resp/req body size: (452 B, 0 B) \n",
      "250626T07:54:21.585Z     INFO| http: https://preprod.cloud.fiddler.ai/v3/models GET -- emit req (0 B, timeout: (5, 100)) \n",
      "250626T07:54:22.071Z     INFO| http: https://preprod.cloud.fiddler.ai/v3/models GET -- resp code: 200, took 0.486 s, resp/req body size: (159 B, 0 B) \n"
     ]
    },
    {
     "data": {
      "text/html": [
       "<pre style=\"white-space:pre;overflow-x:auto;line-height:normal;font-family:Menlo,'DejaVu Sans Mono',consolas,'Courier New',monospace\">Listing models in project: quickstart_examples_lior3                                                               \n",
       "</pre>\n"
      ],
      "text/plain": [
       "Listing models in project: quickstart_examples_lior3                                                               \n"
      ]
     },
     "metadata": {},
     "output_type": "display_data"
    },
    {
     "name": "stderr",
     "output_type": "stream",
     "text": [
      "250626T07:54:22.077Z     INFO| http: https://preprod.cloud.fiddler.ai/v3/projects GET -- emit req (0 B, timeout: (5, 100)) \n",
      "250626T07:54:22.353Z     INFO| http: https://preprod.cloud.fiddler.ai/v3/projects GET -- resp code: 200, took 0.275 s, resp/req body size: (452 B, 0 B) \n",
      "250626T07:54:22.354Z     INFO| http: https://preprod.cloud.fiddler.ai/v3/models GET -- emit req (0 B, timeout: (5, 100)) \n",
      "250626T07:54:22.761Z     INFO| http: https://preprod.cloud.fiddler.ai/v3/models GET -- resp code: 200, took 0.406 s, resp/req body size: (988 B, 0 B) \n"
     ]
    },
    {
     "data": {
      "text/html": [
       "<pre style=\"white-space:pre;overflow-x:auto;line-height:normal;font-family:Menlo,'DejaVu Sans Mono',consolas,'Courier New',monospace\">Listing models in project: publishing_tests                                                                        \n",
       "</pre>\n"
      ],
      "text/plain": [
       "Listing models in project: publishing_tests                                                                        \n"
      ]
     },
     "metadata": {},
     "output_type": "display_data"
    },
    {
     "name": "stderr",
     "output_type": "stream",
     "text": [
      "250626T07:54:22.766Z     INFO| http: https://preprod.cloud.fiddler.ai/v3/projects GET -- emit req (0 B, timeout: (5, 100)) \n",
      "250626T07:54:23.059Z     INFO| http: https://preprod.cloud.fiddler.ai/v3/projects GET -- resp code: 200, took 0.292 s, resp/req body size: (443 B, 0 B) \n",
      "250626T07:54:23.060Z     INFO| http: https://preprod.cloud.fiddler.ai/v3/models GET -- emit req (0 B, timeout: (5, 100)) \n",
      "250626T07:54:23.549Z     INFO| http: https://preprod.cloud.fiddler.ai/v3/models GET -- resp code: 200, took 0.488 s, resp/req body size: (159 B, 0 B) \n"
     ]
    },
    {
     "data": {
      "text/html": [
       "<pre style=\"white-space:pre;overflow-x:auto;line-height:normal;font-family:Menlo,'DejaVu Sans Mono',consolas,'Courier New',monospace\">Listing models in project: nick_dd1                                                                                \n",
       "</pre>\n"
      ],
      "text/plain": [
       "Listing models in project: nick_dd1                                                                                \n"
      ]
     },
     "metadata": {},
     "output_type": "display_data"
    },
    {
     "name": "stderr",
     "output_type": "stream",
     "text": [
      "250626T07:54:23.554Z     INFO| http: https://preprod.cloud.fiddler.ai/v3/projects GET -- emit req (0 B, timeout: (5, 100)) \n",
      "250626T07:54:23.836Z     INFO| http: https://preprod.cloud.fiddler.ai/v3/projects GET -- resp code: 200, took 0.282 s, resp/req body size: (435 B, 0 B) \n",
      "250626T07:54:23.838Z     INFO| http: https://preprod.cloud.fiddler.ai/v3/models GET -- emit req (0 B, timeout: (5, 100)) \n",
      "250626T07:54:24.264Z     INFO| http: https://preprod.cloud.fiddler.ai/v3/models GET -- resp code: 200, took 0.425 s, resp/req body size: (955 B, 0 B) \n"
     ]
    },
    {
     "data": {
      "text/html": [
       "<pre style=\"white-space:pre;overflow-x:auto;line-height:normal;font-family:Menlo,'DejaVu Sans Mono',consolas,'Courier New',monospace\">Listing models in project: nick_davbn                                                                              \n",
       "</pre>\n"
      ],
      "text/plain": [
       "Listing models in project: nick_davbn                                                                              \n"
      ]
     },
     "metadata": {},
     "output_type": "display_data"
    },
    {
     "name": "stderr",
     "output_type": "stream",
     "text": [
      "250626T07:54:24.268Z     INFO| http: https://preprod.cloud.fiddler.ai/v3/projects GET -- emit req (0 B, timeout: (5, 100)) \n",
      "250626T07:54:24.602Z     INFO| http: https://preprod.cloud.fiddler.ai/v3/projects GET -- resp code: 200, took 0.332 s, resp/req body size: (437 B, 0 B) \n",
      "250626T07:54:24.604Z     INFO| http: https://preprod.cloud.fiddler.ai/v3/models GET -- emit req (0 B, timeout: (5, 100)) \n",
      "250626T07:54:25.075Z     INFO| http: https://preprod.cloud.fiddler.ai/v3/models GET -- resp code: 200, took 0.470 s, resp/req body size: (1768 B, 0 B) \n"
     ]
    },
    {
     "data": {
      "text/html": [
       "<pre style=\"white-space:pre;overflow-x:auto;line-height:normal;font-family:Menlo,'DejaVu Sans Mono',consolas,'Courier New',monospace\">Listing models in project: bank_churn_v2                                                                           \n",
       "</pre>\n"
      ],
      "text/plain": [
       "Listing models in project: bank_churn_v2                                                                           \n"
      ]
     },
     "metadata": {},
     "output_type": "display_data"
    },
    {
     "name": "stderr",
     "output_type": "stream",
     "text": [
      "250626T07:54:25.081Z     INFO| http: https://preprod.cloud.fiddler.ai/v3/projects GET -- emit req (0 B, timeout: (5, 100)) \n",
      "250626T07:54:25.354Z     INFO| http: https://preprod.cloud.fiddler.ai/v3/projects GET -- resp code: 200, took 0.272 s, resp/req body size: (440 B, 0 B) \n",
      "250626T07:54:25.355Z     INFO| http: https://preprod.cloud.fiddler.ai/v3/models GET -- emit req (0 B, timeout: (5, 100)) \n",
      "250626T07:54:25.762Z     INFO| http: https://preprod.cloud.fiddler.ai/v3/models GET -- resp code: 200, took 0.406 s, resp/req body size: (1015 B, 0 B) \n"
     ]
    },
    {
     "data": {
      "text/html": [
       "<pre style=\"white-space:pre;overflow-x:auto;line-height:normal;font-family:Menlo,'DejaVu Sans Mono',consolas,'Courier New',monospace\">Listing models in project: ranking_update_example                                                                  \n",
       "</pre>\n"
      ],
      "text/plain": [
       "Listing models in project: ranking_update_example                                                                  \n"
      ]
     },
     "metadata": {},
     "output_type": "display_data"
    },
    {
     "name": "stderr",
     "output_type": "stream",
     "text": [
      "250626T07:54:25.767Z     INFO| http: https://preprod.cloud.fiddler.ai/v3/projects GET -- emit req (0 B, timeout: (5, 100)) \n",
      "250626T07:54:26.046Z     INFO| http: https://preprod.cloud.fiddler.ai/v3/projects GET -- resp code: 200, took 0.278 s, resp/req body size: (449 B, 0 B) \n",
      "250626T07:54:26.048Z     INFO| http: https://preprod.cloud.fiddler.ai/v3/models GET -- emit req (0 B, timeout: (5, 100)) \n",
      "250626T07:54:26.531Z     INFO| http: https://preprod.cloud.fiddler.ai/v3/models GET -- resp code: 200, took 0.483 s, resp/req body size: (964 B, 0 B) \n"
     ]
    },
    {
     "data": {
      "text/html": [
       "<pre style=\"white-space:pre;overflow-x:auto;line-height:normal;font-family:Menlo,'DejaVu Sans Mono',consolas,'Courier New',monospace\">Listing models in project: ranking_update_events                                                                   \n",
       "</pre>\n"
      ],
      "text/plain": [
       "Listing models in project: ranking_update_events                                                                   \n"
      ]
     },
     "metadata": {},
     "output_type": "display_data"
    },
    {
     "name": "stderr",
     "output_type": "stream",
     "text": [
      "250626T07:54:26.536Z     INFO| http: https://preprod.cloud.fiddler.ai/v3/projects GET -- emit req (0 B, timeout: (5, 100)) \n",
      "250626T07:54:26.809Z     INFO| http: https://preprod.cloud.fiddler.ai/v3/projects GET -- resp code: 200, took 0.272 s, resp/req body size: (448 B, 0 B) \n",
      "250626T07:54:26.811Z     INFO| http: https://preprod.cloud.fiddler.ai/v3/models GET -- emit req (0 B, timeout: (5, 100)) \n",
      "250626T07:54:27.220Z     INFO| http: https://preprod.cloud.fiddler.ai/v3/models GET -- resp code: 200, took 0.409 s, resp/req body size: (963 B, 0 B) \n"
     ]
    },
    {
     "data": {
      "text/html": [
       "<pre style=\"white-space:pre;overflow-x:auto;line-height:normal;font-family:Menlo,'DejaVu Sans Mono',consolas,'Courier New',monospace\">Listing models in project: dx_qs_example                                                                           \n",
       "</pre>\n"
      ],
      "text/plain": [
       "Listing models in project: dx_qs_example                                                                           \n"
      ]
     },
     "metadata": {},
     "output_type": "display_data"
    },
    {
     "name": "stderr",
     "output_type": "stream",
     "text": [
      "250626T07:54:27.225Z     INFO| http: https://preprod.cloud.fiddler.ai/v3/projects GET -- emit req (0 B, timeout: (5, 100)) \n",
      "250626T07:54:27.600Z     INFO| http: https://preprod.cloud.fiddler.ai/v3/projects GET -- resp code: 200, took 0.373 s, resp/req body size: (440 B, 0 B) \n",
      "250626T07:54:27.602Z     INFO| http: https://preprod.cloud.fiddler.ai/v3/models GET -- emit req (0 B, timeout: (5, 100)) \n",
      "250626T07:54:28.081Z     INFO| http: https://preprod.cloud.fiddler.ai/v3/models GET -- resp code: 200, took 0.479 s, resp/req body size: (159 B, 0 B) \n"
     ]
    },
    {
     "data": {
      "text/html": [
       "<pre style=\"white-space:pre;overflow-x:auto;line-height:normal;font-family:Menlo,'DejaVu Sans Mono',consolas,'Courier New',monospace\">Listing models in project: sr_new                                                                                  \n",
       "</pre>\n"
      ],
      "text/plain": [
       "Listing models in project: sr_new                                                                                  \n"
      ]
     },
     "metadata": {},
     "output_type": "display_data"
    },
    {
     "name": "stderr",
     "output_type": "stream",
     "text": [
      "250626T07:54:28.087Z     INFO| http: https://preprod.cloud.fiddler.ai/v3/projects GET -- emit req (0 B, timeout: (5, 100)) \n",
      "250626T07:54:28.366Z     INFO| http: https://preprod.cloud.fiddler.ai/v3/projects GET -- resp code: 200, took 0.278 s, resp/req body size: (433 B, 0 B) \n",
      "250626T07:54:28.368Z     INFO| http: https://preprod.cloud.fiddler.ai/v3/models GET -- emit req (0 B, timeout: (5, 100)) \n",
      "250626T07:54:28.774Z     INFO| http: https://preprod.cloud.fiddler.ai/v3/models GET -- resp code: 200, took 0.406 s, resp/req body size: (159 B, 0 B) \n"
     ]
    },
    {
     "data": {
      "text/html": [
       "<pre style=\"white-space:pre;overflow-x:auto;line-height:normal;font-family:Menlo,'DejaVu Sans Mono',consolas,'Courier New',monospace\">Listing models in project: hybrid_bank_churn_xai                                                                   \n",
       "</pre>\n"
      ],
      "text/plain": [
       "Listing models in project: hybrid_bank_churn_xai                                                                   \n"
      ]
     },
     "metadata": {},
     "output_type": "display_data"
    },
    {
     "name": "stderr",
     "output_type": "stream",
     "text": [
      "250626T07:54:28.780Z     INFO| http: https://preprod.cloud.fiddler.ai/v3/projects GET -- emit req (0 B, timeout: (5, 100)) \n",
      "250626T07:54:29.065Z     INFO| http: https://preprod.cloud.fiddler.ai/v3/projects GET -- resp code: 200, took 0.284 s, resp/req body size: (448 B, 0 B) \n",
      "250626T07:54:29.066Z     INFO| http: https://preprod.cloud.fiddler.ai/v3/models GET -- emit req (0 B, timeout: (5, 100)) \n",
      "250626T07:54:29.546Z     INFO| http: https://preprod.cloud.fiddler.ai/v3/models GET -- resp code: 200, took 0.479 s, resp/req body size: (159 B, 0 B) \n"
     ]
    },
    {
     "data": {
      "text/html": [
       "<pre style=\"white-space:pre;overflow-x:auto;line-height:normal;font-family:Menlo,'DejaVu Sans Mono',consolas,'Courier New',monospace\">Listing models in project: hybrid_bank_churn_testxai                                                               \n",
       "</pre>\n"
      ],
      "text/plain": [
       "Listing models in project: hybrid_bank_churn_testxai                                                               \n"
      ]
     },
     "metadata": {},
     "output_type": "display_data"
    },
    {
     "name": "stderr",
     "output_type": "stream",
     "text": [
      "250626T07:54:29.552Z     INFO| http: https://preprod.cloud.fiddler.ai/v3/projects GET -- emit req (0 B, timeout: (5, 100)) \n",
      "250626T07:54:29.825Z     INFO| http: https://preprod.cloud.fiddler.ai/v3/projects GET -- resp code: 200, took 0.272 s, resp/req body size: (452 B, 0 B) \n",
      "250626T07:54:29.826Z     INFO| http: https://preprod.cloud.fiddler.ai/v3/models GET -- emit req (0 B, timeout: (5, 100)) \n",
      "250626T07:54:30.236Z     INFO| http: https://preprod.cloud.fiddler.ai/v3/models GET -- resp code: 200, took 0.409 s, resp/req body size: (988 B, 0 B) \n"
     ]
    },
    {
     "data": {
      "text/html": [
       "<pre style=\"white-space:pre;overflow-x:auto;line-height:normal;font-family:Menlo,'DejaVu Sans Mono',consolas,'Courier New',monospace\">Listing models in project: hybrid_bank_churn_xai_test                                                              \n",
       "</pre>\n"
      ],
      "text/plain": [
       "Listing models in project: hybrid_bank_churn_xai_test                                                              \n"
      ]
     },
     "metadata": {},
     "output_type": "display_data"
    },
    {
     "name": "stderr",
     "output_type": "stream",
     "text": [
      "250626T07:54:30.240Z     INFO| http: https://preprod.cloud.fiddler.ai/v3/projects GET -- emit req (0 B, timeout: (5, 100)) \n",
      "250626T07:54:30.525Z     INFO| http: https://preprod.cloud.fiddler.ai/v3/projects GET -- resp code: 200, took 0.284 s, resp/req body size: (453 B, 0 B) \n",
      "250626T07:54:30.527Z     INFO| http: https://preprod.cloud.fiddler.ai/v3/models GET -- emit req (0 B, timeout: (5, 100)) \n",
      "250626T07:54:31.008Z     INFO| http: https://preprod.cloud.fiddler.ai/v3/models GET -- resp code: 200, took 0.480 s, resp/req body size: (989 B, 0 B) \n"
     ]
    },
    {
     "data": {
      "text/html": [
       "<pre style=\"white-space:pre;overflow-x:auto;line-height:normal;font-family:Menlo,'DejaVu Sans Mono',consolas,'Courier New',monospace\">Listing models in project: quickstart_examples                                                                     \n",
       "</pre>\n"
      ],
      "text/plain": [
       "Listing models in project: quickstart_examples                                                                     \n"
      ]
     },
     "metadata": {},
     "output_type": "display_data"
    },
    {
     "name": "stderr",
     "output_type": "stream",
     "text": [
      "250626T07:54:31.013Z     INFO| http: https://preprod.cloud.fiddler.ai/v3/projects GET -- emit req (0 B, timeout: (5, 100)) \n",
      "250626T07:54:31.298Z     INFO| http: https://preprod.cloud.fiddler.ai/v3/projects GET -- resp code: 200, took 0.285 s, resp/req body size: (446 B, 0 B) \n",
      "250626T07:54:31.300Z     INFO| http: https://preprod.cloud.fiddler.ai/v3/models GET -- emit req (0 B, timeout: (5, 100)) \n",
      "250626T07:54:31.706Z     INFO| http: https://preprod.cloud.fiddler.ai/v3/models GET -- resp code: 200, took 0.405 s, resp/req body size: (159 B, 0 B) \n"
     ]
    },
    {
     "data": {
      "text/html": [
       "<pre style=\"white-space:pre;overflow-x:auto;line-height:normal;font-family:Menlo,'DejaVu Sans Mono',consolas,'Courier New',monospace\">Listing models in project: quickstart_examples99                                                                   \n",
       "</pre>\n"
      ],
      "text/plain": [
       "Listing models in project: quickstart_examples99                                                                   \n"
      ]
     },
     "metadata": {},
     "output_type": "display_data"
    },
    {
     "name": "stderr",
     "output_type": "stream",
     "text": [
      "250626T07:54:31.712Z     INFO| http: https://preprod.cloud.fiddler.ai/v3/projects GET -- emit req (0 B, timeout: (5, 100)) \n",
      "250626T07:54:31.991Z     INFO| http: https://preprod.cloud.fiddler.ai/v3/projects GET -- resp code: 200, took 0.278 s, resp/req body size: (448 B, 0 B) \n",
      "250626T07:54:31.993Z     INFO| http: https://preprod.cloud.fiddler.ai/v3/models GET -- emit req (0 B, timeout: (5, 100)) \n",
      "250626T07:54:32.479Z     INFO| http: https://preprod.cloud.fiddler.ai/v3/models GET -- resp code: 200, took 0.486 s, resp/req body size: (3443 B, 0 B) \n"
     ]
    },
    {
     "data": {
      "text/html": [
       "<pre style=\"white-space:pre;overflow-x:auto;line-height:normal;font-family:Menlo,'DejaVu Sans Mono',consolas,'Courier New',monospace\">Listing models in project: quickstart_examples_timeout_test                                                        \n",
       "</pre>\n"
      ],
      "text/plain": [
       "Listing models in project: quickstart_examples_timeout_test                                                        \n"
      ]
     },
     "metadata": {},
     "output_type": "display_data"
    },
    {
     "name": "stderr",
     "output_type": "stream",
     "text": [
      "250626T07:54:32.482Z     INFO| http: https://preprod.cloud.fiddler.ai/v3/projects GET -- emit req (0 B, timeout: (5, 100)) \n",
      "250626T07:54:32.755Z     INFO| http: https://preprod.cloud.fiddler.ai/v3/projects GET -- resp code: 200, took 0.272 s, resp/req body size: (459 B, 0 B) \n",
      "250626T07:54:32.756Z     INFO| http: https://preprod.cloud.fiddler.ai/v3/models GET -- emit req (0 B, timeout: (5, 100)) \n",
      "250626T07:54:33.156Z     INFO| http: https://preprod.cloud.fiddler.ai/v3/models GET -- resp code: 200, took 0.399 s, resp/req body size: (159 B, 0 B) \n"
     ]
    },
    {
     "data": {
      "text/html": [
       "<pre style=\"white-space:pre;overflow-x:auto;line-height:normal;font-family:Menlo,'DejaVu Sans Mono',consolas,'Courier New',monospace\">Listing models in project: bank_churn_test                                                                         \n",
       "</pre>\n"
      ],
      "text/plain": [
       "Listing models in project: bank_churn_test                                                                         \n"
      ]
     },
     "metadata": {},
     "output_type": "display_data"
    },
    {
     "name": "stderr",
     "output_type": "stream",
     "text": [
      "250626T07:54:33.162Z     INFO| http: https://preprod.cloud.fiddler.ai/v3/projects GET -- emit req (0 B, timeout: (5, 100)) \n",
      "250626T07:54:33.439Z     INFO| http: https://preprod.cloud.fiddler.ai/v3/projects GET -- resp code: 200, took 0.277 s, resp/req body size: (442 B, 0 B) \n",
      "250626T07:54:33.441Z     INFO| http: https://preprod.cloud.fiddler.ai/v3/models GET -- emit req (0 B, timeout: (5, 100)) \n",
      "250626T07:54:33.909Z     INFO| http: https://preprod.cloud.fiddler.ai/v3/models GET -- resp code: 200, took 0.468 s, resp/req body size: (1017 B, 0 B) \n"
     ]
    },
    {
     "data": {
      "text/html": [
       "<pre style=\"white-space:pre;overflow-x:auto;line-height:normal;font-family:Menlo,'DejaVu Sans Mono',consolas,'Courier New',monospace\">Listing models in project: sr                                                                                      \n",
       "</pre>\n"
      ],
      "text/plain": [
       "Listing models in project: sr                                                                                      \n"
      ]
     },
     "metadata": {},
     "output_type": "display_data"
    },
    {
     "name": "stderr",
     "output_type": "stream",
     "text": [
      "250626T07:54:33.915Z     INFO| http: https://preprod.cloud.fiddler.ai/v3/projects GET -- emit req (0 B, timeout: (5, 100)) \n",
      "250626T07:54:34.199Z     INFO| http: https://preprod.cloud.fiddler.ai/v3/projects GET -- resp code: 200, took 0.284 s, resp/req body size: (429 B, 0 B) \n",
      "250626T07:54:34.201Z     INFO| http: https://preprod.cloud.fiddler.ai/v3/models GET -- emit req (0 B, timeout: (5, 100)) \n",
      "250626T07:54:34.632Z     INFO| http: https://preprod.cloud.fiddler.ai/v3/models GET -- resp code: 200, took 0.430 s, resp/req body size: (159 B, 0 B) \n"
     ]
    },
    {
     "data": {
      "text/html": [
       "<pre style=\"white-space:pre;overflow-x:auto;line-height:normal;font-family:Menlo,'DejaVu Sans Mono',consolas,'Courier New',monospace\">Listing models in project: titanic_monitoring                                                                      \n",
       "</pre>\n"
      ],
      "text/plain": [
       "Listing models in project: titanic_monitoring                                                                      \n"
      ]
     },
     "metadata": {},
     "output_type": "display_data"
    },
    {
     "name": "stderr",
     "output_type": "stream",
     "text": [
      "250626T07:54:34.638Z     INFO| http: https://preprod.cloud.fiddler.ai/v3/projects GET -- emit req (0 B, timeout: (5, 100)) \n",
      "250626T07:54:34.934Z     INFO| http: https://preprod.cloud.fiddler.ai/v3/projects GET -- resp code: 200, took 0.295 s, resp/req body size: (445 B, 0 B) \n",
      "250626T07:54:34.936Z     INFO| http: https://preprod.cloud.fiddler.ai/v3/models GET -- emit req (0 B, timeout: (5, 100)) \n",
      "250626T07:54:35.403Z     INFO| http: https://preprod.cloud.fiddler.ai/v3/models GET -- resp code: 200, took 0.467 s, resp/req body size: (159 B, 0 B) \n"
     ]
    },
    {
     "data": {
      "text/html": [
       "<pre style=\"white-space:pre;overflow-x:auto;line-height:normal;font-family:Menlo,'DejaVu Sans Mono',consolas,'Courier New',monospace\">Listing models in project: quickstart_examples_nik                                                                 \n",
       "</pre>\n"
      ],
      "text/plain": [
       "Listing models in project: quickstart_examples_nik                                                                 \n"
      ]
     },
     "metadata": {},
     "output_type": "display_data"
    },
    {
     "name": "stderr",
     "output_type": "stream",
     "text": [
      "250626T07:54:35.408Z     INFO| http: https://preprod.cloud.fiddler.ai/v3/projects GET -- emit req (0 B, timeout: (5, 100)) \n",
      "250626T07:54:35.683Z     INFO| http: https://preprod.cloud.fiddler.ai/v3/projects GET -- resp code: 200, took 0.274 s, resp/req body size: (450 B, 0 B) \n",
      "250626T07:54:35.685Z     INFO| http: https://preprod.cloud.fiddler.ai/v3/models GET -- emit req (0 B, timeout: (5, 100)) \n",
      "250626T07:54:36.106Z     INFO| http: https://preprod.cloud.fiddler.ai/v3/models GET -- resp code: 200, took 0.421 s, resp/req body size: (962 B, 0 B) \n"
     ]
    },
    {
     "data": {
      "text/html": [
       "<pre style=\"white-space:pre;overflow-x:auto;line-height:normal;font-family:Menlo,'DejaVu Sans Mono',consolas,'Courier New',monospace\">Listing models in project: llm_2                                                                                   \n",
       "</pre>\n"
      ],
      "text/plain": [
       "Listing models in project: llm_2                                                                                   \n"
      ]
     },
     "metadata": {},
     "output_type": "display_data"
    },
    {
     "name": "stderr",
     "output_type": "stream",
     "text": [
      "250626T07:54:36.108Z     INFO| http: https://preprod.cloud.fiddler.ai/v3/projects GET -- emit req (0 B, timeout: (5, 100)) \n",
      "250626T07:54:36.454Z     INFO| http: https://preprod.cloud.fiddler.ai/v3/projects GET -- resp code: 200, took 0.346 s, resp/req body size: (432 B, 0 B) \n",
      "250626T07:54:36.456Z     INFO| http: https://preprod.cloud.fiddler.ai/v3/models GET -- emit req (0 B, timeout: (5, 100)) \n",
      "250626T07:54:36.946Z     INFO| http: https://preprod.cloud.fiddler.ai/v3/models GET -- resp code: 200, took 0.489 s, resp/req body size: (159 B, 0 B) \n"
     ]
    },
    {
     "data": {
      "text/html": [
       "<pre style=\"white-space:pre;overflow-x:auto;line-height:normal;font-family:Menlo,'DejaVu Sans Mono',consolas,'Courier New',monospace\">Listing models in project: quickstart_examples_2x4                                                                 \n",
       "</pre>\n"
      ],
      "text/plain": [
       "Listing models in project: quickstart_examples_2x4                                                                 \n"
      ]
     },
     "metadata": {},
     "output_type": "display_data"
    },
    {
     "name": "stderr",
     "output_type": "stream",
     "text": [
      "250626T07:54:36.952Z     INFO| http: https://preprod.cloud.fiddler.ai/v3/projects GET -- emit req (0 B, timeout: (5, 100)) \n",
      "250626T07:54:37.235Z     INFO| http: https://preprod.cloud.fiddler.ai/v3/projects GET -- resp code: 200, took 0.283 s, resp/req body size: (450 B, 0 B) \n",
      "250626T07:54:37.237Z     INFO| http: https://preprod.cloud.fiddler.ai/v3/models GET -- emit req (0 B, timeout: (5, 100)) \n",
      "250626T07:54:37.652Z     INFO| http: https://preprod.cloud.fiddler.ai/v3/models GET -- resp code: 200, took 0.414 s, resp/req body size: (159 B, 0 B) \n"
     ]
    },
    {
     "data": {
      "text/html": [
       "<pre style=\"white-space:pre;overflow-x:auto;line-height:normal;font-family:Menlo,'DejaVu Sans Mono',consolas,'Courier New',monospace\">Listing models in project: quickstart_examples_2x9                                                                 \n",
       "</pre>\n"
      ],
      "text/plain": [
       "Listing models in project: quickstart_examples_2x9                                                                 \n"
      ]
     },
     "metadata": {},
     "output_type": "display_data"
    },
    {
     "name": "stderr",
     "output_type": "stream",
     "text": [
      "250626T07:54:37.657Z     INFO| http: https://preprod.cloud.fiddler.ai/v3/projects GET -- emit req (0 B, timeout: (5, 100)) \n",
      "250626T07:54:37.993Z     INFO| http: https://preprod.cloud.fiddler.ai/v3/projects GET -- resp code: 200, took 0.335 s, resp/req body size: (450 B, 0 B) \n",
      "250626T07:54:37.995Z     INFO| http: https://preprod.cloud.fiddler.ai/v3/models GET -- emit req (0 B, timeout: (5, 100)) \n",
      "250626T07:54:38.476Z     INFO| http: https://preprod.cloud.fiddler.ai/v3/models GET -- resp code: 200, took 0.480 s, resp/req body size: (159 B, 0 B) \n"
     ]
    },
    {
     "data": {
      "text/html": [
       "<pre style=\"white-space:pre;overflow-x:auto;line-height:normal;font-family:Menlo,'DejaVu Sans Mono',consolas,'Courier New',monospace\">Listing models in project: quickstart_examples_2x10                                                                \n",
       "</pre>\n"
      ],
      "text/plain": [
       "Listing models in project: quickstart_examples_2x10                                                                \n"
      ]
     },
     "metadata": {},
     "output_type": "display_data"
    },
    {
     "name": "stderr",
     "output_type": "stream",
     "text": [
      "250626T07:54:38.481Z     INFO| http: https://preprod.cloud.fiddler.ai/v3/projects GET -- emit req (0 B, timeout: (5, 100)) \n",
      "250626T07:54:38.758Z     INFO| http: https://preprod.cloud.fiddler.ai/v3/projects GET -- resp code: 200, took 0.275 s, resp/req body size: (451 B, 0 B) \n",
      "250626T07:54:38.760Z     INFO| http: https://preprod.cloud.fiddler.ai/v3/models GET -- emit req (0 B, timeout: (5, 100)) \n",
      "250626T07:54:39.187Z     INFO| http: https://preprod.cloud.fiddler.ai/v3/models GET -- resp code: 200, took 0.427 s, resp/req body size: (159 B, 0 B) \n"
     ]
    },
    {
     "data": {
      "text/html": [
       "<pre style=\"white-space:pre;overflow-x:auto;line-height:normal;font-family:Menlo,'DejaVu Sans Mono',consolas,'Courier New',monospace\">Listing models in project: quickstart_examples_2x11                                                                \n",
       "</pre>\n"
      ],
      "text/plain": [
       "Listing models in project: quickstart_examples_2x11                                                                \n"
      ]
     },
     "metadata": {},
     "output_type": "display_data"
    },
    {
     "name": "stderr",
     "output_type": "stream",
     "text": [
      "250626T07:54:39.193Z     INFO| http: https://preprod.cloud.fiddler.ai/v3/projects GET -- emit req (0 B, timeout: (5, 100)) \n",
      "250626T07:54:39.472Z     INFO| http: https://preprod.cloud.fiddler.ai/v3/projects GET -- resp code: 200, took 0.279 s, resp/req body size: (451 B, 0 B) \n",
      "250626T07:54:39.474Z     INFO| http: https://preprod.cloud.fiddler.ai/v3/models GET -- emit req (0 B, timeout: (5, 100)) \n",
      "250626T07:54:39.966Z     INFO| http: https://preprod.cloud.fiddler.ai/v3/models GET -- resp code: 200, took 0.491 s, resp/req body size: (159 B, 0 B) \n"
     ]
    },
    {
     "data": {
      "text/html": [
       "<pre style=\"white-space:pre;overflow-x:auto;line-height:normal;font-family:Menlo,'DejaVu Sans Mono',consolas,'Courier New',monospace\">Listing models in project: llm_3                                                                                   \n",
       "</pre>\n"
      ],
      "text/plain": [
       "Listing models in project: llm_3                                                                                   \n"
      ]
     },
     "metadata": {},
     "output_type": "display_data"
    },
    {
     "name": "stderr",
     "output_type": "stream",
     "text": [
      "250626T07:54:39.970Z     INFO| http: https://preprod.cloud.fiddler.ai/v3/projects GET -- emit req (0 B, timeout: (5, 100)) \n",
      "250626T07:54:40.296Z     INFO| http: https://preprod.cloud.fiddler.ai/v3/projects GET -- resp code: 200, took 0.325 s, resp/req body size: (432 B, 0 B) \n",
      "250626T07:54:40.299Z     INFO| http: https://preprod.cloud.fiddler.ai/v3/models GET -- emit req (0 B, timeout: (5, 100)) \n",
      "250626T07:54:40.706Z     INFO| http: https://preprod.cloud.fiddler.ai/v3/models GET -- resp code: 200, took 0.406 s, resp/req body size: (159 B, 0 B) \n"
     ]
    },
    {
     "data": {
      "text/html": [
       "<pre style=\"white-space:pre;overflow-x:auto;line-height:normal;font-family:Menlo,'DejaVu Sans Mono',consolas,'Courier New',monospace\">Listing models in project: quickstart_examples_2x12                                                                \n",
       "</pre>\n"
      ],
      "text/plain": [
       "Listing models in project: quickstart_examples_2x12                                                                \n"
      ]
     },
     "metadata": {},
     "output_type": "display_data"
    },
    {
     "name": "stderr",
     "output_type": "stream",
     "text": [
      "250626T07:54:40.713Z     INFO| http: https://preprod.cloud.fiddler.ai/v3/projects GET -- emit req (0 B, timeout: (5, 100)) \n",
      "250626T07:54:41.014Z     INFO| http: https://preprod.cloud.fiddler.ai/v3/projects GET -- resp code: 200, took 0.300 s, resp/req body size: (451 B, 0 B) \n",
      "250626T07:54:41.015Z     INFO| http: https://preprod.cloud.fiddler.ai/v3/models GET -- emit req (0 B, timeout: (5, 100)) \n",
      "250626T07:54:41.479Z     INFO| http: https://preprod.cloud.fiddler.ai/v3/models GET -- resp code: 200, took 0.463 s, resp/req body size: (159 B, 0 B) \n"
     ]
    },
    {
     "data": {
      "text/html": [
       "<pre style=\"white-space:pre;overflow-x:auto;line-height:normal;font-family:Menlo,'DejaVu Sans Mono',consolas,'Courier New',monospace\">Listing models in project: llm_4                                                                                   \n",
       "</pre>\n"
      ],
      "text/plain": [
       "Listing models in project: llm_4                                                                                   \n"
      ]
     },
     "metadata": {},
     "output_type": "display_data"
    },
    {
     "name": "stderr",
     "output_type": "stream",
     "text": [
      "250626T07:54:41.484Z     INFO| http: https://preprod.cloud.fiddler.ai/v3/projects GET -- emit req (0 B, timeout: (5, 100)) \n",
      "250626T07:54:41.759Z     INFO| http: https://preprod.cloud.fiddler.ai/v3/projects GET -- resp code: 200, took 0.273 s, resp/req body size: (432 B, 0 B) \n",
      "250626T07:54:41.760Z     INFO| http: https://preprod.cloud.fiddler.ai/v3/models GET -- emit req (0 B, timeout: (5, 100)) \n",
      "250626T07:54:42.158Z     INFO| http: https://preprod.cloud.fiddler.ai/v3/models GET -- resp code: 200, took 0.398 s, resp/req body size: (159 B, 0 B) \n"
     ]
    },
    {
     "data": {
      "text/html": [
       "<pre style=\"white-space:pre;overflow-x:auto;line-height:normal;font-family:Menlo,'DejaVu Sans Mono',consolas,'Courier New',monospace\">Listing models in project: xyzabc                                                                                  \n",
       "</pre>\n"
      ],
      "text/plain": [
       "Listing models in project: xyzabc                                                                                  \n"
      ]
     },
     "metadata": {},
     "output_type": "display_data"
    },
    {
     "name": "stderr",
     "output_type": "stream",
     "text": [
      "250626T07:54:42.163Z     INFO| http: https://preprod.cloud.fiddler.ai/v3/projects GET -- emit req (0 B, timeout: (5, 100)) \n",
      "250626T07:54:42.443Z     INFO| http: https://preprod.cloud.fiddler.ai/v3/projects GET -- resp code: 200, took 0.279 s, resp/req body size: (433 B, 0 B) \n",
      "250626T07:54:42.444Z     INFO| http: https://preprod.cloud.fiddler.ai/v3/models GET -- emit req (0 B, timeout: (5, 100)) \n",
      "250626T07:54:42.952Z     INFO| http: https://preprod.cloud.fiddler.ai/v3/models GET -- resp code: 200, took 0.507 s, resp/req body size: (947 B, 0 B) \n"
     ]
    },
    {
     "data": {
      "text/html": [
       "<pre style=\"white-space:pre;overflow-x:auto;line-height:normal;font-family:Menlo,'DejaVu Sans Mono',consolas,'Courier New',monospace\">Listing models in project: quickstart_examples_2x13                                                                \n",
       "</pre>\n"
      ],
      "text/plain": [
       "Listing models in project: quickstart_examples_2x13                                                                \n"
      ]
     },
     "metadata": {},
     "output_type": "display_data"
    },
    {
     "name": "stderr",
     "output_type": "stream",
     "text": [
      "250626T07:54:42.958Z     INFO| http: https://preprod.cloud.fiddler.ai/v3/projects GET -- emit req (0 B, timeout: (5, 100)) \n",
      "250626T07:54:43.248Z     INFO| http: https://preprod.cloud.fiddler.ai/v3/projects GET -- resp code: 200, took 0.289 s, resp/req body size: (451 B, 0 B) \n",
      "250626T07:54:43.249Z     INFO| http: https://preprod.cloud.fiddler.ai/v3/models GET -- emit req (0 B, timeout: (5, 100)) \n",
      "250626T07:54:43.677Z     INFO| http: https://preprod.cloud.fiddler.ai/v3/models GET -- resp code: 200, took 0.427 s, resp/req body size: (964 B, 0 B) \n"
     ]
    },
    {
     "data": {
      "text/html": [
       "<pre style=\"white-space:pre;overflow-x:auto;line-height:normal;font-family:Menlo,'DejaVu Sans Mono',consolas,'Courier New',monospace\">Listing models in project: rank                                                                                    \n",
       "</pre>\n"
      ],
      "text/plain": [
       "Listing models in project: rank                                                                                    \n"
      ]
     },
     "metadata": {},
     "output_type": "display_data"
    },
    {
     "name": "stderr",
     "output_type": "stream",
     "text": [
      "250626T07:54:43.683Z     INFO| http: https://preprod.cloud.fiddler.ai/v3/projects GET -- emit req (0 B, timeout: (5, 100)) \n",
      "250626T07:54:43.971Z     INFO| http: https://preprod.cloud.fiddler.ai/v3/projects GET -- resp code: 200, took 0.286 s, resp/req body size: (431 B, 0 B) \n",
      "250626T07:54:43.972Z     INFO| http: https://preprod.cloud.fiddler.ai/v3/models GET -- emit req (0 B, timeout: (5, 100)) \n",
      "250626T07:54:44.440Z     INFO| http: https://preprod.cloud.fiddler.ai/v3/models GET -- resp code: 200, took 0.467 s, resp/req body size: (159 B, 0 B) \n"
     ]
    },
    {
     "data": {
      "text/html": [
       "<pre style=\"white-space:pre;overflow-x:auto;line-height:normal;font-family:Menlo,'DejaVu Sans Mono',consolas,'Courier New',monospace\">Listing models in project: regression                                                                              \n",
       "</pre>\n"
      ],
      "text/plain": [
       "Listing models in project: regression                                                                              \n"
      ]
     },
     "metadata": {},
     "output_type": "display_data"
    },
    {
     "name": "stderr",
     "output_type": "stream",
     "text": [
      "250626T07:54:44.446Z     INFO| http: https://preprod.cloud.fiddler.ai/v3/projects GET -- emit req (0 B, timeout: (5, 100)) \n",
      "250626T07:54:44.735Z     INFO| http: https://preprod.cloud.fiddler.ai/v3/projects GET -- resp code: 200, took 0.287 s, resp/req body size: (437 B, 0 B) \n",
      "250626T07:54:44.736Z     INFO| http: https://preprod.cloud.fiddler.ai/v3/models GET -- emit req (0 B, timeout: (5, 100)) \n",
      "250626T07:54:45.184Z     INFO| http: https://preprod.cloud.fiddler.ai/v3/models GET -- resp code: 200, took 0.447 s, resp/req body size: (159 B, 0 B) \n"
     ]
    },
    {
     "data": {
      "text/html": [
       "<pre style=\"white-space:pre;overflow-x:auto;line-height:normal;font-family:Menlo,'DejaVu Sans Mono',consolas,'Courier New',monospace\">Listing models in project: multiclass                                                                              \n",
       "</pre>\n"
      ],
      "text/plain": [
       "Listing models in project: multiclass                                                                              \n"
      ]
     },
     "metadata": {},
     "output_type": "display_data"
    },
    {
     "name": "stderr",
     "output_type": "stream",
     "text": [
      "250626T07:54:45.190Z     INFO| http: https://preprod.cloud.fiddler.ai/v3/projects GET -- emit req (0 B, timeout: (5, 100)) \n",
      "250626T07:54:45.492Z     INFO| http: https://preprod.cloud.fiddler.ai/v3/projects GET -- resp code: 200, took 0.301 s, resp/req body size: (437 B, 0 B) \n",
      "250626T07:54:45.494Z     INFO| http: https://preprod.cloud.fiddler.ai/v3/models GET -- emit req (0 B, timeout: (5, 100)) \n",
      "250626T07:54:46.104Z     INFO| http: https://preprod.cloud.fiddler.ai/v3/models GET -- resp code: 200, took 0.609 s, resp/req body size: (159 B, 0 B) \n"
     ]
    },
    {
     "data": {
      "text/html": [
       "<pre style=\"white-space:pre;overflow-x:auto;line-height:normal;font-family:Menlo,'DejaVu Sans Mono',consolas,'Courier New',monospace\">Listing models in project: binary                                                                                  \n",
       "</pre>\n"
      ],
      "text/plain": [
       "Listing models in project: binary                                                                                  \n"
      ]
     },
     "metadata": {},
     "output_type": "display_data"
    },
    {
     "name": "stderr",
     "output_type": "stream",
     "text": [
      "250626T07:54:46.110Z     INFO| http: https://preprod.cloud.fiddler.ai/v3/projects GET -- emit req (0 B, timeout: (5, 100)) \n",
      "250626T07:54:46.407Z     INFO| http: https://preprod.cloud.fiddler.ai/v3/projects GET -- resp code: 200, took 0.296 s, resp/req body size: (433 B, 0 B) \n",
      "250626T07:54:46.408Z     INFO| http: https://preprod.cloud.fiddler.ai/v3/models GET -- emit req (0 B, timeout: (5, 100)) \n",
      "250626T07:54:46.826Z     INFO| http: https://preprod.cloud.fiddler.ai/v3/models GET -- resp code: 200, took 0.418 s, resp/req body size: (159 B, 0 B) \n"
     ]
    },
    {
     "data": {
      "text/html": [
       "<pre style=\"white-space:pre;overflow-x:auto;line-height:normal;font-family:Menlo,'DejaVu Sans Mono',consolas,'Courier New',monospace\">Listing models in project: quickstart_to_delete                                                                    \n",
       "</pre>\n"
      ],
      "text/plain": [
       "Listing models in project: quickstart_to_delete                                                                    \n"
      ]
     },
     "metadata": {},
     "output_type": "display_data"
    },
    {
     "name": "stderr",
     "output_type": "stream",
     "text": [
      "250626T07:54:46.833Z     INFO| http: https://preprod.cloud.fiddler.ai/v3/projects GET -- emit req (0 B, timeout: (5, 100)) \n",
      "250626T07:54:47.114Z     INFO| http: https://preprod.cloud.fiddler.ai/v3/projects GET -- resp code: 200, took 0.280 s, resp/req body size: (447 B, 0 B) \n",
      "250626T07:54:47.115Z     INFO| http: https://preprod.cloud.fiddler.ai/v3/models GET -- emit req (0 B, timeout: (5, 100)) \n",
      "250626T07:54:47.606Z     INFO| http: https://preprod.cloud.fiddler.ai/v3/models GET -- resp code: 200, took 0.489 s, resp/req body size: (159 B, 0 B) \n"
     ]
    },
    {
     "data": {
      "text/html": [
       "<pre style=\"white-space:pre;overflow-x:auto;line-height:normal;font-family:Menlo,'DejaVu Sans Mono',consolas,'Courier New',monospace\">Listing models in project: diabetic_project                                                                        \n",
       "</pre>\n"
      ],
      "text/plain": [
       "Listing models in project: diabetic_project                                                                        \n"
      ]
     },
     "metadata": {},
     "output_type": "display_data"
    },
    {
     "name": "stderr",
     "output_type": "stream",
     "text": [
      "250626T07:54:47.611Z     INFO| http: https://preprod.cloud.fiddler.ai/v3/projects GET -- emit req (0 B, timeout: (5, 100)) \n",
      "250626T07:54:47.893Z     INFO| http: https://preprod.cloud.fiddler.ai/v3/projects GET -- resp code: 200, took 0.281 s, resp/req body size: (443 B, 0 B) \n",
      "250626T07:54:47.894Z     INFO| http: https://preprod.cloud.fiddler.ai/v3/models GET -- emit req (0 B, timeout: (5, 100)) \n",
      "250626T07:54:48.298Z     INFO| http: https://preprod.cloud.fiddler.ai/v3/models GET -- resp code: 200, took 0.403 s, resp/req body size: (159 B, 0 B) \n"
     ]
    },
    {
     "data": {
      "text/html": [
       "<pre style=\"white-space:pre;overflow-x:auto;line-height:normal;font-family:Menlo,'DejaVu Sans Mono',consolas,'Courier New',monospace\">Listing models in project: quickstart_examples_l1                                                                  \n",
       "</pre>\n"
      ],
      "text/plain": [
       "Listing models in project: quickstart_examples_l1                                                                  \n"
      ]
     },
     "metadata": {},
     "output_type": "display_data"
    },
    {
     "name": "stderr",
     "output_type": "stream",
     "text": [
      "250626T07:54:48.303Z     INFO| http: https://preprod.cloud.fiddler.ai/v3/projects GET -- emit req (0 B, timeout: (5, 100)) \n",
      "250626T07:54:48.581Z     INFO| http: https://preprod.cloud.fiddler.ai/v3/projects GET -- resp code: 200, took 0.278 s, resp/req body size: (449 B, 0 B) \n",
      "250626T07:54:48.582Z     INFO| http: https://preprod.cloud.fiddler.ai/v3/models GET -- emit req (0 B, timeout: (5, 100)) \n",
      "250626T07:54:49.061Z     INFO| http: https://preprod.cloud.fiddler.ai/v3/models GET -- resp code: 200, took 0.478 s, resp/req body size: (965 B, 0 B) \n"
     ]
    },
    {
     "data": {
      "text/html": [
       "<pre style=\"white-space:pre;overflow-x:auto;line-height:normal;font-family:Menlo,'DejaVu Sans Mono',consolas,'Courier New',monospace\">Listing models in project: quickstart_examplesxxxxxxxxxxxxx                                                        \n",
       "</pre>\n"
      ],
      "text/plain": [
       "Listing models in project: quickstart_examplesxxxxxxxxxxxxx                                                        \n"
      ]
     },
     "metadata": {},
     "output_type": "display_data"
    },
    {
     "name": "stderr",
     "output_type": "stream",
     "text": [
      "250626T07:54:49.066Z     INFO| http: https://preprod.cloud.fiddler.ai/v3/projects GET -- emit req (0 B, timeout: (5, 100)) \n",
      "250626T07:54:49.340Z     INFO| http: https://preprod.cloud.fiddler.ai/v3/projects GET -- resp code: 200, took 0.273 s, resp/req body size: (459 B, 0 B) \n",
      "250626T07:54:49.342Z     INFO| http: https://preprod.cloud.fiddler.ai/v3/models GET -- emit req (0 B, timeout: (5, 100)) \n",
      "250626T07:54:49.742Z     INFO| http: https://preprod.cloud.fiddler.ai/v3/models GET -- resp code: 200, took 0.399 s, resp/req body size: (159 B, 0 B) \n"
     ]
    },
    {
     "data": {
      "text/html": [
       "<pre style=\"white-space:pre;overflow-x:auto;line-height:normal;font-family:Menlo,'DejaVu Sans Mono',consolas,'Courier New',monospace\">Listing models in project: quickstart_examples_sreis                                                               \n",
       "</pre>\n"
      ],
      "text/plain": [
       "Listing models in project: quickstart_examples_sreis                                                               \n"
      ]
     },
     "metadata": {},
     "output_type": "display_data"
    },
    {
     "name": "stderr",
     "output_type": "stream",
     "text": [
      "250626T07:54:49.747Z     INFO| http: https://preprod.cloud.fiddler.ai/v3/projects GET -- emit req (0 B, timeout: (5, 100)) \n",
      "250626T07:54:50.026Z     INFO| http: https://preprod.cloud.fiddler.ai/v3/projects GET -- resp code: 200, took 0.277 s, resp/req body size: (452 B, 0 B) \n",
      "250626T07:54:50.027Z     INFO| http: https://preprod.cloud.fiddler.ai/v3/models GET -- emit req (0 B, timeout: (5, 100)) \n",
      "250626T07:54:50.487Z     INFO| http: https://preprod.cloud.fiddler.ai/v3/models GET -- resp code: 200, took 0.459 s, resp/req body size: (988 B, 0 B) \n"
     ]
    }
   ],
   "source": [
    "all_models = list_all_models_in_all_projects_in_organisation()"
   ]
  },
  {
   "cell_type": "code",
   "execution_count": 48,
   "metadata": {},
   "outputs": [
    {
     "data": {
      "text/plain": [
       "228"
      ]
     },
     "execution_count": 48,
     "metadata": {},
     "output_type": "execute_result"
    }
   ],
   "source": [
    "len(all_models)"
   ]
  },
  {
   "cell_type": "code",
   "execution_count": 53,
   "metadata": {},
   "outputs": [],
   "source": [
    "raw_res = [\n",
    "    \"llama_classifier\",\n",
    "    \"llama_classifier_temp_1\",\n",
    "    \"bank_churn_simple_monitoring\",\n",
    "    \"fiddler_llama_as_a_judge\",\n",
    "    \"fiddler_llama_as_a_judge\",\n",
    "    \"model\",\n",
    "    \"model\",\n",
    "    \"model\",\n",
    "    \"model\",\n",
    "    \"model\",\n",
    "    \"model\",\n",
    "    \"fiddler_llama_as_a_judge\",\n",
    "    \"fiddler_llama_as_a_judge\",\n",
    "    \"rag_chatbot\",\n",
    "    \"model\",\n",
    "    \"my_model\",\n",
    "    \"yolo_v5su\",\n",
    "    \"customer_chatbot\",\n",
    "    \"resnet18\",\n",
    "    \"resnet18\",\n",
    "    \"fe5_low_threshold\",\n",
    "    \"my_model\",\n",
    "    \"huntington_ctr_model\",\n",
    "    \"churn_classifier\",\n",
    "    \"auto_insurance_binary_class\",\n",
    "    \"fiddler_rag_llm_chatbot_njn1\",\n",
    "    \"bank_churn_simple_njn2\",\n",
    "    \"churn_classifier\",\n",
    "    \"model\",\n",
    "    \"model\",\n",
    "    \"nlp_newsgroups_multiclass\",\n",
    "    \"airline_delay_model\",\n",
    "    \"bank_churn_simple_monitoring\",\n",
    "    \"diabetic_multiclass\",\n",
    "    \"diabetic_multiclass1\",\n",
    "    \"fiddler_llm_evaluation\",\n",
    "    \"fiddler_rag_llm_chatbot\",\n",
    "    \"fiddler_rag_llm_chatbotp\",\n",
    "    \"search_ranking_example\",\n",
    "    \"search_ranking_examples\",\n",
    "    \"state_street_bleu_rouge\",\n",
    "    \"state_street_bleu_rouge\",\n",
    "    \"state_street_bleu_rouge\",\n",
    "    \"state_street_bleu_rouge\",\n",
    "    \"arrival_delay_regression\",\n",
    "    \"airline_delay\",\n",
    "    \"fdl_enrichment_test\",\n",
    "    \"fdl_enrichment_test2\",\n",
    "    \"fiddler_rag_llm_cb_2\",\n",
    "    \"fiddler_rag_llm_chatbot\",\n",
    "    \"hybrid_bank_churn_model\",\n",
    "    \"fiddler_rag_llm\",\n",
    "    \"fiddler_rag_llm_chatbot\",\n",
    "    \"model_binary_relevance\",\n",
    "    \"model_graded_relevance\",\n",
    "    \"search_ranking_example\",\n",
    "    \"model_graded_relevance_ranking\",\n",
    "    \"model_graded_relevance_ranking\",\n",
    "    \"resnet18\",\n",
    "    \"search_ranking_example\",\n",
    "    \"search_ranking_example2\",\n",
    "    \"search_ranking_trips\",\n",
    "    \"trip_assistant_chatbot\",\n",
    "    \"fiddler_rag_llm_chatbot232\",\n",
    "    \"fiddler_rag_llm_chatbot232\",\n",
    "    \"fiddler_rag_llm_chatbot232\",\n",
    "    \"resnet18\",\n",
    "    \"nlp_newsgroups_multiclass\",\n",
    "    \"search_ranking_trips\",\n",
    "    \"trip_assistant_chatbot\",\n",
    "    \"search_ranking_trips\",\n",
    "    \"search_ranking_trips\",\n",
    "    \"trip_assistant_chatbot\",\n",
    "    \"search_ranking_trips\",\n",
    "    \"trip_assistant_chatbot\",\n",
    "    \"search_ranking_trips\",\n",
    "    \"trip_assistant_chatbot\",\n",
    "    \"search_ranking_trips\",\n",
    "    \"trip_assistant_chatbot\",\n",
    "    \"search_ranking_trips\",\n",
    "    \"trip_assistant_chatbot\",\n",
    "    \"search_ranking_trips\",\n",
    "    \"trip_assistant_chatbot\",\n",
    "    \"search_ranking_trips\",\n",
    "    \"trip_assistant_chatbot\",\n",
    "    \"search_ranking_trips\",\n",
    "    \"trip_assistant_chatbot\",\n",
    "    \"search_ranking_trips\",\n",
    "    \"trip_assistant_chatbot\",\n",
    "    \"search_ranking_trips\",\n",
    "    \"trip_assistant_chatbot\",\n",
    "    \"search_ranking_trips\",\n",
    "    \"trip_assistant_chatbot\",\n",
    "    \"search_ranking_trips\",\n",
    "    \"trip_assistant_chatbot\",\n",
    "    \"search_ranking_trips\",\n",
    "    \"trip_assistant_chatbot\",\n",
    "    \"search_ranking_trips\",\n",
    "    \"trip_assistant_chatbot\",\n",
    "    \"search_ranking_trips\",\n",
    "    \"trip_assistant_chatbot\",\n",
    "    \"search_ranking_trips\",\n",
    "    \"trip_assistant_chatbot\",\n",
    "    \"search_ranking_trips\",\n",
    "    \"trip_assistant_chatbot\",\n",
    "    \"search_ranking_trips\",\n",
    "    \"trip_assistant_chatbot\",\n",
    "    \"search_ranking_trips\",\n",
    "    \"trip_assistant_chatbot\",\n",
    "    \"search_ranking_trips\",\n",
    "    \"trip_assistant_chatbot\",\n",
    "    \"search_ranking_trips\",\n",
    "    \"trip_assistant_chatbot\",\n",
    "    \"search_ranking_trips\",\n",
    "    \"search_ranking_trips\",\n",
    "    \"trip_assistant_chatbot\",\n",
    "    \"assistant_chatbot\",\n",
    "    \"search_ranking\",\n",
    "    \"assistant_chatbot\",\n",
    "    \"search_ranking\",\n",
    "    \"bank_churn_simple_monitoring\",\n",
    "    \"nlp_newsgroups_multiclass_njn\",\n",
    "    \"test_dec3\",\n",
    "    \"fiddler_rag_llm_chatbot_b1\",\n",
    "    \"bank_churn_simple_monitoring\",\n",
    "    \"fiddler_llm_evaluation\",\n",
    "    \"fiddler_llm_evaluation1\",\n",
    "    \"fiddler_llm_evaluation2\",\n",
    "    \"fiddler_llm_evaluation_jab\",\n",
    "    \"fiddler_rag_llm_chatbot\",\n",
    "    \"fiddler_rag_llm_chatbot1\",\n",
    "    \"fiddler_rag_llm_chatbot_eval\",\n",
    "    \"resnet18\",\n",
    "    \"fiddler_rag_llm_chatbot\",\n",
    "    \"fiddler_rag_llm_chatbot2\",\n",
    "    \"fiddler_rag_llm_chatbot3\",\n",
    "    \"bank_churn\",\n",
    "    \"resnet18\",\n",
    "    \"model_18ec_bin\",\n",
    "    \"resnet18\",\n",
    "    \"resnet18_2\",\n",
    "    \"resnet18\",\n",
    "    \"fiddler_rag_llm_chatbot\",\n",
    "    \"fiddler_rag_llm_chatbot\",\n",
    "    \"fiddler_rag_llm_chatbot\",\n",
    "    \"fiddler_rag_llm_chatbot\",\n",
    "    \"fiddler_rag_llm_chatbot\",\n",
    "    \"ust_fiddler_rag_llm\",\n",
    "    \"clothing_classifier\",\n",
    "    \"fiddler_rag_llm_chatbot_meee\",\n",
    "    \"resnet18\",\n",
    "    \"yolo11\",\n",
    "    \"yolov5_embed_monitoring\",\n",
    "    \"yolov5_embed_test\",\n",
    "    \"yolov5_embed_test2\",\n",
    "    \"yolo_v5su_binary\",\n",
    "    \"yolo_v5su_multi\",\n",
    "    \"yolo_v5su_test\",\n",
    "    \"yolov5_xai\",\n",
    "    \"seabed_classifier_xai_max\",\n",
    "    \"seabed_max_embeddings\",\n",
    "    \"nick_nba_notset\",\n",
    "    \"bank_churn\",\n",
    "    \"bank_churn\",\n",
    "    \"bank_churn\",\n",
    "    \"bank_churn\",\n",
    "    \"nidlk_0\",\n",
    "    \"bank_churn_simple\",\n",
    "    \"churn_classifier\",\n",
    "    \"fiddler_rag_chatbot\",\n",
    "    \"model_binary_relevance\",\n",
    "    \"model_graded_relevance\",\n",
    "    \"arrival_delay_regression\",\n",
    "    \"bank_churn\",\n",
    "    \"xai_bank_churn\",\n",
    "    \"clothing_classifier\",\n",
    "    \"imdb_rnn\",\n",
    "    \"yolov5\",\n",
    "    \"logreg_all\",\n",
    "    \"christianity_atheism\",\n",
    "    \"fiddler_rag_llm_chatbot_me\",\n",
    "    \"fiddler_rag_llm_chatbot_b\",\n",
    "    \"bank_churn_simple_monitoring\",\n",
    "    \"fiddler_llm_evaluation\",\n",
    "    \"fiddler_rag_llm_chatbot\",\n",
    "    \"imbalance_cc_fraud\",\n",
    "    \"imbalance_cc_fraud_weighted\",\n",
    "    \"bank_churn_d\",\n",
    "    \"bank_churn_simple_monitoring\",\n",
    "    \"bank_churn_simple_dg\",\n",
    "    \"search_ranking_graded_rel\",\n",
    "    \"fiddler_rag_llm_chatbot\",\n",
    "    \"fiddler_rag_llm_chatbot\",\n",
    "    \"model_abc\",\n",
    "    \"readmission_multiclassifier\",\n",
    "    \"fiddler_rag_llm_chatbot\",\n",
    "    \"fiddler_rag_llm_chatbot2\",\n",
    "    \"logreg_all\",\n",
    "    \"hybrid_bank_churn_model\",\n",
    "    \"hybrid_lending_model\",\n",
    "    \"fraud_detection_model_v1\",\n",
    "    \"fraud_detection_model_v2\",\n",
    "    \"imbalance_cc_fraud\",\n",
    "    \"imbalance_cc_fraud_weighted\",\n",
    "    \"iris_classification\",\n",
    "    \"newsgroups_openai\",\n",
    "    \"newsgroups_tfidf\",\n",
    "    \"readmission_multiclassifier\",\n",
    "    \"intersectionally_unfair\",\n",
    "    \"bank_churn_simple_monitoring\",\n",
    "    \"bank_churn_1\",\n",
    "    \"bank_churn_1_wertyu\",\n",
    "    \"test_draft_model\",\n",
    "    \"churn_classifier\",\n",
    "    \"search_ranking_update\",\n",
    "    \"search_ranking_update\",\n",
    "    \"hybrid_bank_churn_model\",\n",
    "    \"hybrid_bank_churn_model\",\n",
    "    \"bank_churn_model_versions\",\n",
    "    \"bank_churn_model_versions\",\n",
    "    \"bank_churn_model_versions\",\n",
    "    \"bank_churn_model_versions\",\n",
    "    \"churn_classifier\",\n",
    "    \"fiddler_llm_evaluation\",\n",
    "    \"xyzabc\",\n",
    "    \"fiddler_rag_llm_chatbot\",\n",
    "    \"fiddler_rag_llm_chatbot_l1\",\n",
    "    \"bank_churn_simple_monitoring\",\n",
    "]"
   ]
  },
  {
   "cell_type": "code",
   "execution_count": 54,
   "metadata": {},
   "outputs": [
    {
     "data": {
      "text/plain": [
       "228"
      ]
     },
     "execution_count": 54,
     "metadata": {},
     "output_type": "execute_result"
    }
   ],
   "source": [
    "len(raw_res)"
   ]
  },
  {
   "cell_type": "code",
   "execution_count": null,
   "metadata": {},
   "outputs": [],
   "source": []
  }
 ],
 "metadata": {
  "kernelspec": {
   "display_name": ".venv",
   "language": "python",
   "name": "python3"
  },
  "language_info": {
   "codemirror_mode": {
    "name": "ipython",
    "version": 3
   },
   "file_extension": ".py",
   "mimetype": "text/x-python",
   "name": "python",
   "nbconvert_exporter": "python",
   "pygments_lexer": "ipython3",
   "version": "3.12.4"
  }
 },
 "nbformat": 4,
 "nbformat_minor": 2
}
