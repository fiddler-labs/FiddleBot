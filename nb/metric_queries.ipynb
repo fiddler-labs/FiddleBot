{
 "cells": [
  {
   "cell_type": "markdown",
   "metadata": {
    "vscode": {
     "languageId": "plaintext"
    }
   },
   "source": [
    "# Notebook to query for Fiddler Metrics"
   ]
  },
  {
   "cell_type": "code",
   "execution_count": 115,
   "metadata": {},
   "outputs": [],
   "source": [
    "import fiddler as fdl"
   ]
  },
  {
   "cell_type": "code",
   "execution_count": 116,
   "metadata": {},
   "outputs": [],
   "source": [
    "import urllib.parse"
   ]
  },
  {
   "cell_type": "code",
   "execution_count": 117,
   "metadata": {},
   "outputs": [],
   "source": [
    "import json\n",
    "import requests\n",
    "import pandas as pd"
   ]
  },
  {
   "cell_type": "code",
   "execution_count": 118,
   "metadata": {},
   "outputs": [],
   "source": [
    "from collections import namedtuple"
   ]
  },
  {
   "cell_type": "code",
   "execution_count": 119,
   "metadata": {},
   "outputs": [],
   "source": [
    "import toml"
   ]
  },
  {
   "cell_type": "code",
   "execution_count": 120,
   "metadata": {},
   "outputs": [],
   "source": [
    "from copy import deepcopy"
   ]
  },
  {
   "cell_type": "code",
   "execution_count": 121,
   "metadata": {},
   "outputs": [],
   "source": [
    "from uuid import uuid4"
   ]
  },
  {
   "cell_type": "code",
   "execution_count": 122,
   "metadata": {},
   "outputs": [],
   "source": [
    "import datetime\n",
    "from datetime import timedelta"
   ]
  },
  {
   "cell_type": "code",
   "execution_count": 123,
   "metadata": {},
   "outputs": [],
   "source": [
    "import pandas as pd"
   ]
  },
  {
   "cell_type": "code",
   "execution_count": 124,
   "metadata": {},
   "outputs": [],
   "source": [
    "parsed_secrets = toml.load('../.streamlit/secrets.toml')"
   ]
  },
  {
   "cell_type": "code",
   "execution_count": 125,
   "metadata": {},
   "outputs": [],
   "source": [
    "BASE_URL = 'https://preprod.cloud.fiddler.ai'\n",
    "METRICS_URL = urllib.parse.urljoin(BASE_URL, '/v3/models/{model_id}/metrics')\n",
    "QUERY_URL = urllib.parse.urljoin(BASE_URL, '/v3/queries')"
   ]
  },
  {
   "cell_type": "code",
   "execution_count": 126,
   "metadata": {},
   "outputs": [],
   "source": [
    "ID = 'id'\n",
    "NAME = 'name'\n",
    "COLUMN_INFO= 'ColumnInfo'"
   ]
  },
  {
   "cell_type": "code",
   "execution_count": 127,
   "metadata": {},
   "outputs": [],
   "source": [
    "TOKEN = parsed_secrets[\"FIDDLER_ACCESS_TOKEN\"]"
   ]
  },
  {
   "cell_type": "code",
   "execution_count": 128,
   "metadata": {},
   "outputs": [],
   "source": [
    "GET_HEADERS = {\n",
    "    'Authorization': f'Bearer {TOKEN}',\n",
    "}\n",
    "\n",
    "POST_HEADERS = {\n",
    "    'Authorization': f'Bearer {TOKEN}',\n",
    "    'Content-Type': 'application/json',\n",
    "    'X-Integration': 'FiddleBot'\n",
    "}"
   ]
  },
  {
   "cell_type": "code",
   "execution_count": 129,
   "metadata": {},
   "outputs": [],
   "source": [
    "COLUMNS = 'columns'\n",
    "\n",
    "# Constants for main payload keys\n",
    "PROJECT_ID = \"project_id\"\n",
    "TIME_COMPARISON = \"time_comparison\"\n",
    "QUERY_TYPE = \"query_type\"\n",
    "FILTERS = \"filters\"\n",
    "QUERIES = \"queries\"\n",
    "\n",
    "# Constants for filters keys\n",
    "FILTERS_TIME_LABEL = \"time_label\"\n",
    "FILTERS_TIME_RANGE = \"time_range\"\n",
    "FILTERS_TIME_ZONE = \"time_zone\"\n",
    "FILTERS_BIN_SIZE = \"bin_size\"\n",
    "\n",
    "# Constants for time_range keys\n",
    "TIME_RANGE_START_TIME = \"start_time\"\n",
    "TIME_RANGE_END_TIME = \"end_time\"\n",
    "\n",
    "# Constants for queries item keys\n",
    "QUERY_KEY = \"query_key\"\n",
    "MODEL_ID = \"model_id\"\n",
    "BASELINE_ID = \"baseline_id\"\n",
    "METRIC = \"metric\"\n",
    "CATEGORIES = \"categories\"\n",
    "SEGMENT_ID = \"segment_id\"\n",
    "SEGMENT = \"segment\"\n",
    "VIZ_TYPE = \"viz_type\"\n",
    "\n",
    "# Constants for segment keys\n",
    "SEGMENT_ID_KEY = \"id\"\n",
    "SEGMENT_DEFINITION = \"definition\"\n",
    "\n",
    "PREV_DAY = \"Previous Day\"\n",
    "PREV_WEEK = \"Previous Week\"\n",
    "\n",
    "VIZ_TYPE_LINE = \"line\"\n",
    "MONITORING = \"MONITORING\"\n",
    "\n",
    "QUERY_PARAM = {\n",
    "    QUERY_KEY: None,\n",
    "    MODEL_ID: None,\n",
    "    BASELINE_ID: None,\n",
    "    METRIC: None,\n",
    "    COLUMNS: [],\n",
    "    CATEGORIES: [],\n",
    "    SEGMENT: {},\n",
    "    VIZ_TYPE: None,\n",
    "}\n",
    "\n",
    "QUERY_PAYLOAD = {\n",
    "    PROJECT_ID: None,\n",
    "    QUERY_TYPE: MONITORING,\n",
    "    FILTERS: {\n",
    "        FILTERS_TIME_LABEL: None,\n",
    "        FILTERS_TIME_RANGE: {\n",
    "            TIME_RANGE_START_TIME: None,\n",
    "            TIME_RANGE_END_TIME: None,\n",
    "        },\n",
    "        FILTERS_TIME_ZONE: None,\n",
    "        FILTERS_BIN_SIZE: None,\n",
    "    },\n",
    "    QUERIES: [],\n",
    "}\n",
    "\n",
    "WEEK = \"Week\"\n",
    "DAYS_7 = \"7d\"\n",
    "DAY = \"Day\"\n",
    "REQUIRES_BASELINE = \"requires_baseline\"\n",
    "REQUIRES_CATEGORIES = \"requires_categories\""
   ]
  },
  {
   "cell_type": "code",
   "execution_count": 130,
   "metadata": {},
   "outputs": [],
   "source": [
    "DATA = 'data'\n",
    "RESULTS = 'results'"
   ]
  },
  {
   "cell_type": "code",
   "execution_count": 131,
   "metadata": {},
   "outputs": [],
   "source": [
    "DATE = 'date'\n",
    "VALUE = 'value'"
   ]
  },
  {
   "cell_type": "code",
   "execution_count": 132,
   "metadata": {},
   "outputs": [
    {
     "name": "stderr",
     "output_type": "stream",
     "text": [
      "250702T12:14:17.281Z     INFO| attached stderr handler to logger: auto_attach_log_handler=True, and root logger not configured \n",
      "250702T12:14:17.294Z     INFO| http: https://preprod.cloud.fiddler.ai/v3/server-info GET -- emit req (0 B, timeout: (5, 15)) \n",
      "250702T12:14:18.126Z     INFO| http: https://preprod.cloud.fiddler.ai/v3/server-info GET -- resp code: 200, took 0.832 s, resp/req body size: (923 B, 0 B) \n",
      "250702T12:14:18.131Z     INFO| http: https://preprod.cloud.fiddler.ai/v3/version-compatibility GET -- emit req (0 B, timeout: (5, 15)) \n",
      "250702T12:14:18.392Z     INFO| http: https://preprod.cloud.fiddler.ai/v3/version-compatibility GET -- resp code: 200, took 0.260 s, resp/req body size: (2 B, 0 B) \n"
     ]
    }
   ],
   "source": [
    "fdl.init(\n",
    "    url=\"https://preprod.cloud.fiddler.ai\",\n",
    "    token=TOKEN,\n",
    ")"
   ]
  },
  {
   "cell_type": "code",
   "execution_count": 133,
   "metadata": {},
   "outputs": [],
   "source": [
    "PROJECT_NAME = 'py_test'\n",
    "MODEL_NAME = 'airline_delay'\n",
    "MODEL_NAME = 'bank_churn_simple_monitoring'"
   ]
  },
  {
   "cell_type": "code",
   "execution_count": 134,
   "metadata": {},
   "outputs": [],
   "source": [
    "ColumnInfo = namedtuple(COLUMN_INFO, [ID, NAME])"
   ]
  },
  {
   "cell_type": "code",
   "execution_count": 135,
   "metadata": {},
   "outputs": [],
   "source": [
    "TYPE = 'type'\n",
    "COLUMNS = 'columns'\n",
    "PERFORMANCE = 'performance'"
   ]
  },
  {
   "cell_type": "code",
   "execution_count": 136,
   "metadata": {},
   "outputs": [],
   "source": [
    "PERF_METRIC = 'PerfMetric'\n",
    "PerfMetricInfo = namedtuple(PERF_METRIC, [ID, NAME])"
   ]
  },
  {
   "cell_type": "code",
   "execution_count": 137,
   "metadata": {},
   "outputs": [],
   "source": [
    "def get_current_time() -> str:\n",
    "    \"\"\"Get the current time\"\"\"\n",
    "    return datetime.datetime.now().strftime(\"%Y-%m-%dT%H:%M:%S\")\n",
    "\n",
    "\n",
    "def get_days_ago(num_days: int) -> str:\n",
    "    \"\"\"Convert a number of days to a datetime string\"\"\"\n",
    "    return (datetime.datetime.now() - timedelta(days=num_days)).strftime(\"%Y-%m-%dT%H:%M:%S\")"
   ]
  },
  {
   "cell_type": "code",
   "execution_count": 138,
   "metadata": {},
   "outputs": [],
   "source": [
    "def get_model(project_name: str, model_name: str):\n",
    "    \"\"\"Get a model given project name and model name\n",
    "\n",
    "    Args:\n",
    "        project_name: Name of project\n",
    "        model_name: Name of model\n",
    "    \"\"\"\n",
    "    try:\n",
    "        project = fdl.Project.from_name(name=project_name)\n",
    "        model = fdl.Model.from_name(name=model_name, project_id=project.id)\n",
    "    except Exception as e:\n",
    "        return \"Error in obtaining model\"\n",
    "    return model"
   ]
  },
  {
   "cell_type": "code",
   "execution_count": 139,
   "metadata": {},
   "outputs": [],
   "source": [
    "def get_model_metrics(project_name: str, model_name: str):\n",
    "    \"\"\"Get all metrics associated with the model\"\"\"\n",
    "    project = fdl.Project.from_name(name=project_name)\n",
    "    model = fdl.Model.from_name(project_id=project.id, name=model_name)\n",
    "    metrics_url = METRICS_URL.format(model_id=model.id)\n",
    "    response = requests.get(metrics_url, headers=GET_HEADERS)\n",
    "    return response.json()"
   ]
  },
  {
   "cell_type": "code",
   "execution_count": 140,
   "metadata": {},
   "outputs": [],
   "source": [
    "def extract_model_columns(all_metrics: dict):\n",
    "    '''Extract the name and IDs of all columns in the model'''\n",
    "    column_details = all_metrics['data']['columns']\n",
    "    column_id_names = []\n",
    "    for column in column_details:\n",
    "        column_id_names.append(ColumnInfo(column[ID], column[NAME]))\n",
    "    return column_id_names"
   ]
  },
  {
   "cell_type": "code",
   "execution_count": 141,
   "metadata": {},
   "outputs": [],
   "source": [
    "def extract_performance_metrics(all_metrics: dict):\n",
    "    \"\"\"Extract performance metrics associated with the model\"\"\"\n",
    "    raw_details = all_metrics['data']['metrics']\n",
    "    performance_metrics = []\n",
    "    for details in raw_details:\n",
    "        if details['type'] == 'performance':\n",
    "            performance_metrics.append(PerfMetricInfo(details['id'], details['name']))\n",
    "    return performance_metrics"
   ]
  },
  {
   "cell_type": "code",
   "execution_count": 142,
   "metadata": {},
   "outputs": [
    {
     "data": {
      "text/plain": [
       "{'project_id': '0dde103e-bee5-4cbf-b28f-954b99cb6f32',\n",
       " 'query_type': 'MONITORING',\n",
       " 'filters': {'bin_size': 'Day',\n",
       "  'time_zone': 'UTC',\n",
       "  'time_label': '7d',\n",
       "  'time_range': {'start_time': '2025-06-25T00:00:00',\n",
       "   'end_time': '2025-07-01T23:59:59'}},\n",
       " 'queries': [{'baseline_id': '',\n",
       "   'columns': [],\n",
       "   'metric': 'f1_score',\n",
       "   'model_id': '431b97c7-1800-4448-b777-b3c7ba56c4a9',\n",
       "   'query_key': '1751361504872',\n",
       "   'segment': {},\n",
       "   'viz_type': 'line'}]}"
      ]
     },
     "execution_count": 142,
     "metadata": {},
     "output_type": "execute_result"
    }
   ],
   "source": [
    "{\n",
    "    \"project_id\": \"0dde103e-bee5-4cbf-b28f-954b99cb6f32\",\n",
    "    \"query_type\": \"MONITORING\",\n",
    "    \"filters\": {\n",
    "        \"bin_size\": \"Day\",\n",
    "        \"time_zone\": \"UTC\",\n",
    "        \"time_label\": \"7d\",\n",
    "        \"time_range\": {\n",
    "            \"start_time\": \"2025-06-25T00:00:00\",\n",
    "            \"end_time\": \"2025-07-01T23:59:59\",\n",
    "        },\n",
    "    },\n",
    "    \"queries\": [\n",
    "        {\n",
    "            \"baseline_id\": \"\",\n",
    "            \"columns\": [],\n",
    "            \"metric\": \"f1_score\",\n",
    "            \"model_id\": \"431b97c7-1800-4448-b777-b3c7ba56c4a9\",\n",
    "            \"query_key\": \"1751361504872\",\n",
    "            \"segment\": {},\n",
    "            \"viz_type\": \"line\",\n",
    "        }\n",
    "    ],\n",
    "}"
   ]
  },
  {
   "cell_type": "code",
   "execution_count": 143,
   "metadata": {},
   "outputs": [],
   "source": [
    "def query_performance_metrics(project_name: str, model_name: str, start_date: str, end_date: str):\n",
    "    '''Get the performance metrics for a model, given the start and end dates'''\n",
    "    model = get_model(project_name, model_name)\n",
    "    all_metrics = get_model_metrics(project_name, model_name)\n",
    "    performance_metrics = extract_performance_metrics(all_metrics)\n",
    "    query_filters = []\n",
    "    for metric in performance_metrics:\n",
    "        query_filter = deepcopy(QUERY_PARAM)\n",
    "        query_filter[QUERY_KEY] = str(uuid4())\n",
    "        query_filter[MODEL_ID] = str(model.id)\n",
    "        query_filter[BASELINE_ID] = \"\"\n",
    "        query_filter[METRIC] = metric.id\n",
    "        query_filter[VIZ_TYPE] = VIZ_TYPE_LINE\n",
    "        query_filters.append(query_filter)\n",
    "    \n",
    "    payload = deepcopy(QUERY_PAYLOAD)\n",
    "    payload[PROJECT_ID] = str(model.project_id)\n",
    "    payload[FILTERS][FILTERS_BIN_SIZE] = DAY\n",
    "    payload[FILTERS][FILTERS_TIME_LABEL] = DAYS_7\n",
    "    payload[FILTERS][FILTERS_TIME_RANGE][TIME_RANGE_START_TIME] = start_date\n",
    "    payload[FILTERS][FILTERS_TIME_RANGE][TIME_RANGE_END_TIME] = end_date\n",
    "    payload[FILTERS][FILTERS_TIME_ZONE] = \"UTC\"\n",
    "    payload[QUERIES] = query_filters\n",
    "\n",
    "    response = requests.post(QUERY_URL, json=payload, headers=POST_HEADERS)\n",
    "    return response.json()\n",
    "\n"
   ]
  },
  {
   "cell_type": "code",
   "execution_count": 144,
   "metadata": {},
   "outputs": [],
   "source": [
    "def parse_date(date_str: str):\n",
    "    \"\"\"Parse the given date\"\"\"\n",
    "    date = datetime.datetime.fromisoformat(date_str).date()\n",
    "    return date"
   ]
  },
  {
   "cell_type": "code",
   "execution_count": 145,
   "metadata": {},
   "outputs": [],
   "source": [
    "def parse_performance_response(resp_json: dict):\n",
    "    \"\"\"Parse performance response and return a dataframe with values\"\"\"\n",
    "    results = resp_json[DATA][RESULTS]\n",
    "    data = {}\n",
    "\n",
    "    df_skeleton = {\n",
    "        DATE: [],\n",
    "        VALUE: [],\n",
    "    }\n",
    "    for query_key, result in resp_json[DATA][RESULTS].items():\n",
    "        metric = result[METRIC]\n",
    "        values = result[DATA]\n",
    "        skeleton = deepcopy(df_skeleton)\n",
    "        for value in values:\n",
    "            date = parse_date(value[0])\n",
    "            value = value[1]\n",
    "\n",
    "            skeleton[DATE].append(date)\n",
    "            skeleton[VALUE].append(value)\n",
    "\n",
    "        data[metric] = pd.DataFrame(skeleton)\n",
    "\n",
    "    return data"
   ]
  },
  {
   "cell_type": "code",
   "execution_count": 146,
   "metadata": {},
   "outputs": [
    {
     "name": "stderr",
     "output_type": "stream",
     "text": [
      "250702T12:14:18.504Z     INFO| http: https://preprod.cloud.fiddler.ai/v3/projects GET -- emit req (0 B, timeout: (5, 100)) \n",
      "250702T12:14:18.792Z     INFO| http: https://preprod.cloud.fiddler.ai/v3/projects GET -- resp code: 200, took 0.281 s, resp/req body size: (434 B, 0 B) \n",
      "250702T12:14:18.796Z     INFO| http: https://preprod.cloud.fiddler.ai/v3/models GET -- emit req (0 B, timeout: (5, 100)) \n",
      "250702T12:14:19.907Z     INFO| http: https://preprod.cloud.fiddler.ai/v3/models GET -- resp code: 200, took 1.110 s, resp/req body size: (979 B, 0 B) \n",
      "250702T12:14:19.908Z     INFO| http: https://preprod.cloud.fiddler.ai/v3/models/431b97c7-1800-4448-b777-b3c7ba56c4a9 GET -- emit req (0 B, timeout: (5, 100)) \n",
      "250702T12:14:20.242Z     INFO| http: https://preprod.cloud.fiddler.ai/v3/models/431b97c7-1800-4448-b777-b3c7ba56c4a9 GET -- resp code: 200, took 0.334 s, resp/req body size: (5568 B, 0 B) \n"
     ]
    }
   ],
   "source": [
    "all_metrics = get_model_metrics(PROJECT_NAME, MODEL_NAME)"
   ]
  },
  {
   "cell_type": "code",
   "execution_count": 147,
   "metadata": {},
   "outputs": [],
   "source": [
    "with open('metrics_resp.json', 'w') as f:\n",
    "    json.dump(all_metrics, f, indent=2)"
   ]
  },
  {
   "cell_type": "code",
   "execution_count": 148,
   "metadata": {},
   "outputs": [
    {
     "data": {
      "text/plain": [
       "[ColumnInfo(id='__ANY__', name='All columns'),\n",
       " ColumnInfo(id='creditscore', name='creditscore'),\n",
       " ColumnInfo(id='geography', name='geography'),\n",
       " ColumnInfo(id='gender', name='gender'),\n",
       " ColumnInfo(id='age', name='age'),\n",
       " ColumnInfo(id='tenure', name='tenure'),\n",
       " ColumnInfo(id='balance', name='balance'),\n",
       " ColumnInfo(id='numofproducts', name='numofproducts'),\n",
       " ColumnInfo(id='hascrcard', name='hascrcard'),\n",
       " ColumnInfo(id='isactivemember', name='isactivemember'),\n",
       " ColumnInfo(id='estimatedsalary', name='estimatedsalary'),\n",
       " ColumnInfo(id='predicted_churn', name='predicted_churn'),\n",
       " ColumnInfo(id='churn', name='churn'),\n",
       " ColumnInfo(id='customer_id', name='customer_id'),\n",
       " ColumnInfo(id='timestamp', name='timestamp')]"
      ]
     },
     "execution_count": 148,
     "metadata": {},
     "output_type": "execute_result"
    }
   ],
   "source": [
    "extract_model_columns(all_metrics)"
   ]
  },
  {
   "cell_type": "code",
   "execution_count": 149,
   "metadata": {},
   "outputs": [],
   "source": [
    "perf_metrics = extract_performance_metrics(all_metrics)"
   ]
  },
  {
   "cell_type": "code",
   "execution_count": 150,
   "metadata": {},
   "outputs": [
    {
     "data": {
      "text/plain": [
       "'auc'"
      ]
     },
     "execution_count": 150,
     "metadata": {},
     "output_type": "execute_result"
    }
   ],
   "source": [
    "perf_metrics[0].id"
   ]
  },
  {
   "cell_type": "code",
   "execution_count": 151,
   "metadata": {},
   "outputs": [
    {
     "name": "stderr",
     "output_type": "stream",
     "text": [
      "250702T12:14:21.090Z     INFO| http: https://preprod.cloud.fiddler.ai/v3/projects GET -- emit req (0 B, timeout: (5, 100)) \n",
      "250702T12:14:21.363Z     INFO| http: https://preprod.cloud.fiddler.ai/v3/projects GET -- resp code: 200, took 0.272 s, resp/req body size: (434 B, 0 B) \n",
      "250702T12:14:21.365Z     INFO| http: https://preprod.cloud.fiddler.ai/v3/models GET -- emit req (0 B, timeout: (5, 100)) \n",
      "250702T12:14:21.842Z     INFO| http: https://preprod.cloud.fiddler.ai/v3/models GET -- resp code: 200, took 0.476 s, resp/req body size: (979 B, 0 B) \n",
      "250702T12:14:21.844Z     INFO| http: https://preprod.cloud.fiddler.ai/v3/models/431b97c7-1800-4448-b777-b3c7ba56c4a9 GET -- emit req (0 B, timeout: (5, 100)) \n",
      "250702T12:14:22.122Z     INFO| http: https://preprod.cloud.fiddler.ai/v3/models/431b97c7-1800-4448-b777-b3c7ba56c4a9 GET -- resp code: 200, took 0.276 s, resp/req body size: (5568 B, 0 B) \n"
     ]
    }
   ],
   "source": [
    "model = get_model(PROJECT_NAME, MODEL_NAME)"
   ]
  },
  {
   "cell_type": "code",
   "execution_count": 159,
   "metadata": {},
   "outputs": [
    {
     "data": {
      "text/plain": [
       "UUID('0dde103e-bee5-4cbf-b28f-954b99cb6f32')"
      ]
     },
     "execution_count": 159,
     "metadata": {},
     "output_type": "execute_result"
    }
   ],
   "source": [
    "model.project_id"
   ]
  },
  {
   "cell_type": "code",
   "execution_count": 152,
   "metadata": {},
   "outputs": [],
   "source": [
    "now = get_current_time()\n",
    "days_ago = get_days_ago(7)"
   ]
  },
  {
   "cell_type": "code",
   "execution_count": 153,
   "metadata": {},
   "outputs": [
    {
     "name": "stderr",
     "output_type": "stream",
     "text": [
      "250702T12:14:22.148Z     INFO| http: https://preprod.cloud.fiddler.ai/v3/projects GET -- emit req (0 B, timeout: (5, 100)) \n",
      "250702T12:14:22.432Z     INFO| http: https://preprod.cloud.fiddler.ai/v3/projects GET -- resp code: 200, took 0.283 s, resp/req body size: (434 B, 0 B) \n",
      "250702T12:14:22.435Z     INFO| http: https://preprod.cloud.fiddler.ai/v3/models GET -- emit req (0 B, timeout: (5, 100)) \n",
      "250702T12:14:22.937Z     INFO| http: https://preprod.cloud.fiddler.ai/v3/models GET -- resp code: 200, took 0.501 s, resp/req body size: (979 B, 0 B) \n",
      "250702T12:14:22.939Z     INFO| http: https://preprod.cloud.fiddler.ai/v3/models/431b97c7-1800-4448-b777-b3c7ba56c4a9 GET -- emit req (0 B, timeout: (5, 100)) \n",
      "250702T12:14:23.215Z     INFO| http: https://preprod.cloud.fiddler.ai/v3/models/431b97c7-1800-4448-b777-b3c7ba56c4a9 GET -- resp code: 200, took 0.275 s, resp/req body size: (5568 B, 0 B) \n",
      "250702T12:14:23.217Z     INFO| http: https://preprod.cloud.fiddler.ai/v3/projects GET -- emit req (0 B, timeout: (5, 100)) \n",
      "250702T12:14:23.491Z     INFO| http: https://preprod.cloud.fiddler.ai/v3/projects GET -- resp code: 200, took 0.273 s, resp/req body size: (434 B, 0 B) \n",
      "250702T12:14:23.495Z     INFO| http: https://preprod.cloud.fiddler.ai/v3/models GET -- emit req (0 B, timeout: (5, 100)) \n",
      "250702T12:14:24.001Z     INFO| http: https://preprod.cloud.fiddler.ai/v3/models GET -- resp code: 200, took 0.504 s, resp/req body size: (979 B, 0 B) \n",
      "250702T12:14:24.003Z     INFO| http: https://preprod.cloud.fiddler.ai/v3/models/431b97c7-1800-4448-b777-b3c7ba56c4a9 GET -- emit req (0 B, timeout: (5, 100)) \n",
      "250702T12:14:24.488Z     INFO| http: https://preprod.cloud.fiddler.ai/v3/models/431b97c7-1800-4448-b777-b3c7ba56c4a9 GET -- resp code: 200, took 0.483 s, resp/req body size: (5568 B, 0 B) \n"
     ]
    }
   ],
   "source": [
    "perf_details = query_performance_metrics(PROJECT_NAME, MODEL_NAME, now, days_ago)"
   ]
  },
  {
   "cell_type": "code",
   "execution_count": 154,
   "metadata": {},
   "outputs": [
    {
     "data": {
      "text/plain": [
       "{'data': {'organization': {'id': 'febfb97f-6e51-4a43-a66c-86bab1c0c6fb',\n",
       "   'name': 'preprod'},\n",
       "  'project': {'id': '0dde103e-bee5-4cbf-b28f-954b99cb6f32', 'name': 'py_test'},\n",
       "  'query_type': 'MONITORING',\n",
       "  'time_comparison': None,\n",
       "  'filters': {'time_label': '7d',\n",
       "   'time_range': {'start_time': '2025-07-02T17:44:22',\n",
       "    'end_time': '2025-06-25T17:44:22'},\n",
       "   'time_zone': 'UTC',\n",
       "   'bin_size': 'Day'},\n",
       "  'results': {'a0a978b2-b990-4b59-abb6-f7ec34792bd5': {'col_names': ['timestamp',\n",
       "     'auc'],\n",
       "    'data': [['2025-06-26T00:00:00+00:00', 1.0],\n",
       "     ['2025-06-27T00:00:00+00:00', 1.0],\n",
       "     ['2025-06-28T00:00:00+00:00', 1.0],\n",
       "     ['2025-06-29T00:00:00+00:00', 0.9353146853146853],\n",
       "     ['2025-06-30T00:00:00+00:00', 0.9012345679012346],\n",
       "     ['2025-07-01T00:00:00+00:00', 1.0],\n",
       "     ['2025-07-02T00:00:00+00:00', None]],\n",
       "    'query_key': 'a0a978b2-b990-4b59-abb6-f7ec34792bd5',\n",
       "    'model': {'id': '431b97c7-1800-4448-b777-b3c7ba56c4a9',\n",
       "     'name': 'bank_churn_simple_monitoring',\n",
       "     'version': 'v1'},\n",
       "    'viz_type': 'line',\n",
       "    'metric': 'auc',\n",
       "    'columns': []},\n",
       "   '1e34a339-3dca-4f88-a643-5f23e68feabc': {'col_names': ['timestamp',\n",
       "     'auroc'],\n",
       "    'data': [['2025-06-26T00:00:00+00:00', 1.0],\n",
       "     ['2025-06-27T00:00:00+00:00', 1.0],\n",
       "     ['2025-06-28T00:00:00+00:00', 1.0],\n",
       "     ['2025-06-29T00:00:00+00:00', 0.9353146853146853],\n",
       "     ['2025-06-30T00:00:00+00:00', 0.9012345679012346],\n",
       "     ['2025-07-01T00:00:00+00:00', 1.0],\n",
       "     ['2025-07-02T00:00:00+00:00', None]],\n",
       "    'query_key': '1e34a339-3dca-4f88-a643-5f23e68feabc',\n",
       "    'model': {'id': '431b97c7-1800-4448-b777-b3c7ba56c4a9',\n",
       "     'name': 'bank_churn_simple_monitoring',\n",
       "     'version': 'v1'},\n",
       "    'viz_type': 'line',\n",
       "    'metric': 'auroc',\n",
       "    'columns': []},\n",
       "   '57a000ea-d423-4be0-92d1-666b12f8a4ec': {'col_names': ['timestamp',\n",
       "     'accuracy'],\n",
       "    'data': [['2025-06-26T00:00:00+00:00', 1.0],\n",
       "     ['2025-06-27T00:00:00+00:00', 1.0],\n",
       "     ['2025-06-28T00:00:00+00:00', 0.9722222222222222],\n",
       "     ['2025-06-29T00:00:00+00:00', 0.9142857142857143],\n",
       "     ['2025-06-30T00:00:00+00:00', 0.7777777777777778],\n",
       "     ['2025-07-01T00:00:00+00:00', 0.5714285714285714],\n",
       "     ['2025-07-02T00:00:00+00:00', None]],\n",
       "    'query_key': '57a000ea-d423-4be0-92d1-666b12f8a4ec',\n",
       "    'model': {'id': '431b97c7-1800-4448-b777-b3c7ba56c4a9',\n",
       "     'name': 'bank_churn_simple_monitoring',\n",
       "     'version': 'v1'},\n",
       "    'viz_type': 'line',\n",
       "    'metric': 'accuracy',\n",
       "    'columns': []},\n",
       "   '28206b69-cd82-4b50-9c79-f338ef65ccf9': {'col_names': ['timestamp',\n",
       "     'calibrated_threshold'],\n",
       "    'data': [['2025-06-26T00:00:00+00:00', 0.72],\n",
       "     ['2025-06-27T00:00:00+00:00', 0.51],\n",
       "     ['2025-06-28T00:00:00+00:00', 0.72],\n",
       "     ['2025-06-29T00:00:00+00:00', 0.77],\n",
       "     ['2025-06-30T00:00:00+00:00', 0.36],\n",
       "     ['2025-07-01T00:00:00+00:00', 0.050000000000000044],\n",
       "     ['2025-07-02T00:00:00+00:00', None]],\n",
       "    'query_key': '28206b69-cd82-4b50-9c79-f338ef65ccf9',\n",
       "    'model': {'id': '431b97c7-1800-4448-b777-b3c7ba56c4a9',\n",
       "     'name': 'bank_churn_simple_monitoring',\n",
       "     'version': 'v1'},\n",
       "    'viz_type': 'line',\n",
       "    'metric': 'calibrated_threshold',\n",
       "    'columns': []},\n",
       "   '0407b747-9a4c-4957-bb50-f1459ccd849f': {'col_names': ['timestamp',\n",
       "     'expected_calibration_error'],\n",
       "    'data': [['2025-06-26T00:00:00+00:00', 0.0547142857142857],\n",
       "     ['2025-06-27T00:00:00+00:00', 0.06916666666666667],\n",
       "     ['2025-06-28T00:00:00+00:00', 0.07916666666666666],\n",
       "     ['2025-06-29T00:00:00+00:00', 0.1655714285714286],\n",
       "     ['2025-06-30T00:00:00+00:00', 0.2411111111111111],\n",
       "     ['2025-07-01T00:00:00+00:00', 0.33428571428571424],\n",
       "     ['2025-07-02T00:00:00+00:00', None]],\n",
       "    'query_key': '0407b747-9a4c-4957-bb50-f1459ccd849f',\n",
       "    'model': {'id': '431b97c7-1800-4448-b777-b3c7ba56c4a9',\n",
       "     'name': 'bank_churn_simple_monitoring',\n",
       "     'version': 'v1'},\n",
       "    'viz_type': 'line',\n",
       "    'metric': 'expected_calibration_error',\n",
       "    'columns': []},\n",
       "   'dfd39d28-8351-468f-b457-ecf8353a9e42': {'col_names': ['timestamp',\n",
       "     'f1_score'],\n",
       "    'data': [['2025-06-26T00:00:00+00:00', 1.0],\n",
       "     ['2025-06-27T00:00:00+00:00', 1.0],\n",
       "     ['2025-06-28T00:00:00+00:00', 0.9824561403508771],\n",
       "     ['2025-06-29T00:00:00+00:00', 0.9302325581395349],\n",
       "     ['2025-06-30T00:00:00+00:00', 0.8260869565217391],\n",
       "     ['2025-07-01T00:00:00+00:00', 0.625],\n",
       "     ['2025-07-02T00:00:00+00:00', None]],\n",
       "    'query_key': 'dfd39d28-8351-468f-b457-ecf8353a9e42',\n",
       "    'model': {'id': '431b97c7-1800-4448-b777-b3c7ba56c4a9',\n",
       "     'name': 'bank_churn_simple_monitoring',\n",
       "     'version': 'v1'},\n",
       "    'viz_type': 'line',\n",
       "    'metric': 'f1_score',\n",
       "    'columns': []},\n",
       "   '79b4c5fe-fe1f-4ddb-a539-66fd0a42e39d': {'col_names': ['timestamp', 'fpr'],\n",
       "    'data': [['2025-06-26T00:00:00+00:00', 0.0],\n",
       "     ['2025-06-27T00:00:00+00:00', 0.0],\n",
       "     ['2025-06-28T00:00:00+00:00', 0.125],\n",
       "     ['2025-06-29T00:00:00+00:00', 0.07692307692307693],\n",
       "     ['2025-06-30T00:00:00+00:00', 0.0],\n",
       "     ['2025-07-01T00:00:00+00:00', 0.0],\n",
       "     ['2025-07-02T00:00:00+00:00', None]],\n",
       "    'query_key': '79b4c5fe-fe1f-4ddb-a539-66fd0a42e39d',\n",
       "    'model': {'id': '431b97c7-1800-4448-b777-b3c7ba56c4a9',\n",
       "     'name': 'bank_churn_simple_monitoring',\n",
       "     'version': 'v1'},\n",
       "    'viz_type': 'line',\n",
       "    'metric': 'fpr',\n",
       "    'columns': []},\n",
       "   '430451ed-df23-421d-a509-9f2a66270487': {'col_names': ['timestamp',\n",
       "     'geometric_mean'],\n",
       "    'data': [['2025-06-26T00:00:00+00:00', 1.0],\n",
       "     ['2025-06-27T00:00:00+00:00', 1.0],\n",
       "     ['2025-06-28T00:00:00+00:00', 0.982607368881035],\n",
       "     ['2025-06-29T00:00:00+00:00', 0.9304842103984708],\n",
       "     ['2025-06-30T00:00:00+00:00', 0.8388704928078611],\n",
       "     ['2025-07-01T00:00:00+00:00', 0.674199862463242],\n",
       "     ['2025-07-02T00:00:00+00:00', None]],\n",
       "    'query_key': '430451ed-df23-421d-a509-9f2a66270487',\n",
       "    'model': {'id': '431b97c7-1800-4448-b777-b3c7ba56c4a9',\n",
       "     'name': 'bank_churn_simple_monitoring',\n",
       "     'version': 'v1'},\n",
       "    'viz_type': 'line',\n",
       "    'metric': 'geometric_mean',\n",
       "    'columns': []},\n",
       "   '096046e3-954c-4a32-a509-e6fa55019d7f': {'col_names': ['timestamp',\n",
       "     'log_loss'],\n",
       "    'data': [['2025-06-26T00:00:00+00:00', 0.062262065381140604],\n",
       "     ['2025-06-27T00:00:00+00:00', 0.0822174892125746],\n",
       "     ['2025-06-28T00:00:00+00:00', 0.09904742674296273],\n",
       "     ['2025-06-29T00:00:00+00:00', 0.29823771983793684],\n",
       "     ['2025-06-30T00:00:00+00:00', 0.6018794607844279],\n",
       "     ['2025-07-01T00:00:00+00:00', 0.637835396199665],\n",
       "     ['2025-07-02T00:00:00+00:00', None]],\n",
       "    'query_key': '096046e3-954c-4a32-a509-e6fa55019d7f',\n",
       "    'model': {'id': '431b97c7-1800-4448-b777-b3c7ba56c4a9',\n",
       "     'name': 'bank_churn_simple_monitoring',\n",
       "     'version': 'v1'},\n",
       "    'viz_type': 'line',\n",
       "    'metric': 'log_loss',\n",
       "    'columns': []},\n",
       "   '21667380-5a9f-48d2-9118-1fba6409e0eb': {'col_names': ['timestamp',\n",
       "     'precision'],\n",
       "    'data': [['2025-06-26T00:00:00+00:00', 1.0],\n",
       "     ['2025-06-27T00:00:00+00:00', 1.0],\n",
       "     ['2025-06-28T00:00:00+00:00', 0.9655172413793104],\n",
       "     ['2025-06-29T00:00:00+00:00', 0.9523809523809523],\n",
       "     ['2025-06-30T00:00:00+00:00', 1.0],\n",
       "     ['2025-07-01T00:00:00+00:00', 1.0],\n",
       "     ['2025-07-02T00:00:00+00:00', None]],\n",
       "    'query_key': '21667380-5a9f-48d2-9118-1fba6409e0eb',\n",
       "    'model': {'id': '431b97c7-1800-4448-b777-b3c7ba56c4a9',\n",
       "     'name': 'bank_churn_simple_monitoring',\n",
       "     'version': 'v1'},\n",
       "    'viz_type': 'line',\n",
       "    'metric': 'precision',\n",
       "    'columns': []},\n",
       "   'b22d7a46-6690-4783-bfd4-ce43b25290dd': {'col_names': ['timestamp',\n",
       "     'recall'],\n",
       "    'data': [['2025-06-26T00:00:00+00:00', 1.0],\n",
       "     ['2025-06-27T00:00:00+00:00', 1.0],\n",
       "     ['2025-06-28T00:00:00+00:00', 1.0],\n",
       "     ['2025-06-29T00:00:00+00:00', 0.9090909090909091],\n",
       "     ['2025-06-30T00:00:00+00:00', 0.7037037037037037],\n",
       "     ['2025-07-01T00:00:00+00:00', 0.45454545454545453],\n",
       "     ['2025-07-02T00:00:00+00:00', None]],\n",
       "    'query_key': 'b22d7a46-6690-4783-bfd4-ce43b25290dd',\n",
       "    'model': {'id': '431b97c7-1800-4448-b777-b3c7ba56c4a9',\n",
       "     'name': 'bank_churn_simple_monitoring',\n",
       "     'version': 'v1'},\n",
       "    'viz_type': 'line',\n",
       "    'metric': 'recall',\n",
       "    'columns': []},\n",
       "   'c8443ecd-a9e4-436c-857b-a377c0d2a523': {'col_names': ['timestamp',\n",
       "     'data_count'],\n",
       "    'data': [['2025-06-26T00:00:00+00:00', 35],\n",
       "     ['2025-06-27T00:00:00+00:00', 36],\n",
       "     ['2025-06-28T00:00:00+00:00', 36],\n",
       "     ['2025-06-29T00:00:00+00:00', 35],\n",
       "     ['2025-06-30T00:00:00+00:00', 36],\n",
       "     ['2025-07-01T00:00:00+00:00', 14],\n",
       "     ['2025-07-02T00:00:00+00:00', None]],\n",
       "    'query_key': 'c8443ecd-a9e4-436c-857b-a377c0d2a523',\n",
       "    'model': {'id': '431b97c7-1800-4448-b777-b3c7ba56c4a9',\n",
       "     'name': 'bank_churn_simple_monitoring',\n",
       "     'version': 'v1'},\n",
       "    'viz_type': 'line',\n",
       "    'metric': 'data_count',\n",
       "    'columns': []}}},\n",
       " 'api_version': '3.0',\n",
       " 'kind': 'NORMAL'}"
      ]
     },
     "execution_count": 154,
     "metadata": {},
     "output_type": "execute_result"
    }
   ],
   "source": [
    "perf_details"
   ]
  },
  {
   "cell_type": "code",
   "execution_count": 160,
   "metadata": {},
   "outputs": [],
   "source": [
    "results = parse_performance_response(perf_details)"
   ]
  },
  {
   "cell_type": "code",
   "execution_count": 162,
   "metadata": {},
   "outputs": [
    {
     "data": {
      "text/plain": [
       "dict_keys(['auc', 'auroc', 'accuracy', 'calibrated_threshold', 'expected_calibration_error', 'f1_score', 'fpr', 'geometric_mean', 'log_loss', 'precision', 'recall', 'data_count'])"
      ]
     },
     "execution_count": 162,
     "metadata": {},
     "output_type": "execute_result"
    }
   ],
   "source": [
    "results.keys()"
   ]
  },
  {
   "cell_type": "code",
   "execution_count": 163,
   "metadata": {},
   "outputs": [
    {
     "data": {
      "text/html": [
       "<div>\n",
       "<style scoped>\n",
       "    .dataframe tbody tr th:only-of-type {\n",
       "        vertical-align: middle;\n",
       "    }\n",
       "\n",
       "    .dataframe tbody tr th {\n",
       "        vertical-align: top;\n",
       "    }\n",
       "\n",
       "    .dataframe thead th {\n",
       "        text-align: right;\n",
       "    }\n",
       "</style>\n",
       "<table border=\"1\" class=\"dataframe\">\n",
       "  <thead>\n",
       "    <tr style=\"text-align: right;\">\n",
       "      <th></th>\n",
       "      <th>date</th>\n",
       "      <th>value</th>\n",
       "    </tr>\n",
       "  </thead>\n",
       "  <tbody>\n",
       "    <tr>\n",
       "      <th>0</th>\n",
       "      <td>2025-06-26</td>\n",
       "      <td>0.000000</td>\n",
       "    </tr>\n",
       "    <tr>\n",
       "      <th>1</th>\n",
       "      <td>2025-06-27</td>\n",
       "      <td>0.000000</td>\n",
       "    </tr>\n",
       "    <tr>\n",
       "      <th>2</th>\n",
       "      <td>2025-06-28</td>\n",
       "      <td>0.125000</td>\n",
       "    </tr>\n",
       "    <tr>\n",
       "      <th>3</th>\n",
       "      <td>2025-06-29</td>\n",
       "      <td>0.076923</td>\n",
       "    </tr>\n",
       "    <tr>\n",
       "      <th>4</th>\n",
       "      <td>2025-06-30</td>\n",
       "      <td>0.000000</td>\n",
       "    </tr>\n",
       "    <tr>\n",
       "      <th>5</th>\n",
       "      <td>2025-07-01</td>\n",
       "      <td>0.000000</td>\n",
       "    </tr>\n",
       "    <tr>\n",
       "      <th>6</th>\n",
       "      <td>2025-07-02</td>\n",
       "      <td>NaN</td>\n",
       "    </tr>\n",
       "  </tbody>\n",
       "</table>\n",
       "</div>"
      ],
      "text/plain": [
       "         date     value\n",
       "0  2025-06-26  0.000000\n",
       "1  2025-06-27  0.000000\n",
       "2  2025-06-28  0.125000\n",
       "3  2025-06-29  0.076923\n",
       "4  2025-06-30  0.000000\n",
       "5  2025-07-01  0.000000\n",
       "6  2025-07-02       NaN"
      ]
     },
     "execution_count": 163,
     "metadata": {},
     "output_type": "execute_result"
    }
   ],
   "source": [
    "results['fpr']"
   ]
  },
  {
   "cell_type": "code",
   "execution_count": null,
   "metadata": {},
   "outputs": [],
   "source": []
  }
 ],
 "metadata": {
  "kernelspec": {
   "display_name": ".venv",
   "language": "python",
   "name": "python3"
  },
  "language_info": {
   "codemirror_mode": {
    "name": "ipython",
    "version": 3
   },
   "file_extension": ".py",
   "mimetype": "text/x-python",
   "name": "python",
   "nbconvert_exporter": "python",
   "pygments_lexer": "ipython3",
   "version": "3.12.4"
  }
 },
 "nbformat": 4,
 "nbformat_minor": 2
}
